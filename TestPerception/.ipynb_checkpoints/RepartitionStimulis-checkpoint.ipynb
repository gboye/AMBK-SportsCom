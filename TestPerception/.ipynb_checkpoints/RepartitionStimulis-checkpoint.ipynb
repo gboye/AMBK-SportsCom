{
 "metadata": {
  "name": "",
  "signature": "sha256:73023d300ee5aa9764410da55c3603cae31958e73f0c76c197b0f2003fb74a51"
 },
 "nbformat": 3,
 "nbformat_minor": 0,
 "worksheets": [
  {
   "cells": [
    {
     "cell_type": "code",
     "collapsed": false,
     "input": [
      "noms={\"Sport\":[\"Rugby\",\"Foot\",\"Course\"],\"Autre\":[\"Journal\",\"Magazine\",\"Election\"]}"
     ],
     "language": "python",
     "metadata": {},
     "outputs": [],
     "prompt_number": 13
    },
    {
     "cell_type": "code",
     "collapsed": false,
     "input": [
      "grille={\"Sport\":[\"Sport\",\"Autre\"],\"Description\":[\"Description\",\"Commentaire\"],\"Specifique\":[\"Specifique\",\"Generique\"]}\n",
      "oppositions={\"Description\":[\"Description\",\"Commentaire\"],\"Specifique\":[\"Specifique\",\"Generique\"]}"
     ],
     "language": "python",
     "metadata": {},
     "outputs": [],
     "prompt_number": 14
    },
    {
     "cell_type": "code",
     "collapsed": false,
     "input": [
      "import itertools as it\n",
      "import random as rd\n",
      "import yaml"
     ],
     "language": "python",
     "metadata": {},
     "outputs": [],
     "prompt_number": 50
    },
    {
     "cell_type": "code",
     "collapsed": false,
     "input": [
      "deuxieme=True\n",
      "premierUniques=set()\n",
      "if deuxieme:\n",
      "    with open('combinaisons1.yaml', 'r') as yaml_file:\n",
      "        questions=yaml.load(yaml_file)\n",
      "    for el in questions[\"Uniques\"]:\n",
      "        premierUniques.add(tuple(el))"
     ],
     "language": "python",
     "metadata": {},
     "outputs": [],
     "prompt_number": 59
    },
    {
     "cell_type": "code",
     "collapsed": false,
     "input": [
      "stimuli = it.product(*grille.values())\n",
      "Complet=set()\n",
      "for elStimuli in stimuli:\n",
      "    (sp,desc,spec)=elStimuli\n",
      "    for elSp in noms[sp]:\n",
      "        Complet.add((elSp,sp,desc,spec))\n",
      "        \n",
      "iterCases = it.product(*oppositions.values())\n",
      "Uniques=set()\n",
      "cases=set()\n",
      "for elCases in iterCases:\n",
      "    cases.add(elCases)\n",
      "    (desc,spec)=elCases\n",
      "    for sp in noms:\n",
      "        choix=chooseSport(sp,elCases,Complet-premierUniques)\n",
      "        Uniques.add((choix,sp,desc,spec))\n",
      "oppositionUniques=list(Uniques)\n"
     ],
     "language": "python",
     "metadata": {},
     "outputs": [],
     "prompt_number": 61
    },
    {
     "cell_type": "code",
     "collapsed": false,
     "input": [
      "#import csv\n",
      "#out_file = open('stimuli.csv', 'wb')\n",
      "#writer = csv.writer(out_file)\n",
      "#for el in Complet:\n",
      "#    writer.writerow(el)\n",
      "#out_file.close()"
     ],
     "language": "python",
     "metadata": {},
     "outputs": [],
     "prompt_number": 25
    },
    {
     "cell_type": "code",
     "collapsed": false,
     "input": [
      "def chooseSport(sp,case,ensemble):\n",
      "    candidats=[]\n",
      "    for elEnsemble in ensemble:\n",
      "        if elEnsemble[1]==sp and (elEnsemble[2],elEnsemble[3])==case:\n",
      "            candidats.append(elEnsemble)\n",
      "    return rd.choice(candidats)\n",
      "\n",
      "def chooseDesc(desc,case,ensemble):\n",
      "    candidats=[]\n",
      "    for elEnsemble in ensemble:\n",
      "        if elEnsemble[2]==desc and (elEnsemble[1],elEnsemble[3])==case:\n",
      "            candidats.append(elEnsemble)\n",
      "    return rd.choice(candidats)"
     ],
     "language": "python",
     "metadata": {},
     "outputs": [],
     "prompt_number": 17
    },
    {
     "cell_type": "code",
     "collapsed": false,
     "input": [
      "sansUniques=Complet-Uniques\n",
      "ContrasteSport=set()\n",
      "oppositionSport=[]\n",
      "for case in cases:\n",
      "    paire=[]\n",
      "    for sp in noms:\n",
      "        choix=chooseSport(sp,case,sansUniques)\n",
      "        paire.append(tuple([choix]))\n",
      "        ContrasteSport.add(choix)\n",
      "    oppositionSport.append((paire[0]+paire[1]))\n",
      "Reste=sansUniques-ContrasteSport"
     ],
     "language": "python",
     "metadata": {},
     "outputs": [],
     "prompt_number": 18
    },
    {
     "cell_type": "code",
     "collapsed": false,
     "input": [
      "ContrasteDesc=set()\n",
      "oppositionDesc=[]\n",
      "for case in it.product(grille[\"Sport\"],grille[\"Specifique\"]):\n",
      "    paire=[]\n",
      "    for desc in grille[\"Description\"]:\n",
      "        choix=chooseDesc(desc,case,Reste)\n",
      "        paire.append(choix)\n",
      "        ContrasteDesc.add(choix)\n",
      "    oppositionDesc.append(paire)\n",
      "        "
     ],
     "language": "python",
     "metadata": {},
     "outputs": [],
     "prompt_number": 19
    },
    {
     "cell_type": "code",
     "collapsed": false,
     "input": [
      "yamlDict={}\n",
      "yamlDict[\"Uniques\"]=[]\n",
      "for el in oppositionUniques:\n",
      "    yamlDict[\"Uniques\"].append(list(el))\n",
      "yamlDict[\"Sport\"]=[]\n",
      "for el in oppositionSport:\n",
      "    (sport,autre)=el\n",
      "    yamlDict[\"Sport\"].append([list(sport),list(autre)])\n",
      "yamlDict[\"Description\"]=[]\n",
      "for el in oppositionDesc:\n",
      "    (desc,comm)=el\n",
      "    yamlDict[\"Description\"].append([list(desc),list(comm)])\n"
     ],
     "language": "python",
     "metadata": {},
     "outputs": [],
     "prompt_number": 45
    },
    {
     "cell_type": "code",
     "collapsed": false,
     "input": [
      "if deuxieme:\n",
      "    nomCombinaisons='combinaisons2.yaml'\n",
      "else:\n",
      "    nomCombinaisons='combinaisons1.yaml'\n",
      "with open(nomCombinaisons, 'w') as yaml_file:\n",
      "    yaml_file.write(yaml.dump(yamlDict, default_flow_style=False))\n"
     ],
     "language": "python",
     "metadata": {},
     "outputs": [],
     "prompt_number": 46
    },
    {
     "cell_type": "code",
     "collapsed": false,
     "input": [
      "with open(nomCombinaisons, 'r') as yaml_file:\n",
      "    test=yaml.load(yaml_file)"
     ],
     "language": "python",
     "metadata": {},
     "outputs": [],
     "prompt_number": 47
    },
    {
     "cell_type": "code",
     "collapsed": false,
     "input": [
      "for key in test:\n",
      "    print key\n",
      "    for el in test[key]:\n",
      "        print el"
     ],
     "language": "python",
     "metadata": {},
     "outputs": [
      {
       "output_type": "stream",
       "stream": "stdout",
       "text": [
        "Uniques\n",
        "['Course', 'Sport', 'Description', 'Generique']\n",
        "['Rugby', 'Sport', 'Commentaire', 'Generique']\n",
        "['Magazine', 'Autre', 'Commentaire', 'Specifique']\n",
        "['Magazine', 'Autre', 'Commentaire', 'Generique']\n",
        "['Foot', 'Sport', 'Description', 'Specifique']\n",
        "['Journal', 'Autre', 'Description', 'Generique']\n",
        "['Election', 'Autre', 'Description', 'Specifique']\n",
        "['Rugby', 'Sport', 'Commentaire', 'Specifique']\n",
        "Sport\n",
        "[['Journal', 'Autre', 'Description', 'Specifique'], ['Course', 'Sport', 'Description', 'Specifique']]\n",
        "[['Election', 'Autre', 'Commentaire', 'Specifique'], ['Foot', 'Sport', 'Commentaire', 'Specifique']]\n",
        "[['Magazine', 'Autre', 'Description', 'Generique'], ['Foot', 'Sport', 'Description', 'Generique']]\n",
        "[['Election', 'Autre', 'Commentaire', 'Generique'], ['Foot', 'Sport', 'Commentaire', 'Generique']]\n",
        "Description\n",
        "[['Rugby', 'Sport', 'Description', 'Specifique'], ['Course', 'Sport', 'Commentaire', 'Specifique']]\n",
        "[['Rugby', 'Sport', 'Description', 'Generique'], ['Course', 'Sport', 'Commentaire', 'Generique']]\n",
        "[['Magazine', 'Autre', 'Description', 'Specifique'], ['Journal', 'Autre', 'Commentaire', 'Specifique']]\n",
        "[['Election', 'Autre', 'Description', 'Generique'], ['Journal', 'Autre', 'Commentaire', 'Generique']]\n"
       ]
      }
     ],
     "prompt_number": 49
    },
    {
     "cell_type": "code",
     "collapsed": false,
     "input": [],
     "language": "python",
     "metadata": {},
     "outputs": []
    }
   ],
   "metadata": {}
  }
 ]
}