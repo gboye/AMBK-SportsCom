{
 "metadata": {
  "name": "",
  "signature": "sha256:bc9cc33105fd92e27e549ad9f5ea6b9a45a0fbda37a97ab7ccfe3926df3eef4a"
 },
 "nbformat": 3,
 "nbformat_minor": 0,
 "worksheets": [
  {
   "cells": [
    {
     "cell_type": "code",
     "collapsed": false,
     "input": [
      "phase=3"
     ],
     "language": "python",
     "metadata": {},
     "outputs": []
    },
    {
     "cell_type": "code",
     "collapsed": false,
     "input": [
      "noms={\"Sport\":[\"Rugby\",\"Foot\",\"Course\"],\"Autre\":[\"Journal\",\"Magazine\",\"Election\"]}"
     ],
     "language": "python",
     "metadata": {},
     "outputs": [],
     "prompt_number": 104
    },
    {
     "cell_type": "code",
     "collapsed": false,
     "input": [
      "grille={\"Sport\":[\"Sport\",\"Autre\"],\"Description\":[\"Description\",\"Commentaire\"],\"Specifique\":[\"Specifique\",\"Generique\"]}\n",
      "oppositions={\"Description\":[\"Description\",\"Commentaire\"],\"Specifique\":[\"Specifique\",\"Generique\"]}"
     ],
     "language": "python",
     "metadata": {},
     "outputs": [],
     "prompt_number": 105
    },
    {
     "cell_type": "code",
     "collapsed": false,
     "input": [
      "import itertools as it\n",
      "import random as rd\n",
      "import yaml"
     ],
     "language": "python",
     "metadata": {},
     "outputs": [],
     "prompt_number": 106
    },
    {
     "cell_type": "code",
     "collapsed": false,
     "input": [
      "premierUniques=set()\n",
      "deuxiemeUniques=set()\n",
      "if phase>1:\n",
      "    with open('combinaisons1.yaml', 'r') as yaml_file:\n",
      "        questions1=yaml.load(yaml_file)\n",
      "    for el in questions1[\"Uniques\"]:\n",
      "        premierUniques.add(tuple(el))\n",
      "if phase>2:\n",
      "    with open('combinaisons2.yaml', 'r') as yaml_file:\n",
      "        questions2=yaml.load(yaml_file)\n",
      "    for el in questions2[\"Uniques\"]:\n",
      "        deuxiemeUniques.add(tuple(el))"
     ],
     "language": "python",
     "metadata": {},
     "outputs": [],
     "prompt_number": 107
    },
    {
     "cell_type": "code",
     "collapsed": false,
     "input": [
      "stimuli = it.product(*grille.values())\n",
      "Complet=set()\n",
      "for elStimuli in stimuli:\n",
      "    (sp,desc,spec)=elStimuli\n",
      "    for elSp in noms[sp]:\n",
      "        Complet.add((elSp,sp,desc,spec))\n",
      "        \n",
      "iterCases = it.product(*oppositions.values())\n",
      "Uniques=set()\n",
      "cases=set()\n",
      "for elCases in iterCases:\n",
      "    cases.add(elCases)\n",
      "    (desc,spec)=elCases\n",
      "    for sp in noms:\n",
      "        Possibles=Complet-premierUniques-deuxiemeUniques\n",
      "        choix=chooseSport(sp,elCases,Possibles)\n",
      "        Uniques.add(choix)\n",
      "oppositionUniques=list(Uniques)\n"
     ],
     "language": "python",
     "metadata": {},
     "outputs": [],
     "prompt_number": 108
    },
    {
     "cell_type": "code",
     "collapsed": false,
     "input": [
      "#import csv\n",
      "#out_file = open('stimuli.csv', 'wb')\n",
      "#writer = csv.writer(out_file)\n",
      "#for el in Complet:\n",
      "#    writer.writerow(el)\n",
      "#out_file.close()"
     ],
     "language": "python",
     "metadata": {},
     "outputs": [],
     "prompt_number": 109
    },
    {
     "cell_type": "code",
     "collapsed": false,
     "input": [
      "def chooseSport(sp,case,ensemble):\n",
      "    candidats=[]\n",
      "    for elEnsemble in ensemble:\n",
      "        if elEnsemble[1]==sp and (elEnsemble[2],elEnsemble[3])==case:\n",
      "            candidats.append(elEnsemble)\n",
      "    return rd.choice(candidats)\n",
      "\n",
      "def chooseDesc(desc,case,ensemble):\n",
      "    candidats=[]\n",
      "    for elEnsemble in ensemble:\n",
      "        if elEnsemble[2]==desc and (elEnsemble[1],elEnsemble[3])==case:\n",
      "            candidats.append(elEnsemble)\n",
      "    return rd.choice(candidats)"
     ],
     "language": "python",
     "metadata": {},
     "outputs": [],
     "prompt_number": 110
    },
    {
     "cell_type": "code",
     "collapsed": false,
     "input": [
      "sansUniques=Complet-Uniques\n",
      "ContrasteSport=set()\n",
      "oppositionSport=[]\n",
      "for case in cases:\n",
      "    paire=[]\n",
      "    for sp in noms:\n",
      "        choix=chooseSport(sp,case,sansUniques)\n",
      "        paire.append(tuple([choix]))\n",
      "        ContrasteSport.add(choix)\n",
      "    oppositionSport.append((paire[0]+paire[1]))\n",
      "Reste=sansUniques-ContrasteSport"
     ],
     "language": "python",
     "metadata": {},
     "outputs": [],
     "prompt_number": 111
    },
    {
     "cell_type": "code",
     "collapsed": false,
     "input": [
      "ContrasteDesc=set()\n",
      "oppositionDesc=[]\n",
      "for case in it.product(grille[\"Sport\"],grille[\"Specifique\"]):\n",
      "    paire=[]\n",
      "    for desc in grille[\"Description\"]:\n",
      "        choix=chooseDesc(desc,case,Reste)\n",
      "        paire.append(choix)\n",
      "        ContrasteDesc.add(choix)\n",
      "    oppositionDesc.append(paire)\n",
      "        "
     ],
     "language": "python",
     "metadata": {},
     "outputs": [],
     "prompt_number": 112
    },
    {
     "cell_type": "code",
     "collapsed": false,
     "input": [
      "yamlDict={}\n",
      "yamlDict[\"Uniques\"]=[]\n",
      "for el in oppositionUniques:\n",
      "    yamlDict[\"Uniques\"].append(list(el))\n",
      "yamlDict[\"Sport\"]=[]\n",
      "for el in oppositionSport:\n",
      "    (sport,autre)=el\n",
      "    yamlDict[\"Sport\"].append([list(sport),list(autre)])\n",
      "yamlDict[\"Description\"]=[]\n",
      "for el in oppositionDesc:\n",
      "    (desc,comm)=el\n",
      "    yamlDict[\"Description\"].append([list(desc),list(comm)])\n"
     ],
     "language": "python",
     "metadata": {},
     "outputs": [],
     "prompt_number": 113
    },
    {
     "cell_type": "code",
     "collapsed": false,
     "input": [
      "nomCombinaisons='combinaisons'+str(phase)+'.yaml'\n",
      "with open(nomCombinaisons, 'w') as yaml_file:\n",
      "    yaml_file.write(yaml.dump(yamlDict, default_flow_style=False))\n"
     ],
     "language": "python",
     "metadata": {},
     "outputs": [],
     "prompt_number": 114
    },
    {
     "cell_type": "code",
     "collapsed": false,
     "input": [
      "with open(nomCombinaisons, 'r') as yaml_file:\n",
      "    test=yaml.load(yaml_file)"
     ],
     "language": "python",
     "metadata": {},
     "outputs": [],
     "prompt_number": 115
    },
    {
     "cell_type": "code",
     "collapsed": false,
     "input": [
      "for key in test:\n",
      "    print key\n",
      "    for el in test[key]:\n",
      "        print el"
     ],
     "language": "python",
     "metadata": {},
     "outputs": [
      {
       "output_type": "stream",
       "stream": "stdout",
       "text": [
        "Uniques\n",
        "['Rugby', 'Sport', 'Description', 'Specifique']\n",
        "['Rugby', 'Sport', 'Description', 'Generique']\n",
        "['Course', 'Sport', 'Commentaire', 'Generique']\n",
        "['Journal', 'Autre', 'Commentaire', 'Specifique']\n",
        "['Foot', 'Sport', 'Commentaire', 'Specifique']\n",
        "['Journal', 'Autre', 'Description', 'Specifique']\n",
        "['Election', 'Autre', 'Commentaire', 'Generique']\n",
        "['Magazine', 'Autre', 'Description', 'Generique']\n",
        "Sport\n",
        "[['Magazine', 'Autre', 'Description', 'Specifique'], ['Foot', 'Sport', 'Description', 'Specifique']]\n",
        "[['Election', 'Autre', 'Commentaire', 'Specifique'], ['Rugby', 'Sport', 'Commentaire', 'Specifique']]\n",
        "[['Election', 'Autre', 'Description', 'Generique'], ['Course', 'Sport', 'Description', 'Generique']]\n",
        "[['Magazine', 'Autre', 'Commentaire', 'Generique'], ['Rugby', 'Sport', 'Commentaire', 'Generique']]\n",
        "Description\n",
        "[['Course', 'Sport', 'Description', 'Specifique'], ['Course', 'Sport', 'Commentaire', 'Specifique']]\n",
        "[['Foot', 'Sport', 'Description', 'Generique'], ['Foot', 'Sport', 'Commentaire', 'Generique']]\n",
        "[['Election', 'Autre', 'Description', 'Specifique'], ['Magazine', 'Autre', 'Commentaire', 'Specifique']]\n",
        "[['Journal', 'Autre', 'Description', 'Generique'], ['Journal', 'Autre', 'Commentaire', 'Generique']]\n"
       ]
      }
     ],
     "prompt_number": 116
    },
    {
     "cell_type": "code",
     "collapsed": false,
     "input": [],
     "language": "python",
     "metadata": {},
     "outputs": []
    }
   ],
   "metadata": {}
  }
 ]
}