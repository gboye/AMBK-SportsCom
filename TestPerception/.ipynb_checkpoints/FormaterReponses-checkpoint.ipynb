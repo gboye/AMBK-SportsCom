{
 "metadata": {
  "name": "",
  "signature": "sha256:ff289c478b66e1449a78e892acc86cfd9aacd641ce2cd58850d50f886061f545"
 },
 "nbformat": 3,
 "nbformat_minor": 0,
 "worksheets": [
  {
   "cells": [
    {
     "cell_type": "code",
     "collapsed": false,
     "input": [
      "#!/usr/bin/env python\n",
      "# -*- coding: utf-8 -*-"
     ],
     "language": "python",
     "metadata": {},
     "outputs": [],
     "prompt_number": 53
    },
    {
     "cell_type": "code",
     "collapsed": false,
     "input": [
      "import codecs\n",
      "import csv\n",
      "import sqlite3"
     ],
     "language": "python",
     "metadata": {},
     "outputs": [],
     "prompt_number": 54
    },
    {
     "cell_type": "code",
     "collapsed": false,
     "input": [
      "fichierQuestions='../../../Copy/Recherche/Rugby/Test2/Re\u0301sultats/141222-Q3-L3.csv'\n",
      "fichierReponses=fichierQuestions.replace(\"-Q\",\"-R\")"
     ],
     "language": "python",
     "metadata": {},
     "outputs": [],
     "prompt_number": 55
    },
    {
     "cell_type": "code",
     "collapsed": false,
     "input": [
      "with codecs.open(fichierQuestions, 'r', 'utf8') as question_file:\n",
      "    questions1=question_file.readlines()"
     ],
     "language": "python",
     "metadata": {},
     "outputs": [],
     "prompt_number": 56
    },
    {
     "cell_type": "code",
     "collapsed": false,
     "input": [
      "etiquettes= [\n",
      "           \"Nom\",\"Pr\u00e9nom\",\"Institution\",\n",
      "           \"D\u00e9partement\",\"Adresse de courriel\",\"\u00c9tat\",\n",
      "           \"Commenc\u00e9 le\",\"Termin\u00e9\",\"Temps utilis\u00e9\",\"Note/20,00\",\n",
      "           \"R\u00e9ponse 1\",\"R\u00e9ponse 2\",\"R\u00e9ponse 3\",\"R\u00e9ponse 4\",\"R\u00e9ponse 5\",\n",
      "           \"R\u00e9ponse 6\",\"R\u00e9ponse 7\",\"R\u00e9ponse 8\",\"R\u00e9ponse 9\",\"R\u00e9ponse 10\",\n",
      "           \"R\u00e9ponse 11\",\"R\u00e9ponse 12\",\"R\u00e9ponse 13\",\"R\u00e9ponse 14\",\"R\u00e9ponse 15\",\n",
      "           \"R\u00e9ponse 16\"\n",
      "           ]\n",
      "sujet=[1,0]\n",
      "extraits=range(10,26)"
     ],
     "language": "python",
     "metadata": {},
     "outputs": [],
     "prompt_number": 57
    },
    {
     "cell_type": "code",
     "collapsed": false,
     "input": [
      "sepCSV=\"\\t\"\n",
      "sepCloze=\":\"\n",
      "sepPartie=\";\"\n",
      "termine=5\n",
      "def formaterReponses(reponses):\n",
      "    result=[]\n",
      "    for n in range(0,4):\n",
      "        result.append(reponses[n].split(sepCloze)[1].strip())\n",
      "    for n in range(4,12):\n",
      "        parties=reponses[n].split(sepPartie)\n",
      "        for partie in parties:\n",
      "            if partie.split(sepCloze)[1].strip()==\"Oui\":\n",
      "                result.append(\"1\")\n",
      "            else:\n",
      "                result.append(\"0\")\n",
      "    for n in range(12,16):\n",
      "        result.append(reponses[n].split(sepCloze)[1].strip())\n",
      "    return result\n",
      "\n",
      "reponses=[]\n",
      "for question in questions1[1:]:\n",
      "    reponse=[]\n",
      "    champs=question.strip().split(sepCSV)\n",
      "    if champs[termine].strip()==u\"Termin\u00e9\":\n",
      "        for id in sujet:\n",
      "            reponse.append(champs[id])\n",
      "        reponse.extend(formaterReponses(champs[10:26]))\n",
      "    reponses.append(reponse)"
     ],
     "language": "python",
     "metadata": {},
     "outputs": [],
     "prompt_number": 58
    },
    {
     "cell_type": "code",
     "collapsed": false,
     "input": [
      "with open(fichierReponses, 'w') as reponse_file:\n",
      "    for reponse in reponses:\n",
      "        reponse_file.write(\";\".join(reponse)+\"\\n\")\n"
     ],
     "language": "python",
     "metadata": {},
     "outputs": [],
     "prompt_number": 59
    }
   ],
   "metadata": {}
  }
 ]
}