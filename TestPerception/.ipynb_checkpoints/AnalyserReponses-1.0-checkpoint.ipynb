{
 "metadata": {
  "name": "",
  "signature": "sha256:d51b0ab5130dfc1f0086b854c779586e4a16807346dd9e17e9cd07304d680d89"
 },
 "nbformat": 3,
 "nbformat_minor": 0,
 "worksheets": [
  {
   "cells": [
    {
     "cell_type": "code",
     "collapsed": false,
     "input": [
      "#!/usr/bin/env python\n",
      "# -*- coding: utf-8 -*-"
     ],
     "language": "python",
     "metadata": {},
     "outputs": [],
     "prompt_number": 3
    },
    {
     "cell_type": "code",
     "collapsed": false,
     "input": [
      "import codecs\n",
      "import csv\n",
      "import sqlite3"
     ],
     "language": "python",
     "metadata": {},
     "outputs": [],
     "prompt_number": 4
    },
    {
     "cell_type": "code",
     "collapsed": false,
     "input": [
      "fichierBase='../../../Copy/Recherche/Rugby/Test2/Re\u0301sultats/Perception2.sqlite'\n",
      "connexionBase=sqlite3.connect(fichierBase)\n",
      "curseur=connexionBase.cursor()"
     ],
     "language": "python",
     "metadata": {},
     "outputs": [],
     "prompt_number": 5
    },
    {
     "cell_type": "code",
     "collapsed": false,
     "input": [
      "connexionBase.commit()"
     ],
     "language": "python",
     "metadata": {},
     "outputs": [],
     "prompt_number": 6
    },
    {
     "cell_type": "code",
     "collapsed": false,
     "input": [
      "def lanceRequete(requete):\n",
      "    resultat=curseur.execute(requete)\n",
      "    titre=[]\n",
      "    for element in resultat.description:\n",
      "        titre.append(element[0])\n",
      "    n=len(titre)\n",
      "    sorties=[]\n",
      "    for element in resultat:\n",
      "        ligne=[]\n",
      "        for i in range(n):\n",
      "            ligne.append(element[i])\n",
      "        sorties.append(ligne)\n",
      "    print \"\\t\".join(titre)\n",
      "    sorties.sort()\n",
      "    for sortie in sorties:\n",
      "#        for element in sortie:\n",
      "#            print element,\n",
      "#        print\n",
      "        print \"\\t\".join([str(x) if isinstance(x,int) else x for x in sortie])"
     ],
     "language": "python",
     "metadata": {},
     "outputs": [],
     "prompt_number": 15
    },
    {
     "cell_type": "code",
     "collapsed": false,
     "input": [
      "requete=('SELECT c.direct||\"-\"||c.specifique \"Direct-Sp\u00e9cifique\", '\n",
      "            'sum(r.sportif=q.sport) Rappel, count(*) nR\u00e9ponses '\n",
      "            'from sportdirect q, r\u00e9ponses r, stimulis c '\n",
      "            'where r.question=\"Absolu\" and q.sport=0 '\n",
      "            'and son1=q.reference and c.reference=q.reference '\n",
      "            'group by c.direct, c.specifique'\n",
      "        )"
     ],
     "language": "python",
     "metadata": {},
     "outputs": [],
     "prompt_number": 22
    },
    {
     "cell_type": "code",
     "collapsed": false,
     "input": [
      "requete=('select avg(correct) correct '\n",
      " 'from '\n",
      " '('\n",
      " 'select nom, (max(correct)-min(correct)) correct '\n",
      " 'from '\n",
      " '('\n",
      " 'select specifique, nom, avg(correct) correct '\n",
      " 'from sportr\u00e9ponses group by specifique, nom'\n",
      " ')'\n",
      " 'group by nom'\n",
      " ')'\n",
      " )"
     ],
     "language": "python",
     "metadata": {},
     "outputs": [],
     "prompt_number": 45
    },
    {
     "cell_type": "code",
     "collapsed": false,
     "input": [
      "requete=('SELECT questionID, avg(correct) '\n",
      "            'from sportr\u00e9ponses '\n",
      "            'where 1 '\n",
      "            'group by questionID'\n",
      "        )"
     ],
     "language": "python",
     "metadata": {},
     "outputs": [],
     "prompt_number": 15
    },
    {
     "cell_type": "code",
     "collapsed": false,
     "input": [
      "requete=('SELECT pr\u00e9nom,nom, correct, count(correct) n '\n",
      "            'from sportr\u00e9ponses '\n",
      "            'where 1 '\n",
      "            'group by pr\u00e9nom,nom, correct'\n",
      "        )"
     ],
     "language": "python",
     "metadata": {},
     "outputs": [],
     "prompt_number": 60
    },
    {
     "cell_type": "code",
     "collapsed": false,
     "input": [
      "requete=(#'create table DirectQuestions as '\n",
      "         'SELECT son1,son2, direct r\u00e9ponse, '\n",
      "         'case when direct=1 then son1 else son2 end description,'\n",
      "         'case when direct=2 then son1 else son2 end commentaire '\n",
      "         'from direct2 '\n",
      "        )"
     ],
     "language": "python",
     "metadata": {},
     "outputs": [],
     "prompt_number": 121
    },
    {
     "cell_type": "code",
     "collapsed": false,
     "input": [
      "requete=(\"create table DirectR\u00e9ponses as \"\n",
      "         \"SELECT q.rowid questionID, \"\n",
      "         \"c1.evenement description, c2.evenement commentaire, \"\n",
      "         \"c2.type, c2.specifique, \"\n",
      "         \"q.r\u00e9ponse=r.direct2 correct, pr\u00e9nom, nom \"\n",
      "         \"from r\u00e9ponses r, directquestions q, stimulis c1, stimulis c2 \"\n",
      "         \"where r.question='Direct' and \"\n",
      "         \"r.num\u00e9ro not null and \"\n",
      "         \"r.son1=q.son1 and r.son2=q.son2 and \"\n",
      "         \"c1.reference=q.description and c2.reference=q.commentaire \"\n",
      "        )"
     ],
     "language": "python",
     "metadata": {},
     "outputs": [],
     "prompt_number": 4
    },
    {
     "cell_type": "code",
     "collapsed": false,
     "input": [
      "requete=(#\"create table SportDirectR\u00e9ponses as \"\n",
      "         \"SELECT q.rowid questionID, \"\n",
      "         \"c1.evenement, c1.type, \"\n",
      "         \"c1.direct, c1.specifique, \"\n",
      "         \"q.sport=r.sportif sportif, q.direct=r.direct directe, pr\u00e9nom, nom \"\n",
      "         \"from r\u00e9ponses r, sportdirectquestions q, stimulis c1 \"\n",
      "         \"where r.question='Absolu' and \"\n",
      "         \"r.num\u00e9ro not null and \"\n",
      "         \"r.son1=q.reference and \"\n",
      "         \"c1.reference=q.reference \"\n",
      "        )"
     ],
     "language": "python",
     "metadata": {},
     "outputs": [],
     "prompt_number": 23
    },
    {
     "cell_type": "code",
     "collapsed": false,
     "input": [
      "requete=(#\"create table SujetsR\u00e9ponses as \"\n",
      "         \"SELECT pr\u00e9nom, nom, 'AS'||substr('00'||questionID, -2, 2) Qid, \"\n",
      "         \"sportif correct \"\n",
      "         \"from sportdirectr\u00e9ponses \"\n",
      "         \"where 1 \"\n",
      "        )"
     ],
     "language": "python",
     "metadata": {},
     "outputs": [],
     "prompt_number": 53
    },
    {
     "cell_type": "code",
     "collapsed": false,
     "input": [
      "requete=(#\"insert into SujetsR\u00e9ponses \"\n",
      "         \"SELECT pr\u00e9nom, nom, 'AD'||substr('00'||questionID, -2, 2) Qid, \"\n",
      "         \"directe correct \"\n",
      "         \"from sportdirectr\u00e9ponses \"\n",
      "         \"where 1 \"\n",
      "        )"
     ],
     "language": "python",
     "metadata": {},
     "outputs": [],
     "prompt_number": 61
    },
    {
     "cell_type": "code",
     "collapsed": false,
     "input": [
      "requete=(#\"insert into SujetsR\u00e9ponses \"\n",
      "         \"SELECT pr\u00e9nom, nom, 'CS'||substr('00'||questionID, -2, 2) Qid, \"\n",
      "         \"correct \"\n",
      "         \"from sportr\u00e9ponses \"\n",
      "         \"where 1 \"\n",
      "        )"
     ],
     "language": "python",
     "metadata": {},
     "outputs": [],
     "prompt_number": 68
    },
    {
     "cell_type": "code",
     "collapsed": false,
     "input": [
      "requete=(#\"insert into SujetsR\u00e9ponses \"\n",
      "         \"SELECT pr\u00e9nom, nom, 'CD'||substr('00'||questionID, -2, 2) Qid, \"\n",
      "         \"correct \"\n",
      "         \"from directr\u00e9ponses \"\n",
      "         \"where 1 \"\n",
      "        )"
     ],
     "language": "python",
     "metadata": {},
     "outputs": [],
     "prompt_number": 105
    },
    {
     "cell_type": "code",
     "collapsed": false,
     "input": [
      "requete=(\n",
      "         \"SELECT direct, type, sum(directe), count(*) \"\n",
      "         \"from sportdirectr\u00e9ponses \"\n",
      "\n",
      "         \"group by direct, type \"\n",
      "        )"
     ],
     "language": "python",
     "metadata": {},
     "outputs": [],
     "prompt_number": 93
    },
    {
     "cell_type": "code",
     "collapsed": false,
     "input": [
      "requete=(\n",
      "         \"SELECT type, sum(directreponse=0), count(*) \"\n",
      "         \"from sportdirectr\u00e9ponses \"\n",
      "\n",
      "         \"group by type \"\n",
      "\n",
      "        )"
     ],
     "language": "python",
     "metadata": {},
     "outputs": [],
     "prompt_number": 158
    },
    {
     "cell_type": "code",
     "collapsed": false,
     "input": [
      "requete=(\n",
      "         \"SELECT specifique, direct, sum(directcorrect), count(*) \"\n",
      "         \"from sportdirectr\u00e9ponses \"\n",
      "\n",
      "         \"group by specifique, direct \"\n",
      "\n",
      "        )"
     ],
     "language": "python",
     "metadata": {},
     "outputs": [],
     "prompt_number": 164
    },
    {
     "cell_type": "code",
     "collapsed": false,
     "input": [
      "requete=(\n",
      "         \"SELECT specifique, sum(directreponse=0), count(*) \"\n",
      "         \"from sportdirectr\u00e9ponses \"\n",
      "        \"where direct='Commentaire' \"\n",
      "         \"group by specifique \"\n",
      "\n",
      "        )"
     ],
     "language": "python",
     "metadata": {},
     "outputs": [],
     "prompt_number": 162
    },
    {
     "cell_type": "code",
     "collapsed": false,
     "input": [
      "#R\u00e9ponses correctes g\u00e9n\u00e9ral pour le direct\n",
      "requete=(\n",
      "         \"SELECT direct,  sum(directcorrect), count(*) \"\n",
      "         \"from sportdirectr\u00e9ponses \"\n",
      "        #\"where direct='Commentaire' \"\n",
      "         \"group by direct \"\n",
      "\n",
      "        )"
     ],
     "language": "python",
     "metadata": {},
     "outputs": [],
     "prompt_number": 237
    },
    {
     "cell_type": "code",
     "collapsed": false,
     "input": [
      "lanceRequete(requete)"
     ],
     "language": "python",
     "metadata": {},
     "outputs": [
      {
       "output_type": "stream",
       "stream": "stdout",
       "text": [
        "Direct\tsum(directcorrect)\tcount(*)\n",
        "Commentaire 93 204\n",
        "Description 82 204\n"
       ]
      }
     ],
     "prompt_number": 238
    },
    {
     "cell_type": "code",
     "collapsed": false,
     "input": [
      "lanceRequete(requete)"
     ],
     "language": "python",
     "metadata": {},
     "outputs": [
      {
       "output_type": "stream",
       "stream": "stdout",
       "text": [
        "Direct\tsum(directcorrect)\tcount(*)\n",
        "Commentaire 93 204\n",
        "Description 82 204\n"
       ]
      }
     ],
     "prompt_number": 236
    },
    {
     "cell_type": "code",
     "collapsed": false,
     "input": [
      "#R\u00e9ponses correctes par sport pour le direct\n",
      "requete=(\n",
      "         \"SELECT direct,type,  sum(directcorrect), count(*) \"\n",
      "         \"from sportdirectr\u00e9ponses \"\n",
      "        #\"where direct='Commentaire' \"\n",
      "         \"group by direct, type \"\n",
      "\n",
      "        )"
     ],
     "language": "python",
     "metadata": {},
     "outputs": [],
     "prompt_number": 233
    },
    {
     "cell_type": "code",
     "collapsed": false,
     "input": [
      "lanceRequete(requete)"
     ],
     "language": "python",
     "metadata": {},
     "outputs": [
      {
       "output_type": "stream",
       "stream": "stdout",
       "text": [
        "Direct\tType\tsum(directcorrect)\tcount(*)\n",
        "Commentaire Autre 28 102\n",
        "Commentaire Sport 65 102\n",
        "Description Autre 43 102\n",
        "Description Sport 39 102\n"
       ]
      }
     ],
     "prompt_number": 234
    },
    {
     "cell_type": "code",
     "collapsed": false,
     "input": [
      "#R\u00e9ponses correctes par specifique pour le direct\n",
      "requete=(\n",
      "         \"SELECT direct,specifique,  sum(directcorrect), count(*) \"\n",
      "         \"from sportdirectr\u00e9ponses \"\n",
      "        #\"where direct='Commentaire' \"\n",
      "         \"group by direct, specifique \"\n",
      "\n",
      "        )"
     ],
     "language": "python",
     "metadata": {},
     "outputs": [],
     "prompt_number": 231
    },
    {
     "cell_type": "code",
     "collapsed": false,
     "input": [
      "lanceRequete(requete)"
     ],
     "language": "python",
     "metadata": {},
     "outputs": [
      {
       "output_type": "stream",
       "stream": "stdout",
       "text": [
        "Direct\tSpecifique\tsum(directcorrect)\tcount(*)\n",
        "Commentaire Generique 47 102\n",
        "Commentaire Specifique 46 102\n",
        "Description Generique 48 102\n",
        "Description Specifique 34 102\n"
       ]
      }
     ],
     "prompt_number": 232
    },
    {
     "cell_type": "code",
     "collapsed": false,
     "input": [
      "#R\u00e9ponses correctes par sport et par specifique pour le direct\n",
      "requete=(\n",
      "         \"SELECT direct,type, specifique,  sum(directcorrect), count(*) \"\n",
      "         \"from sportdirectr\u00e9ponses \"\n",
      "        #\"where direct='Commentaire' \"\n",
      "         \"group by direct, type, specifique \"\n",
      "\n",
      "        )"
     ],
     "language": "python",
     "metadata": {},
     "outputs": [],
     "prompt_number": 229
    },
    {
     "cell_type": "code",
     "collapsed": false,
     "input": [
      "lanceRequete(requete)"
     ],
     "language": "python",
     "metadata": {},
     "outputs": [
      {
       "output_type": "stream",
       "stream": "stdout",
       "text": [
        "Direct\tType\tSpecifique\tsum(directcorrect)\tcount(*)\n",
        "Commentaire Autre Generique 12 51\n",
        "Commentaire Autre Specifique 16 51\n",
        "Commentaire Sport Generique 35 51\n",
        "Commentaire Sport Specifique 30 51\n",
        "Description Autre Generique 24 51\n",
        "Description Autre Specifique 19 51\n",
        "Description Sport Generique 24 51\n",
        "Description Sport Specifique 15 51\n"
       ]
      }
     ],
     "prompt_number": 230
    },
    {
     "cell_type": "code",
     "collapsed": false,
     "input": [
      "#R\u00e9ponses donn\u00e9es g\u00e9n\u00e9ral pour le direct\n",
      "requete=(\n",
      "         \"SELECT directreponse, count(*) \"\n",
      "         \"from sportdirectr\u00e9ponses \"\n",
      "        #\"where direct='Commentaire' \"\n",
      "         \"group by directreponse \"\n",
      "\n",
      "        )"
     ],
     "language": "python",
     "metadata": {},
     "outputs": [],
     "prompt_number": 227
    },
    {
     "cell_type": "code",
     "collapsed": false,
     "input": [
      "lanceRequete(requete)"
     ],
     "language": "python",
     "metadata": {},
     "outputs": [
      {
       "output_type": "stream",
       "stream": "stdout",
       "text": [
        "directReponse\tcount(*)\n",
        "0 215\n",
        "1 193\n"
       ]
      }
     ],
     "prompt_number": 228
    },
    {
     "cell_type": "code",
     "collapsed": false,
     "input": [
      "#R\u00e9ponses donn\u00e9es par sport pour le direct\n",
      "requete=(\n",
      "         \"SELECT directreponse, type, count(*) \"\n",
      "         \"from sportdirectr\u00e9ponses \"\n",
      "        #\"where direct='Commentaire' \"\n",
      "         \"group by directreponse, type \"\n",
      "\n",
      "        )"
     ],
     "language": "python",
     "metadata": {},
     "outputs": [],
     "prompt_number": 225
    },
    {
     "cell_type": "code",
     "collapsed": false,
     "input": [
      "lanceRequete(requete)"
     ],
     "language": "python",
     "metadata": {},
     "outputs": [
      {
       "output_type": "stream",
       "stream": "stdout",
       "text": [
        "directReponse\tType\tcount(*)\n",
        "0 Autre 87\n",
        "0 Sport 128\n",
        "1 Autre 117\n",
        "1 Sport 76\n"
       ]
      }
     ],
     "prompt_number": 226
    },
    {
     "cell_type": "code",
     "collapsed": false,
     "input": [
      "#R\u00e9ponses donn\u00e9es par specifique pour le direct\n",
      "requete=(\n",
      "         \"SELECT directreponse, specifique, count(*) \"\n",
      "         \"from sportdirectr\u00e9ponses \"\n",
      "        #\"where direct='Commentaire' \"\n",
      "         \"group by directreponse, specifique \"\n",
      "\n",
      "        )"
     ],
     "language": "python",
     "metadata": {},
     "outputs": [],
     "prompt_number": 223
    },
    {
     "cell_type": "code",
     "collapsed": false,
     "input": [
      "lanceRequete(requete)"
     ],
     "language": "python",
     "metadata": {},
     "outputs": [
      {
       "output_type": "stream",
       "stream": "stdout",
       "text": [
        "directReponse\tSpecifique\tcount(*)\n",
        "0 Generique 101\n",
        "0 Specifique 114\n",
        "1 Generique 103\n",
        "1 Specifique 90\n"
       ]
      }
     ],
     "prompt_number": 224
    },
    {
     "cell_type": "code",
     "collapsed": false,
     "input": [
      "#R\u00e9ponses donn\u00e9es par sport et specifique pour le direct\n",
      "requete=(\n",
      "         \"SELECT directreponse, type, specifique, count(*) \"\n",
      "         \"from sportdirectr\u00e9ponses \"\n",
      "         \"group by directreponse, type, specifique \"\n",
      "\n",
      "        )"
     ],
     "language": "python",
     "metadata": {},
     "outputs": [],
     "prompt_number": 219
    },
    {
     "cell_type": "code",
     "collapsed": false,
     "input": [
      "lanceRequete(requete)"
     ],
     "language": "python",
     "metadata": {},
     "outputs": [
      {
       "output_type": "stream",
       "stream": "stdout",
       "text": [
        "Direct\tType\tSpecifique\tsum(directcorrect)\tcount(*)\n",
        "Commentaire Autre Generique 12 51\n",
        "Commentaire Autre Specifique 16 51\n",
        "Commentaire Sport Generique 35 51\n",
        "Commentaire Sport Specifique 30 51\n",
        "Description Autre Generique 24 51\n",
        "Description Autre Specifique 19 51\n",
        "Description Sport Generique 24 51\n",
        "Description Sport Specifique 15 51\n"
       ]
      }
     ],
     "prompt_number": 222
    },
    {
     "cell_type": "code",
     "collapsed": false,
     "input": [
      "#R\u00e9ponses donn\u00e9es g\u00e9n\u00e9ral pour le sport\n",
      "requete=(\n",
      "         \"SELECT sportreponse, count(*) \"\n",
      "         \"from sportdirectr\u00e9ponses \"\n",
      "         \"group by sportreponse \"\n",
      "\n",
      "        )"
     ],
     "language": "python",
     "metadata": {},
     "outputs": [],
     "prompt_number": 239
    },
    {
     "cell_type": "code",
     "collapsed": false,
     "input": [
      "lanceRequete(requete)"
     ],
     "language": "python",
     "metadata": {},
     "outputs": [
      {
       "output_type": "stream",
       "stream": "stdout",
       "text": [
        "sportReponse\tcount(*)\n",
        "0 184\n",
        "1 224\n"
       ]
      }
     ],
     "prompt_number": 240
    },
    {
     "cell_type": "code",
     "collapsed": false,
     "input": [
      "#R\u00e9ponses correctes g\u00e9n\u00e9ral pour le sport\n",
      "requete=(\n",
      "         \"SELECT type,  sum(sportcorrect), count(*) \"\n",
      "         \"from sportdirectr\u00e9ponses \"\n",
      "         \"group by type \"\n",
      "\n",
      "        )"
     ],
     "language": "python",
     "metadata": {},
     "outputs": [],
     "prompt_number": 241
    },
    {
     "cell_type": "code",
     "collapsed": false,
     "input": [
      "lanceRequete(requete)"
     ],
     "language": "python",
     "metadata": {},
     "outputs": [
      {
       "output_type": "stream",
       "stream": "stdout",
       "text": [
        "Type\tsum(sportcorrect)\tcount(*)\n",
        "Autre 113 204\n",
        "Sport 133 204\n"
       ]
      }
     ],
     "prompt_number": 242
    },
    {
     "cell_type": "code",
     "collapsed": false,
     "input": [
      "#R\u00e9ponses donn\u00e9es par direct pour le sport\n",
      "requete=(\n",
      "         \"SELECT sportreponse, direct, count(*) \"\n",
      "         \"from sportdirectr\u00e9ponses \"\n",
      "         \"group by sportreponse, direct \"\n",
      "\n",
      "        )"
     ],
     "language": "python",
     "metadata": {},
     "outputs": [],
     "prompt_number": 243
    },
    {
     "cell_type": "code",
     "collapsed": false,
     "input": [
      "lanceRequete(requete)"
     ],
     "language": "python",
     "metadata": {},
     "outputs": [
      {
       "output_type": "stream",
       "stream": "stdout",
       "text": [
        "sportReponse\tDirect\tcount(*)\n",
        "0 Commentaire 110\n",
        "0 Description 74\n",
        "1 Commentaire 94\n",
        "1 Description 130\n"
       ]
      }
     ],
     "prompt_number": 244
    },
    {
     "cell_type": "code",
     "collapsed": false,
     "input": [
      "#R\u00e9ponses correctes par direct pour le sport\n",
      "requete=(\n",
      "         \"SELECT type, direct, sum(sportcorrect), count(*) \"\n",
      "         \"from sportdirectr\u00e9ponses \"\n",
      "         \"group by type, direct \"\n",
      "\n",
      "        )"
     ],
     "language": "python",
     "metadata": {},
     "outputs": [],
     "prompt_number": 245
    },
    {
     "cell_type": "code",
     "collapsed": false,
     "input": [
      "lanceRequete(requete)"
     ],
     "language": "python",
     "metadata": {},
     "outputs": [
      {
       "output_type": "stream",
       "stream": "stdout",
       "text": [
        "Type\tDirect\tsum(sportcorrect)\tcount(*)\n",
        "Autre Commentaire 76 102\n",
        "Autre Description 37 102\n",
        "Sport Commentaire 68 102\n",
        "Sport Description 65 102\n"
       ]
      }
     ],
     "prompt_number": 246
    },
    {
     "cell_type": "code",
     "collapsed": false,
     "input": [
      "#R\u00e9ponses donn\u00e9es par specifique pour le sport\n",
      "requete=(\n",
      "         \"SELECT sportreponse, specifique, count(*) \"\n",
      "         \"from sportdirectr\u00e9ponses \"\n",
      "         \"group by sportreponse, specifique \"\n",
      "\n",
      "        )"
     ],
     "language": "python",
     "metadata": {},
     "outputs": [],
     "prompt_number": 247
    },
    {
     "cell_type": "code",
     "collapsed": false,
     "input": [
      "lanceRequete(requete)"
     ],
     "language": "python",
     "metadata": {},
     "outputs": [
      {
       "output_type": "stream",
       "stream": "stdout",
       "text": [
        "sportReponse\tSpecifique\tcount(*)\n",
        "0 Generique 94\n",
        "0 Specifique 90\n",
        "1 Generique 110\n",
        "1 Specifique 114\n"
       ]
      }
     ],
     "prompt_number": 248
    },
    {
     "cell_type": "code",
     "collapsed": false,
     "input": [
      "#R\u00e9ponses correctes par specifique pour le sport\n",
      "requete=(\n",
      "         \"SELECT type, specifique, sum(sportcorrect), count(*) \"\n",
      "         \"from sportdirectr\u00e9ponses \"\n",
      "         \"group by type, specifique \"\n",
      "\n",
      "        )"
     ],
     "language": "python",
     "metadata": {},
     "outputs": [],
     "prompt_number": 249
    },
    {
     "cell_type": "code",
     "collapsed": false,
     "input": [
      "lanceRequete(requete)"
     ],
     "language": "python",
     "metadata": {},
     "outputs": [
      {
       "output_type": "stream",
       "stream": "stdout",
       "text": [
        "Type\tSpecifique\tsum(sportcorrect)\tcount(*)\n",
        "Autre Generique 53 102\n",
        "Autre Specifique 60 102\n",
        "Sport Generique 61 102\n",
        "Sport Specifique 72 102\n"
       ]
      }
     ],
     "prompt_number": 250
    },
    {
     "cell_type": "code",
     "collapsed": false,
     "input": [
      "#R\u00e9ponses donn\u00e9es par direct et par specifique pour le sport\n",
      "requete=(\n",
      "         \"SELECT sportreponse, direct, specifique, count(*) \"\n",
      "         \"from sportdirectr\u00e9ponses \"\n",
      "         \"group by sportreponse, direct, specifique \"\n",
      "\n",
      "        )"
     ],
     "language": "python",
     "metadata": {},
     "outputs": [],
     "prompt_number": 251
    },
    {
     "cell_type": "code",
     "collapsed": false,
     "input": [
      "lanceRequete(requete)"
     ],
     "language": "python",
     "metadata": {},
     "outputs": [
      {
       "output_type": "stream",
       "stream": "stdout",
       "text": [
        "sportReponse\tDirect\tSpecifique\tcount(*)\n",
        "0 Commentaire Generique 55\n",
        "0 Commentaire Specifique 55\n",
        "0 Description Generique 39\n",
        "0 Description Specifique 35\n",
        "1 Commentaire Generique 47\n",
        "1 Commentaire Specifique 47\n",
        "1 Description Generique 63\n",
        "1 Description Specifique 67\n"
       ]
      }
     ],
     "prompt_number": 252
    },
    {
     "cell_type": "code",
     "collapsed": false,
     "input": [
      "#R\u00e9ponses correctes par direct et par specifique pour le sport\n",
      "requete=(\n",
      "         \"SELECT type, direct, specifique, sum(sportcorrect), count(*) \"\n",
      "         \"from sportdirectr\u00e9ponses \"\n",
      "         \"group by type, direct, specifique \"\n",
      "\n",
      "        )"
     ],
     "language": "python",
     "metadata": {},
     "outputs": [],
     "prompt_number": 253
    },
    {
     "cell_type": "code",
     "collapsed": false,
     "input": [
      "lanceRequete(requete)"
     ],
     "language": "python",
     "metadata": {},
     "outputs": [
      {
       "output_type": "stream",
       "stream": "stdout",
       "text": [
        "Type\tDirect\tSpecifique\tsum(sportcorrect)\tcount(*)\n",
        "Autre Commentaire Generique 36 51\n",
        "Autre Commentaire Specifique 40 51\n",
        "Autre Description Generique 17 51\n",
        "Autre Description Specifique 20 51\n",
        "Sport Commentaire Generique 32 51\n",
        "Sport Commentaire Specifique 36 51\n",
        "Sport Description Generique 29 51\n",
        "Sport Description Specifique 36 51\n"
       ]
      }
     ],
     "prompt_number": 254
    },
    {
     "cell_type": "code",
     "collapsed": false,
     "input": [
      "#donn\u00e9es g\u00e9n\u00e9ral pour le sport\n",
      "requete=(\n",
      "         \"SELECT sum(correct), count(*) \"\n",
      "         \"from sportr\u00e9ponses \"\n",
      "#         \"group by autre \"\n",
      "\n",
      "        )"
     ],
     "language": "python",
     "metadata": {},
     "outputs": [],
     "prompt_number": 259
    },
    {
     "cell_type": "code",
     "collapsed": false,
     "input": [
      "lanceRequete(requete)"
     ],
     "language": "python",
     "metadata": {},
     "outputs": [
      {
       "output_type": "stream",
       "stream": "stdout",
       "text": [
        "sum(correct)\tcount(*)\n",
        "110 204\n"
       ]
      }
     ],
     "prompt_number": 260
    },
    {
     "cell_type": "code",
     "collapsed": false,
     "input": [
      "#donn\u00e9es par direct pour le sport\n",
      "requete=(\n",
      "         \"SELECT direct, sum(correct), count(*) \"\n",
      "         \"from sportr\u00e9ponses \"\n",
      "         \"group by direct \"\n",
      "\n",
      "        )"
     ],
     "language": "python",
     "metadata": {},
     "outputs": [],
     "prompt_number": 261
    },
    {
     "cell_type": "code",
     "collapsed": false,
     "input": [
      "lanceRequete(requete)"
     ],
     "language": "python",
     "metadata": {},
     "outputs": [
      {
       "output_type": "stream",
       "stream": "stdout",
       "text": [
        "Direct\tsum(correct)\tcount(*)\n",
        "Commentaire 69 102\n",
        "Description 41 102\n"
       ]
      }
     ],
     "prompt_number": 262
    },
    {
     "cell_type": "code",
     "collapsed": false,
     "input": [
      "#donn\u00e9es par specifique pour le sport\n",
      "requete=(\n",
      "         \"SELECT specifique, sum(correct), count(*) \"\n",
      "         \"from sportr\u00e9ponses \"\n",
      "         \"group by specifique \"\n",
      "\n",
      "        )"
     ],
     "language": "python",
     "metadata": {},
     "outputs": [],
     "prompt_number": 263
    },
    {
     "cell_type": "code",
     "collapsed": false,
     "input": [
      "lanceRequete(requete)"
     ],
     "language": "python",
     "metadata": {},
     "outputs": [
      {
       "output_type": "stream",
       "stream": "stdout",
       "text": [
        "Specifique\tsum(correct)\tcount(*)\n",
        "Generique 56 102\n",
        "Specifique 54 102\n"
       ]
      }
     ],
     "prompt_number": 264
    },
    {
     "cell_type": "code",
     "collapsed": false,
     "input": [
      "#donn\u00e9es par direct et par specifique pour le sport\n",
      "requete=(\n",
      "         \"SELECT direct, specifique, sum(correct), count(*) \"\n",
      "         \"from sportr\u00e9ponses \"\n",
      "         \"group by direct, specifique \"\n",
      "\n",
      "        )"
     ],
     "language": "python",
     "metadata": {},
     "outputs": [],
     "prompt_number": 265
    },
    {
     "cell_type": "code",
     "collapsed": false,
     "input": [
      "lanceRequete(requete)"
     ],
     "language": "python",
     "metadata": {},
     "outputs": [
      {
       "output_type": "stream",
       "stream": "stdout",
       "text": [
        "Direct\tSpecifique\tsum(correct)\tcount(*)\n",
        "Commentaire Generique 37 51\n",
        "Commentaire Specifique 32 51\n",
        "Description Generique 19 51\n",
        "Description Specifique 22 51\n"
       ]
      }
     ],
     "prompt_number": 266
    },
    {
     "cell_type": "code",
     "collapsed": false,
     "input": [
      "#donn\u00e9es g\u00e9n\u00e9ral pour le direct\n",
      "requete=(\n",
      "         \"SELECT sum(correct), count(*) \"\n",
      "         \"from directr\u00e9ponses \"\n",
      "        )"
     ],
     "language": "python",
     "metadata": {},
     "outputs": [],
     "prompt_number": 267
    },
    {
     "cell_type": "code",
     "collapsed": false,
     "input": [
      "lanceRequete(requete)"
     ],
     "language": "python",
     "metadata": {},
     "outputs": [
      {
       "output_type": "stream",
       "stream": "stdout",
       "text": [
        "sum(correct)\tcount(*)\n",
        "129 204\n"
       ]
      }
     ],
     "prompt_number": 268
    },
    {
     "cell_type": "code",
     "collapsed": false,
     "input": [
      "#donn\u00e9es par sport pour le direct\n",
      "requete=(\n",
      "         \"SELECT type, sum(correct), count(*) \"\n",
      "         \"from directr\u00e9ponses \"\n",
      "         \"group by type \"\n",
      "\n",
      "        )"
     ],
     "language": "python",
     "metadata": {},
     "outputs": [],
     "prompt_number": 271
    },
    {
     "cell_type": "code",
     "collapsed": false,
     "input": [
      "lanceRequete(requete)"
     ],
     "language": "python",
     "metadata": {},
     "outputs": [
      {
       "output_type": "stream",
       "stream": "stdout",
       "text": [
        "Type\tsum(correct)\tcount(*)\n",
        "Autre 72 102\n",
        "Sport 57 102\n"
       ]
      }
     ],
     "prompt_number": 272
    },
    {
     "cell_type": "code",
     "collapsed": false,
     "input": [
      "#donn\u00e9es par specifique pour le direct\n",
      "requete=(\n",
      "         \"SELECT specifique, sum(correct), count(*) \"\n",
      "         \"from directr\u00e9ponses \"\n",
      "         \"group by specifique \"\n",
      "\n",
      "        )"
     ],
     "language": "python",
     "metadata": {},
     "outputs": [],
     "prompt_number": 269
    },
    {
     "cell_type": "code",
     "collapsed": false,
     "input": [
      "lanceRequete(requete)"
     ],
     "language": "python",
     "metadata": {},
     "outputs": [
      {
       "output_type": "stream",
       "stream": "stdout",
       "text": [
        "Specifique\tsum(correct)\tcount(*)\n",
        "Generique 62 102\n",
        "Specifique 67 102\n"
       ]
      }
     ],
     "prompt_number": 270
    },
    {
     "cell_type": "code",
     "collapsed": false,
     "input": [
      "#donn\u00e9es par sport et par specifique pour le direct\n",
      "requete=(\n",
      "         \"SELECT type, specifique, sum(correct), count(*) \"\n",
      "         \"from directr\u00e9ponses \"\n",
      "         \"group by type, specifique \"\n",
      "\n",
      "        )"
     ],
     "language": "python",
     "metadata": {},
     "outputs": [],
     "prompt_number": 273
    },
    {
     "cell_type": "code",
     "collapsed": false,
     "input": [
      "lanceRequete(requete)"
     ],
     "language": "python",
     "metadata": {},
     "outputs": [
      {
       "output_type": "stream",
       "stream": "stdout",
       "text": [
        "Type\tSpecifique\tsum(correct)\tcount(*)\n",
        "Autre Generique 39 51\n",
        "Autre Specifique 33 51\n",
        "Sport Generique 23 51\n",
        "Sport Specifique 34 51\n"
       ]
      }
     ],
     "prompt_number": 274
    },
    {
     "cell_type": "code",
     "collapsed": false,
     "input": [
      "#donn\u00e9es par sport pour le sport\n",
      "requete=(\n",
      "         \"SELECT sport, sum(correct), count(*) \"\n",
      "         \"from sportr\u00e9ponses \"\n",
      "         \"group by sport \"\n",
      "\n",
      "        )"
     ],
     "language": "python",
     "metadata": {},
     "outputs": [],
     "prompt_number": 275
    },
    {
     "cell_type": "code",
     "collapsed": false,
     "input": [
      "lanceRequete(requete)"
     ],
     "language": "python",
     "metadata": {},
     "outputs": [
      {
       "output_type": "stream",
       "stream": "stdout",
       "text": [
        "sport\tsum(correct)\tcount(*)\n",
        "Course 20 51\n",
        "Foot 54 102\n",
        "Rugby 36 51\n"
       ]
      }
     ],
     "prompt_number": 276
    },
    {
     "cell_type": "code",
     "collapsed": false,
     "input": [
      "#donn\u00e9es par autre pour le sport\n",
      "requete=(\n",
      "         \"SELECT autre, sum(correct), count(*) \"\n",
      "         \"from sportr\u00e9ponses \"\n",
      "         \"group by autre \"\n",
      "\n",
      "        )"
     ],
     "language": "python",
     "metadata": {},
     "outputs": [],
     "prompt_number": 277
    },
    {
     "cell_type": "code",
     "collapsed": false,
     "input": [
      "lanceRequete(requete)"
     ],
     "language": "python",
     "metadata": {},
     "outputs": [
      {
       "output_type": "stream",
       "stream": "stdout",
       "text": [
        "autre\tsum(correct)\tcount(*)\n",
        "Election 61 102\n",
        "Journal 7 18\n",
        "Magazine 42 84\n"
       ]
      }
     ],
     "prompt_number": 278
    },
    {
     "cell_type": "code",
     "collapsed": false,
     "input": [
      "#donn\u00e9es par sport et par autre pour le sport\n",
      "requete=(\n",
      "         \"SELECT sport, autre, sum(correct), count(*) \"\n",
      "         \"from sportr\u00e9ponses \"\n",
      "         \"group by sport, autre \"\n",
      "\n",
      "        )"
     ],
     "language": "python",
     "metadata": {},
     "outputs": [],
     "prompt_number": 279
    },
    {
     "cell_type": "code",
     "collapsed": false,
     "input": [
      "lanceRequete(requete)"
     ],
     "language": "python",
     "metadata": {},
     "outputs": [
      {
       "output_type": "stream",
       "stream": "stdout",
       "text": [
        "sport\tautre\tsum(correct)\tcount(*)\n",
        "Course Election 6 18\n",
        "Course Journal 7 18\n",
        "Course Magazine 7 15\n",
        "Foot Election 31 51\n",
        "Foot Magazine 23 51\n",
        "Rugby Election 24 33\n",
        "Rugby Magazine 12 18\n"
       ]
      }
     ],
     "prompt_number": 280
    },
    {
     "cell_type": "code",
     "collapsed": false,
     "input": [
      "#donn\u00e9es par sport et par direct pour le sport\n",
      "requete=(\n",
      "         \"SELECT sport, direct, sum(correct), count(*) \"\n",
      "         \"from sportr\u00e9ponses \"\n",
      "         \"group by sport, direct \"\n",
      "\n",
      "        )"
     ],
     "language": "python",
     "metadata": {},
     "outputs": [],
     "prompt_number": 8
    },
    {
     "cell_type": "code",
     "collapsed": false,
     "input": [
      "lanceRequete(requete)"
     ],
     "language": "python",
     "metadata": {},
     "outputs": [
      {
       "output_type": "stream",
       "stream": "stdout",
       "text": [
        "sport\tDirect\tsum(correct)\tcount(*)\n",
        "Course Description 20 51\n",
        "Foot Commentaire 33 51\n",
        "Foot Description 21 51\n",
        "Rugby Commentaire 36 51\n"
       ]
      }
     ],
     "prompt_number": 9
    },
    {
     "cell_type": "code",
     "collapsed": false,
     "input": [
      "requeteRappel=(\n",
      "         \"SELECT %s, sum(correct) correctes, count(*) items \"\n",
      "         \"from sportr\u00e9ponses \"\n",
      "         \"group by %s \"\n",
      "\n",
      "        )\n",
      "grRappelSport=[\n",
      "        \"sport\", \"autre\", \"sport, autre\", \"sport, direct\", \"sport, specifique\"\n",
      "        ]\n",
      "\n",
      "for groupe in grRappelSport:\n",
      "    requete=requeteRappel % (groupe, groupe)\n",
      "    print groupe\n",
      "    lanceRequete(requete)\n",
      "    print"
     ],
     "language": "python",
     "metadata": {},
     "outputs": [
      {
       "output_type": "stream",
       "stream": "stdout",
       "text": [
        "sport\n",
        "sport\tcorrectes\titems\n",
        "Course\t20\t51\n",
        "Foot\t54\t102\n",
        "Rugby\t36\t51\n",
        "\n",
        "autre\n",
        "autre\tcorrectes\titems\n",
        "Election\t61\t102\n",
        "Journal\t7\t18\n",
        "Magazine\t42\t84\n",
        "\n",
        "sport, autre\n",
        "sport\tautre\tcorrectes\titems\n",
        "Course\tElection\t6\t18\n",
        "Course\tJournal\t7\t18\n",
        "Course\tMagazine\t7\t15\n",
        "Foot\tElection\t31\t51\n",
        "Foot\tMagazine\t23\t51\n",
        "Rugby\tElection\t24\t33\n",
        "Rugby\tMagazine\t12\t18\n",
        "\n",
        "sport, direct\n",
        "sport\tDirect\tcorrectes\titems\n",
        "Course\tDescription\t20\t51\n",
        "Foot\tCommentaire\t33\t51\n",
        "Foot\tDescription\t21\t51\n",
        "Rugby\tCommentaire\t36\t51\n",
        "\n",
        "sport, specifique\n",
        "sport\tSpecifique\tcorrectes\titems\n",
        "Course\tGenerique\t13\t33\n",
        "Course\tSpecifique\t7\t18\n",
        "Foot\tGenerique\t18\t36\n",
        "Foot\tSpecifique\t36\t66\n",
        "Rugby\tGenerique\t25\t33\n",
        "Rugby\tSpecifique\t11\t18\n",
        "\n"
       ]
      }
     ],
     "prompt_number": 16
    },
    {
     "cell_type": "code",
     "collapsed": false,
     "input": [
      "requetePrecisionSportDirect=(\n",
      "         \"SELECT %s, sum(sportcorrect) correctes, count(*) items \"\n",
      "         \"from sportdirectr\u00e9ponses \"\n",
      "         \"group by %s \"\n",
      "\n",
      "        )\n",
      "\n",
      "grPrecisionSportDirect = [\n",
      "        \"type\", \"direct,type\", \"specifique,type\"\n",
      "]\n",
      "\n",
      "for groupe in grPrecisionSportDirect:\n",
      "    requete=requetePrecisionSportDirect % (groupe, groupe)\n",
      "    print groupe\n",
      "    lanceRequete(requete)\n",
      "    print"
     ],
     "language": "python",
     "metadata": {},
     "outputs": [
      {
       "output_type": "stream",
       "stream": "stdout",
       "text": [
        "type\n",
        "Type\tcorrectes\titems\n",
        "Autre\t113\t204\n",
        "Sport\t133\t204\n",
        "\n",
        "direct,type\n",
        "Direct\tType\tcorrectes\titems\n",
        "Commentaire\tAutre\t76\t102\n",
        "Commentaire\tSport\t68\t102\n",
        "Description\tAutre\t37\t102\n",
        "Description\tSport\t65\t102\n",
        "\n",
        "specifique,type\n",
        "Specifique\tType\tcorrectes\titems\n",
        "Generique\tAutre\t53\t102\n",
        "Generique\tSport\t61\t102\n",
        "Specifique\tAutre\t60\t102\n",
        "Specifique\tSport\t72\t102\n",
        "\n"
       ]
      }
     ],
     "prompt_number": 20
    },
    {
     "cell_type": "code",
     "collapsed": false,
     "input": [],
     "language": "python",
     "metadata": {},
     "outputs": []
    }
   ],
   "metadata": {}
  }
 ]
}