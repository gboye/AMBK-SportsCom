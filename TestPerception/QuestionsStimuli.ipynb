{
 "metadata": {
  "name": "",
  "signature": "sha256:53873af248623c783f06860b88b6886f5cb956190d182f27b4be112707b8b349"
 },
 "nbformat": 3,
 "nbformat_minor": 0,
 "worksheets": [
  {
   "cells": [
    {
     "cell_type": "markdown",
     "metadata": {},
     "source": [
      "##S\u00e9lection du questionnaire \u00e0 g\u00e9n\u00e9rer\n",
      "- le num\u00e9ro de phase correspond \u00e0 celui du fichier de combinaisons"
     ]
    },
    {
     "cell_type": "code",
     "collapsed": false,
     "input": [
      "phase=3"
     ],
     "language": "python",
     "metadata": {},
     "outputs": [],
     "prompt_number": 37
    },
    {
     "cell_type": "markdown",
     "metadata": {},
     "source": [
      "###Importations\n",
      "\n",
      "- **yaml** pour la gestion des tableaux pour les exercices\n",
      "- **codecs** pour la gestion de l'UTF8 dans les fichiers"
     ]
    },
    {
     "cell_type": "code",
     "collapsed": false,
     "input": [
      "import yaml,codecs\n",
      "import random as rd"
     ],
     "language": "python",
     "metadata": {},
     "outputs": [],
     "prompt_number": 38
    },
    {
     "cell_type": "markdown",
     "metadata": {},
     "source": [
      "###Gestion des associations entre stimuli et URL"
     ]
    },
    {
     "cell_type": "code",
     "collapsed": false,
     "input": [
      "shareLien='<a href=\"https://soundcloud.com/linguistique-bordeaux/%s\">son/a>'\n",
      "embedLien='<iframe width=\"100%%\" height=\"166\" scrolling=\"no\" frameborder=\"no\" src=\"https://w.soundcloud.com/player/?url=https%%3A//api.soundcloud.com/tracks/%s&amp;color=ff5500&amp;auto_play=false&amp;hide_related=false&amp;show_comments=true&amp;show_user=true&amp;show_reposts=false\"></iframe>'"
     ],
     "language": "python",
     "metadata": {},
     "outputs": [],
     "prompt_number": 39
    },
    {
     "cell_type": "code",
     "collapsed": false,
     "input": [
      "import csv\n",
      "shareLiens={}\n",
      "embedLiens={}\n",
      "with open('../../../Copy/Recherche/Rugby/Test2/StimuliLiens.csv', 'rb') as csvfile:\n",
      "    associations = csv.reader(csvfile, delimiter=';', quotechar='\"')\n",
      "    for association in associations:\n",
      "        shareLiens[(association[0],association[1],association[2],association[3])]=shareLien%association[4]\n",
      "        if len(association)<6: \n",
      "            numero=\"000000000\"\n",
      "        else:\n",
      "            numero=association[5]\n",
      "        embedLiens[(association[0],association[1],association[2],association[3])]=embedLien%numero"
     ],
     "language": "python",
     "metadata": {},
     "outputs": [],
     "prompt_number": 40
    },
    {
     "cell_type": "markdown",
     "metadata": {},
     "source": [
      "###Chargement du module eCloze/MoodleXML.py\n",
      "\n",
      "- le module **imp** permet de charger un module python directement \u00e0 partir de l'adresse du fichier"
     ]
    },
    {
     "cell_type": "code",
     "collapsed": false,
     "input": [
      "import imp\n",
      "moodle=imp.load_source('MoodleXML', '../../eCloze/MoodleXML.py')"
     ],
     "language": "python",
     "metadata": {},
     "outputs": [],
     "prompt_number": 41
    },
    {
     "cell_type": "markdown",
     "metadata": {},
     "source": [
      "###D\u00e9finition des deux fois trois s\u00e9ries de stimuli\n",
      "\n",
      "- Trois pour le sport :\n",
      " 1. Rugby\n",
      " 1. Foot\n",
      " 1. Course\n",
      "- Trois pour le non-sport :\n",
      " 1. Journal t\u00e9l\u00e9vis\u00e9\n",
      " 1. Magazine sportif\n",
      " 1. Soir\u00e9e \u00e9lectorale 2007"
     ]
    },
    {
     "cell_type": "code",
     "collapsed": false,
     "input": [
      "noms={\"Sport\":[\"Rugby\",\"Foot\",\"Course\"],\"Autre\":[\"Journal\",\"Magazine\",\"Election\"]}"
     ],
     "language": "python",
     "metadata": {},
     "outputs": [],
     "prompt_number": 42
    },
    {
     "cell_type": "markdown",
     "metadata": {},
     "source": [
      "###D\u00e9finition des oppositions"
     ]
    },
    {
     "cell_type": "code",
     "collapsed": false,
     "input": [
      "grille={\"Sport\":[\"Sport\",\"Autre\"],\"Description\":[\"Description\",\"Commentaire\"],\"Specifique\":[\"Specifique\",\"Generique\"]}\n",
      "oppositions={\"Description\":[\"Description\",\"Commentaire\"],\"Specifique\":[\"Specifique\",\"Generique\"]}"
     ],
     "language": "python",
     "metadata": {},
     "outputs": [],
     "prompt_number": 43
    },
    {
     "cell_type": "markdown",
     "metadata": {},
     "source": [
      "###D\u00e9finition des consignes\n",
      "- les consignes Sport et Desc ont deux champs \u00e0 remplir pour les URL des stimuli\n",
      "- la consigne Uniques a un champ \u00e0 remplir pour l'URL du stimuli"
     ]
    },
    {
     "cell_type": "code",
     "collapsed": false,
     "input": [
      "consigneSport=  u'''<table align=\"center\" border=\"0\">\n",
      "                <tbody>\n",
      "                    <tr>\n",
      "                        <td>%s</td>\n",
      "                        <td>%s</td>\n",
      "                    </tr>\n",
      "                    <tr>\n",
      "                        <td style=\"text-align: center;\">1</td>\n",
      "                        <td style=\"text-align: center;\">2</td>\n",
      "                    </tr>\n",
      "                </tbody>\n",
      "            </table>\n",
      "            <p>\u00c9coutez les deux extraits. (Attention de ne pas cliquer sur Play another track !)</p>\n",
      "            <p>Apr\u00e8s les avoir \u00e9cout\u00e9s, s\u00e9lectionnez celui qui vous semble correspondre \u00e0 du commentaire sportif.<br />\n",
      "            {1:MCV:=1~=2}</p>'''\n",
      "\n",
      "consigneDesc=  u'''<table align=\"center\" border=\"0\">\n",
      "                <tbody>\n",
      "                    <tr>\n",
      "                        <td>%s</td>\n",
      "                        <td>%s</td>\n",
      "                    </tr>\n",
      "                    <tr>\n",
      "                        <td style=\"text-align: center;\">1</td>\n",
      "                        <td style=\"text-align: center;\">2</td>\n",
      "                    </tr>\n",
      "                </tbody>\n",
      "            </table>\n",
      "            <p>\u00c9coutez les deux extraits. (Attention de ne pas cliquer sur Play another track !)</p>\n",
      "            <p>Apr\u00e8s les avoir \u00e9cout\u00e9s, s\u00e9lectionnez celui qui vous semble correspondre \u00e0 de la description directe.<br />\n",
      "            {1:MCV:=1~=2}</p>'''\n",
      "\n",
      "consigneUniques=  u'''<table align=\"center\" border=\"0\">\n",
      "                <tbody>\n",
      "                    <tr>\n",
      "                        <td>%s</td>\n",
      "                    </tr>\n",
      "                    <tr>\n",
      "                        <td style=\"text-align: center;\">1</td>\n",
      "                    </tr>\n",
      "                </tbody>\n",
      "            </table>\n",
      "            <p>\u00c9coutez l'extrait. (Attention de ne pas cliquer sur Play another track !)</p>\n",
      "            <p>Apr\u00e8s avoir \u00e9cout\u00e9, r\u00e9pondez aux deux questions.<br />\n",
      "            S'agit-il d'un commentaire sportif ? : {1:MCV:=Oui~=Non}<br />\n",
      "            Est-ce que le locuteur semble d\u00e9crire directement ce qu'il voit ? : {1:MCV:=Oui~=Non}</p>'''"
     ],
     "language": "python",
     "metadata": {},
     "outputs": [],
     "prompt_number": 44
    },
    {
     "cell_type": "markdown",
     "metadata": {},
     "source": [
      "###Gestion de l'ordre de pr\u00e9sentation des paires\n",
      "- quatre paires pour le sport\n",
      "- quatre paires pour les commentaires\n",
      "\n",
      "random.shuffle m\u00e9lange l'int\u00e9rieur de la liste (attention, la fonction renvoie **None**)"
     ]
    },
    {
     "cell_type": "code",
     "collapsed": false,
     "input": [
      "ordreSport=[(0,1),(0,1),(1,0),(1,0)]\n",
      "ordreDesc=[(0,1),(0,1),(1,0),(1,0)]\n",
      "rd.shuffle(ordreSport)\n",
      "rd.shuffle(ordreDesc)\n",
      "print ordreSport\n",
      "print ordreDesc"
     ],
     "language": "python",
     "metadata": {},
     "outputs": [
      {
       "output_type": "stream",
       "stream": "stdout",
       "text": [
        "[(0, 1), (0, 1), (1, 0), (1, 0)]\n",
        "[(1, 0), (1, 0), (0, 1), (0, 1)]\n"
       ]
      }
     ],
     "prompt_number": 45
    },
    {
     "cell_type": "markdown",
     "metadata": {},
     "source": [
      "###Gestion des combinaisons"
     ]
    },
    {
     "cell_type": "code",
     "collapsed": false,
     "input": [
      "fichierCombinaisons='combinaisons'+str(phase)+'.yaml'\n",
      "with open(fichierCombinaisons, 'r') as yaml_file:\n",
      "    questions=yaml.load(yaml_file)\n",
      "#for question in questions:\n",
      "#    print question\n",
      "#    for el in questions[question]:\n",
      "#        print el"
     ],
     "language": "python",
     "metadata": {},
     "outputs": [],
     "prompt_number": 46
    },
    {
     "cell_type": "markdown",
     "metadata": {},
     "source": [
      "###G\u00e9n\u00e9ration d'un questionnaire"
     ]
    },
    {
     "cell_type": "code",
     "collapsed": false,
     "input": [
      "questionnaire=moodle.MoodleXML()\n",
      "\n",
      "uniquesClozes=moodle.XMLClozes(\"Perception/Classement/Absolu\")\n",
      "for element in questions[\"Uniques\"]:\n",
      "    elStim=(element[0],element[1],element[2],element[3])\n",
      "    lien=embedLiens[elStim]\n",
      "    titre=element[0][0]+element[1][0]+element[2][0]+element[3][0]\n",
      "    uniquesClozes.addExercice(moodle.ClozeExercice(titre,consigneUniques%(lien)))\n",
      "questionnaire.addQuiz(uniquesClozes.getClozes())"
     ],
     "language": "python",
     "metadata": {},
     "outputs": [],
     "prompt_number": 47
    },
    {
     "cell_type": "code",
     "collapsed": false,
     "input": [
      "def makeSigle(quadruplet):\n",
      "    return quadruplet[0][0]+quadruplet[1][0]+quadruplet[2][0]+quadruplet[3][0]"
     ],
     "language": "python",
     "metadata": {},
     "outputs": [],
     "prompt_number": 48
    },
    {
     "cell_type": "code",
     "collapsed": false,
     "input": [
      "sportClozes=moodle.XMLClozes(\"Perception/Classement/Sport\")\n",
      "for i,element in enumerate(questions[\"Sport\"]):\n",
      "    (autre,sport)=element\n",
      "    sport1=element[ordreSport[i][0]]\n",
      "    sport2=element[ordreSport[i][1]]\n",
      "    elStimSport1=(sport1[0],sport1[1],sport1[2],sport1[3])\n",
      "    elStimSport2=(sport2[0],sport2[1],sport2[2],sport2[3])\n",
      "    lienSport1=embedLiens[elStimSport1]\n",
      "    lienSport2=embedLiens[elStimSport2]\n",
      "    titre=makeSigle(elStimSport1)+\" vs \"+makeSigle(elStimSport2)\n",
      "    print titre\n",
      "    sportClozes.addExercice(moodle.ClozeExercice(titre,consigneSport%(lienSport1,lienSport2)))\n",
      "questionnaire.addQuiz(sportClozes.getClozes())"
     ],
     "language": "python",
     "metadata": {},
     "outputs": [
      {
       "output_type": "stream",
       "stream": "stdout",
       "text": [
        "MADS vs FSDS\n",
        "EACS vs RSCS\n",
        "CSDG vs EADG\n",
        "RSCG vs MACG\n"
       ]
      }
     ],
     "prompt_number": 49
    },
    {
     "cell_type": "code",
     "collapsed": false,
     "input": [
      "descClozes=moodle.XMLClozes(\"Perception/Classement/Description\")\n",
      "for i,element in enumerate(questions[\"Description\"]):\n",
      "    (desc,comm)=element\n",
      "    desc1=element[ordreDesc[i][0]]\n",
      "    desc2=element[ordreDesc[i][1]]\n",
      "    elStimDesc1=(desc1[0],desc1[1],desc1[2],desc1[3])\n",
      "    elStimDesc2=(desc2[0],desc2[1],desc2[2],desc2[3])\n",
      "    lienDesc1=embedLiens[elStimDesc1]\n",
      "    lienDesc2=embedLiens[elStimDesc2]\n",
      "    titre=makeSigle(elStimDesc1)+\" vs \"+makeSigle(elStimDesc2)\n",
      "    print titre\n",
      "    descClozes.addExercice(moodle.ClozeExercice(titre,consigneDesc%(lienDesc1,lienDesc2)))\n",
      "questionnaire.addQuiz(descClozes.getClozes())"
     ],
     "language": "python",
     "metadata": {},
     "outputs": [
      {
       "output_type": "stream",
       "stream": "stdout",
       "text": [
        "CSCS vs CSDS\n",
        "FSCG vs FSDG\n",
        "EADS vs MACS\n",
        "JADG vs JACG\n"
       ]
      }
     ],
     "prompt_number": 50
    },
    {
     "cell_type": "markdown",
     "metadata": {},
     "source": [
      "###\u00c9criture du questionnaire au format Moodle XML"
     ]
    },
    {
     "cell_type": "code",
     "collapsed": false,
     "input": [
      "fichierXML='questionnaire'+str(phase)+'.xml'\n",
      "with codecs.open(fichierXML, 'w',\"utf8\") as output:\n",
      "    output.write(questionnaire.getXML())"
     ],
     "language": "python",
     "metadata": {},
     "outputs": [],
     "prompt_number": 51
    }
   ],
   "metadata": {}
  }
 ]
}