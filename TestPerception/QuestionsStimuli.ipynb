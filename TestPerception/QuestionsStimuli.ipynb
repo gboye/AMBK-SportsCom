{
 "metadata": {
  "name": "",
  "signature": "sha256:77f3ebe361bd38d5fcb621f6f28683dcee44e05885c796dfb545ebe6c7747564"
 },
 "nbformat": 3,
 "nbformat_minor": 0,
 "worksheets": [
  {
   "cells": [
    {
     "cell_type": "markdown",
     "metadata": {},
     "source": [
      "##S\u00e9lection du questionnaire \u00e0 g\u00e9n\u00e9rer\n",
      "- le num\u00e9ro de phase correspond \u00e0 celui du fichier de combinaisons"
     ]
    },
    {
     "cell_type": "code",
     "collapsed": false,
     "input": [
      "phase=3"
     ],
     "language": "python",
     "metadata": {},
     "outputs": [],
     "prompt_number": 152
    },
    {
     "cell_type": "markdown",
     "metadata": {},
     "source": [
      "###Importations\n",
      "\n",
      "- **yaml** pour la gestion des tableaux pour les exercices\n",
      "- **codecs** pour la gestion de l'UTF8 dans les fichiers"
     ]
    },
    {
     "cell_type": "code",
     "collapsed": false,
     "input": [
      "import yaml,codecs"
     ],
     "language": "python",
     "metadata": {},
     "outputs": [],
     "prompt_number": 153
    },
    {
     "cell_type": "markdown",
     "metadata": {},
     "source": [
      "###Gestion des associations entre stimuli et URL"
     ]
    },
    {
     "cell_type": "code",
     "collapsed": false,
     "input": [
      "import csv\n",
      "liens={}\n",
      "with open('../../../Copy/Recherche/Rugby/Test2/StimuliLiens.csv', 'rb') as csvfile:\n",
      "    associations = csv.reader(csvfile, delimiter=';', quotechar='\"')\n",
      "    for association in associations:\n",
      "        liens[(association[0],association[1],association[2],association[3])]=association[4]"
     ],
     "language": "python",
     "metadata": {},
     "outputs": [],
     "prompt_number": 154
    },
    {
     "cell_type": "markdown",
     "metadata": {},
     "source": [
      "###Chargement du module eCloze/MoodleXML.py\n",
      "\n",
      "- le module **imp** permet de charger un module python directement \u00e0 partir de l'adresse du fichier"
     ]
    },
    {
     "cell_type": "code",
     "collapsed": false,
     "input": [
      "import imp\n",
      "moodle=imp.load_source('MoodleXML', '../../eCloze/MoodleXML.py')"
     ],
     "language": "python",
     "metadata": {},
     "outputs": [],
     "prompt_number": 155
    },
    {
     "cell_type": "markdown",
     "metadata": {},
     "source": [
      "###D\u00e9finition des deux fois trois s\u00e9ries de stimuli\n",
      "\n",
      "- Trois pour le sport :\n",
      " 1. Rugby\n",
      " 1. Foot\n",
      " 1. Course\n",
      "- Trois pour le non-sport :\n",
      " 1. Journal t\u00e9l\u00e9vis\u00e9\n",
      " 1. Magazine sportif\n",
      " 1. Soir\u00e9e \u00e9lectorale 2007"
     ]
    },
    {
     "cell_type": "code",
     "collapsed": false,
     "input": [
      "noms={\"Sport\":[\"Rugby\",\"Foot\",\"Course\"],\"Autre\":[\"Journal\",\"Magazine\",\"Election\"]}"
     ],
     "language": "python",
     "metadata": {},
     "outputs": [],
     "prompt_number": 156
    },
    {
     "cell_type": "markdown",
     "metadata": {},
     "source": [
      "###D\u00e9finition des oppositions"
     ]
    },
    {
     "cell_type": "code",
     "collapsed": false,
     "input": [
      "grille={\"Sport\":[\"Sport\",\"Autre\"],\"Description\":[\"Description\",\"Commentaire\"],\"Specifique\":[\"Specifique\",\"Generique\"]}\n",
      "oppositions={\"Description\":[\"Description\",\"Commentaire\"],\"Specifique\":[\"Specifique\",\"Generique\"]}"
     ],
     "language": "python",
     "metadata": {},
     "outputs": [],
     "prompt_number": 157
    },
    {
     "cell_type": "markdown",
     "metadata": {},
     "source": [
      "###D\u00e9finition des consignes\n",
      "- les consignes Sport et Desc ont deux champs \u00e0 remplir pour les URL des stimuli\n",
      "- la consigne Uniques a un champ \u00e0 remplir pour l'URL du stimuli"
     ]
    },
    {
     "cell_type": "code",
     "collapsed": false,
     "input": [
      "consigneSport=  u'''<p>Ecoutez les deux extraits.</p>\n",
      "            <table align=\"center\" border=\"0\">\n",
      "                <tbody>\n",
      "                    <tr>\n",
      "                        <td><a href=\"%s\">1</a></td>\n",
      "                        <td> <a href=\"%s\">2</a></td>\n",
      "                    </tr>\n",
      "                    <tr>\n",
      "                        <td style=\"text-align: center;\">1</td>\n",
      "                        <td style=\"text-align: center;\">2</td>\n",
      "                    </tr>\n",
      "                </tbody>\n",
      "            </table>\n",
      "            <p>Apr\u00e8s les avoir \u00e9cout\u00e9s, s\u00e9lectionnez celui qui vous semble correspondre \u00e0 du commentaire sportif.<br />\n",
      "            {1:MCV:=1~=2}</p>'''\n",
      "\n",
      "consigneDesc=  u'''<p>Ecoutez les deux extraits.</p>\n",
      "            <table align=\"center\" border=\"0\">\n",
      "                <tbody>\n",
      "                    <tr>\n",
      "                        <td><a href=\"%s\">1</a></td>\n",
      "                        <td> <a href=\"%s\">2</a></td>\n",
      "                    </tr>\n",
      "                    <tr>\n",
      "                        <td style=\"text-align: center;\">1</td>\n",
      "                        <td style=\"text-align: center;\">2</td>\n",
      "                    </tr>\n",
      "                </tbody>\n",
      "            </table>\n",
      "            <p>Apr\u00e8s les avoir \u00e9cout\u00e9s, s\u00e9lectionnez celui qui vous semble correspondre \u00e0 de la description directe.<br />\n",
      "            {1:MCV:=1~=2}</p>'''\n",
      "\n",
      "consigneUniques=  u'''<p>Ecoutez l'extrait.</p>\n",
      "            <table align=\"center\" border=\"0\">\n",
      "                <tbody>\n",
      "                    <tr>\n",
      "                        <td><a href=\"%s\">1</a></td>\n",
      "                    </tr>\n",
      "                    <tr>\n",
      "                        <td style=\"text-align: center;\">1</td>\n",
      "                    </tr>\n",
      "                </tbody>\n",
      "            </table>\n",
      "            <p>Apr\u00e8s avoir \u00e9cout\u00e9, r\u00e9pondez aux deux questions.<br />\n",
      "            S'agit-il d'un commentaire sportif ? : {1:MCV:=Oui~=Non}<br />\n",
      "            Est-ce que le locuteur semble d\u00e9crire directement ce qu'il voit ? : {1:MCV:=Oui~=Non}</p>'''"
     ],
     "language": "python",
     "metadata": {},
     "outputs": [],
     "prompt_number": 158
    },
    {
     "cell_type": "markdown",
     "metadata": {},
     "source": [
      "###Gestion des combinaisons"
     ]
    },
    {
     "cell_type": "code",
     "collapsed": false,
     "input": [
      "fichierCombinaisons='combinaisons'+str(phase)+'.yaml'\n",
      "with open(fichierCombinaisons, 'r') as yaml_file:\n",
      "    questions=yaml.load(yaml_file)"
     ],
     "language": "python",
     "metadata": {},
     "outputs": [],
     "prompt_number": 159
    },
    {
     "cell_type": "markdown",
     "metadata": {},
     "source": [
      "###G\u00e9n\u00e9ration d'un questionnaire"
     ]
    },
    {
     "cell_type": "code",
     "collapsed": false,
     "input": [
      "questionnaire=moodle.MoodleXML()\n",
      "\n",
      "uniquesClozes=moodle.XMLClozes(\"Perception/Classement/Absolu\")\n",
      "for element in questions[\"Uniques\"]:\n",
      "    elStim=(element[0],element[1],element[2],element[3])\n",
      "    lien=liens[elStim]\n",
      "    uniquesClozes.addExercice(moodle.ClozeExercice(\"titre\",consigneUniques%(lien)))\n",
      "questionnaire.addQuiz(uniquesClozes.getClozes())\n",
      "\n",
      "sportClozes=moodle.XMLClozes(\"Perception/Classement/Sport\")\n",
      "for element in questions[\"Sport\"]:\n",
      "    (sport,autre)=element\n",
      "    elStimSport=(sport[0],sport[1],sport[2],sport[3])\n",
      "    elStimAutre=(autre[0],autre[1],autre[2],autre[3])\n",
      "    lienSport=liens[elStimSport]\n",
      "    lienAutre=liens[elStimAutre]\n",
      "    sportClozes.addExercice(moodle.ClozeExercice(\"titre\",consigneSport%(lienSport,lienAutre)))\n",
      "questionnaire.addQuiz(sportClozes.getClozes())\n",
      "\n",
      "descClozes=moodle.XMLClozes(\"Perception/Classement/Description\")\n",
      "for element in questions[\"Description\"]:\n",
      "    (desc,comm)=element\n",
      "    elStimDesc=(desc[0],desc[1],desc[2],desc[3])\n",
      "    elStimComm=(comm[0],comm[1],comm[2],comm[3])\n",
      "    lienDesc=liens[elStimDesc]\n",
      "    lienComm=liens[elStimComm]\n",
      "    descClozes.addExercice(moodle.ClozeExercice(\"titre\",consigneDesc%(lienDesc,lienComm)))\n",
      "questionnaire.addQuiz(descClozes.getClozes())"
     ],
     "language": "python",
     "metadata": {},
     "outputs": [],
     "prompt_number": 160
    },
    {
     "cell_type": "markdown",
     "metadata": {},
     "source": [
      "###\u00c9criture du questionnaire au format Moodle XML"
     ]
    },
    {
     "cell_type": "code",
     "collapsed": false,
     "input": [
      "fichierXML='questionnaire'+str(phase)+'.xml'\n",
      "with codecs.open(fichierXML, 'w',\"utf8\") as output:\n",
      "    output.write(questionnaire.getXML())\n"
     ],
     "language": "python",
     "metadata": {},
     "outputs": [],
     "prompt_number": 161
    }
   ],
   "metadata": {}
  }
 ]
}