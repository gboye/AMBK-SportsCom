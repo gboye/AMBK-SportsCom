{
 "cells": [
  {
   "cell_type": "markdown",
   "metadata": {},
   "source": [
    "##Sélection du questionnaire à générer\n",
    "- le numéro de phase correspond à celui du fichier de combinaisons"
   ]
  },
  {
   "cell_type": "code",
   "execution_count": 127,
   "metadata": {},
   "outputs": [],
   "source": [
    "phase=3"
   ]
  },
  {
   "cell_type": "markdown",
   "metadata": {},
   "source": [
    "###Importations\n",
    "\n",
    "- **yaml** pour la gestion des tableaux pour les exercices\n",
    "- **codecs** pour la gestion de l'UTF8 dans les fichiers"
   ]
  },
  {
   "cell_type": "code",
   "execution_count": 128,
   "metadata": {},
   "outputs": [],
   "source": [
    "import yaml,codecs\n",
    "import random as rd"
   ]
  },
  {
   "cell_type": "markdown",
   "metadata": {},
   "source": [
    "###Gestion des associations entre stimuli et URL"
   ]
  },
  {
   "cell_type": "code",
   "execution_count": 129,
   "metadata": {},
   "outputs": [],
   "source": [
    "shareLien='<a href=\"https://soundcloud.com/linguistique-bordeaux/%s\">son/a>'\n",
    "embedLien='<iframe width=\"100%%\" height=\"166\" scrolling=\"no\" frameborder=\"no\" src=\"https://w.soundcloud.com/player/?url=https%%3A//api.soundcloud.com/tracks/%s&amp;color=ff5500&amp;auto_play=false&amp;hide_related=false&amp;show_comments=true&amp;show_user=true&amp;show_reposts=false\"></iframe>'"
   ]
  },
  {
   "cell_type": "code",
   "execution_count": 130,
   "metadata": {},
   "outputs": [],
   "source": [
    "import csv\n",
    "shareLiens={}\n",
    "embedLiens={}\n",
    "with open('../../../Copy/Recherche/Rugby/Test2/StimuliLiens.csv', 'rb') as csvfile:\n",
    "    associations = csv.reader(csvfile, delimiter=';', quotechar='\"')\n",
    "    for association in associations:\n",
    "        shareLiens[(association[0],association[1],association[2],association[3])]=shareLien%association[4]\n",
    "        if len(association)<6: \n",
    "            numero=\"000000000\"\n",
    "        else:\n",
    "            numero=association[5]\n",
    "        embedLiens[(association[0],association[1],association[2],association[3])]=embedLien%numero"
   ]
  },
  {
   "cell_type": "markdown",
   "metadata": {},
   "source": [
    "###Chargement du module eCloze/MoodleXML.py\n",
    "\n",
    "- le module **imp** permet de charger un module python directement à partir de l'adresse du fichier"
   ]
  },
  {
   "cell_type": "code",
   "execution_count": 131,
   "metadata": {},
   "outputs": [],
   "source": [
    "import imp\n",
    "moodle=imp.load_source('MoodleXML', '../../eCloze/MoodleXML.py')"
   ]
  },
  {
   "cell_type": "markdown",
   "metadata": {},
   "source": [
    "###Définition des deux fois trois séries de stimuli\n",
    "\n",
    "- Trois pour le sport :\n",
    " 1. Rugby\n",
    " 1. Foot\n",
    " 1. Course\n",
    "- Trois pour le non-sport :\n",
    " 1. Journal télévisé\n",
    " 1. Magazine sportif\n",
    " 1. Soirée électorale 2007"
   ]
  },
  {
   "cell_type": "code",
   "execution_count": 132,
   "metadata": {},
   "outputs": [],
   "source": [
    "noms={\"Sport\":[\"Rugby\",\"Foot\",\"Course\"],\"Autre\":[\"Journal\",\"Magazine\",\"Election\"]}"
   ]
  },
  {
   "cell_type": "markdown",
   "metadata": {},
   "source": [
    "###Définition des oppositions"
   ]
  },
  {
   "cell_type": "code",
   "execution_count": 133,
   "metadata": {},
   "outputs": [],
   "source": [
    "grille={\"Sport\":[\"Sport\",\"Autre\"],\"Description\":[\"Description\",\"Commentaire\"],\"Specifique\":[\"Specifique\",\"Generique\"]}\n",
    "oppositions={\"Description\":[\"Description\",\"Commentaire\"],\"Specifique\":[\"Specifique\",\"Generique\"]}"
   ]
  },
  {
   "cell_type": "markdown",
   "metadata": {},
   "source": [
    "###Définition des consignes\n",
    "- les consignes Sport et Desc ont deux champs à remplir pour les URL des stimuli\n",
    "- la consigne Uniques a un champ à remplir pour l'URL du stimuli"
   ]
  },
  {
   "cell_type": "code",
   "execution_count": 134,
   "metadata": {},
   "outputs": [],
   "source": [
    "consigneSport=  u'''<table align=\"center\" border=\"0\">\n",
    "                <tbody>\n",
    "                    <tr>\n",
    "                        <td>%s</td>\n",
    "                        <td>%s</td>\n",
    "                    </tr>\n",
    "                    <tr>\n",
    "                        <td style=\"text-align: center;\">1</td>\n",
    "                        <td style=\"text-align: center;\">2</td>\n",
    "                    </tr>\n",
    "                </tbody>\n",
    "            </table>\n",
    "            <p>Écoutez les deux extraits. (Attention de ne pas cliquer sur Play another track !)</p>\n",
    "            <p>Après les avoir écoutés, sélectionnez celui qui vous semble correspondre à du commentaire sportif.<br />\n",
    "            {1:MCV:=1~=2}</p>'''\n",
    "\n",
    "consigneDesc=  u'''<table align=\"center\" border=\"0\">\n",
    "                <tbody>\n",
    "                    <tr>\n",
    "                        <td>%s</td>\n",
    "                        <td>%s</td>\n",
    "                    </tr>\n",
    "                    <tr>\n",
    "                        <td style=\"text-align: center;\">1</td>\n",
    "                        <td style=\"text-align: center;\">2</td>\n",
    "                    </tr>\n",
    "                </tbody>\n",
    "            </table>\n",
    "            <p>Écoutez les deux extraits. (Attention de ne pas cliquer sur Play another track !)</p>\n",
    "            <p>Après les avoir écoutés, sélectionnez celui qui vous semble correspondre à de la description directe.<br />\n",
    "            {1:MCV:=1~=2}</p>'''\n",
    "\n",
    "consigneUniques=  u'''<table align=\"center\" border=\"0\">\n",
    "                <tbody>\n",
    "                    <tr>\n",
    "                        <td>%s</td>\n",
    "                    </tr>\n",
    "                    <tr>\n",
    "                        <td style=\"text-align: center;\">1</td>\n",
    "                    </tr>\n",
    "                </tbody>\n",
    "            </table>\n",
    "            <p>Écoutez l'extrait. (Attention de ne pas cliquer sur Play another track !)</p>\n",
    "            <p>Après avoir écouté, répondez aux deux questions.<br />\n",
    "            S'agit-il d'un commentaire sportif ? : {1:MCV:=Oui~=Non}<br />\n",
    "            Est-ce que le locuteur semble décrire directement ce qu'il voit ? : {1:MCV:=Oui~=Non}</p>'''"
   ]
  },
  {
   "cell_type": "markdown",
   "metadata": {},
   "source": [
    "###Gestion de l'ordre de présentation des paires\n",
    "- quatre paires pour le sport\n",
    "- quatre paires pour les commentaires\n",
    "\n",
    "random.shuffle mélange l'intérieur de la liste (attention, la fonction renvoie **None**)"
   ]
  },
  {
   "cell_type": "code",
   "execution_count": 135,
   "metadata": {},
   "outputs": [
    {
     "name": "stdout",
     "output_type": "stream",
     "text": [
      "[(1, 0), (0, 1), (1, 0), (0, 1)]\n",
      "[(0, 1), (0, 1), (1, 0), (1, 0)]\n"
     ]
    }
   ],
   "source": [
    "ordreSport=[(0,1),(0,1),(1,0),(1,0)]\n",
    "ordreDesc=[(0,1),(0,1),(1,0),(1,0)]\n",
    "rd.shuffle(ordreSport)\n",
    "rd.shuffle(ordreDesc)\n",
    "print ordreSport\n",
    "print ordreDesc"
   ]
  },
  {
   "cell_type": "markdown",
   "metadata": {},
   "source": [
    "###Gestion des combinaisons"
   ]
  },
  {
   "cell_type": "code",
   "execution_count": 136,
   "metadata": {},
   "outputs": [],
   "source": [
    "fichierCombinaisons='combinaisons'+str(phase)+'.yaml'\n",
    "with open(fichierCombinaisons, 'r') as yaml_file:\n",
    "    questions=yaml.load(yaml_file)\n",
    "#for question in questions:\n",
    "#    print question\n",
    "#    for el in questions[question]:\n",
    "#        print el"
   ]
  },
  {
   "cell_type": "markdown",
   "metadata": {},
   "source": [
    "###Génération d'un questionnaire"
   ]
  },
  {
   "cell_type": "code",
   "execution_count": 137,
   "metadata": {},
   "outputs": [],
   "source": [
    "questionnaire=moodle.MoodleXML()\n",
    "\n",
    "uniquesClozes=moodle.XMLClozes(\"Perception/Questionnaire%s/Absolu\"%phase)\n",
    "for element in questions[\"Uniques\"]:\n",
    "    elStim=(element[0],element[1],element[2],element[3])\n",
    "    lien=embedLiens[elStim]\n",
    "    titre=element[0][0]+element[1][0]+element[2][0]+element[3][0]\n",
    "    uniquesClozes.addExercice(moodle.ClozeExercice(titre,consigneUniques%(lien)))\n",
    "questionnaire.addQuiz(uniquesClozes.getClozes())"
   ]
  },
  {
   "cell_type": "code",
   "execution_count": 138,
   "metadata": {},
   "outputs": [],
   "source": [
    "def makeSigle(quadruplet):\n",
    "    return quadruplet[0][0]+quadruplet[1][0]+quadruplet[2][0]+quadruplet[3][0]"
   ]
  },
  {
   "cell_type": "code",
   "execution_count": 139,
   "metadata": {},
   "outputs": [
    {
     "name": "stdout",
     "output_type": "stream",
     "text": [
      "FSDS vs MADS\n",
      "EACS vs RSCS\n",
      "CSDG vs EADG\n",
      "MACG vs RSCG\n"
     ]
    }
   ],
   "source": [
    "sportClozes=moodle.XMLClozes(\"Perception/Questionnaire%s/Sport\"%phase)\n",
    "for i,element in enumerate(questions[\"Sport\"]):\n",
    "    (autre,sport)=element\n",
    "    sport1=element[ordreSport[i][0]]\n",
    "    sport2=element[ordreSport[i][1]]\n",
    "    elStimSport1=(sport1[0],sport1[1],sport1[2],sport1[3])\n",
    "    elStimSport2=(sport2[0],sport2[1],sport2[2],sport2[3])\n",
    "    lienSport1=embedLiens[elStimSport1]\n",
    "    lienSport2=embedLiens[elStimSport2]\n",
    "    titre=makeSigle(elStimSport1)+\" vs \"+makeSigle(elStimSport2)\n",
    "    print titre\n",
    "    sportClozes.addExercice(moodle.ClozeExercice(titre,consigneSport%(lienSport1,lienSport2)))\n",
    "questionnaire.addQuiz(sportClozes.getClozes())"
   ]
  },
  {
   "cell_type": "code",
   "execution_count": 140,
   "metadata": {},
   "outputs": [
    {
     "name": "stdout",
     "output_type": "stream",
     "text": [
      "CSDS vs CSCS\n",
      "FSDG vs FSCG\n",
      "MACS vs EADS\n",
      "JACG vs JADG\n"
     ]
    }
   ],
   "source": [
    "descClozes=moodle.XMLClozes(\"Perception/Questionnaire%s/Description\"%phase)\n",
    "for i,element in enumerate(questions[\"Description\"]):\n",
    "    (desc,comm)=element\n",
    "    desc1=element[ordreDesc[i][0]]\n",
    "    desc2=element[ordreDesc[i][1]]\n",
    "    elStimDesc1=(desc1[0],desc1[1],desc1[2],desc1[3])\n",
    "    elStimDesc2=(desc2[0],desc2[1],desc2[2],desc2[3])\n",
    "    lienDesc1=embedLiens[elStimDesc1]\n",
    "    lienDesc2=embedLiens[elStimDesc2]\n",
    "    titre=makeSigle(elStimDesc1)+\" vs \"+makeSigle(elStimDesc2)\n",
    "    print titre\n",
    "    descClozes.addExercice(moodle.ClozeExercice(titre,consigneDesc%(lienDesc1,lienDesc2)))\n",
    "questionnaire.addQuiz(descClozes.getClozes())"
   ]
  },
  {
   "cell_type": "markdown",
   "metadata": {},
   "source": [
    "###Écriture du questionnaire au format Moodle XML"
   ]
  },
  {
   "cell_type": "code",
   "execution_count": 141,
   "metadata": {},
   "outputs": [],
   "source": [
    "fichierXML='questionnaire'+str(phase)+'.xml'\n",
    "with codecs.open(fichierXML, 'w',\"utf8\") as output:\n",
    "    output.write(questionnaire.getXML())"
   ]
  }
 ],
 "metadata": {
  "kernelspec": {
   "display_name": "Python 2",
   "language": "python",
   "name": "python2"
  },
  "language_info": {
   "codemirror_mode": {
    "name": "ipython",
    "version": 2
   },
   "file_extension": ".py",
   "mimetype": "text/x-python",
   "name": "python",
   "nbconvert_exporter": "python",
   "pygments_lexer": "ipython2",
   "version": "2.7.15"
  }
 },
 "nbformat": 4,
 "nbformat_minor": 1
}
