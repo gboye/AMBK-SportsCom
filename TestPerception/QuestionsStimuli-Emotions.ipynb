{
 "cells": [
  {
   "cell_type": "markdown",
   "metadata": {},
   "source": [
    "## Sélection du questionnaire à générer\n",
    "- les correspondances sont dans le fichier YAML"
   ]
  },
  {
   "cell_type": "markdown",
   "metadata": {},
   "source": [
    "### Importations\n",
    "\n",
    "- **yaml** pour la gestion des tableaux pour les exercices\n",
    "- **codecs** pour la gestion de l'UTF8 dans les fichiers"
   ]
  },
  {
   "cell_type": "code",
   "execution_count": 1,
   "metadata": {},
   "outputs": [],
   "source": [
    "import yaml,codecs\n",
    "import random as rd"
   ]
  },
  {
   "cell_type": "markdown",
   "metadata": {},
   "source": [
    "### Gestion des associations entre stimuli et URL"
   ]
  },
  {
   "cell_type": "code",
   "execution_count": 2,
   "metadata": {},
   "outputs": [],
   "source": [
    "sonEntete='<p style=\"text-align: center;\">&nbsp;<audio controls=\"true\">'\n",
    "sonLien='<source src=\"%s\">%s</audio>&nbsp;'\n",
    "sonQueue='<br></p>'"
   ]
  },
  {
   "cell_type": "code",
   "execution_count": 3,
   "metadata": {},
   "outputs": [],
   "source": [
    "#shareLien='<a href=\"https://soundcloud.com/linguistique-bordeaux/%s\">son/a>'\n",
    "shareLien='<a href=\"https://soundcloud.com/linguistique-bordeaux/%s-1?in=linguistique-bordeaux/sets/emotionsfrfiltre\">son/a>'\n",
    "embedLien='<iframe width=\"100%%\" height=\"166\" scrolling=\"no\" frameborder=\"no\" src=\"https://w.soundcloud.com/player/?url=https%%3A//api.soundcloud.com/tracks/%s&amp;color=ff5500&amp;auto_play=false&amp;hide_related=false&amp;show_comments=true&amp;show_user=true&amp;show_reposts=false\"></iframe>'"
   ]
  },
  {
   "cell_type": "code",
   "execution_count": 4,
   "metadata": {},
   "outputs": [],
   "source": [
    "with open(\"EmotionsLiensSons.yaml\",\"r\") as inFile:\n",
    "    lienDict=yaml.safe_load(inFile)\n",
    "lienSon=lienDict[\"Humanum\"]"
   ]
  },
  {
   "cell_type": "code",
   "execution_count": 6,
   "metadata": {},
   "outputs": [
    {
     "name": "stdout",
     "output_type": "stream",
     "text": [
      "https://sharedocs.huma-num.fr/wl/?id=IxW8nXILF5AUA2TQ2SC14A8ogURu96hS\n",
      "https://sharedocs.huma-num.fr/wl/?id=9SAqhOAziSomXUdHWM9D8HQcSPpqv6Gn\n",
      "https://sharedocs.huma-num.fr/wl/?id=CbqoV4Pbj1c3R2hgs6IvKenbo0YfRoaK\n",
      "https://sharedocs.huma-num.fr/wl/?id=zgj1rZDECqSN4pdXeq1N4Y5XMUJtgdTt\n",
      "https://sharedocs.huma-num.fr/wl/?id=Fmm7bGm3wctHSV7iUldGFZXS7QDhyULX\n",
      "https://sharedocs.huma-num.fr/wl/?id=bmEsChaMkmMA8n7Yv6nqikyKp2S9nHoM\n",
      "https://sharedocs.huma-num.fr/wl/?id=gGbvBUUAlj9GzIurDir4GkjgK5mAKBA4\n",
      "https://sharedocs.huma-num.fr/wl/?id=7gy9EwUiO3xIfB6SGoZoup8sGtfYSYvk\n",
      "https://sharedocs.huma-num.fr/wl/?id=Ae2HpBN7QxzNnOljExgYV3PSyEYjN7vV\n",
      "https://sharedocs.huma-num.fr/wl/?id=Nrz0I4hIQZdRPCChlTFf0JVQ9hsqTmjb\n",
      "https://sharedocs.huma-num.fr/wl/?id=Gpzs9A3PapTvtwt2NlzVQuiu341SNvBu\n",
      "https://sharedocs.huma-num.fr/wl/?id=1UbolmqebjA5pwVOh8R26TxYsPMPP9uQ\n",
      "https://sharedocs.huma-num.fr/wl/?id=j7jFns1QSQTPJGnGiscvuVzImAscXaRr\n",
      "https://sharedocs.huma-num.fr/wl/?id=Yy45wgQ69Bld01mQan3eCtwkqwdukxFt\n",
      "https://sharedocs.huma-num.fr/wl/?id=jvuh7Cl91jvkpWbumOOS83ldRIvD1wBD\n",
      "https://sharedocs.huma-num.fr/wl/?id=fSGqKg6s4r4oQrPAisnkOQTFZ4HN5wJM\n",
      "https://sharedocs.huma-num.fr/wl/?id=30Xd7ZFZXfROpjmdOiXfl9Ex4VueBV9C\n",
      "https://sharedocs.huma-num.fr/wl/?id=hNKZX2PqZhdcIw6jO3n6fuc6esawmmFF\n",
      "https://sharedocs.huma-num.fr/wl/?id=7MVWPglZWH740n8xoc3mPL4Hte99wLKL\n",
      "https://sharedocs.huma-num.fr/wl/?id=oQ8wSTkBpYmTb0SVDOkFNHXn0RKrKrjS\n",
      "https://sharedocs.huma-num.fr/wl/?id=39EEPrUbG8DoKE0a1cz60c9hX3OjWk7C\n",
      "https://sharedocs.huma-num.fr/wl/?id=SRqn2BCs6xaU6diEjGzLPPxt0l0JLSMw\n",
      "https://sharedocs.huma-num.fr/wl/?id=hdD7NRoShMa8AA0filOC7but9PuYzPUq\n",
      "https://sharedocs.huma-num.fr/wl/?id=uj69yaqqzdWm7IfYaw5Ljt4AqemjDRjr\n",
      "https://sharedocs.huma-num.fr/wl/?id=g6NgGUDEO6WZwTTEmGqFu6DIl0v9V2QH\n",
      "https://sharedocs.huma-num.fr/wl/?id=0hgVn7xB30Bw6m53mcsqTbtvehKvQDbX\n",
      "https://sharedocs.huma-num.fr/wl/?id=A1NdR1DCHqKULWKVjZHeLQPO8O8cIT3J\n",
      "https://sharedocs.huma-num.fr/wl/?id=yLcxBlX2WKFXb8TZClc8fACDcx9sJNrq\n",
      "https://sharedocs.huma-num.fr/wl/?id=JKSJP0rEo40PL26kqVy8fG1Z2SWePP98\n",
      "https://sharedocs.huma-num.fr/wl/?id=HIFzzU5JLfLzerKkB4Md0aUTg9QuQ70s\n",
      "https://sharedocs.huma-num.fr/wl/?id=23PZZuVkyFuq1qX8gcJaSqxyZZXIiT3j\n",
      "https://sharedocs.huma-num.fr/wl/?id=OzQeOSvPqdcGxWFpF82hkpeGDi34FoDG\n",
      "https://sharedocs.huma-num.fr/wl/?id=qvBTL72ulsBgC0AIv6vMToMWMopF6WPw\n",
      "https://sharedocs.huma-num.fr/wl/?id=STQLKIjOIXvUpWFKgmHfsqTroaSeJG1j\n",
      "https://sharedocs.huma-num.fr/wl/?id=bCf5erWZADT6w74RGt1sxJw17vvUccwL\n",
      "https://sharedocs.huma-num.fr/wl/?id=RjVjyfRVQlpLtulK0RIi6mbf5ZrdWFcS\n",
      "https://sharedocs.huma-num.fr/wl/?id=J1PuSwgZIQdzX4oZnNLjLt0M1sDk5VHS\n",
      "https://sharedocs.huma-num.fr/wl/?id=YlhiJxHvHO5tAAQj4blvznp8axiRnGKz\n",
      "https://sharedocs.huma-num.fr/wl/?id=tWXHESs7dC7EDWSh09KT3s7O0nzNMnhe\n",
      "https://sharedocs.huma-num.fr/wl/?id=xjllxwRvfxVe3VEUd9HSOKHzpIxbEOLp\n",
      "https://sharedocs.huma-num.fr/wl/?id=M7AWqlKGmycFS1JI9rBUEVh0eMI3lUms\n",
      "https://sharedocs.huma-num.fr/wl/?id=oLD0oIi2hIMxjatypdPOsM8OGDuaYuGL\n",
      "https://sharedocs.huma-num.fr/wl/?id=wzYYgRA1IDYdrjPCKzusycalHTLUGHBi\n",
      "https://sharedocs.huma-num.fr/wl/?id=Kr2NnnqXG8mDHsvMGfrxNlzHaycavxon\n",
      "https://sharedocs.huma-num.fr/wl/?id=Bq22rQ45hp6cbugxaTHJi0pd9ikirbTe\n",
      "https://sharedocs.huma-num.fr/wl/?id=d8F92lLLGaoFCzo779qw7m0aRXUxrwEm\n",
      "https://sharedocs.huma-num.fr/wl/?id=VHalLNSpvh7rujsa6ZfF4z9eXQc371vZ\n",
      "https://sharedocs.huma-num.fr/wl/?id=TW568Y5ZJ6vEQqIhA1dkizs6U97taELn\n",
      "https://sharedocs.huma-num.fr/wl/?id=3mZhEgbKi93Wg5Gr4Aoxmbbw6RGSmXJy\n",
      "https://sharedocs.huma-num.fr/wl/?id=Sf1yENWZAD481Js8YwERxH51QJa6k1Ta\n",
      "https://sharedocs.huma-num.fr/wl/?id=EkQGdpG0AIarozdZF4KYsKCQBsQlUdLR\n",
      "https://sharedocs.huma-num.fr/wl/?id=x35hkHxMvVz8KIy7mgeWnDnFkgc1WJCZ\n",
      "https://sharedocs.huma-num.fr/wl/?id=6BWtREt8Y15Wf6uzxDARtbGz1gdxMCRd\n",
      "https://sharedocs.huma-num.fr/wl/?id=LNhwION5szGCVMc4zx0HDMwHLpbYr4J5\n",
      "https://sharedocs.huma-num.fr/wl/?id=zaBdwkOJZAdxbshBLOsS6AQ3TXDGxfIO\n",
      "https://sharedocs.huma-num.fr/wl/?id=vxGErd6B2ZRsGr5GO337s7SHvaCn1ywL\n",
      "https://sharedocs.huma-num.fr/wl/?id=j6u2HV0xK5dccyjqHpDWDVXPlbge1mOr\n",
      "https://sharedocs.huma-num.fr/wl/?id=WFZ7fRc6JgjXPGE0F6XAPTwkgT6yNFTI\n",
      "https://sharedocs.huma-num.fr/wl/?id=ix08Ii69rLqGfg3K21zM3bguAGt8ao2W\n",
      "https://sharedocs.huma-num.fr/wl/?id=BDYCXVlUMy4x9JhnwX4yX36gLdrjz38i\n",
      "https://sharedocs.huma-num.fr/wl/?id=P3jj10dBwXegWSfGWYTGahg6oD3E8lup\n",
      "https://sharedocs.huma-num.fr/wl/?id=rLC9c0LAGmNyaWQeBqZD4YJGMSDLV3VJ\n",
      "https://sharedocs.huma-num.fr/wl/?id=jdsM7Pfu8F9iLRrmkoU2TDnUAyYNLPsx\n"
     ]
    }
   ],
   "source": [
    "for langue in [\"frFiltre\",\"jp\",\"fr\"]:\n",
    "    for num in lienSon[langue]:\n",
    "        print lienSon[langue][num]"
   ]
  },
  {
   "cell_type": "markdown",
   "metadata": {},
   "source": [
    "### Chargement du module eCloze/MoodleXML.py\n",
    "\n",
    "- le module **imp** permet de charger un module python directement à partir de l'adresse du fichier"
   ]
  },
  {
   "cell_type": "code",
   "execution_count": 7,
   "metadata": {},
   "outputs": [],
   "source": [
    "import imp\n",
    "moodle=imp.load_source('MoodleXML', '../../eCloze/ToolsMoodleXML.py')"
   ]
  },
  {
   "cell_type": "markdown",
   "metadata": {},
   "source": [
    "### Génération d'un questionnaire"
   ]
  },
  {
   "cell_type": "code",
   "execution_count": 8,
   "metadata": {},
   "outputs": [],
   "source": [
    "sonEntete='<p style=\"text-align: center;\">&nbsp;<audio controls=\"true\">'\n",
    "sonLien='<source src=\"%s\">%s</audio>&nbsp;'\n",
    "sonQueue='<br></p>'\n",
    "\n",
    "consigneUniques=u'''<p style=\"text-align: center;\">\n",
    "            &nbsp;<audio controls=\"true\"><source src=\"%s\">%s</audio>&nbsp;<br>\n",
    "            </p>\n",
    "            <p>Écoutez l'extrait.</p>\n",
    "            <p>Après avoir écouté, répondez aux questions suivantes.<br />\n",
    "            <p>Quel est le degré d'excitation du locuteur ?\n",
    "              <br>pas excité = 1 &lt;———————————————&gt; 5 = très excité\n",
    "              <br>{1:MCH:=&lt;br&gt;1~=&lt;br&gt;2~=&lt;br&gt;3~=&lt;br&gt;4~=&lt;br&gt;5}\n",
    "            </p>\n",
    "\n",
    "            <p>D'après vous, l'émotion que le locuteur exprime est...&nbsp;\n",
    "              <br>très négative = -2 &lt;—————————————&gt; +2 = très positive\n",
    "              <br>{1:MCH:=&lt;br&gt;-2~=&lt;br&gt;-1~=&lt;br&gt;0~=&lt;br&gt;+1~=&lt;br&gt;+2}\n",
    "            </p>\n",
    "\n",
    "            <p>D'après vous, le locuteur exprime une émotion... ?\n",
    "              <br>très faible = 1 &lt;———————————————&gt; 5 = très forte&nbsp;\n",
    "              <br>{1:MCH:=&lt;br&gt;1~=&lt;br&gt;2~=&lt;br&gt;3~=&lt;br&gt;4~=&lt;br&gt;5}\n",
    "            </p>'''"
   ]
  },
  {
   "cell_type": "code",
   "execution_count": 9,
   "metadata": {},
   "outputs": [],
   "source": [
    "questionnaire=moodle.MoodleXML()\n",
    "langues=[\"frFiltre\",\"jp\"]\n",
    "langues=[\"fr\"]\n",
    "for langue in langues:\n",
    "    uniquesClozes=moodle.XMLClozes(\"Perception/Questionnaire/Emotions/%s\"%langue)\n",
    "    for numLien in lienSon[langue]:\n",
    "        titre=langue+\"%02d\"%numLien\n",
    "        lien=lienSon[langue][numLien]\n",
    "        uniquesClozes.addExercice(moodle.ClozeExercice(titre,consigneUniques%(lien,lien)))\n",
    "    questionnaire.addQuiz(uniquesClozes.getClozes())"
   ]
  },
  {
   "cell_type": "markdown",
   "metadata": {},
   "source": [
    "### Écriture du questionnaire au format Moodle XML"
   ]
  },
  {
   "cell_type": "code",
   "execution_count": 10,
   "metadata": {},
   "outputs": [],
   "source": [
    "fichierXML='questionnaire-Emotions2019-fr.xml'\n",
    "with codecs.open(fichierXML, 'w',\"utf8\") as output:\n",
    "    output.write(questionnaire.getXML())"
   ]
  }
 ],
 "metadata": {
  "kernelspec": {
   "display_name": "Python 2",
   "language": "python",
   "name": "python2"
  },
  "language_info": {
   "codemirror_mode": {
    "name": "ipython",
    "version": 2
   },
   "file_extension": ".py",
   "mimetype": "text/x-python",
   "name": "python",
   "nbconvert_exporter": "python",
   "pygments_lexer": "ipython2",
   "version": "2.7.15"
  }
 },
 "nbformat": 4,
 "nbformat_minor": 1
}
