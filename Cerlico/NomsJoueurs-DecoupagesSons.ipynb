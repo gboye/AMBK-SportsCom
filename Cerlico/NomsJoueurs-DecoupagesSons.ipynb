{
 "cells": [
  {
   "cell_type": "code",
   "execution_count": null,
   "metadata": {
    "collapsed": true
   },
   "outputs": [],
   "source": [
    "import re,codecs"
   ]
  },
  {
   "cell_type": "code",
   "execution_count": null,
   "metadata": {
    "collapsed": true
   },
   "outputs": [],
   "source": [
    "fJoueurs=\"NomsJoueurs.txt\"\n",
    "with codecs.open(fJoueurs,\"r\",encoding=\"utf8\") as inFile:\n",
    "    lJoueurs=\"\".join(inFile.readlines())"
   ]
  },
  {
   "cell_type": "code",
   "execution_count": null,
   "metadata": {
    "collapsed": true
   },
   "outputs": [],
   "source": [
    "tEquipes=re.split(u\"\\n(?=.*:)\",lJoueurs)"
   ]
  },
  {
   "cell_type": "code",
   "execution_count": null,
   "metadata": {
    "scrolled": true
   },
   "outputs": [],
   "source": [
    "equipes={}\n",
    "for tEquipe in tEquipes[1:]:\n",
    "    print tEquipe\n",
    "    lEquipe=tEquipe.split(\"\\n\")\n",
    "    nomEquipe=lEquipe[0].split(\":\")[0].strip()\n",
    "    equipes[nomEquipe]={}\n",
    "    equipe=equipes[nomEquipe]\n",
    "    for ligne in lEquipe[1:]:\n",
    "        m=re.match(ur\"(.*)\\t(.*)\",ligne)\n",
    "        if m:\n",
    "            print \"poste\",m.group(1)\n",
    "            print \"joueurs\",m.group(2).split(\",\")\n",
    "            poste=m.group(1).strip()\n",
    "            joueurs=[j.strip() for j in m.group(2).split(\",\") if j.strip()!=\"\"]\n",
    "            if joueurs:\n",
    "                equipe[poste]=joueurs\n",
    "    "
   ]
  },
  {
   "cell_type": "code",
   "execution_count": null,
   "metadata": {
    "collapsed": true
   },
   "outputs": [],
   "source": [
    "def getJoueurs(pays):\n",
    "    result=[]\n",
    "    for k,v in equipes[pays].iteritems():\n",
    "        result.extend(v)\n",
    "        result=[j.replace(\"(cap.)\",\"\").strip() for j in result]\n",
    "    return result"
   ]
  },
  {
   "cell_type": "code",
   "execution_count": null,
   "metadata": {
    "collapsed": true
   },
   "outputs": [],
   "source": [
    "joueursFr=getJoueurs(\"France\")\n",
    "joueursAr=getJoueurs(\"Argentine\")"
   ]
  },
  {
   "cell_type": "code",
   "execution_count": null,
   "metadata": {},
   "outputs": [],
   "source": [
    "prenomsFr=set()\n",
    "nomsFr=set()\n",
    "for j in joueursFr:\n",
    "    prenom,nom=j.split(\" \",1)\n",
    "    prenomsFr.add(prenom)\n",
    "    nomsFr.add(nom)\n",
    "prenomsFr,nomsFr   "
   ]
  },
  {
   "cell_type": "code",
   "execution_count": null,
   "metadata": {},
   "outputs": [],
   "source": [
    "prenomsAr=set()\n",
    "nomsAr=set()\n",
    "for j in joueursAr:\n",
    "    prenom,nom=j.split(\" \",1)\n",
    "    prenomsAr.add(prenom)\n",
    "    nomsAr.add(nom)\n",
    "prenomsAr,nomsAr   "
   ]
  },
  {
   "cell_type": "code",
   "execution_count": null,
   "metadata": {
    "collapsed": true
   },
   "outputs": [],
   "source": [
    "coordJoueursFr=u\"|\".join(prenomsFr|nomsFr)\n",
    "coordJoueursAr=u\"|\".join(prenomsAr|nomsAr)\n",
    "regexJoueurs=u\"(%s|%s)\"%(coordJoueursFr,coordJoueursAr)"
   ]
  },
  {
   "cell_type": "code",
   "execution_count": null,
   "metadata": {},
   "outputs": [],
   "source": [
    "print regexJoueurs"
   ]
  },
  {
   "cell_type": "code",
   "execution_count": null,
   "metadata": {
    "collapsed": true
   },
   "outputs": [],
   "source": [
    "from lxml import etree\n",
    "from pydub import AudioSegment"
   ]
  },
  {
   "cell_type": "code",
   "execution_count": null,
   "metadata": {},
   "outputs": [],
   "source": [
    "repRugby=\"/Volumes/BroadDisk/Rugby/\"\n",
    "fichierTranscription=open(repRugby+\"France_Argentine_ANNOT-REF_essai.trs\",\"r\")\n",
    "xmlTranscription=fichierTranscription.read()\n",
    "sound = AudioSegment.from_wav(repRugby+\"France_Argentine_match_Temp.wav\")"
   ]
  },
  {
   "cell_type": "code",
   "execution_count": null,
   "metadata": {
    "collapsed": true
   },
   "outputs": [],
   "source": [
    "root=etree.XML(xmlTranscription)"
   ]
  },
  {
   "cell_type": "code",
   "execution_count": null,
   "metadata": {
    "collapsed": true
   },
   "outputs": [],
   "source": [
    "Topics=root[1]\n",
    "Episodes=root[2]\n",
    "sections=[]\n",
    "for section in Episodes.findall('Section'):\n",
    "    sectionType=section.get('type')\n",
    "    sectionTopic=section.get('topic')\n",
    "    sectionStart=section.get('startTime')\n",
    "    sectionEnd=section.get('endTime')\n",
    "    turns=[]\n",
    "    for turn in section.findall('Turn'):\n",
    "        speaker=turn.get('speaker')\n",
    "        if speaker:\n",
    "            speakers=speaker.split(\" \")\n",
    "        else:\n",
    "            speakers=[\"\"]\n",
    "        startTime=turn.get('startTime')\n",
    "        endTime=turn.get('endTime')\n",
    "        syncs=[]\n",
    "        whos=0\n",
    "        for element in turn.iter():\n",
    "            if element.tag==\"Sync\":\n",
    "                syncs.append((element.get('time'),speakers[0]))\n",
    "            elif element.tag==\"Who\":\n",
    "                whos+=1\n",
    "                if whos>1:\n",
    "                    syncs.append((syncs[-1][0],speakers[-1]))\n",
    "            elif element.tag!=\"Turn\":\n",
    "            \tcontents=[element.tag]\n",
    "            \tfor attrib in element.attrib:\n",
    "            \t\tcontents.append(attrib)\n",
    "            \t\tcontents.append(element.attrib[attrib])\n",
    "            \tcontent=\" \".join(contents)\n",
    "                syncs.append((syncs[-1][0],content))\n",
    "        texts=[]\n",
    "        for text in turn.itertext():\n",
    "            if text!=\"\\n\":\n",
    "                texts.append(text.strip(\"\\n\"))\n",
    "        elements=[]\n",
    "        for i in range(len(texts)):\n",
    "            elements.append((syncs[i][0],syncs[i][1],texts[i]))\n",
    "        turns.append((startTime,endTime,speaker,elements))\n",
    "    sections.append((sectionType,sectionTopic,sectionStart,sectionEnd,turns))"
   ]
  },
  {
   "cell_type": "code",
   "execution_count": null,
   "metadata": {},
   "outputs": [],
   "source": [
    "printSelection=\"Sync\"\n",
    "nbToursNAME=0\n",
    "nbToursCourtsNAME=0\n",
    "nbToursExtraCourtsNAME=0\n",
    "numSection=0\n",
    "numTurn=0\n",
    "numSync=0\n",
    "for stype,stopic,sstart,send,turns in sections:\n",
    "    numSection+=1\n",
    "#    print \"Section\",numSection,stype,stopic,sstart,send\n",
    "    if printSelection==\"Section\":\n",
    "        print sstart,\";\",send,\";\",stype,\";\",stopic\n",
    "    numTurnIn=0\n",
    "    for tstart,tend,speaker,text in turns:\n",
    "        numTurn+=1\n",
    "        numTurnIn+=1\n",
    "#        print \"\\tTurn\",numTurn,tstart, tend, speaker\n",
    "        if printSelection==\"Turn\":\n",
    "            print tstart,\";\",tend,\";\",speaker\n",
    "        numSyncIn=0\n",
    "        for sync in text:\n",
    "            numSync+=1\n",
    "            numSyncIn+=1\n",
    "#            print \"\\t\\tSync\",numSync, sync[0], sync[1], sync[2]\n",
    "            m=re.search(regexJoueurs,sync[2])\n",
    "            if printSelection==\"Sync\" and m:\n",
    "                nbToursNAME+=1\n",
    "                nbMots=len(sync[2].split(\" \"))\n",
    "                if nbMots<5:\n",
    "                    nbToursCourtsNAME+=1\n",
    "                    if nbMots<4:\n",
    "                        nbToursExtraCourtsNAME+=1\n",
    "                        tour=sync[2]\n",
    "                        print sync[0],\";\", sync[1],\";\", sync[2].encode(\"utf8\")\n",
    "                        print m.group(1)\n",
    "                        fStart=float(tstart)\n",
    "                        fEnd=float(tend)\n",
    "                        sStart=int(fStart*1000)\n",
    "                        sEnd=int(fEnd*1000)\n",
    "                        print sStart,sEnd\n",
    "                        extrait=sound[sStart:sEnd]\n",
    "                        nomSon=u\"%08.3f-%08.3f-%s.wav\"%(fStart,fEnd,\"\".join([m.capitalize() for m in tour.split(\" \")]))\n",
    "                        print nomSon\n",
    "                        extrait.export(repRugby+nomSon, format=\"wav\")\n"
   ]
  },
  {
   "cell_type": "code",
   "execution_count": null,
   "metadata": {},
   "outputs": [],
   "source": [
    "nbToursExtraCourtsNAME, nbToursCourtsNAME, nbToursNAME"
   ]
  }
 ],
 "metadata": {
  "kernelspec": {
   "display_name": "Python 2",
   "language": "python",
   "name": "python2"
  },
  "language_info": {
   "codemirror_mode": {
    "name": "ipython",
    "version": 2
   },
   "file_extension": ".py",
   "mimetype": "text/x-python",
   "name": "python",
   "nbconvert_exporter": "python",
   "pygments_lexer": "ipython2",
   "version": "2.7.15"
  }
 },
 "nbformat": 4,
 "nbformat_minor": 1
}
