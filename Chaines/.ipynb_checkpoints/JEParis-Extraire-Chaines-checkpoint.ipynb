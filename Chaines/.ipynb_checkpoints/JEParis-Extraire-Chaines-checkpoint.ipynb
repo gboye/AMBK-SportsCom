{
 "cells": [
  {
   "cell_type": "markdown",
   "id": "e640fe53-5daf-47a0-a4dd-007acff4ae63",
   "metadata": {},
   "source": [
    "# Extraction des chaines"
   ]
  },
  {
   "cell_type": "code",
   "execution_count": 93,
   "id": "5daae993-8091-4b76-a85a-f982b65ea707",
   "metadata": {},
   "outputs": [],
   "source": [
    "import pandas as pd"
   ]
  },
  {
   "cell_type": "code",
   "execution_count": 94,
   "id": "45b3a0aa-ea1d-40f3-891b-a3f0ad959ed8",
   "metadata": {},
   "outputs": [],
   "source": [
    "rep=\"/Users/gilles/Github/AMBK-SportsCom/Chaines/Traitements_GB/\"\n",
    "match=\"FrNz\"\n",
    "match=\"FrAr\"\n",
    "nFile=\"%s-RefSynTour.xlsx\"%match"
   ]
  },
  {
   "cell_type": "markdown",
   "id": "807fec3a-e346-4502-ba1a-61417d85cc8a",
   "metadata": {},
   "source": [
    "## Sélection des chaines de longueurs *chaineMin*"
   ]
  },
  {
   "cell_type": "code",
   "execution_count": 95,
   "id": "985678f8-d763-4b4b-a43b-2c6e4547b3c2",
   "metadata": {},
   "outputs": [
    {
     "data": {
      "text/html": [
       "<div>\n",
       "<style scoped>\n",
       "    .dataframe tbody tr th:only-of-type {\n",
       "        vertical-align: middle;\n",
       "    }\n",
       "\n",
       "    .dataframe tbody tr th {\n",
       "        vertical-align: top;\n",
       "    }\n",
       "\n",
       "    .dataframe thead th {\n",
       "        text-align: right;\n",
       "    }\n",
       "</style>\n",
       "<table border=\"1\" class=\"dataframe\">\n",
       "  <thead>\n",
       "    <tr style=\"text-align: right;\">\n",
       "      <th></th>\n",
       "      <th>Transcription</th>\n",
       "      <th>Cat</th>\n",
       "      <th>Lemme</th>\n",
       "      <th>Referent</th>\n",
       "      <th>numChaine</th>\n",
       "      <th>chaineIndex</th>\n",
       "      <th>chaineDep</th>\n",
       "      <th>chaineApp</th>\n",
       "      <th>nPhrase</th>\n",
       "      <th>tour</th>\n",
       "      <th>type</th>\n",
       "      <th>tDeb</th>\n",
       "      <th>tFin</th>\n",
       "      <th>speaker</th>\n",
       "    </tr>\n",
       "  </thead>\n",
       "  <tbody>\n",
       "    <tr>\n",
       "      <th>0</th>\n",
       "      <td>après</td>\n",
       "      <td>PRP</td>\n",
       "      <td>après</td>\n",
       "      <td>NaN</td>\n",
       "      <td>NaN</td>\n",
       "      <td>NaN</td>\n",
       "      <td>NaN</td>\n",
       "      <td>NaN</td>\n",
       "      <td>0</td>\n",
       "      <td>spk1-001</td>\n",
       "      <td>Colour commentary</td>\n",
       "      <td>00:12:24.60</td>\n",
       "      <td>00:12:28.32</td>\n",
       "      <td>spk1</td>\n",
       "    </tr>\n",
       "    <tr>\n",
       "      <th>1</th>\n",
       "      <td>avoir</td>\n",
       "      <td>VER:infi</td>\n",
       "      <td>avoir</td>\n",
       "      <td>NaN</td>\n",
       "      <td>NaN</td>\n",
       "      <td>NaN</td>\n",
       "      <td>NaN</td>\n",
       "      <td>NaN</td>\n",
       "      <td>0</td>\n",
       "      <td>spk1-001</td>\n",
       "      <td>Colour commentary</td>\n",
       "      <td>00:12:24.60</td>\n",
       "      <td>00:12:28.32</td>\n",
       "      <td>spk1</td>\n",
       "    </tr>\n",
       "    <tr>\n",
       "      <th>2</th>\n",
       "      <td>demandé</td>\n",
       "      <td>VER:pper</td>\n",
       "      <td>demander</td>\n",
       "      <td>NaN</td>\n",
       "      <td>NaN</td>\n",
       "      <td>NaN</td>\n",
       "      <td>NaN</td>\n",
       "      <td>NaN</td>\n",
       "      <td>0</td>\n",
       "      <td>spk1-001</td>\n",
       "      <td>Colour commentary</td>\n",
       "      <td>00:12:24.60</td>\n",
       "      <td>00:12:28.32</td>\n",
       "      <td>spk1</td>\n",
       "    </tr>\n",
       "    <tr>\n",
       "      <th>3</th>\n",
       "      <td>si</td>\n",
       "      <td>KON</td>\n",
       "      <td>si</td>\n",
       "      <td>NaN</td>\n",
       "      <td>NaN</td>\n",
       "      <td>NaN</td>\n",
       "      <td>NaN</td>\n",
       "      <td>NaN</td>\n",
       "      <td>0</td>\n",
       "      <td>spk1-001</td>\n",
       "      <td>Colour commentary</td>\n",
       "      <td>00:12:24.60</td>\n",
       "      <td>00:12:28.32</td>\n",
       "      <td>spk1</td>\n",
       "    </tr>\n",
       "    <tr>\n",
       "      <th>4</th>\n",
       "      <td>tout</td>\n",
       "      <td>PRO:IND</td>\n",
       "      <td>tout</td>\n",
       "      <td>NaN</td>\n",
       "      <td>NaN</td>\n",
       "      <td>NaN</td>\n",
       "      <td>NaN</td>\n",
       "      <td>NaN</td>\n",
       "      <td>0</td>\n",
       "      <td>spk1-001</td>\n",
       "      <td>Colour commentary</td>\n",
       "      <td>00:12:24.60</td>\n",
       "      <td>00:12:28.32</td>\n",
       "      <td>spk1</td>\n",
       "    </tr>\n",
       "  </tbody>\n",
       "</table>\n",
       "</div>"
      ],
      "text/plain": [
       "  Transcription       Cat     Lemme Referent  numChaine  chaineIndex  \\\n",
       "0         après       PRP     après      NaN        NaN          NaN   \n",
       "1         avoir  VER:infi     avoir      NaN        NaN          NaN   \n",
       "2       demandé  VER:pper  demander      NaN        NaN          NaN   \n",
       "3            si       KON        si      NaN        NaN          NaN   \n",
       "4          tout   PRO:IND      tout      NaN        NaN          NaN   \n",
       "\n",
       "   chaineDep  chaineApp  nPhrase      tour               type         tDeb  \\\n",
       "0        NaN        NaN        0  spk1-001  Colour commentary  00:12:24.60   \n",
       "1        NaN        NaN        0  spk1-001  Colour commentary  00:12:24.60   \n",
       "2        NaN        NaN        0  spk1-001  Colour commentary  00:12:24.60   \n",
       "3        NaN        NaN        0  spk1-001  Colour commentary  00:12:24.60   \n",
       "4        NaN        NaN        0  spk1-001  Colour commentary  00:12:24.60   \n",
       "\n",
       "          tFin speaker  \n",
       "0  00:12:28.32    spk1  \n",
       "1  00:12:28.32    spk1  \n",
       "2  00:12:28.32    spk1  \n",
       "3  00:12:28.32    spk1  \n",
       "4  00:12:28.32    spk1  "
      ]
     },
     "execution_count": 95,
     "metadata": {},
     "output_type": "execute_result"
    }
   ],
   "source": [
    "df=pd.read_excel(rep+nFile,index_col=0)\n",
    "df.head()"
   ]
  },
  {
   "cell_type": "markdown",
   "id": "2a705e5b-7882-466b-a432-ed5b3a037e49",
   "metadata": {},
   "source": [
    "## Lister les numéros des chaines longues (>=*chaineMin*)"
   ]
  },
  {
   "cell_type": "code",
   "execution_count": 96,
   "id": "50ebe689-d827-4f31-a833-cd44e658327f",
   "metadata": {},
   "outputs": [],
   "source": [
    "chaineMin=4\n",
    "idxChainesMin=df.loc[df.chaineIndex>=chaineMin,\"numChaine\"].tolist()"
   ]
  },
  {
   "cell_type": "code",
   "execution_count": 104,
   "id": "e01f9a5a-41a9-488a-902f-6ce727b7f11c",
   "metadata": {},
   "outputs": [],
   "source": [
    "idxChainesMin=sorted(list(set(i for i in idxChainesMin if i==i)))\n",
    "# idxChainesMin"
   ]
  },
  {
   "cell_type": "markdown",
   "id": "7cc6d38f-6494-4ca7-8436-8bfd48e51918",
   "metadata": {},
   "source": [
    "## Lister les phrases correpondant aux chaines longues"
   ]
  },
  {
   "cell_type": "code",
   "execution_count": 98,
   "id": "2d80e1b5-a907-45be-a691-c9e455e0ab12",
   "metadata": {},
   "outputs": [],
   "source": [
    "def findChaine(numChaine):\n",
    "    lPhrases=df.loc[df.numChaine==numChaine,\"nPhrase\"].unique().tolist()\n",
    "    ref=df.loc[df.numChaine==numChaine,\"Referent\"].unique().tolist()\n",
    "    ref=[r for r in ref if r==r]\n",
    "    spk=df.loc[df.numChaine==numChaine,\"speaker\"].unique().tolist()\n",
    "    spk=[s for s in spk if s==s]\n",
    "    if len(ref)!=1:\n",
    "        print(\"pb sur chaine\",numChaine,ref)\n",
    "    return ref,spk,lPhrases"
   ]
  },
  {
   "cell_type": "code",
   "execution_count": 99,
   "id": "d85aaa20-59af-4e47-bb17-e69d404f035c",
   "metadata": {},
   "outputs": [],
   "source": [
    "def normalizePunct(text):\n",
    "    result=text\n",
    "    for p in \",.-\":\n",
    "        result=result.replace(\" \"+p,p)\n",
    "    for p in \"'-\":\n",
    "        result=result.replace(p+\" \",p)\n",
    "    return result\n",
    "    \n",
    "def getPhrases(lPhrases):\n",
    "    words=df.loc[df.nPhrase.isin(lPhrases),\"Transcription\"].tolist()\n",
    "    text=\" \".join([str(w) for w in words])\n",
    "    text=normalizePunct(text)\n",
    "    return text"
   ]
  },
  {
   "cell_type": "code",
   "execution_count": 100,
   "id": "022ee04e-be89-4b6e-aee5-b834789c79bb",
   "metadata": {},
   "outputs": [
    {
     "data": {
      "text/plain": [
       "'ouais effectivement dès que vous allez voir là on va aller au sol par Pieter de Villiers, et là il doit lâcher la balle. regardez il le garde auprès du corps.'"
      ]
     },
     "execution_count": 100,
     "metadata": {},
     "output_type": "execute_result"
    }
   ],
   "source": [
    "getPhrases([40,41])"
   ]
  },
  {
   "cell_type": "code",
   "execution_count": 101,
   "id": "639e3be6-65d5-4406-a973-774cfe0d7541",
   "metadata": {},
   "outputs": [
    {
     "name": "stdout",
     "output_type": "stream",
     "text": [
      "pb sur chaine 136.0 ['J-F9', 'MS']\n",
      "pb sur chaine 138.0 ['J-A10', 'J-F5']\n",
      "pb sur chaine 175.0 ['GTF', 'E anglais']\n",
      "pb sur chaine 202.0 ['J-F9', 'J-A9']\n",
      "pb sur chaine 225.0 ['GTF', 'GTA']\n",
      "pb sur chaine 239.0 ['GTA', 'GTF']\n",
      "pb sur chaine 247.0 ['GPF', 'J-F9']\n",
      "pb sur chaine 288.0 ['J-A12', 'GTA']\n",
      "pb sur chaine 323.0 ['thierry', 'GTF']\n",
      "pb sur chaine 356.0 ['GTA', 'GTF']\n",
      "pb sur chaine 359.0 ['J-A4 ou J-A8 ', 'J-A4 ou J-A8']\n",
      "pb sur chaine 385.0 ['GTA', 'GTF']\n",
      "pb sur chaine 402.0 ['J-A19', 'J-A4 ou J-A8 ', 'J-A4 ou J-A8']\n",
      "pb sur chaine 427.0 ['GTA', 'GTF']\n",
      "pb sur chaine 455.0 ['GTF', 'GTA']\n",
      "pb sur chaine 466.0 ['J-A14', 'J-F11']\n",
      "pb sur chaine 484.0 ['J-A9', 'GTF']\n",
      "pb sur chaine 489.0 ['J-A9', 'J-A10']\n",
      "pb sur chaine 491.0 ['J-F10', 'GTF']\n",
      "pb sur chaine 492.0 ['GTA', 'GTF']\n",
      "pb sur chaine 493.0 ['GPA', 'GTF']\n",
      "pb sur chaine 494.0 ['J-F10 ', 'GTF']\n",
      "pb sur chaine 497.0 ['thierry', 'GTF']\n",
      "pb sur chaine 530.0 ['GTA', 'GTF']\n",
      "pb sur chaine 537.0 ['GTA', 'GTF']\n",
      "pb sur chaine 538.0 ['GTF', 'GTA']\n",
      "pb sur chaine 566.0 ['thierry', 'GTF']\n",
      "pb sur chaine 598.0 ['J-A14', 'J-F10', 'MS']\n",
      "pb sur chaine 601.0 ['GTA', 'J-F10']\n",
      "pb sur chaine 625.0 ['J-A15', 'J-F11']\n",
      "pb sur chaine 803.0 ['FL', 'J-F10']\n",
      "pb sur chaine 810.0 ['GTG', 'J-F8']\n",
      "pb sur chaine 831.0 ['GPA', 'J-F14']\n",
      "pb sur chaine 836.0 ['AA', 'J-F9', 'J-A3']\n",
      "pb sur chaine 837.0 ['MS', 'J-F9']\n",
      "pb sur chaine 846.0 ['J-F9', 'J-A22']\n",
      "pb sur chaine 867.0 ['AA', 'J-F14']\n",
      "pb sur chaine 879.0 ['J-A1', 'GTA']\n",
      "pb sur chaine 921.0 ['GTA', 'J-F22']\n",
      "pb sur chaine 942.0 ['FL', 'GTA']\n",
      "pb sur chaine 952.0 ['AA', 'GTF']\n",
      "pb sur chaine 1022.0 ['FL', 'GTA']\n",
      "pb sur chaine 1078.0 ['J-A9', 'GTA']\n"
     ]
    }
   ],
   "source": [
    "exData=[]\n",
    "for num in idxChainesMin:\n",
    "    ref,spk,lPhrases=findChaine(num)\n",
    "    exData.append(\", \".join(ref))\n",
    "    exData.append(\", \".join(spk))\n",
    "    exData.append(\", \".join([str(l) for l in lPhrases]))\n",
    "    tPhrases=getPhrases(lPhrases)\n",
    "    exData.append(tPhrases)\n",
    "    exData.append(\"\")"
   ]
  },
  {
   "cell_type": "code",
   "execution_count": 102,
   "id": "9fc735a6-b741-46ac-908e-27df802bf4c8",
   "metadata": {},
   "outputs": [],
   "source": [
    "with open(rep+\"ExtractionChaines-%s.txt\"%match,\"w\") as outFile:\n",
    "    for l in exData:\n",
    "        outFile.write(l+\"\\n\")"
   ]
  }
 ],
 "metadata": {
  "kernelspec": {
   "display_name": "Python 3 (ipykernel)",
   "language": "python",
   "name": "python3"
  },
  "language_info": {
   "codemirror_mode": {
    "name": "ipython",
    "version": 3
   },
   "file_extension": ".py",
   "mimetype": "text/x-python",
   "name": "python",
   "nbconvert_exporter": "python",
   "pygments_lexer": "ipython3",
   "version": "3.11.8"
  }
 },
 "nbformat": 4,
 "nbformat_minor": 5
}
