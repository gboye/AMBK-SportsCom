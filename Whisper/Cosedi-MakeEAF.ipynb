{
 "cells": [
  {
   "cell_type": "markdown",
   "id": "332477dd-3b41-4d10-a70b-950553043ab0",
   "metadata": {},
   "source": [
    "# Construire un EAF à partir d'un fichier de sous-titres issu de Whisper"
   ]
  },
  {
   "cell_type": "code",
   "execution_count": 129,
   "id": "4bf83a2b-91be-45b8-8804-0c0ad4a29fcb",
   "metadata": {},
   "outputs": [],
   "source": [
    "import lxml.etree as ET\n",
    "import codecs"
   ]
  },
  {
   "cell_type": "markdown",
   "id": "0cd28d33-6bd8-4750-812c-f679b2541bdf",
   "metadata": {},
   "source": [
    "## Construction de la coquille\n",
    "- racine ANNOTATION_DOCUMENT\n",
    "        "
   ]
  },
  {
   "cell_type": "code",
   "execution_count": 130,
   "id": "1ab92703-a669-43d1-9631-359f1d3c7b8e",
   "metadata": {},
   "outputs": [],
   "source": [
    "ANNOTATION_DOCUMENT=ET.Element(\"ANNOTATION_DOCUMENT\",AUTHOR=\"\",DATE=\"\",FORMAT=\"3.0\", VERSION=\"3.0\")"
   ]
  },
  {
   "cell_type": "markdown",
   "id": "14f6178b-ae20-4d67-b21b-e3bf76f4fb06",
   "metadata": {},
   "source": [
    "### Header\n",
    "- header\n",
    "     - media_descriptor\n",
    "     - property\n",
    " "
   ]
  },
  {
   "cell_type": "code",
   "execution_count": 131,
   "id": "96c2c0c1-c784-4b7a-b170-1a042a0ecc6a",
   "metadata": {},
   "outputs": [],
   "source": [
    "HEADER=ET.SubElement(ANNOTATION_DOCUMENT,\"HEADER\",MEDIA_FILE=\"\",TIME_UNITS=\"milliseconds\")\n",
    "MEDIA_DESCRIPTOR=ET.SubElement(HEADER,\"MEDIA_DESCRIPTOR\",MEDIA_URL=\"\",MIME_TYPE=\"\",RELATIVE_MEDIA_URL=\"\")\n",
    "PROPERTY=ET.SubElement(HEADER,\"PROPERTY\", NAME=\"lastUsedAnnotationId\")"
   ]
  },
  {
   "cell_type": "markdown",
   "id": "760ae605-946f-44b1-989f-13d69ddbf0c7",
   "metadata": {},
   "source": [
    "### Time order for Time slots\n",
    "- time order\n",
    "    - time slot\n"
   ]
  },
  {
   "cell_type": "code",
   "execution_count": 132,
   "id": "9d8ced62-9f8a-4fdd-905a-ef4b34a3b7e1",
   "metadata": {},
   "outputs": [],
   "source": [
    "TIME_ORDER=ET.SubElement(ANNOTATION_DOCUMENT,\"TIME_ORDER\")"
   ]
  },
  {
   "cell_type": "markdown",
   "id": "95b58526-6a2b-42a5-8750-817b23e21670",
   "metadata": {},
   "source": [
    "### Tiers for Annotations\n",
    "- tier\n",
    "    - annotation\n",
    "        - alignable annotation\n",
    "            - annotation value\n"
   ]
  },
  {
   "cell_type": "code",
   "execution_count": 133,
   "id": "b4989031-deba-43af-b908-249135019af0",
   "metadata": {},
   "outputs": [],
   "source": [
    "WhisperTIER=ET.SubElement(ANNOTATION_DOCUMENT,\"TIER\",ANNOTATOR=\"Whisper\",LINGUISTIC_TYPE_REF=\"defaut-lt\",PARTICIPANT=\"All\",TIER_ID=\"Whisper\")"
   ]
  },
  {
   "cell_type": "code",
   "execution_count": 134,
   "id": "9970ddbd-8aad-433b-8ebe-0d264228454d",
   "metadata": {},
   "outputs": [],
   "source": [
    "JournalTIER=ET.SubElement(ANNOTATION_DOCUMENT,\"TIER\",ANNOTATOR=\"\",LINGUISTIC_TYPE_REF=\"defaut-lt\",PARTICIPANT=\"Journaliste\",TIER_ID=\"Journaliste\")"
   ]
  },
  {
   "cell_type": "code",
   "execution_count": 135,
   "id": "da27f011-bf5e-496e-a2e9-920e5bc62d3c",
   "metadata": {},
   "outputs": [],
   "source": [
    "ExpertTIER=ET.SubElement(ANNOTATION_DOCUMENT,\"TIER\",ANNOTATOR=\"\",LINGUISTIC_TYPE_REF=\"defaut-lt\",PARTICIPANT=\"Expert\",TIER_ID=\"Expert\")"
   ]
  },
  {
   "cell_type": "code",
   "execution_count": 136,
   "id": "eab497fe-7f76-4d0c-82f2-51f32318cbd1",
   "metadata": {},
   "outputs": [],
   "source": [
    "TerrainTIER=ET.SubElement(ANNOTATION_DOCUMENT,\"TIER\",ANNOTATOR=\"\",LINGUISTIC_TYPE_REF=\"defaut-lt\",PARTICIPANT=\"Terrain\",TIER_ID=\"Terrain\")"
   ]
  },
  {
   "cell_type": "markdown",
   "id": "c6f5c09c-d765-44bd-932d-3d7c5917848e",
   "metadata": {},
   "source": [
    "### Linguistic type"
   ]
  },
  {
   "cell_type": "code",
   "execution_count": 137,
   "id": "2cba15b3-ff48-4a2e-9f84-70a0eb6843dd",
   "metadata": {},
   "outputs": [],
   "source": [
    "LINGUISTIC_TYPE=ET.SubElement(ANNOTATION_DOCUMENT,\"LINGUISTIC_TYPE\",GRAPHIC_REFERENCES=\"false\",LINGUISTIC_TYPE_ID=\"defaut-lt\",TIME_ALIGNABLE=\"true\")"
   ]
  },
  {
   "cell_type": "markdown",
   "id": "0fdb97fe-e089-41c2-82b0-5d0382a1d615",
   "metadata": {},
   "source": [
    "## Conversion des sous-titres vers EAF"
   ]
  },
  {
   "cell_type": "code",
   "execution_count": 138,
   "id": "2329a3f2-1db0-4c75-aabe-cc2b85768e88",
   "metadata": {
    "tags": []
   },
   "outputs": [],
   "source": [
    "with codecs.open(\"FranceArgentine-DecWhisper-TransGold.srt\",\"r\",encoding=\"utf8\") as inFile:\n",
    "    lignesSRT=[l.strip() for l in inFile.readlines()]\n",
    "if lignesSRT[0].endswith(\"1\"): lignesSRT[0]=\"1\"\n",
    "else: print(\"vérifier le fichier SRT\")"
   ]
  },
  {
   "cell_type": "code",
   "execution_count": 139,
   "id": "dffbb240-0f2d-4dba-a3d6-d61204ee755a",
   "metadata": {},
   "outputs": [],
   "source": [
    "def getSeconds(time):\n",
    "    h, m, s = [float(i) for i in time.replace(\",\",\".\").split(':')]\n",
    "    result=((60*h+m)*60+s)*1000\n",
    "    return str(int(result))\n",
    "\n",
    "def getSubtitles(lignes):\n",
    "    result=[]\n",
    "    currentState=\"start\"\n",
    "    currentNum=1\n",
    "    for l in lignes:\n",
    "        if currentState==\"start\" and str(currentNum)==l:\n",
    "            num=l\n",
    "            currentState=\"time\"\n",
    "        elif currentState==\"time\":\n",
    "            t1,t2=l.split(\" --> \")\n",
    "            t1=getSeconds(t1)\n",
    "            t2=getSeconds(t2)\n",
    "            currentState=\"text\"\n",
    "        elif currentState==\"text\":\n",
    "            text=l\n",
    "            currentState=\"skip\"\n",
    "        elif currentState==\"skip\" and l==\"\":\n",
    "            currentState=\"start\"\n",
    "            currentNum+=1\n",
    "            result.append({\"num\":num,\"start\":t1,\"end\":t2,\"text\":text})\n",
    "    return result        "
   ]
  },
  {
   "cell_type": "code",
   "execution_count": 140,
   "id": "f1539fa0-d30b-460b-a410-500c909495f7",
   "metadata": {
    "tags": []
   },
   "outputs": [],
   "source": [
    "subtitles=getSubtitles(lignesSRT)"
   ]
  },
  {
   "cell_type": "code",
   "execution_count": 141,
   "id": "315f33c6-6998-4062-afa4-fc99697f0077",
   "metadata": {},
   "outputs": [],
   "source": [
    "for s in subtitles:\n",
    "    ANNOTATION=ET.SubElement(WhisperTIER,\"ANNOTATION\")\n",
    "    aid=\"au\"+s[\"num\"]\n",
    "    ALIGNABLE_ANNOTATION=ET.SubElement(ANNOTATION,\"ALIGNABLE_ANNOTATION\",\n",
    "                                       ANNOTATION_ID=aid,\n",
    "                                       TIME_SLOT_REF1=aid+s[\"start\"],\n",
    "                                       TIME_SLOT_REF2=aid+s[\"end\"]\n",
    "                                      )\n",
    "    ANNOTATION_VALUE=ET.SubElement(ALIGNABLE_ANNOTATION,\"ANNOTATION_VALUE\")\n",
    "    ANNOTATION_VALUE.text=s[\"text\"]\n",
    "    TIME_SLOT=ET.SubElement(TIME_ORDER,\"TIME_SLOT\",\n",
    "                            TIME_SLOT_ID=aid+s[\"start\"],\n",
    "                            TIME_VALUE=s[\"start\"],\n",
    "                           )\n",
    "    TIME_SLOT=ET.SubElement(TIME_ORDER,\"TIME_SLOT\",\n",
    "                            TIME_SLOT_ID=aid+s[\"end\"],\n",
    "                            TIME_VALUE=s[\"end\"],\n",
    "                           )"
   ]
  },
  {
   "cell_type": "markdown",
   "id": "ed522098-8b52-4000-958c-806b77439603",
   "metadata": {},
   "source": [
    "## Exportation du fichier EAF"
   ]
  },
  {
   "cell_type": "code",
   "execution_count": 142,
   "id": "8027b22a-96d9-4226-b175-3fb7b6cafd63",
   "metadata": {
    "tags": []
   },
   "outputs": [
    {
     "name": "stdout",
     "output_type": "stream",
     "text": [
      "<ANNOTATION_DOCUMENT AUTHOR=\"\" DATE=\"\" FORMAT=\"3.0\" VERSION=\"3.0\">\n",
      "  <HEADER MEDIA_FILE=\"\" TIME_UNITS=\"milliseconds\">\n",
      "    <MEDIA_DESCRIPTOR MEDIA_URL=\"\" MIME_TYPE=\"\" RELATIVE_MEDIA_URL=\"\"/>\n",
      "    <PROPERTY NAME=\"lastUsedAnnotationId\"/>\n",
      "  </HEADER>\n",
      "  <TIME_ORDER>\n",
      "    <TIME_SLOT TIME_SLOT_ID=\"au129560\" TIME_VALUE=\"29560\"/>\n",
      "    <TIME_SLOT TIME_SLOT_ID=\"au136560\" TIME_VALUE=\"36560\"/>\n",
      "    <TIME_SLOT TIME_SLOT_ID=\"au236560\" TIME_VALUE=\"36560\"/>\n",
      "    <TIME_SLOT TIME_SLOT_ID=\"au239320\" TIME_VALUE=\"39320\"/>\n",
      "    <TIME_SLOT TIME_SLOT_ID=\"au339320\" TIME_VALUE=\"39320\"/>\n",
      "    <TIME_SLOT TIME_SLOT_ID=\"au351480\" TIME_VALUE=\"51480\"/>\n",
      "    <TIME_SLOT TIME_SLOT_ID=\"au451480\" TIME_VALUE=\"51480\"/>\n",
      "    <TIME_SLOT TIME_SLOT_ID=\"au456560\" TIME_VALUE=\"56560\"/>\n",
      "    <TIME_SLOT TIME_SLOT_ID=\"au556560\" TIME_VALUE=\"56560\"/>\n",
      "    <TIME_SLOT TIME_SLOT_ID=\"au560920\" TIME_VALUE=\"60920\"/>\n",
      "    <TIME_SLOT TIME_SLOT_ID=\"au660920\" TIME_VALUE=\"60920\"/>\n",
      "    <TIME_SLOT TIME_SLOT_ID=\"au667920\" TIME_VALUE=\"67920\"/>\n",
      "    <TIME_SLOT TIME_SLOT_ID=\"au767920\" TIME_VALUE=\"67920\"/>\n",
      "    <TIME_SLOT TIME_SLOT_ID=\"au775760\" TIME_VALUE=\"75760\"/>\n",
      "    <TIME_SLOT TIME_SLOT_ID=\"au875760\" TIME_VALUE=\"75760\"/>\n",
      "    <TIME_SLOT TIME_SLOT_ID=\"au877200\" TIME_VALUE=\"77200\"/>\n",
      "    <TIME_SLOT TIME_SLOT_ID=\"au977200\" TIME_VALUE=\"77200\"/>\n",
      "    <TIME_SLOT TIME_SLOT_ID=\"au984440\" TIME_VALUE=\"84440\"/>\n",
      "    <TIME_SLOT TIME_SLOT_ID=\"au1084440\" TIME_VALUE=\"84440\"/>\n",
      "    <TIME_SLOT TIME_SLOT_ID=\"au1085440\" TIME_VALUE=\"85440\"/>\n",
      "    <TIME_SLOT TIME_SLOT_ID=\"au1185560\" TIME_VALUE=\"85560\"/>\n",
      "    <TIME_SLOT TIME_SLOT_ID=\"au1192120\" TIME_VALUE=\"92120\"/>\n",
      "    <TIME_SLOT TIME_SLOT_ID=\"au1292120\" TIME_VALUE=\"92120\"/>\n",
      "    <TIME_SLOT TIME_SLOT_ID=\"au1298120\" TIME_VALUE=\"98120\"/>\n",
      "    <TIME_SLOT TIME_SLOT_ID=\"au1398120\" TIME_VALUE=\"98120\"/>\n",
      "    <TIME_SLOT TIME_SLOT_ID=\"au13100479\" TIME_VALUE=\"100479\"/>\n",
      "    <TIME_SLOT TIME_SLOT_ID=\"au14100479\" TIME_VALUE=\"100479\"/>\n",
      "    <TIME_SLOT TIME_SLOT_ID=\"au14104640\" TIME_VALUE=\"104640\"/>\n",
      "    <TIME_SLOT TIME_SLOT_ID=\"au15104640\" TIME_VALUE=\"104640\"/>\n",
      "    <TIME_SLOT TIME_SLOT_ID=\"au15108000\" TIME_VALUE=\"108000\"/>\n",
      "    <TIME_SLOT TIME_SLOT_ID=\"au16108000\" TIME_VALUE=\"108000\"/>\n",
      "    <TIME_SLOT TIME_SLOT_ID=\"au16113400\" TIME_VALUE=\"113400\"/>\n",
      "    <TIME_SLOT TIME_SLOT_ID=\"au17113520\" TIME_VALUE=\"113520\"/>\n",
      "    <TIME_SLOT TIME_SLOT_ID=\"au17116920\" TIME_VALUE=\"116920\"/>\n",
      "    <TIME_SLOT TIME_SLOT_ID=\"au18116920\" TIME_VALUE=\"116920\"/>\n",
      "    <TIME_SLOT TIME_SLOT_ID=\"au18119560\" TIME_VALUE=\"119560\"/>\n",
      "  </TIME_ORDER>\n",
      "  <TIER ANNOTATOR=\"Whisper\" LINGUISTIC_TYPE_REF=\"defaut-lt\" PARTICIPANT=\"All\" TIER_ID=\"Whisper\">\n",
      "    <ANNOTATION>\n",
      "      <ALIGNABLE_ANNOTATION ANNOTATION_ID=\"au1\" TIME_SLOT_REF1=\"au129560\" TIME_SLOT_REF2=\"au136560\">\n",
      "        <ANNOTATION_VALUE>Après avoir demandé si tout le monde était prêt, le coup d'envoi de la Coupe du Monde</ANNOTATION_VALUE>\n",
      "      </ALIGNABLE_ANNOTATION>\n",
      "    </ANNOTATION>\n",
      "    <ANNOTATION>\n",
      "      <ALIGNABLE_ANNOTATION ANNOTATION_ID=\"au2\" TIME_SLOT_REF1=\"au236560\" TIME_SLOT_REF2=\"au239320\">\n",
      "        <ANNOTATION_VALUE>deux mille sept est donné par David Skrela.</ANNOTATION_VALUE>\n",
      "      </ALIGNABLE_ANNOTATION>\n",
      "    </ANNOTATION>\n",
      "    <ANNOTATION>\n",
      "      <ALIGNABLE_ANNOTATION ANNOTATION_ID=\"au3\" TIME_SLOT_REF1=\"au339320\" TIME_SLOT_REF2=\"au351480\">\n",
      "        <ANNOTATION_VALUE>Avec un départ de Roncero, Pichot a appelé le ballon, pour Hernandez, avec le pied droit,</ANNOTATION_VALUE>\n",
      "      </ALIGNABLE_ANNOTATION>\n",
      "    </ANNOTATION>\n",
      "    <ANNOTATION>\n",
      "      <ALIGNABLE_ANNOTATION ANNOTATION_ID=\"au4\" TIME_SLOT_REF1=\"au451480\" TIME_SLOT_REF2=\"au456560\">\n",
      "        <ANNOTATION_VALUE>pour trouver une très jolie touche. Direct il en avait le droit, il était à l'intérieur</ANNOTATION_VALUE>\n",
      "      </ALIGNABLE_ANNOTATION>\n",
      "    </ANNOTATION>\n",
      "    <ANNOTATION>\n",
      "      <ALIGNABLE_ANNOTATION ANNOTATION_ID=\"au5\" TIME_SLOT_REF1=\"au556560\" TIME_SLOT_REF2=\"au560920\">\n",
      "        <ANNOTATION_VALUE>de ses vingt-deux mètres. Dans ce cas-là, on peut trouver une touche, directement.</ANNOTATION_VALUE>\n",
      "      </ALIGNABLE_ANNOTATION>\n",
      "    </ANNOTATION>\n",
      "    <ANNOTATION>\n",
      "      <ALIGNABLE_ANNOTATION ANNOTATION_ID=\"au6\" TIME_SLOT_REF1=\"au660920\" TIME_SLOT_REF2=\"au667920\">\n",
      "        <ANNOTATION_VALUE>Alors la touche, ça, ça sera une des clefs de cette rencontre. Le bloc français contre</ANNOTATION_VALUE>\n",
      "      </ALIGNABLE_ANNOTATION>\n",
      "    </ANNOTATION>\n",
      "    <ANNOTATION>\n",
      "      <ALIGNABLE_ANNOTATION ANNOTATION_ID=\"au7\" TIME_SLOT_REF1=\"au767920\" TIME_SLOT_REF2=\"au775760\">\n",
      "        <ANNOTATION_VALUE>le bloc argentin. Lancer pour le capitaine de l'équipe de France Raphaël Ibanez, qui</ANNOTATION_VALUE>\n",
      "      </ALIGNABLE_ANNOTATION>\n",
      "    </ANNOTATION>\n",
      "    <ANNOTATION>\n",
      "      <ALIGNABLE_ANNOTATION ANNOTATION_ID=\"au8\" TIME_SLOT_REF1=\"au875760\" TIME_SLOT_REF2=\"au877200\">\n",
      "        <ANNOTATION_VALUE>a donc le choix de la combinaison.</ANNOTATION_VALUE>\n",
      "      </ALIGNABLE_ANNOTATION>\n",
      "    </ANNOTATION>\n",
      "    <ANNOTATION>\n",
      "      <ALIGNABLE_ANNOTATION ANNOTATION_ID=\"au9\" TIME_SLOT_REF1=\"au977200\" TIME_SLOT_REF2=\"au984440\">\n",
      "        <ANNOTATION_VALUE>Ah, un ballon bien pris, ah quoique relâché, et ça profite à Pichot. Un petit coup de</ANNOTATION_VALUE>\n",
      "      </ALIGNABLE_ANNOTATION>\n",
      "    </ANNOTATION>\n",
      "    <ANNOTATION>\n",
      "      <ALIGNABLE_ANNOTATION ANNOTATION_ID=\"au10\" TIME_SLOT_REF1=\"au1084440\" TIME_SLOT_REF2=\"au1085440\">\n",
      "        <ANNOTATION_VALUE>pied par-dessus,</ANNOTATION_VALUE>\n",
      "      </ALIGNABLE_ANNOTATION>\n",
      "    </ANNOTATION>\n",
      "    <ANNOTATION>\n",
      "      <ALIGNABLE_ANNOTATION ANNOTATION_ID=\"au11\" TIME_SLOT_REF1=\"au1185560\" TIME_SLOT_REF2=\"au1192120\">\n",
      "        <ANNOTATION_VALUE>Cédric Heymans en couverture, il va devoir... Oui avec la cuiller de Pichot ! Heymans</ANNOTATION_VALUE>\n",
      "      </ALIGNABLE_ANNOTATION>\n",
      "    </ANNOTATION>\n",
      "    <ANNOTATION>\n",
      "      <ALIGNABLE_ANNOTATION ANNOTATION_ID=\"au12\" TIME_SLOT_REF1=\"au1292120\" TIME_SLOT_REF2=\"au1298120\">\n",
      "        <ANNOTATION_VALUE>est au sol. Attention à ne pas garder le ballon, à le libérer vite. David Skrela,</ANNOTATION_VALUE>\n",
      "      </ALIGNABLE_ANNOTATION>\n",
      "    </ANNOTATION>\n",
      "    <ANNOTATION>\n",
      "      <ALIGNABLE_ANNOTATION ANNOTATION_ID=\"au13\" TIME_SLOT_REF1=\"au1398120\" TIME_SLOT_REF2=\"au13100479\">\n",
      "        <ANNOTATION_VALUE>première grosse alerte. Thierry.</ANNOTATION_VALUE>\n",
      "      </ALIGNABLE_ANNOTATION>\n",
      "    </ANNOTATION>\n",
      "    <ANNOTATION>\n",
      "      <ALIGNABLE_ANNOTATION ANNOTATION_ID=\"au14\" TIME_SLOT_REF1=\"au14100479\" TIME_SLOT_REF2=\"au14104640\">\n",
      "        <ANNOTATION_VALUE>Oui effectivement, ces argentins avec Augustine Pichot. Alors il faut en parler aussi parce</ANNOTATION_VALUE>\n",
      "      </ALIGNABLE_ANNOTATION>\n",
      "    </ANNOTATION>\n",
      "    <ANNOTATION>\n",
      "      <ALIGNABLE_ANNOTATION ANNOTATION_ID=\"au15\" TIME_SLOT_REF1=\"au15104640\" TIME_SLOT_REF2=\"au15108000\">\n",
      "        <ANNOTATION_VALUE>que la clé du match aujourd'hui, c'est le numéro neuf. On voit, regardez la cuiller</ANNOTATION_VALUE>\n",
      "      </ALIGNABLE_ANNOTATION>\n",
      "    </ANNOTATION>\n",
      "    <ANNOTATION>\n",
      "      <ALIGNABLE_ANNOTATION ANNOTATION_ID=\"au16\" TIME_SLOT_REF1=\"au16108000\" TIME_SLOT_REF2=\"au16113400\">\n",
      "        <ANNOTATION_VALUE>c'est ça, c'est le petit coup de main sur [=disflu]le le la le la[/disflu] la cheville [=disflu]de[/disflu] de Heymans et le déséquilibre,</ANNOTATION_VALUE>\n",
      "      </ALIGNABLE_ANNOTATION>\n",
      "    </ANNOTATION>\n",
      "    <ANNOTATION>\n",
      "      <ALIGNABLE_ANNOTATION ANNOTATION_ID=\"au17\" TIME_SLOT_REF1=\"au17113520\" TIME_SLOT_REF2=\"au17116920\">\n",
      "        <ANNOTATION_VALUE>attention ça peut être dangereux [=disflu]hein[/disflu] des fois quand on tombe comme ça, y'a une clé aussi c'est les demis de mêlée</ANNOTATION_VALUE>\n",
      "      </ALIGNABLE_ANNOTATION>\n",
      "    </ANNOTATION>\n",
      "    <ANNOTATION>\n",
      "      <ALIGNABLE_ANNOTATION ANNOTATION_ID=\"au18\" TIME_SLOT_REF1=\"au18116920\" TIME_SLOT_REF2=\"au18119560\">\n",
      "        <ANNOTATION_VALUE>on vous en parlera tout à l'heure, place au jeu, place à la touche, Ledesma.</ANNOTATION_VALUE>\n",
      "      </ALIGNABLE_ANNOTATION>\n",
      "    </ANNOTATION>\n",
      "  </TIER>\n",
      "  <TIER ANNOTATOR=\"\" LINGUISTIC_TYPE_REF=\"defaut-lt\" PARTICIPANT=\"Journaliste\" TIER_ID=\"Journaliste\"/>\n",
      "  <TIER ANNOTATOR=\"\" LINGUISTIC_TYPE_REF=\"defaut-lt\" PARTICIPANT=\"Expert\" TIER_ID=\"Expert\"/>\n",
      "  <TIER ANNOTATOR=\"\" LINGUISTIC_TYPE_REF=\"defaut-lt\" PARTICIPANT=\"Terrain\" TIER_ID=\"Terrain\"/>\n",
      "  <LINGUISTIC_TYPE GRAPHIC_REFERENCES=\"false\" LINGUISTIC_TYPE_ID=\"defaut-lt\" TIME_ALIGNABLE=\"true\"/>\n",
      "</ANNOTATION_DOCUMENT>\n",
      "\n"
     ]
    }
   ],
   "source": [
    "print (ET.tostring(ANNOTATION_DOCUMENT,pretty_print=True,encoding=\"utf8\").decode(\"utf8\"))"
   ]
  },
  {
   "cell_type": "code",
   "execution_count": 143,
   "id": "33899beb-6e7c-4b93-a994-7a91cb73ad48",
   "metadata": {},
   "outputs": [],
   "source": [
    "EAF=ET.ElementTree(ANNOTATION_DOCUMENT)\n",
    "EAF.write(\"test.eaf\", pretty_print=True, encoding='utf-8', xml_declaration=True)"
   ]
  },
  {
   "cell_type": "code",
   "execution_count": null,
   "id": "da224297-8431-4726-90f6-5559f3ef0af4",
   "metadata": {},
   "outputs": [],
   "source": []
  },
  {
   "cell_type": "code",
   "execution_count": null,
   "id": "5d3956d5-21fe-4518-b91d-f2f5fdde3ddc",
   "metadata": {},
   "outputs": [],
   "source": []
  }
 ],
 "metadata": {
  "kernelspec": {
   "display_name": "Python 3 (ipykernel)",
   "language": "python",
   "name": "python3"
  },
  "language_info": {
   "codemirror_mode": {
    "name": "ipython",
    "version": 3
   },
   "file_extension": ".py",
   "mimetype": "text/x-python",
   "name": "python",
   "nbconvert_exporter": "python",
   "pygments_lexer": "ipython3",
   "version": "3.9.15"
  }
 },
 "nbformat": 4,
 "nbformat_minor": 5
}
