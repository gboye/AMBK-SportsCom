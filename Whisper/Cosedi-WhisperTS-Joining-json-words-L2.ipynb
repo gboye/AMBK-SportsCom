{
 "cells": [
  {
   "cell_type": "markdown",
   "id": "a1f001a1-109c-43c2-a45b-32ff9b4a42e5",
   "metadata": {},
   "source": [
    "# WhisperTS joining JSON to SRT"
   ]
  },
  {
   "cell_type": "code",
   "execution_count": 353,
   "id": "617bca3c-0a92-4b33-8388-50be8668884f",
   "metadata": {},
   "outputs": [
    {
     "name": "stdout",
     "output_type": "stream",
     "text": [
      "iMac\n"
     ]
    }
   ],
   "source": [
    "import re,codecs,unidecode\n",
    "import pandas as pd\n",
    "import networkx as nx\n",
    "import matplotlib.pylab as p\n",
    "\n",
    "import json,glob,os\n",
    "nMachine=os.uname()[1]\n",
    "if \"iMac\" in nMachine:\n",
    "    nMachine=\"iMac\"\n",
    "elif \"MacBook\" in nMachine:\n",
    "    nMachine=\"MacBook\"\n",
    "print(nMachine)"
   ]
  },
  {
   "cell_type": "code",
   "execution_count": 354,
   "id": "634d8f12-7a26-4be6-93d1-d3643e1b7cd2",
   "metadata": {},
   "outputs": [],
   "source": [
    "def ding():\n",
    "    os.system('afplay /System/Library/Sounds/Submarine.aiff')"
   ]
  },
  {
   "cell_type": "code",
   "execution_count": 355,
   "id": "c1fc5f6e-0dd9-45d4-a13d-d7b32280c9e9",
   "metadata": {},
   "outputs": [
    {
     "data": {
      "text/plain": [
       "5"
      ]
     },
     "execution_count": 355,
     "metadata": {},
     "output_type": "execute_result"
    }
   ],
   "source": [
    "repJson=\"/Users/gilles/sDrive/Cours/Bordeaux/L2-Corpus/Whisper/%s/Json/\"%nMachine\n",
    "segments=len(glob.glob(repJson+\"*.json\"))\n",
    "segments"
   ]
  },
  {
   "cell_type": "code",
   "execution_count": 356,
   "id": "4294ead0-95e7-4246-b1ac-348e93f4dba7",
   "metadata": {},
   "outputs": [],
   "source": [
    "json1=repJson+\"extrait-00.json\"\n",
    "with open(json1) as inFile:\n",
    "    whisper1=json.load(inFile)"
   ]
  },
  {
   "cell_type": "markdown",
   "id": "2f9278fb-db11-4a8a-a795-8410e4b70d87",
   "metadata": {},
   "source": [
    "### Gestion des timestamps"
   ]
  },
  {
   "cell_type": "code",
   "execution_count": 357,
   "id": "d9f994ba-d7a8-47ff-bba6-ba7c311a34e0",
   "metadata": {},
   "outputs": [],
   "source": [
    "def second2timestamp(seconds):\n",
    "    sHours=int(seconds/3600)\n",
    "    sMinutes=int((seconds-sHours*3600)/60)\n",
    "    sSeconds=int((seconds-sHours*3600-sMinutes*60))\n",
    "    sMilliseconds=int((seconds%1)*1000)\n",
    "    return \"%02d:%02d:%02d,%03d\"%(sHours,sMinutes,sSeconds,sMilliseconds)\n",
    "\n",
    "def timestamp2second(timestamp):\n",
    "    m=re.match(\"(\\d\\d):(\\d\\d):(\\d\\d),(\\d\\d\\d)\",timestamp)\n",
    "    if m:\n",
    "        seconds=(int(m.group(1))*60+int(m.group(2)))*60+int(m.group(3))+float(m.group(4))/1000\n",
    "        return seconds\n",
    "    else:\n",
    "        print(\"problème de timestamp\")\n",
    "        return\n",
    "\n",
    "def shiftTime(timestamp,decal):\n",
    "    return second2timestamp(timestamp2second(timestamp)+decal)"
   ]
  },
  {
   "cell_type": "code",
   "execution_count": 358,
   "id": "c31e8718-c3fb-4018-967c-4ef4c70d9e42",
   "metadata": {},
   "outputs": [],
   "source": [
    "punct = list('''!()[]{};:-'\"\\,<>./?@#$%^&*_~''')\n",
    "maxSize=8\n",
    "\n",
    "def removePunct(texte):\n",
    "    result=texte\n",
    "    for p in punct:\n",
    "        result=result.replace(p,\"\")\n",
    "    return result"
   ]
  },
  {
   "cell_type": "markdown",
   "id": "a4cdd29f-4e5a-40f8-a1a5-7ca2396d63f9",
   "metadata": {},
   "source": [
    "### Gestion des structures JSON de Whisper"
   ]
  },
  {
   "cell_type": "code",
   "execution_count": 359,
   "id": "14a9defc-c1a5-426a-9639-a347c17690bf",
   "metadata": {},
   "outputs": [],
   "source": [
    "def getWords(whisper):\n",
    "    lWords=[]\n",
    "    for segment in whisper[\"segments\"]:\n",
    "        for word in segment[\"words\"]:\n",
    "            lWords.append((second2timestamp(word[\"start\"]),\n",
    "                              second2timestamp(word[\"end\"]),\n",
    "                              word[\"text\"],\n",
    "                              word[\"confidence\"]))        \n",
    "    return [(t1,t2,w,c) for t1,t2,w,c in lWords if w!=\"\"]\n",
    "\n",
    "def getList(tWhisper):\n",
    "    return [unidecode.unidecode(removePunct(w)).lower() for _,_,w,_ in tWhisper]"
   ]
  },
  {
   "cell_type": "code",
   "execution_count": 360,
   "id": "ba35c3f6-eb4f-4ec7-90e5-89f6ffe40554",
   "metadata": {},
   "outputs": [],
   "source": [
    "srt=getWords(whisper1)\n",
    "srtList=getList(srt)"
   ]
  },
  {
   "cell_type": "raw",
   "id": "b1d9ce60-e21b-4d62-8924-673331721d46",
   "metadata": {},
   "source": [
    "w2=getWords(whisper2)\n",
    "w2List=getList(w2)"
   ]
  },
  {
   "cell_type": "markdown",
   "id": "63cd79d3-10be-418b-aed8-48913ef7dea6",
   "metadata": {},
   "source": [
    "### Trouver la jointure"
   ]
  },
  {
   "cell_type": "code",
   "execution_count": 361,
   "id": "4df443b5-271a-4135-8cb2-8ce0dd86c715",
   "metadata": {},
   "outputs": [],
   "source": [
    "def findSample(sample,ref):\n",
    "    lowSample=[t.lower() for t in sample]\n",
    "    lowRef=[t.lower() for t in ref]\n",
    "    i=0\n",
    "    while i<len(ref)-len(sample):\n",
    "        # print(\"ref\",i)\n",
    "        if lowSample==lowRef[i:i+len(sample)]:\n",
    "            return i\n",
    "        else:\n",
    "            i+=1\n",
    "    return None"
   ]
  },
  {
   "cell_type": "markdown",
   "id": "87468d77-acae-49fe-b498-f65df8f39918",
   "metadata": {},
   "source": [
    "### Collage des mots\n",
    "1. on cherche la partie commune entre le nouveau segment et les sous-titres précédents\n",
    "2. on peut régler la longueur de la partie commune pour optimiser le collage *maxSize*\n",
    "3. on incrémente les temps de la nouvelle partie à partir du deuxième mot (pour éviter les erreurs de timestamp en début d'enregistrement)"
   ]
  },
  {
   "cell_type": "code",
   "execution_count": 362,
   "id": "6cc0ec9c-7abf-4ba9-b28c-17633ed887ce",
   "metadata": {},
   "outputs": [],
   "source": [
    "def pasteWords(srt,whisper2):\n",
    "    srtList=getList(srt)\n",
    "    w2=getWords(whisper2)\n",
    "    w2List=getList(w2)\n",
    "    lenW2=len(w2)\n",
    "    compSize=min(maxSize,lenW2)\n",
    "    i=1\n",
    "    print(compSize)\n",
    "    while i<lenW2-compSize:\n",
    "        sample=w2List[i:i+compSize]\n",
    "        ref=srtList\n",
    "        # print(sample)\n",
    "        idx=findSample(sample,ref)\n",
    "        if idx:\n",
    "            print(\"found\",i,idx)\n",
    "            break\n",
    "        else:\n",
    "            i+=1\n",
    "    if idx:\n",
    "        print(\"found\",i,idx,srtList[idx],srt[idx][0],w2List[i],w2[i][0])\n",
    "        tDecal=timestamp2second(srt[idx+1][0])-timestamp2second(w2[i+1][0])\n",
    "        print(second2timestamp(tDecal))\n",
    "        newSrt=[]\n",
    "        for n in range(i+1,lenW2):\n",
    "            nWord=w2[n]\n",
    "            newWord=(shiftTime(nWord[0],tDecal),shiftTime(nWord[1],tDecal),nWord[2],nWord[3])\n",
    "            newSrt.append(newWord)\n",
    "        print(srt[idx+1],newSrt[0])\n",
    "        return srt[:idx]+newSrt\n",
    "    else:\n",
    "        print(\"problème\")\n",
    "        ding()\n",
    "        ding()\n",
    "        ding()\n",
    "        return None"
   ]
  },
  {
   "cell_type": "code",
   "execution_count": 363,
   "id": "f6c24f30-426a-4144-9d78-fde30f5ed4fd",
   "metadata": {},
   "outputs": [
    {
     "name": "stdout",
     "output_type": "stream",
     "text": [
      "1\n",
      "8\n",
      "found 1 94\n",
      "found 1 94 ils 00:01:00,439 ils 00:00:00,320\n",
      "00:00:59,999\n",
      "('00:01:00,979', '00:01:01,159', 'ont', 0.986) ('00:01:00,978', '00:01:01,138', 'ont', 0.531)\n",
      "2\n",
      "8\n",
      "found 11 226\n",
      "found 11 226 une 00:02:05,378 une 00:00:05,139\n",
      "00:02:00,097\n",
      "('00:02:05,437', '00:02:05,778', 'mamie', 0.996) ('00:02:05,436', '00:02:05,878', 'mamie', 0.838)\n",
      "3\n",
      "8\n",
      "found 26 365\n",
      "found 26 365 be 00:03:14,007 be 00:00:13,779\n",
      "00:03:00,127\n",
      "('00:03:14,127', '00:03:14,307', 'kind.', 0.898) ('00:03:14,127', '00:03:14,447', 'kind', 0.761)\n",
      "4\n",
      "8\n",
      "found 1 484\n",
      "found 1 484 on 00:04:03,127 on 00:00:02,560\n",
      "00:04:00,106\n",
      "('00:04:03,227', '00:04:03,447', 'va', 0.815) ('00:04:03,227', '00:04:03,406', 'va', 0.914)\n"
     ]
    }
   ],
   "source": [
    "if segments:\n",
    "    for i in range(1,segments):\n",
    "        print(i)\n",
    "        json2=repJson+\"extrait-%02d.json\"%i\n",
    "        with open(json2) as inFile:\n",
    "            whisper2=json.load(inFile)\n",
    "        newSrt=pasteWords(srt,whisper2)\n",
    "        if not newSrt:\n",
    "            break\n",
    "        else:\n",
    "            srt=newSrt\n",
    "# print(srt)"
   ]
  },
  {
   "cell_type": "code",
   "execution_count": 364,
   "id": "99e02c9b-4807-4c55-97ae-3d974f4086d4",
   "metadata": {
    "scrolled": true
   },
   "outputs": [],
   "source": [
    "pause=0.200\n",
    "\n",
    "srtTours=[]\n",
    "srtMots=[]\n",
    "bTour=True\n",
    "prevEnd=0\n",
    "pStart=second2timestamp(0)\n",
    "pEnd=0\n",
    "\n",
    "for i,(start,end,mot,confidence) in enumerate(srt):\n",
    "    # print(start,end,mot,confidence)\n",
    "    tStart=timestamp2second(start)\n",
    "    tEnd=timestamp2second(end)\n",
    "    # print(start,tStart,prevEnd)\n",
    "    if tStart-prevEnd>pause and prevEnd!=0:\n",
    "        pEnd=second2timestamp(prevEnd)\n",
    "        pTour=\" \".join(srtMots)\n",
    "        srtTours.append((pStart,pEnd,pTour))\n",
    "        pStart=start\n",
    "        prevEnd=tEnd\n",
    "        srtMots=[mot]\n",
    "        bPhrase=True\n",
    "    else:\n",
    "        srtMots.append(mot)\n",
    "        prevEnd=tEnd\n",
    "pTour=\" \".join(srtMots)\n",
    "srtTours.append((pStart,pEnd,pTour))"
   ]
  },
  {
   "cell_type": "code",
   "execution_count": 365,
   "id": "03cbe239-4113-4e69-a479-75a66b07cec4",
   "metadata": {},
   "outputs": [],
   "source": [
    "ding()"
   ]
  },
  {
   "cell_type": "code",
   "execution_count": 366,
   "id": "c21084d7-a297-42a3-8824-72ceba87a731",
   "metadata": {},
   "outputs": [
    {
     "name": "stdout",
     "output_type": "stream",
     "text": [
      "00:00:00,000 00:00:01,720 [*] Alors la première image,\n",
      "00:00:01,960 00:00:04,000 [*] tu me dis tout ce que tu vois.\n",
      "00:00:05,019 00:00:06,019 Ils sont dans une classe.\n",
      "00:00:14,199 00:00:15,038 Il y a des escaliers.\n",
      "00:00:16,660 00:00:17,620 Il y a des enfants.\n",
      "00:00:18,280 00:00:19,000 Il y a une maîtresse.\n",
      "00:00:20,920 00:00:22,539 Il y a un enfant qui a un chewing-gum.\n",
      "00:00:23,079 00:00:24,559 Il y a un enfant qui a un ballon.\n",
      "00:00:27,579 00:00:28,920 Il y a un enfant qui a un livre.\n",
      "00:00:30,000 00:00:35,600 [*] La maîtresse et la dame nette. Il y a des calculs derrière.\n",
      "00:00:39,039 00:00:40,219 Il y a un avion en [*] papier.\n",
      "00:00:48,960 00:00:51,539 Il y a plein d'enfants.\n",
      "00:00:58,159 00:00:59,780 Ils ont l'air comment, les enfants ?\n",
      "00:01:00,000 00:01:00,439 [*]\n",
      "00:01:00,978 00:01:02,357 ont l'air de faire tête coquée.\n",
      "00:01:03,159 00:01:03,457 Ah oui ?\n",
      "00:01:04,118 00:01:06,456 Et il y en a une qui est triste, on dirait.\n",
      "00:01:07,878 00:01:08,078 OK.\n",
      "00:01:09,778 00:01:10,977 Sinon, les autres sourient.\n",
      "00:01:11,518 00:01:12,578 Il y en a une qui tire la langue.\n",
      "00:01:16,439 00:01:17,759 Ils sont comment physiquement ?\n",
      "00:01:18,698 00:01:19,599 Euh, ben...\n",
      "00:01:21,858 00:01:23,197 Ils sont un peu encarrés,\n",
      "00:01:23,759 00:01:24,299 un peu...\n",
      "00:01:27,198 00:01:29,278 Les cheveux et tout ça, c'est de quelle couleur ?\n",
      "00:01:29,799 00:01:31,236 Il y en a des jaunes, des noirs,\n",
      "00:01:31,759 00:01:33,138 des oranges, des marrons,\n",
      "00:01:34,538 00:01:35,519 des marrons clairs.\n",
      "00:01:36,019 00:01:36,257 OK.\n",
      "00:01:43,558 00:01:45,037 [*] Tu peux jeter un casque ?\n",
      "00:01:45,959 00:01:46,037 OK.\n",
      "00:01:49,419 00:01:51,599 Alors ici, tu vois... Ils sont au parc.\n",
      "00:01:53,139 00:01:58,037 Il y a un garçon qui écoute de la musique, il y a une fille qui [*] mange de la glace,\n",
      "00:01:59,019 00:02:01,879 il y a des barbiers, il y a un garçon qui promène le bébé,\n",
      "00:02:03,558 00:02:07,397 il y a une fille qui est cachée, il y a mamie qui donne à manger aux pigeons,\n",
      "00:02:09,016 00:02:13,896 un garçon qui a un ballon en main, [*] un garçon qui est assis, [*]\n",
      "00:02:14,387 00:02:15,646 un garçon qui court,\n",
      "00:02:15,866 00:02:18,008 une fille qui est debout, [*]\n",
      "00:02:20,276 00:02:22,877 la mamie est assise sur un banc, [*]\n",
      "00:02:24,747 00:02:25,997 il y a une fontaine,\n",
      "00:02:26,276 00:02:32,008 un portail, [*] et [*] il y a de l'herbe, des fleurs, des arbres,\n",
      "00:02:32,687 00:02:33,937 [*] des pigeons,\n",
      "00:02:36,098 00:02:36,616 et des fleurs.\n",
      "00:02:38,007 00:02:40,216 Ok. [*] Là il y a quoi ?\n",
      "00:02:44,298 00:02:45,937 J'ai dit l'eau, la fontaine.\n",
      "00:02:46,298 00:02:48,616 Dans la fontaine il y a de l'eau.\n",
      "00:02:49,298 00:02:51,377 D'accord. [*] C'est tout ce que tu vois ?\n",
      "00:02:52,576 00:02:53,937 Et on voit la ville derrière.\n",
      "00:02:55,298 00:02:56,407 Ok. [*]\n",
      "00:02:57,966 00:03:00,086 Et dessous c'est quelque chose qui est gaietoué ?\n",
      "00:03:01,706 00:03:03,168 Il y a ça, je ne sais pas ce que c'est.\n",
      "00:03:05,828 00:03:10,567 Des [*] chaises ou comme ça ? [*] Pour s'asseoir peut-être ? [*] Comme le garçon ? Oui.\n",
      "00:03:11,298 00:03:12,277 Pour des chaises.\n",
      "00:03:13,727 00:03:13,907 Ok,\n",
      "00:03:14,127 00:03:27,787 kind [*] là [*] je vais te poser des questions [*] comment tu te sens aujourd'hui [*] tu es de quelle humeur [*] bien un [*] peu triste\n",
      "00:03:28,047 00:03:48,664 avant pourquoi [*] ben [*] votre épouse qu'on ne va pas faire le cheval alors que les petits vivants [*] un [*] autrefois triste puisque mon père est parti en moi [*] et content [*] d'être ici [*] donc et [*] aussi [*] quand elle est aussi [*] contente puisque [*] les\n",
      "00:03:49,986 00:04:56,747 vacances prochaines de la déco il ya ma soeur qui vient à [*] trop bien [*] ok [*] super [*] et vous allez faire quoi aujourd'hui vous on va aller à la piscine après [*] après midi ok [*] va pique niquer [*] ok [*] hier tu étais là [*] oui [*] vous avez fait quoi hier [*] on a fait les actions [*] des films [*] et après j'ai oublié [*] vous [*] avez pique niquer non aussi [*] non oui ah oui [*] on est allé au cinéma [*] et après on a pique niquer après on est allé au parc de bayonne [*] et les [*] actions c'était avant oui [*] oui [*] le film on l'avait déjà vu [*] ah [*] c'était quoi c'est des musiques jazz [*] ok [*] ok c'était rigolo ou [*] c'était [*] triste ou c'était comment [*] c'était un peu drôle [*] un peu drôle [*] mais pas beaucoup non [*] ok ok\n",
      "00:04:57,026 00:04:58,004 nech kermilia est à\n",
      "00:04:58,266 00:04:58,004 c'est un bâtiment s'il ya c'est un bâtiment guéland [*] à [*] l'aéroport [*] c'est un bâtiment c'est un bâtiment c'est un bâtiment ados niquer nech kermilia\n"
     ]
    }
   ],
   "source": [
    "srtLines=[]\n",
    "for i,(start,end,mot) in enumerate(srtTours):\n",
    "    print(start,end,mot)\n",
    "    n=i+1\n",
    "    srtLines.append(str(n))\n",
    "    srtLines.append(start+\" --> \"+end)\n",
    "    srtLines.append(mot)\n",
    "    srtLines.append(\"\")\n"
   ]
  },
  {
   "cell_type": "code",
   "execution_count": 367,
   "id": "014bf088-f399-48aa-af43-f2eae34f2bab",
   "metadata": {},
   "outputs": [],
   "source": [
    "with codecs.open(json1.replace(\".json\",\"-tours.srt\"),\"w\",encoding=\"utf8\") as outFile:\n",
    "    for srtLine in srtLines:\n",
    "        outFile.write(srtLine+\"\\n\")"
   ]
  },
  {
   "cell_type": "code",
   "execution_count": null,
   "id": "b5fed684-9f24-4b03-acff-f87a2e25fe7f",
   "metadata": {},
   "outputs": [],
   "source": []
  }
 ],
 "metadata": {
  "kernelspec": {
   "display_name": "Python 3 (ipykernel)",
   "language": "python",
   "name": "python3"
  },
  "language_info": {
   "codemirror_mode": {
    "name": "ipython",
    "version": 3
   },
   "file_extension": ".py",
   "mimetype": "text/x-python",
   "name": "python",
   "nbconvert_exporter": "python",
   "pygments_lexer": "ipython3",
   "version": "3.11.8"
  }
 },
 "nbformat": 4,
 "nbformat_minor": 5
}
