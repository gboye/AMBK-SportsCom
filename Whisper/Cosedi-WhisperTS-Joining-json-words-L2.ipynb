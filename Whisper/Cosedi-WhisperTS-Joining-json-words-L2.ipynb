{
 "cells": [
  {
   "cell_type": "markdown",
   "id": "a1f001a1-109c-43c2-a45b-32ff9b4a42e5",
   "metadata": {},
   "source": [
    "# WhisperTS joining JSON to SRT"
   ]
  },
  {
   "cell_type": "code",
   "execution_count": 147,
   "id": "617bca3c-0a92-4b33-8388-50be8668884f",
   "metadata": {},
   "outputs": [
    {
     "name": "stdout",
     "output_type": "stream",
     "text": [
      "iMac\n"
     ]
    }
   ],
   "source": [
    "import re,codecs,unidecode\n",
    "import pandas as pd\n",
    "import networkx as nx\n",
    "import matplotlib.pylab as p\n",
    "\n",
    "import json,glob,os\n",
    "nMachine=os.uname()[1]\n",
    "if \"iMac\" in nMachine:\n",
    "    nMachine=\"iMac\"\n",
    "elif \"MacBook\" in nMachine:\n",
    "    nMachine=\"MacBook\"\n",
    "print(nMachine)"
   ]
  },
  {
   "cell_type": "code",
   "execution_count": 148,
   "id": "634d8f12-7a26-4be6-93d1-d3643e1b7cd2",
   "metadata": {},
   "outputs": [],
   "source": [
    "def ding():\n",
    "    os.system('afplay /System/Library/Sounds/Submarine.aiff')"
   ]
  },
  {
   "cell_type": "code",
   "execution_count": 149,
   "id": "c1fc5f6e-0dd9-45d4-a13d-d7b32280c9e9",
   "metadata": {},
   "outputs": [
    {
     "data": {
      "text/plain": [
       "3"
      ]
     },
     "execution_count": 149,
     "metadata": {},
     "output_type": "execute_result"
    }
   ],
   "source": [
    "repJson=\"/Users/gilles/sDrive/Cours/Bordeaux/L2-Corpus/Whisper/%s/Json/\"%nMachine\n",
    "segments=len(glob.glob(repJson+\"*.json\"))\n",
    "segments"
   ]
  },
  {
   "cell_type": "code",
   "execution_count": 150,
   "id": "4294ead0-95e7-4246-b1ac-348e93f4dba7",
   "metadata": {},
   "outputs": [],
   "source": [
    "json1=repJson+\"extrait-00.json\"\n",
    "with open(json1) as inFile:\n",
    "    whisper1=json.load(inFile)"
   ]
  },
  {
   "cell_type": "markdown",
   "id": "2f9278fb-db11-4a8a-a795-8410e4b70d87",
   "metadata": {},
   "source": [
    "### Gestion des timestamps"
   ]
  },
  {
   "cell_type": "code",
   "execution_count": 151,
   "id": "d9f994ba-d7a8-47ff-bba6-ba7c311a34e0",
   "metadata": {},
   "outputs": [],
   "source": [
    "def second2timestamp(seconds):\n",
    "    sHours=int(seconds/3600)\n",
    "    sMinutes=int((seconds-sHours*3600)/60)\n",
    "    sSeconds=int((seconds-sHours*3600-sMinutes*60))\n",
    "    sMilliseconds=int((seconds%1)*1000)\n",
    "    return \"%02d:%02d:%02d,%03d\"%(sHours,sMinutes,sSeconds,sMilliseconds)\n",
    "\n",
    "def timestamp2second(timestamp):\n",
    "    m=re.match(\"(\\d\\d):(\\d\\d):(\\d\\d),(\\d\\d\\d)\",timestamp)\n",
    "    if m:\n",
    "        seconds=(int(m.group(1))*60+int(m.group(2)))*60+int(m.group(3))+float(m.group(4))/1000\n",
    "        return seconds\n",
    "    else:\n",
    "        print(\"problème de timestamp\")\n",
    "        return\n",
    "\n",
    "def shiftTime(timestamp,decal):\n",
    "    return second2timestamp(timestamp2second(timestamp)+decal)"
   ]
  },
  {
   "cell_type": "code",
   "execution_count": 152,
   "id": "c31e8718-c3fb-4018-967c-4ef4c70d9e42",
   "metadata": {},
   "outputs": [],
   "source": [
    "punct = list('''!()[]{};:-'\"\\,<>./?@#$%^&*_~''')\n",
    "maxSize=8\n",
    "\n",
    "def removePunct(texte):\n",
    "    result=texte\n",
    "    for p in punct:\n",
    "        result=result.replace(p,\"\")\n",
    "    return result"
   ]
  },
  {
   "cell_type": "markdown",
   "id": "a4cdd29f-4e5a-40f8-a1a5-7ca2396d63f9",
   "metadata": {},
   "source": [
    "### Gestion des structures JSON de Whisper"
   ]
  },
  {
   "cell_type": "code",
   "execution_count": 153,
   "id": "14a9defc-c1a5-426a-9639-a347c17690bf",
   "metadata": {},
   "outputs": [],
   "source": [
    "def getWords(whisper):\n",
    "    lWords=[]\n",
    "    for segment in whisper[\"segments\"]:\n",
    "        for word in segment[\"words\"]:\n",
    "            lWords.append((second2timestamp(word[\"start\"]),\n",
    "                              second2timestamp(word[\"end\"]),\n",
    "                              word[\"text\"],\n",
    "                              word[\"confidence\"]))        \n",
    "    return [(t1,t2,w,c) for t1,t2,w,c in lWords if w!=\"\"]\n",
    "\n",
    "def getList(tWhisper):\n",
    "    return [unidecode.unidecode(removePunct(w)).lower() for _,_,w,_ in tWhisper]"
   ]
  },
  {
   "cell_type": "code",
   "execution_count": 154,
   "id": "ba35c3f6-eb4f-4ec7-90e5-89f6ffe40554",
   "metadata": {},
   "outputs": [],
   "source": [
    "srt=getWords(whisper1)\n",
    "srtList=getList(srt)"
   ]
  },
  {
   "cell_type": "raw",
   "id": "b1d9ce60-e21b-4d62-8924-673331721d46",
   "metadata": {},
   "source": [
    "w2=getWords(whisper2)\n",
    "w2List=getList(w2)"
   ]
  },
  {
   "cell_type": "markdown",
   "id": "63cd79d3-10be-418b-aed8-48913ef7dea6",
   "metadata": {},
   "source": [
    "### Trouver la jointure"
   ]
  },
  {
   "cell_type": "code",
   "execution_count": 155,
   "id": "4df443b5-271a-4135-8cb2-8ce0dd86c715",
   "metadata": {},
   "outputs": [],
   "source": [
    "def findSample(sample,ref):\n",
    "    lowSample=[t.lower() for t in sample]\n",
    "    lowRef=[t.lower() for t in ref]\n",
    "    i=0\n",
    "    while i<len(ref)-len(sample):\n",
    "        # print(\"ref\",i)\n",
    "        if lowSample==lowRef[i:i+len(sample)]:\n",
    "            return i\n",
    "        else:\n",
    "            i+=1\n",
    "    return None"
   ]
  },
  {
   "cell_type": "markdown",
   "id": "87468d77-acae-49fe-b498-f65df8f39918",
   "metadata": {},
   "source": [
    "### Collage des mots\n",
    "1. on cherche la partie commune entre le nouveau segment et les sous-titres précédents\n",
    "2. on peut régler la longueur de la partie commune pour optimiser le collage *maxSize*\n",
    "3. on incrémente les temps de la nouvelle partie à partir du deuxième mot (pour éviter les erreurs de timestamp en début d'enregistrement)"
   ]
  },
  {
   "cell_type": "code",
   "execution_count": 156,
   "id": "6cc0ec9c-7abf-4ba9-b28c-17633ed887ce",
   "metadata": {},
   "outputs": [],
   "source": [
    "def pasteWords(srt,whisper2):\n",
    "    srtList=getList(srt)\n",
    "    w2=getWords(whisper2)\n",
    "    w2List=getList(w2)\n",
    "    lenW2=len(w2)\n",
    "    compSize=min(maxSize,lenW2)\n",
    "    i=1\n",
    "    print(compSize)\n",
    "    while i<lenW2-compSize:\n",
    "        sample=w2List[i:i+compSize]\n",
    "        ref=srtList\n",
    "        # print(sample)\n",
    "        idx=findSample(sample,ref)\n",
    "        if idx:\n",
    "            print(\"found\",i,idx)\n",
    "            break\n",
    "        else:\n",
    "            i+=1\n",
    "    if idx:\n",
    "        print(\"found\",i,idx,srtList[idx],srt[idx][0],w2List[i],w2[i][0])\n",
    "        tDecal=timestamp2second(srt[idx+1][0])-timestamp2second(w2[i+1][0])\n",
    "        print(second2timestamp(tDecal))\n",
    "        newSrt=[]\n",
    "        for n in range(i+1,lenW2):\n",
    "            nWord=w2[n]\n",
    "            newWord=(shiftTime(nWord[0],tDecal),shiftTime(nWord[1],tDecal),nWord[2],nWord[3])\n",
    "            newSrt.append(newWord)\n",
    "        print(srt[idx+1],newSrt[0])\n",
    "        return srt[:idx]+newSrt\n",
    "    else:\n",
    "        print(\"problème\")\n",
    "        ding()\n",
    "        ding()\n",
    "        ding()\n",
    "        return None"
   ]
  },
  {
   "cell_type": "code",
   "execution_count": 157,
   "id": "f6c24f30-426a-4144-9d78-fde30f5ed4fd",
   "metadata": {},
   "outputs": [
    {
     "name": "stdout",
     "output_type": "stream",
     "text": [
      "1\n",
      "8\n",
      "found 8 159\n",
      "found 8 159 dans 00:01:04,459 dans 00:00:04,740\n",
      "00:00:59,979\n",
      "('00:01:04,879', '00:01:05,140', 'un', 0.997) ('00:01:04,879', '00:01:05,118', 'un', 1.0)\n",
      "2\n",
      "8\n",
      "found 10 259\n",
      "found 10 259 lance 00:02:09,539 lance 00:00:09,820\n",
      "00:01:59,977\n",
      "('00:02:09,938', '00:02:10,259', 'des', 1.0) ('00:02:09,937', '00:02:10,277', 'des', 0.998)\n"
     ]
    }
   ],
   "source": [
    "if segments:\n",
    "    for i in range(1,segments):\n",
    "        print(i)\n",
    "        json2=repJson+\"extrait-%02d.json\"%i\n",
    "        with open(json2) as inFile:\n",
    "            whisper2=json.load(inFile)\n",
    "        newSrt=pasteWords(srt,whisper2)\n",
    "        if not newSrt:\n",
    "            break\n",
    "        else:\n",
    "            srt=newSrt\n",
    "# print(srt)"
   ]
  },
  {
   "cell_type": "code",
   "execution_count": 158,
   "id": "99e02c9b-4807-4c55-97ae-3d974f4086d4",
   "metadata": {
    "scrolled": true
   },
   "outputs": [],
   "source": [
    "pause=0.200\n",
    "\n",
    "srtTours=[]\n",
    "srtMots=[]\n",
    "bTour=True\n",
    "prevEnd=0\n",
    "pStart=second2timestamp(0)\n",
    "pEnd=0\n",
    "\n",
    "for i,(start,end,mot,confidence) in enumerate(srt):\n",
    "    # print(start,end,mot,confidence)\n",
    "    tStart=timestamp2second(start)\n",
    "    tEnd=timestamp2second(end)\n",
    "    # print(start,tStart,prevEnd)\n",
    "    if tStart-prevEnd>pause and prevEnd!=0:\n",
    "        pEnd=second2timestamp(prevEnd)\n",
    "        pTour=\" \".join(srtMots)\n",
    "        srtTours.append((pStart,pEnd,pTour))\n",
    "        pStart=start\n",
    "        prevEnd=tEnd\n",
    "        srtMots=[mot]\n",
    "        bPhrase=True\n",
    "    else:\n",
    "        srtMots.append(mot)\n",
    "        prevEnd=tEnd\n",
    "pTour=\" \".join(srtMots)\n",
    "srtTours.append((pStart,pEnd,pTour))"
   ]
  },
  {
   "cell_type": "code",
   "execution_count": 159,
   "id": "03cbe239-4113-4e69-a479-75a66b07cec4",
   "metadata": {},
   "outputs": [],
   "source": [
    "ding()"
   ]
  },
  {
   "cell_type": "code",
   "execution_count": 160,
   "id": "c21084d7-a297-42a3-8824-72ceba87a731",
   "metadata": {},
   "outputs": [
    {
     "name": "stdout",
     "output_type": "stream",
     "text": [
      "00:00:00,000 00:00:08,679 Fille [*] 7 ans, [*] là il y a un chien qui se fait promener par un policier [*] avec [*] un panier avec des oeufs.\n",
      "00:00:09,099 00:00:16,980 Il y a [*] une maman canard [*] avec ses poussins. Un poussin est encore dans l'oeuf mais il marche.\n",
      "00:00:17,239 00:00:55,320 Un [*] monsieur [*] ramasse des oeufs avec une boîte. [*] Une [*] fille va [*] aller [*] faire de la [*] musique et va chercher [*] des oeufs. [*] Un garçon a déjà trouvé un oeuf. [*] Un lapin ramasse des carottes. [*] Un enfant fait de la balançoire avec des skates. Un garçon fait de la balançoire avec des skates. Un garçon fait de la balançoire avec des skates. Un lapin ramasse des carottes. Un enfant fait de la ski. [*] Un lapin [*] avec des jumelles [*] regarde [*] le parc.\n",
      "00:00:55,539 00:01:04,459 [*] Il y a une [*] voiture dans le garage [*] avec de la nourriture dans le coffre. [*]\n",
      "00:01:04,879 00:01:08,158 un arbre, il y a un hibou, un singe.\n",
      "00:01:08,737 00:01:12,677 Et dans un petit arbre, il y a [*] un oeuf.\n",
      "00:01:15,318 00:01:17,978 Il y a un monsieur avec un panier d'Halloween.\n",
      "00:01:22,018 00:01:23,837 Qui est en habit de travail,\n",
      "00:01:24,079 00:01:33,819 qui boit une tasse. [*] Une dame donne un biberon [*] à [*] un [*] lapin.\n",
      "00:01:35,299 00:01:43,718 Le [*] père [*] tient [*] un [*] panier [*] avec un lapin en [*] chocolat [*] et un oeuf bleu.\n",
      "00:01:44,378 00:01:51,278 Une poule [*] a [*] un panier [*] rempli d'oeufs.\n",
      "00:01:55,058 00:01:55,299 Une fille...\n",
      "00:01:55,979 00:02:03,558 [*] Un lapin [*] donne [*] un oeuf [*] à une petite [*] fille.\n",
      "00:02:08,599 00:02:09,538 Un lapin\n",
      "00:02:09,937 00:02:13,137 des oeufs à un enfant sur le toboggan.\n",
      "00:02:14,516 00:02:17,195 Un oiseau est sur un oeuf.\n",
      "00:02:17,696 00:02:20,056 Un oiseau a des oreilles de lapin.\n",
      "00:02:22,897 00:02:26,376 Il y a un oeuf sur le toit du toboggan.\n",
      "00:02:30,077 00:02:32,116 Il y a un oiseau [*] normal.\n",
      "00:02:33,977 00:02:41,635 Il y a quelqu'un qui rattrape un oeuf [*] avec une fourchette et qui a du bacon dans son assiette.\n",
      "00:02:43,537 00:02:53,896 Un enfant [*] prend un oeuf et le donne à [*] son père qui tient le panier. Et sa soeur [*] prend un avion.\n",
      "00:02:55,977 00:02:59,257 Il y [*] a un cheval [*] dans le garage.\n",
      "00:02:59,977 00:02:59,257 Avec [*] du foin.\n"
     ]
    }
   ],
   "source": [
    "srtLines=[]\n",
    "for i,(start,end,mot) in enumerate(srtTours):\n",
    "    print(start,end,mot)\n",
    "    n=i+1\n",
    "    srtLines.append(str(n))\n",
    "    srtLines.append(start+\" --> \"+end)\n",
    "    srtLines.append(mot)\n",
    "    srtLines.append(\"\")\n"
   ]
  },
  {
   "cell_type": "code",
   "execution_count": 161,
   "id": "014bf088-f399-48aa-af43-f2eae34f2bab",
   "metadata": {},
   "outputs": [],
   "source": [
    "with codecs.open(json1.replace(\".json\",\"-tours.srt\"),\"w\",encoding=\"utf8\") as outFile:\n",
    "    for srtLine in srtLines:\n",
    "        outFile.write(srtLine+\"\\n\")"
   ]
  },
  {
   "cell_type": "code",
   "execution_count": null,
   "id": "b5fed684-9f24-4b03-acff-f87a2e25fe7f",
   "metadata": {},
   "outputs": [],
   "source": []
  }
 ],
 "metadata": {
  "kernelspec": {
   "display_name": "Python 3 (ipykernel)",
   "language": "python",
   "name": "python3"
  },
  "language_info": {
   "codemirror_mode": {
    "name": "ipython",
    "version": 3
   },
   "file_extension": ".py",
   "mimetype": "text/x-python",
   "name": "python",
   "nbconvert_exporter": "python",
   "pygments_lexer": "ipython3",
   "version": "3.11.8"
  }
 },
 "nbformat": 4,
 "nbformat_minor": 5
}
