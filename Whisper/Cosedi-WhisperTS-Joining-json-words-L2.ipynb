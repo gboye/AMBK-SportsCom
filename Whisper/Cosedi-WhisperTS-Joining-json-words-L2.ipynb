{
 "cells": [
  {
   "cell_type": "markdown",
   "id": "a1f001a1-109c-43c2-a45b-32ff9b4a42e5",
   "metadata": {},
   "source": [
    "# WhisperTS joining JSON to SRT"
   ]
  },
  {
   "cell_type": "code",
   "execution_count": 17,
   "id": "c09e2155-f8d0-4e91-9236-d46af8e831a4",
   "metadata": {},
   "outputs": [],
   "source": [
    "import re,codecs,unidecode\n",
    "import pandas as pd\n",
    "import networkx as nx\n",
    "import matplotlib.pylab as p\n",
    "\n",
    "import json,glob,os\n",
    "nMachine=os.uname()[1]\n",
    "if \"iMac\" in nMachine:\n",
    "    nMachine=\"iMac\"\n",
    "elif \"MacBook\" in nMachine:\n",
    "    nMachine=\"MacBook\"\n",
    "print(nMachine)"
   ]
  },
  {
   "cell_type": "code",
   "execution_count": 18,
   "id": "c1fc5f6e-0dd9-45d4-a13d-d7b32280c9e9",
   "metadata": {},
   "outputs": [
    {
     "data": {
      "text/plain": [
       "8"
      ]
     },
     "execution_count": 18,
     "metadata": {},
     "output_type": "execute_result"
    }
   ],
   "source": [
    "repJson=\"/Users/gilles/sDrive/Cours/Bordeaux/L2-Corpus/Whisper/%s/Json/\"%nMachine\n",
    "segments=len(glob.glob(repJson+\"*.json\"))\n",
    "segments"
   ]
  },
  {
   "cell_type": "code",
   "execution_count": 19,
   "id": "4294ead0-95e7-4246-b1ac-348e93f4dba7",
   "metadata": {},
   "outputs": [],
   "source": [
    "json1=repJson+\"extrait-00.wav.json\"\n",
    "with open(json1) as inFile:\n",
    "    whisper1=json.load(inFile)"
   ]
  },
  {
   "cell_type": "markdown",
   "id": "2f9278fb-db11-4a8a-a795-8410e4b70d87",
   "metadata": {},
   "source": [
    "### Gestion des timestamps"
   ]
  },
  {
   "cell_type": "code",
   "execution_count": 20,
   "id": "d9f994ba-d7a8-47ff-bba6-ba7c311a34e0",
   "metadata": {},
   "outputs": [],
   "source": [
    "def second2timestamp(seconds):\n",
    "    sHours=int(seconds/3600)\n",
    "    sMinutes=int((seconds-sHours*3600)/60)\n",
    "    sSeconds=int((seconds-sHours*3600-sMinutes*60))\n",
    "    sMilliseconds=int((seconds%1)*1000)\n",
    "    return \"%02d:%02d:%02d,%03d\"%(sHours,sMinutes,sSeconds,sMilliseconds)\n",
    "\n",
    "def timestamp2second(timestamp):\n",
    "    m=re.match(\"(\\d\\d):(\\d\\d):(\\d\\d),(\\d\\d\\d)\",timestamp)\n",
    "    if m:\n",
    "        seconds=(int(m.group(1))*60+int(m.group(2)))*60+int(m.group(3))+float(m.group(4))/1000\n",
    "        return seconds\n",
    "    else:\n",
    "        print(\"problème de timestamp\")\n",
    "        return\n",
    "\n",
    "def shiftTime(timestamp,decal):\n",
    "    return second2timestamp(timestamp2second(timestamp)+decal)"
   ]
  },
  {
   "cell_type": "code",
   "execution_count": 21,
   "id": "c31e8718-c3fb-4018-967c-4ef4c70d9e42",
   "metadata": {},
   "outputs": [],
   "source": [
    "punct = list('''!()[]{};:-'\"\\,<>./?@#$%^&*_~''')\n",
    "maxSize=8\n",
    "\n",
    "def removePunct(texte):\n",
    "    result=texte\n",
    "    for p in punct:\n",
    "        result=result.replace(p,\"\")\n",
    "    return result"
   ]
  },
  {
   "cell_type": "markdown",
   "id": "a4cdd29f-4e5a-40f8-a1a5-7ca2396d63f9",
   "metadata": {},
   "source": [
    "### Gestion des structures JSON de Whisper"
   ]
  },
  {
   "cell_type": "code",
   "execution_count": 22,
   "id": "14a9defc-c1a5-426a-9639-a347c17690bf",
   "metadata": {},
   "outputs": [],
   "source": [
    "def getWords(whisper):\n",
    "    lWords=[]\n",
    "    for segment in whisper[\"segments\"]:\n",
    "        for word in segment[\"words\"]:\n",
    "            lWords.append((second2timestamp(word[\"start\"]),\n",
    "                              second2timestamp(word[\"end\"]),\n",
    "                              word[\"text\"],\n",
    "                              word[\"confidence\"]))        \n",
    "    return [(t1,t2,w,c) for t1,t2,w,c in lWords if w!=\"\"]\n",
    "\n",
    "def getList(tWhisper):\n",
    "    return [unidecode.unidecode(removePunct(w)).lower() for _,_,w,_ in tWhisper]"
   ]
  },
  {
   "cell_type": "code",
   "execution_count": 23,
   "id": "ba35c3f6-eb4f-4ec7-90e5-89f6ffe40554",
   "metadata": {},
   "outputs": [],
   "source": [
    "srt=getWords(whisper1)\n",
    "srtList=getList(srt)"
   ]
  },
  {
   "cell_type": "raw",
   "id": "b1d9ce60-e21b-4d62-8924-673331721d46",
   "metadata": {},
   "source": [
    "w2=getWords(whisper2)\n",
    "w2List=getList(w2)"
   ]
  },
  {
   "cell_type": "markdown",
   "id": "63cd79d3-10be-418b-aed8-48913ef7dea6",
   "metadata": {},
   "source": [
    "### Trouver la jointure"
   ]
  },
  {
   "cell_type": "code",
   "execution_count": 24,
   "id": "4df443b5-271a-4135-8cb2-8ce0dd86c715",
   "metadata": {},
   "outputs": [],
   "source": [
    "def findSample(sample,ref):\n",
    "    i=0\n",
    "    while i<len(ref)-len(sample):\n",
    "        # print(\"ref\",i)\n",
    "        if sample==ref[i:i+len(sample)]:\n",
    "            return i\n",
    "        else:\n",
    "            i+=1\n",
    "    return None"
   ]
  },
  {
   "cell_type": "markdown",
   "id": "87468d77-acae-49fe-b498-f65df8f39918",
   "metadata": {},
   "source": [
    "### Collage des mots\n",
    "1. on cherche la partie commune entre le nouveau segment et les sous-titres précédents\n",
    "2. on peut régler la longueur de la partie commune pour optimiser le collage *maxSize*\n",
    "3. on incrémente les temps de la nouvelle partie à partir du deuxième mot (pour éviter les erreurs de timestamp en début d'enregistrement)"
   ]
  },
  {
   "cell_type": "code",
   "execution_count": 25,
   "id": "6cc0ec9c-7abf-4ba9-b28c-17633ed887ce",
   "metadata": {},
   "outputs": [],
   "source": [
    "def pasteWords(srt,whisper2):\n",
    "    srtList=getList(srt)\n",
    "    w2=getWords(whisper2)\n",
    "    w2List=getList(w2)\n",
    "    lenW2=len(w2)\n",
    "    compSize=min(maxSize,lenW2)\n",
    "    i=1\n",
    "    print(compSize)\n",
    "    while i<lenW2-compSize:\n",
    "        sample=w2List[i:i+compSize]\n",
    "        ref=srtList\n",
    "        # print(sample)\n",
    "        idx=findSample(sample,ref)\n",
    "        if idx:\n",
    "            print(\"found\",i,idx)\n",
    "            break\n",
    "        else:\n",
    "            i+=1\n",
    "    if idx:\n",
    "        print(\"found\",i,idx,srtList[idx],srt[idx][0],w2List[i],w2[i][0])\n",
    "        tDecal=timestamp2second(srt[idx+1][0])-timestamp2second(w2[i+1][0])\n",
    "        print(second2timestamp(tDecal))\n",
    "        newSrt=[]\n",
    "        for n in range(i+1,lenW2):\n",
    "            nWord=w2[n]\n",
    "            newWord=(shiftTime(nWord[0],tDecal),shiftTime(nWord[1],tDecal),nWord[2],nWord[3])\n",
    "            newSrt.append(newWord)\n",
    "        print(srt[idx+1],newSrt[0])\n",
    "        return srt[:idx]+newSrt\n",
    "    else:\n",
    "        return None"
   ]
  },
  {
   "cell_type": "code",
   "execution_count": 26,
   "id": "f6c24f30-426a-4144-9d78-fde30f5ed4fd",
   "metadata": {},
   "outputs": [
    {
     "name": "stdout",
     "output_type": "stream",
     "text": [
      "1\n",
      "8\n",
      "found 1 165\n",
      "found 1 165 soit 00:01:00,159 soit 00:00:00,180\n",
      "00:00:59,920\n",
      "('00:01:00,280', '00:01:00,979', 'très', 0.994) ('00:01:00,280', '00:01:00,920', 'très', 0.962)\n",
      "2\n",
      "8\n",
      "found 1 377\n",
      "found 1 377 un 00:02:00,560 un 00:00:00,440\n",
      "00:02:00,019\n",
      "('00:02:00,700', '00:02:00,778', 'peu', 1.0) ('00:02:00,700', '00:02:00,859', 'peu', 0.99)\n",
      "3\n",
      "8\n",
      "found 16 528\n",
      "found 16 528 et 00:03:24,098 et 00:00:24,179\n",
      "00:03:00,000\n",
      "('00:03:24,399', '00:03:24,519', 'on', 0.995) ('00:03:24,399', '00:03:24,538', 'on', 0.988)\n",
      "4\n",
      "8\n",
      "found 20 645\n",
      "found 20 645 oh 00:04:14,718 oh 00:00:15,019\n",
      "00:03:59,998\n",
      "('00:04:15,079', '00:04:15,259', 'là', 0.802) ('00:04:15,079', '00:04:15,257', 'là', 0.901)\n",
      "5\n",
      "8\n",
      "found 1 769\n",
      "found 1 769 penalite 00:04:59,978 penalite 00:00:00,100\n",
      "00:04:59,859\n",
      "('00:05:00,379', '00:05:00,398', 'partout.', 0.984) ('00:05:00,379', '00:05:00,619', 'partout.', 0.681)\n",
      "6\n",
      "8\n",
      "found 1 957\n",
      "found 1 957 rythme 00:05:59,859 rythme 00:00:00,100\n",
      "00:05:59,858\n",
      "('00:06:00,258', '00:06:00,319', 'de', 0.963) ('00:06:00,257', '00:06:00,338', 'de', 0.993)\n",
      "7\n",
      "8\n",
      "found 10 1113\n",
      "found 10 1113 on 00:07:07,858 on 00:00:07,980\n",
      "00:06:59,858\n",
      "('00:07:08,697', '00:07:09,138', 'respire', 0.99) ('00:07:08,697', '00:07:09,137', 'respire', 0.968)\n"
     ]
    }
   ],
   "source": [
    "if segments:\n",
    "    for i in range(1,segments):\n",
    "        print(i)\n",
    "        json2=repJson+\"extrait-%02d.wav.json\"%i\n",
    "        with open(json2) as inFile:\n",
    "            whisper2=json.load(inFile)\n",
    "        newSrt=pasteWords(srt,whisper2)\n",
    "        if not newSrt:\n",
    "            break\n",
    "        else:\n",
    "            srt=newSrt\n",
    "# print(srt)"
   ]
  },
  {
   "cell_type": "code",
   "execution_count": 27,
   "id": "99e02c9b-4807-4c55-97ae-3d974f4086d4",
   "metadata": {
    "scrolled": true
   },
   "outputs": [],
   "source": [
    "pause=0.200\n",
    "\n",
    "srtTours=[]\n",
    "srtMots=[]\n",
    "bTour=True\n",
    "prevEnd=0\n",
    "pStart=second2timestamp(0)\n",
    "pEnd=0\n",
    "\n",
    "for i,(start,end,mot,confidence) in enumerate(srt):\n",
    "    # print(start,end,mot,confidence)\n",
    "    tStart=timestamp2second(start)\n",
    "    tEnd=timestamp2second(end)\n",
    "    # print(start,tStart,prevEnd)\n",
    "    if tStart-prevEnd>pause and prevEnd!=0:\n",
    "        pEnd=second2timestamp(prevEnd)\n",
    "        pTour=\" \".join(srtMots)\n",
    "        srtTours.append((pStart,pEnd,pTour))\n",
    "        pStart=start\n",
    "        prevEnd=tEnd\n",
    "        srtMots=[mot]\n",
    "        bPhrase=True\n",
    "    else:\n",
    "        srtMots.append(mot)\n",
    "        prevEnd=tEnd\n",
    "pTour=\" \".join(srtMots)\n",
    "srtTours.append((pStart,pEnd,pTour))"
   ]
  },
  {
   "cell_type": "code",
   "execution_count": 28,
   "id": "c21084d7-a297-42a3-8824-72ceba87a731",
   "metadata": {},
   "outputs": [
    {
     "name": "stdout",
     "output_type": "stream",
     "text": [
      "00:00:00,000 00:00:13,618 [*] La [*] finale, la grande finale de la catégorie des moins de [*] 78 kg avec Audrey Tcheméo [*] qui mène [*] 4 à 2 face à Stenuys. Stenuys, [*] c'est tout [*] simplement la [*] numéro 1 mondiale.\n",
      "00:00:14,560 00:00:19,260 Et le public est chaud, bien sûr, [*] parce qu'Audrey, c'est toujours aussi du spectacle.\n",
      "00:00:22,039 00:00:25,018 Et elle est chez elle. Ouh là là ! Elle est chez elle et déterminée, la française.\n",
      "00:00:26,739 00:00:29,640 Eh oui, l'œil du tigre d'Audrey, ou plutôt la lionne indomptable.\n",
      "00:00:30,000 00:00:39,859 [*] Eh [*] oui, accrochez vos ceintures parce que là, [*] c'est du grand Audrey Tcheméo.\n",
      "00:00:40,259 00:00:52,618 Elle est ultra motivée. [*] Remontée à bloc, Lucie Descosse, la championne olympique, devenue coach [*] sur ses talons. Et Audrey qui se frappe le visage, [*] qui rentre [*] sur le tatami, prête à en découdre.\n",
      "00:00:53,380 00:01:03,039 Il va falloir être fort du côté de Stenuys parce que [*] c'est un lion enragé qui monte sur ce tatami. Et Audrey va vraiment falloir. Je veux vraiment qu'elle très présente sur toutes ses attaques, très concentrée,\n",
      "00:01:03,819 00:01:07,120 au millimètre près, parce que Stenuys, comme vous l'avez dit, numéro 1 mondial,\n",
      "00:01:07,558 00:01:08,599 troisième au master en 2017.\n",
      "00:01:09,079 00:01:10,099 Elle va la chercher tout de suite.\n",
      "00:01:11,000 00:01:11,337 Allez !\n",
      "00:01:15,299 00:01:17,560 Elle a pris la manche, là Audrey, tout de suite, elle n'a pas perdu de temps.\n",
      "00:01:18,219 00:01:19,540 Et puis ce bras droit, il faut qu'il monte.\n",
      "00:01:20,540 00:01:21,159 Et voilà, c'est fait.\n",
      "00:01:22,240 00:01:24,099 Il y a tout, il y a tout, on peut lancer.\n",
      "00:01:25,359 00:01:27,498 Ah oui, les enchaînements là du football. Oh là là,\n",
      "00:01:27,819 00:01:30,358 c'est Panic à bord, c'est Panic à bord du côté de Stenuys.\n",
      "00:01:31,099 00:01:33,319 Cécile, c'est Panic à bord du côté de la néerlandaise.\n",
      "00:01:33,800 00:01:35,620 Là, elle lui a mis un impact [*] physique, là.\n",
      "00:01:35,920 00:01:37,200 C'est impressionnant.\n",
      "00:01:38,718 00:01:39,560 J'ai hâte de voir la suite.\n",
      "00:01:41,060 00:01:41,700 Allez, c'est parti.\n",
      "00:01:42,120 00:01:44,138 C'est reparti avec... Pour rien changer, pour rien changer.\n",
      "00:01:44,420 00:01:45,760 La manche, tout de suite. La manche, tout de suite.\n",
      "00:01:47,218 00:01:48,138 Voilà, elle a la manche, là Audrey.\n",
      "00:01:48,620 00:01:51,078 Elle a monté sa main, il faut verrouiller le coude, mettre le coude vers le bas.\n",
      "00:01:52,020 00:01:55,858 Elle a installé au niveau de la manche, elle est montée là-haut. Il faut la traquer, traquer là, elle est trop forte.\n",
      "00:01:56,539 00:01:56,899 Oh là là.\n",
      "00:01:57,099 00:01:57,179 Oh là là.\n",
      "00:01:57,420 00:01:59,879 Il y a des ouvertures, il y a des ouvertures, il faut prendre son temps.\n",
      "00:02:00,700 00:02:01,237 peu de patience,\n",
      "00:02:02,579 00:02:03,438 allez, allez, allez, allez, allez,\n",
      "00:02:05,319 00:02:07,978 [*] elle [*] cherche le hippon, j'ai l'impression,\n",
      "00:02:08,459 00:02:08,799 voilà, oui,\n",
      "00:02:11,259 00:02:12,038 attention à Stenuis,\n",
      "00:02:12,240 00:02:14,680 qui va vraiment vouloir la canaliser, lui mettre un faux rythme,\n",
      "00:02:15,099 00:02:15,937 oui, qui a de l'expérience,\n",
      "00:02:16,280 00:02:16,399 donc,\n",
      "00:02:17,098 00:02:17,120 effectivement,\n",
      "00:02:17,899 00:02:20,120 on sait que dans la durée, Audrey, elle est parfois, elle peine parfois,\n",
      "00:02:20,579 00:02:20,818 exactement,\n",
      "00:02:22,659 00:02:23,979 Audrey qui n'est pas très bien, là,\n",
      "00:02:24,780 00:02:25,680 attention à cette attaque,\n",
      "00:02:26,519 00:02:27,158 bien canalisée,\n",
      "00:02:27,439 00:02:28,180 bien contrôlée,\n",
      "00:02:29,019 00:02:30,680 par Audrey de Chomeo, qui laisse passer,\n",
      "00:02:32,239 00:02:33,997 la force de son adversaire, qui contrôle,\n",
      "00:02:36,620 00:02:38,699 qui va se remettre au centre du tatami, c'est reparti, l'œil,\n",
      "00:02:39,860 00:02:39,918 oui,\n",
      "00:02:40,120 00:02:42,239 et le visage sérieux, pour Lucie Lécos,\n",
      "00:02:46,498 00:02:47,579 et Audrey, qui doit rester, sur,\n",
      "00:02:48,878 00:02:49,777 le même schéma, c'est bien,\n",
      "00:02:50,219 00:02:50,918 voilà, là, c'est beaucoup mieux,\n",
      "00:02:52,259 00:02:52,800 main en haut,\n",
      "00:02:53,519 00:02:54,038 et la manche,\n",
      "00:02:55,019 00:02:56,418 et là, à partir de là, elle doit être active,\n",
      "00:02:57,620 00:02:57,679 voilà,\n",
      "00:02:58,159 00:02:58,918 changement de t-shirt,\n",
      "00:03:05,338 00:03:06,038 le chido, pour,\n",
      "00:03:07,179 00:03:07,639 Stan Lewis,\n",
      "00:03:08,060 00:03:09,237 et le petit changement,\n",
      "00:03:10,338 00:03:11,438 de t-shirt, pour Audrey,\n",
      "00:03:23,860 00:03:24,098 [*]\n",
      "00:03:24,399 00:03:31,899 on revoit le travail qu'Audrey a effectué sur cette première partie, et on la voit, elle est vraiment bien installée avec sa main droite [*] là-haut, [*] la manche qui est prise.\n",
      "00:03:32,240 00:03:39,758 Et le retour, ça y est, Audrey de Chauméo qui va [*] remettre sa ceinture [*] et [*] monter sur ce tatami.\n",
      "00:03:43,699 00:03:47,520 Voilà, ça y est, c'est reparti. Allez, on est exactement dans le même schéma.\n",
      "00:03:50,538 00:03:52,639 À savoir la manche et monter fort le bras droit.\n",
      "00:03:53,359 00:03:54,299 Exactement, on ne change rien.\n",
      "00:03:55,179 00:03:58,639 Et ce sont les mots que Lucie lui a glissés. Lucie, c'est juste avant qu'elle remonte sur le tapis.\n",
      "00:04:05,079 00:04:06,560 C'est bon, elle a la manche, Audrey.\n",
      "00:04:10,019 00:04:12,019 Voilà, elle dépelle la garde de son adversaire.\n",
      "00:04:15,079 00:04:18,478 là là, on est revenu sur le même format qu'au début,\n",
      "00:04:19,118 00:04:21,117 à savoir une Audrey de Choumeo hyper engagée.\n",
      "00:04:21,798 00:04:24,858 Et bien vu Cécile, elle a profité un petit peu de la pause pour recharger les batteries.\n",
      "00:04:27,898 00:04:29,398 Allez, il faut saisir cette manche et monter bras droit.\n",
      "00:04:29,999 00:04:31,398 [*] Allez, au bar.\n",
      "00:04:31,999 00:04:36,278 Par contre, c'est un peu moins bien parce qu'elle n'a pas la main droite [*] à l'intérieur.\n",
      "00:04:37,418 00:04:40,617 La main droite à l'intérieur, elle devrait être plutôt positionnée en haut.\n",
      "00:04:42,959 00:04:44,937 Pour ceci dit, la Hollandaise ne fait rien.\n",
      "00:04:45,999 00:04:47,098 La prise en pistolet.\n",
      "00:04:48,098 00:04:49,499 Vous en parliez, je l'ai vu tout à l'heure.\n",
      "00:04:50,757 00:04:52,057 Cette prise qui est interdite.\n",
      "00:04:53,418 00:04:54,959 Au niveau de la manche, une saisie illicite.\n",
      "00:04:55,858 00:04:59,139 Esteno ici revient [*] dans le combat. Un chilo partout.\n",
      "00:04:59,798 00:04:59,978 Une\n",
      "00:05:00,379 00:05:00,619 partout.\n",
      "00:05:01,819 00:05:08,958 Et Stenius avec sa main en revers là, qui bloque bien l'épaule d'Audrey, ce qui l'empêche vraiment de pouvoir [*] bien asseoir sa puissance, la puissance de son bras droit.\n",
      "00:05:09,919 00:05:11,499 Va falloir qu'Audrey trouve [*] des [*] solutions.\n",
      "00:05:13,878 00:05:19,697 Va perturber encore plus son adversaire, c'est ce qu'elle essaye de faire là. Attention à la bordure quand même. Attention, oui, [*] parce qu'on sort un peu du côté d'Audrey,\n",
      "00:05:20,339 00:05:22,218 qui a du mal à impacter son adversaire désormais.\n",
      "00:05:22,619 00:05:24,319 Trop déstabilisé avec le [*] bas.\n",
      "00:05:24,558 00:05:26,619 Allez, [*] attention [*] à ça.\n",
      "00:05:27,058 00:05:31,139 [*] C'est trop statique et elle ne déstabilise pas avec des petits coups de pattes.\n",
      "00:05:32,559 00:05:33,718 Il faut qu'elle soit plus en jambes effectivement,\n",
      "00:05:34,059 00:05:34,757 Ceci là.\n",
      "00:05:39,158 00:05:41,158 Et Lucie qui lui dit c'est à toi,\n",
      "00:05:41,419 00:05:44,158 effectivement là elle [*] marque un petit peu le pas\n",
      "00:05:45,158 00:05:47,139 et en fait elle doit l'asphyxier la hollandaise.\n",
      "00:05:47,578 00:05:53,178 Allez, allez, allez, dernière minute dans cette finale. Et Audrey de Chuméo qui repart à l'assaut avec ce petit coup de patte à l'intérieur,\n",
      "00:05:53,739 00:05:55,879 qui doit produire un peu plus désormais. Voilà, qui redouble.\n",
      "00:05:57,059 00:05:59,858 [*] Attention à ne pas rentrer dans le style et dans le [*]\n",
      "00:06:00,257 00:06:01,016 de l'année irlandaise\n",
      "00:06:01,757 00:06:02,418 exactement, là c'est la dernière position\n",
      "00:06:03,757 00:06:04,377 oui là c'est bien, ça c'est mieux\n",
      "00:06:06,137 00:06:07,937 allez encore une poignée de secondes, 35 secondes\n",
      "00:06:09,877 00:06:10,677 et Audrey qui doit tenir\n",
      "00:06:17,757 00:06:19,576 allez, allez, allez ma grande, allez, [*] encore 30 secondes\n",
      "00:06:21,036 00:06:21,617 allez Audrey, allez\n",
      "00:06:22,417 00:06:24,596 la solution ça sera la main droite fort en haut\n",
      "00:06:25,757 00:06:26,937 décalage, il faut qu'elle décale\n",
      "00:06:27,858 00:06:28,437 voilà,\n",
      "00:06:28,677 00:06:30,576 c'est ça, la volantier hop, là c'est parti\n",
      "00:06:31,757 00:06:35,156 allez, allez, allez, il faut envoyer derrière, il faut envoyer, encore une poignée de secondes c'est pas suffisant, c'est pas suffisant, elle est revenue\n",
      "00:06:35,757 00:06:36,958 elle est revenue à l'intérieur\n",
      "00:06:40,037 00:06:41,117 allez, des petits coups de pattes\n",
      "00:06:43,937 00:06:43,997 allez, allez, allez\n",
      "00:06:45,797 00:06:46,497 oh la la, oh la la,\n",
      "00:06:46,778 00:06:47,997 oh la la la oh la la la,\n",
      "00:06:48,317 00:06:50,396 [*] oh la la la oh la la la,\n",
      "00:06:50,778 00:06:52,716 oh la la la oh la la la, c'est limite\n",
      "00:06:53,817 00:06:54,557 oh, c'est limite\n",
      "00:06:56,437 00:06:56,737 si\n",
      "00:06:57,858 00:06:59,516 ah non, il l'a enlevé, il l'enlève\n",
      "00:07:03,757 00:07:04,596 il l'a enlevé\n",
      "00:07:06,038 00:07:06,997 on en était pas loin\n",
      "00:07:08,697 00:07:14,937 respire un grand coup et on y retourne, allez golden [*] score, [*] Audrey Choumiou qui est pas passé loin de la correctionnelle sur cette OUCHIGARI,\n",
      "00:07:15,937 00:07:19,338 il faut quand même mettre plus d'impact avec sa main droite Audrey, qu'elle aille bien saisir la manche,\n",
      "00:07:19,716 00:07:26,437 voilà, oui, oh mais j'ai rien vu, [*] allez la liaison c'est fini, [*] c'est fini, [*] c'est fini, incroyable,\n",
      "00:07:26,638 00:07:34,336 [*] c'était mal, [*] la néerlandaise, sur l'action d'Audrey je m'y doute pas peut-être, la victoire d'Audrey Choumiou,\n",
      "00:07:41,117 00:07:44,975 et ouais des images qu'on aime pas trop voir là, puisque la néerlandaise est restée au sol,\n",
      "00:07:46,278 00:07:50,858 et le jeu nous semble-t-il qui s'est dérobé sur le [*] dernier [*] impact,\n",
      "00:08:07,398 00:08:07,778 voilà, voilà,\n",
      "00:08:08,117 00:08:10,177 voilà, c'est le monsieur qui revient au boitillon, on la [*] commence,\n",
      "00:08:10,456 00:08:13,016 [*] Audrey [*] Choumiou !\n",
      "00:08:18,838 00:08:18,858 Musique\n",
      "00:08:19,237 00:08:19,297 Musique\n",
      "00:08:20,937 00:08:19,297 Musique\n"
     ]
    }
   ],
   "source": [
    "srtLines=[]\n",
    "for i,(start,end,mot) in enumerate(srtTours):\n",
    "    print(start,end,mot)\n",
    "    n=i+1\n",
    "    srtLines.append(str(n))\n",
    "    srtLines.append(start+\" --> \"+end)\n",
    "    srtLines.append(mot)\n",
    "    srtLines.append(\"\")\n"
   ]
  },
  {
   "cell_type": "code",
   "execution_count": 29,
   "id": "014bf088-f399-48aa-af43-f2eae34f2bab",
   "metadata": {},
   "outputs": [],
   "source": [
    "with codecs.open(json1.replace(\".json\",\"-tours.srt\"),\"w\",encoding=\"utf8\") as outFile:\n",
    "    for srtLine in srtLines:\n",
    "        outFile.write(srtLine+\"\\n\")"
   ]
  },
  {
   "cell_type": "code",
   "execution_count": null,
   "id": "b5fed684-9f24-4b03-acff-f87a2e25fe7f",
   "metadata": {},
   "outputs": [],
   "source": []
  }
 ],
 "metadata": {
  "kernelspec": {
   "display_name": "Python 3 (ipykernel)",
   "language": "python",
   "name": "python3"
  },
  "language_info": {
   "codemirror_mode": {
    "name": "ipython",
    "version": 3
   },
   "file_extension": ".py",
   "mimetype": "text/x-python",
   "name": "python",
   "nbconvert_exporter": "python",
   "pygments_lexer": "ipython3",
   "version": "3.11.7"
  }
 },
 "nbformat": 4,
 "nbformat_minor": 5
}
