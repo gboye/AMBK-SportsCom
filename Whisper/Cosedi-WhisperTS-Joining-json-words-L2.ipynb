{
 "cells": [
  {
   "cell_type": "markdown",
   "id": "a1f001a1-109c-43c2-a45b-32ff9b4a42e5",
   "metadata": {},
   "source": [
    "# WhisperTS joining JSON to SRT"
   ]
  },
  {
   "cell_type": "code",
   "execution_count": 16,
   "id": "617bca3c-0a92-4b33-8388-50be8668884f",
   "metadata": {},
   "outputs": [
    {
     "name": "stdout",
     "output_type": "stream",
     "text": [
      "iMac\n"
     ]
    }
   ],
   "source": [
    "import re,codecs,unidecode\n",
    "import pandas as pd\n",
    "import networkx as nx\n",
    "import matplotlib.pylab as p\n",
    "\n",
    "import json,glob,os\n",
    "nMachine=os.uname()[1]\n",
    "if \"iMac\" in nMachine:\n",
    "    nMachine=\"iMac\"\n",
    "elif \"MacBook\" in nMachine:\n",
    "    nMachine=\"MacBook\"\n",
    "print(nMachine)"
   ]
  },
  {
   "cell_type": "code",
   "execution_count": 17,
   "id": "634d8f12-7a26-4be6-93d1-d3643e1b7cd2",
   "metadata": {},
   "outputs": [],
   "source": [
    "def ding():\n",
    "    os.system('afplay /System/Library/Sounds/Submarine.aiff')"
   ]
  },
  {
   "cell_type": "code",
   "execution_count": 18,
   "id": "c1fc5f6e-0dd9-45d4-a13d-d7b32280c9e9",
   "metadata": {},
   "outputs": [
    {
     "data": {
      "text/plain": [
       "9"
      ]
     },
     "execution_count": 18,
     "metadata": {},
     "output_type": "execute_result"
    }
   ],
   "source": [
    "repJson=\"/Users/gilles/sDrive/Cours/Bordeaux/L2-Corpus/Whisper/%s/Json/\"%nMachine\n",
    "segments=len(glob.glob(repJson+\"*.json\"))\n",
    "segments"
   ]
  },
  {
   "cell_type": "code",
   "execution_count": 19,
   "id": "4294ead0-95e7-4246-b1ac-348e93f4dba7",
   "metadata": {},
   "outputs": [],
   "source": [
    "json1=repJson+\"extrait-00.json\"\n",
    "with open(json1) as inFile:\n",
    "    whisper1=json.load(inFile)"
   ]
  },
  {
   "cell_type": "markdown",
   "id": "2f9278fb-db11-4a8a-a795-8410e4b70d87",
   "metadata": {},
   "source": [
    "### Gestion des timestamps"
   ]
  },
  {
   "cell_type": "code",
   "execution_count": 20,
   "id": "d9f994ba-d7a8-47ff-bba6-ba7c311a34e0",
   "metadata": {},
   "outputs": [],
   "source": [
    "def second2timestamp(seconds):\n",
    "    sHours=int(seconds/3600)\n",
    "    sMinutes=int((seconds-sHours*3600)/60)\n",
    "    sSeconds=int((seconds-sHours*3600-sMinutes*60))\n",
    "    sMilliseconds=int((seconds%1)*1000)\n",
    "    return \"%02d:%02d:%02d,%03d\"%(sHours,sMinutes,sSeconds,sMilliseconds)\n",
    "\n",
    "def timestamp2second(timestamp):\n",
    "    m=re.match(\"(\\d\\d):(\\d\\d):(\\d\\d),(\\d\\d\\d)\",timestamp)\n",
    "    if m:\n",
    "        seconds=(int(m.group(1))*60+int(m.group(2)))*60+int(m.group(3))+float(m.group(4))/1000\n",
    "        return seconds\n",
    "    else:\n",
    "        print(\"problème de timestamp\")\n",
    "        return\n",
    "\n",
    "def shiftTime(timestamp,decal):\n",
    "    return second2timestamp(timestamp2second(timestamp)+decal)"
   ]
  },
  {
   "cell_type": "code",
   "execution_count": 21,
   "id": "c31e8718-c3fb-4018-967c-4ef4c70d9e42",
   "metadata": {},
   "outputs": [],
   "source": [
    "punct = list('''!()[]{};:-'\"\\,<>./?@#$%^&*_~''')\n",
    "maxSize=8\n",
    "\n",
    "def removePunct(texte):\n",
    "    result=texte\n",
    "    for p in punct:\n",
    "        result=result.replace(p,\"\")\n",
    "    return result"
   ]
  },
  {
   "cell_type": "markdown",
   "id": "a4cdd29f-4e5a-40f8-a1a5-7ca2396d63f9",
   "metadata": {},
   "source": [
    "### Gestion des structures JSON de Whisper"
   ]
  },
  {
   "cell_type": "code",
   "execution_count": 22,
   "id": "14a9defc-c1a5-426a-9639-a347c17690bf",
   "metadata": {},
   "outputs": [],
   "source": [
    "def getWords(whisper):\n",
    "    lWords=[]\n",
    "    for segment in whisper[\"segments\"]:\n",
    "        for word in segment[\"words\"]:\n",
    "            lWords.append((second2timestamp(word[\"start\"]),\n",
    "                              second2timestamp(word[\"end\"]),\n",
    "                              word[\"text\"],\n",
    "                              word[\"confidence\"]))        \n",
    "    return [(t1,t2,w,c) for t1,t2,w,c in lWords if w!=\"\"]\n",
    "\n",
    "def getList(tWhisper):\n",
    "    return [unidecode.unidecode(removePunct(w)).lower() for _,_,w,_ in tWhisper]"
   ]
  },
  {
   "cell_type": "code",
   "execution_count": 23,
   "id": "ba35c3f6-eb4f-4ec7-90e5-89f6ffe40554",
   "metadata": {},
   "outputs": [],
   "source": [
    "srt=getWords(whisper1)\n",
    "srtList=getList(srt)"
   ]
  },
  {
   "cell_type": "raw",
   "id": "b1d9ce60-e21b-4d62-8924-673331721d46",
   "metadata": {},
   "source": [
    "w2=getWords(whisper2)\n",
    "w2List=getList(w2)"
   ]
  },
  {
   "cell_type": "markdown",
   "id": "63cd79d3-10be-418b-aed8-48913ef7dea6",
   "metadata": {},
   "source": [
    "### Trouver la jointure"
   ]
  },
  {
   "cell_type": "code",
   "execution_count": 24,
   "id": "4df443b5-271a-4135-8cb2-8ce0dd86c715",
   "metadata": {},
   "outputs": [],
   "source": [
    "def findSample(sample,ref):\n",
    "    lowSample=[t.lower() for t in sample]\n",
    "    lowRef=[t.lower() for t in ref]\n",
    "    i=0\n",
    "    while i<len(ref)-len(sample):\n",
    "        # print(\"ref\",i)\n",
    "        if lowSample==lowRef[i:i+len(sample)]:\n",
    "            return i\n",
    "        else:\n",
    "            i+=1\n",
    "    return None"
   ]
  },
  {
   "cell_type": "markdown",
   "id": "87468d77-acae-49fe-b498-f65df8f39918",
   "metadata": {},
   "source": [
    "### Collage des mots\n",
    "1. on cherche la partie commune entre le nouveau segment et les sous-titres précédents\n",
    "2. on peut régler la longueur de la partie commune pour optimiser le collage *maxSize*\n",
    "3. on incrémente les temps de la nouvelle partie à partir du deuxième mot (pour éviter les erreurs de timestamp en début d'enregistrement)"
   ]
  },
  {
   "cell_type": "code",
   "execution_count": 25,
   "id": "6cc0ec9c-7abf-4ba9-b28c-17633ed887ce",
   "metadata": {},
   "outputs": [],
   "source": [
    "def pasteWords(srt,whisper2):\n",
    "    srtList=getList(srt)\n",
    "    w2=getWords(whisper2)\n",
    "    w2List=getList(w2)\n",
    "    lenW2=len(w2)\n",
    "    compSize=min(maxSize,lenW2)\n",
    "    i=1\n",
    "    print(compSize)\n",
    "    while i<lenW2-compSize:\n",
    "        sample=w2List[i:i+compSize]\n",
    "        ref=srtList\n",
    "        # print(sample)\n",
    "        idx=findSample(sample,ref)\n",
    "        if idx:\n",
    "            print(\"found\",i,idx)\n",
    "            break\n",
    "        else:\n",
    "            i+=1\n",
    "    if idx:\n",
    "        print(\"found\",i,idx,srtList[idx],srt[idx][0],w2List[i],w2[i][0])\n",
    "        tDecal=timestamp2second(srt[idx+1][0])-timestamp2second(w2[i+1][0])\n",
    "        print(second2timestamp(tDecal))\n",
    "        newSrt=[]\n",
    "        for n in range(i+1,lenW2):\n",
    "            nWord=w2[n]\n",
    "            newWord=(shiftTime(nWord[0],tDecal),shiftTime(nWord[1],tDecal),nWord[2],nWord[3])\n",
    "            newSrt.append(newWord)\n",
    "        print(srt[idx+1],newSrt[0])\n",
    "        return srt[:idx]+newSrt\n",
    "    else:\n",
    "        print(\"problème\")\n",
    "        ding()\n",
    "        ding()\n",
    "        ding()\n",
    "        return None"
   ]
  },
  {
   "cell_type": "code",
   "execution_count": 26,
   "id": "f6c24f30-426a-4144-9d78-fde30f5ed4fd",
   "metadata": {},
   "outputs": [
    {
     "name": "stdout",
     "output_type": "stream",
     "text": [
      "1\n",
      "8\n",
      "found 1 128\n",
      "found 1 128 vraiment 00:01:00,420 vraiment 00:00:00,420\n",
      "00:01:00,100\n",
      "('00:01:00,640', '00:01:00,820', 'un', 0.993) ('00:01:00,640', '00:01:00,899', 'un', 0.986)\n",
      "2\n",
      "8\n",
      "found 55 501\n",
      "found 55 501 regarde 00:02:46,979 regarde 00:00:46,859\n",
      "00:02:00,098\n",
      "('00:02:47,159', '00:02:47,219', 'la', 0.967) ('00:02:47,158', '00:02:47,217', 'la', 0.965)\n",
      "3\n",
      "8\n",
      "found 12 552\n",
      "found 12 552 ouais 00:03:02,598 ouais 00:00:02,250\n",
      "00:03:00,188\n",
      "('00:03:02,738', '00:03:02,858', 'là', 0.512) ('00:03:02,737', '00:03:02,959', 'là', 0.469)\n",
      "4\n",
      "8\n",
      "found 34 780\n",
      "found 34 780 le 00:04:13,127 le 00:00:13,339\n",
      "00:04:00,147\n",
      "('00:04:13,627', '00:04:13,868', 'blanc', 0.972) ('00:04:13,627', '00:04:13,867', 'blanc', 0.988)\n",
      "5\n",
      "8\n",
      "found 168 1138\n",
      "found 168 1138 il 00:05:53,056 il 00:00:52,570\n",
      "00:05:00,528\n",
      "('00:05:53,397', '00:05:53,556', 'va', 0.931) ('00:05:53,397', '00:05:53,897', 'va', 0.969)\n",
      "6\n",
      "8\n",
      "found 17 1287\n",
      "found 17 1287 cest 00:06:33,778 cest 00:00:33,200\n",
      "00:06:00,518\n",
      "('00:06:33,978', '00:06:34,057', 'pas', 0.977) ('00:06:33,978', '00:06:33,997', 'pas', 0.881)\n",
      "7\n",
      "8\n",
      "found 13 1390\n",
      "found 13 1390 tu 00:07:04,737 tu 00:00:03,879\n",
      "00:07:00,677\n",
      "('00:07:04,757', '00:07:04,778', 'sais', 0.63) ('00:07:04,757', '00:07:04,877', 'sais', 0.662)\n",
      "8\n",
      "8\n",
      "found 9 1611\n",
      "found 9 1611 brome 00:08:03,517 brome 00:00:02,919\n",
      "00:08:00,675\n",
      "('00:08:03,756', '00:08:03,896', 'ouais', 0.335) ('00:08:03,755', '00:08:03,915', 'ouais', 0.23)\n"
     ]
    }
   ],
   "source": [
    "if segments:\n",
    "    for i in range(1,segments):\n",
    "        print(i)\n",
    "        json2=repJson+\"extrait-%02d.json\"%i\n",
    "        with open(json2) as inFile:\n",
    "            whisper2=json.load(inFile)\n",
    "        newSrt=pasteWords(srt,whisper2)\n",
    "        if not newSrt:\n",
    "            break\n",
    "        else:\n",
    "            srt=newSrt\n",
    "# print(srt)"
   ]
  },
  {
   "cell_type": "code",
   "execution_count": 27,
   "id": "99e02c9b-4807-4c55-97ae-3d974f4086d4",
   "metadata": {
    "scrolled": true
   },
   "outputs": [],
   "source": [
    "pause=0.200\n",
    "\n",
    "srtTours=[]\n",
    "srtMots=[]\n",
    "bTour=True\n",
    "prevEnd=0\n",
    "pStart=second2timestamp(0)\n",
    "pEnd=0\n",
    "\n",
    "for i,(start,end,mot,confidence) in enumerate(srt):\n",
    "    # print(start,end,mot,confidence)\n",
    "    tStart=timestamp2second(start)\n",
    "    tEnd=timestamp2second(end)\n",
    "    # print(start,tStart,prevEnd)\n",
    "    if tStart-prevEnd>pause and prevEnd!=0:\n",
    "        pEnd=second2timestamp(prevEnd)\n",
    "        pTour=\" \".join(srtMots)\n",
    "        srtTours.append((pStart,pEnd,pTour))\n",
    "        pStart=start\n",
    "        prevEnd=tEnd\n",
    "        srtMots=[mot]\n",
    "        bPhrase=True\n",
    "    else:\n",
    "        srtMots.append(mot)\n",
    "        prevEnd=tEnd\n",
    "pTour=\" \".join(srtMots)\n",
    "srtTours.append((pStart,pEnd,pTour))"
   ]
  },
  {
   "cell_type": "code",
   "execution_count": 28,
   "id": "03cbe239-4113-4e69-a479-75a66b07cec4",
   "metadata": {},
   "outputs": [],
   "source": [
    "ding()"
   ]
  },
  {
   "cell_type": "code",
   "execution_count": 29,
   "id": "c21084d7-a297-42a3-8824-72ceba87a731",
   "metadata": {},
   "outputs": [
    {
     "name": "stdout",
     "output_type": "stream",
     "text": [
      "00:00:00,000 00:00:18,760 PICTOPLAYNER Kana,\n",
      "00:00:19,100 00:00:22,879 qui est en train de [*] s'installer, notre magnifique jungler, Closer,\n",
      "00:00:23,100 00:00:25,559 qui lui aussi est en train de s'installer, Rhea derrière,\n",
      "00:00:25,780 00:00:33,759 [*] les [*] derniers petits réglages, les derniers petits détails, le setup avant [*] de s'envoyer le génie Vladi,\n",
      "00:00:34,100 00:00:34,399 [*]\n",
      "00:00:34,729 00:00:37,880 le génie Vladi qui a fait vraiment deux [*] très bonnes games,\n",
      "00:00:38,219 00:00:47,420 je trouve moi, pour ses débuts en LEC, franchement il a été [*] au niveau, notre hyper carry, [*] notre Jinx, [*] F7,\n",
      "00:00:47,719 00:00:49,420 [*] qui a été chaud hier aussi,\n",
      "00:00:50,520 00:00:51,420 il a vraiment [*] fait une game de fou,\n",
      "00:00:52,259 00:00:53,899 et Taragou, même s'il a eu un early difficile,\n",
      "00:00:54,219 00:01:00,420 sur la fin de la game, le mid game et tout, il a sorti des combos, il a toujours été à l'initiation, avec Alistar, c'est\n",
      "00:01:00,640 00:01:02,179 un perso, attends deux secondes j'ai kill,\n",
      "00:01:02,399 00:01:04,959 c'est vraiment un perso compliqué de [*] briller dessus,\n",
      "00:01:05,340 00:01:10,459 et [*] sur la suite de la game il fallait être clutch, il a été, [*] il a été, il a été,\n",
      "00:01:10,698 00:01:13,078 il a dit les termes sur Twitter, ouais ouais c'était bien ce qui\n",
      "00:01:13,400 00:01:15,078 il faisait passer, enfin ce qui s'est passé,\n",
      "00:01:15,420 00:01:19,879 [*] la réaction des gens, il y a eu des excuses [*] etc, donc c'est carré, [*] c'est carré,\n",
      "00:01:20,679 00:01:33,379 c'est bien de temps en temps de [*] parler, t'es seul au cast ? Non je vais aller sur TS normalement, mes frères qui vont me rejoindre, frère, c'est impossible de rater, en fait c'est impossible de rater une game qu'accord frère, c'est [*] impossible frère, [*] c'est impossible, c'est impossible, [*] c'est impossible,\n",
      "00:01:34,099 00:01:36,759 la bête, la bête arrive, la bête arrive, le tix arrive,\n",
      "00:01:39,240 00:01:44,620 une victoire redonnerait un vrai souffle, ouais de toute façon dans tous les cas c'est un nouveau roster les mecs, donc [*] le souffle,\n",
      "00:01:45,079 00:01:50,759 le souffle je pense il a été [*] donné grâce à la game d'hier, je pense que la game d'hier elle aurait mis vraiment à mal\n",
      "00:01:50,998 00:01:58,620 Targamas et Up7 parce que eux, c'est un nouveau roster pour le top side, mais pour le bot side ça n'a pas changé, ils sortent quand même de deux splits terribles,\n",
      "00:01:58,879 00:01:59,620 terribles\n",
      "00:01:59,879 00:02:01,620 à vivre, où on n'a pas été bon,\n",
      "00:02:02,879 00:02:04,459 où c'était vraiment compliqué,\n",
      "00:02:04,740 00:02:06,817 tu vois, il y a eu, il y a eu des critiques, il y a eu,\n",
      "00:02:07,618 00:02:10,199 il y a eu tout ce qui s'est passé, [*] mais justement,\n",
      "00:02:11,439 00:02:17,399 c'est à eux qu'il faut redonner ce souffle, et c'est parti les amis, [*] nous [*] sommes [*] directement [*] dans la draft,\n",
      "00:02:18,860 00:02:19,459 Casey,\n",
      "00:02:20,439 00:02:25,438 il garde, il garde le what's the color pour les play-offs, [*] faudrait y goûter,\n",
      "00:02:25,818 00:02:29,959 salam les frères, salam, salam à tous, installez-vous, bonjour, bonjour, bonsoir,\n",
      "00:02:30,419 00:02:31,199 bonsoir,\n",
      "00:02:31,419 00:02:35,780 [*] tranquille, [*] on [*] est red side, on est red [*] side les gars,\n",
      "00:02:36,020 00:02:48,317 ce qui veut dire, ce qui veut dire que, on aura le [*] counter pick, la bête est là, ça vaut quoi Rip ? Oui je suis la bête, ça vaut quoi ? Ça va tranquille. Incroyable cette game hier. [*] Mais même, tu as la game d'avant ou pas ? J'ai deux BDS !\n",
      "00:02:48,537 00:02:48,978 Une game de foot ?\n",
      "00:02:49,537 00:02:50,037 Ouais j'ai regardé ouais !\n",
      "00:02:51,519 00:02:53,978 Une game de zan zan ! Ah [*] on l'a pas bien perdu !\n",
      "00:02:54,637 00:02:56,307 Combien t'es fait de way ?\n",
      "00:02:56,567 00:02:58,407 Vladić il sera pas sur Taliyah aussi !\n",
      "00:02:59,118 00:03:00,057 Humble ! Oh !\n",
      "00:03:00,598 00:03:02,519 Après Rumble ils vont le faire pick en face !\n",
      "00:03:02,737 00:03:03,959 là on est pas trop...\n",
      "00:03:04,258 00:03:05,937 On est obligé de le ban, on est obligé de le ban le Rumble\n",
      "00:03:06,258 00:03:06,799 [*]\n",
      "00:03:07,078 00:03:09,899 Je sais pas si Phil est un grand joueur de Rumble, la Ashe\n",
      "00:03:10,477 00:03:12,258 La Ashe qui a une énorme prio en ce moment\n",
      "00:03:12,477 00:03:16,116 [*] En plus d'être flex speak, là on a des carries, j'ai l'impression qu'elle a repris un peu de buzz\n",
      "00:03:16,478 00:03:16,978 [*]\n",
      "00:03:18,817 00:03:23,557 Ouais en AD ça se joue hein Pas mauvais, j'aime pas trop mais [*] ouais la rose quand même fort\n",
      "00:03:24,079 00:03:25,739 [*] Moi j'aime pas trop en AD\n",
      "00:03:26,079 00:03:30,157 J'aime pas trop en AD et en support il faut quand même être... il faut quand même être chaud\n",
      "00:03:31,478 00:03:32,157 Là on a Malvez derrière\n",
      "00:03:33,899 00:03:34,579 Désolé, désolé les mecs\n",
      "00:03:36,407 00:03:36,847 Faut zoomer la cam\n",
      "00:03:37,829 00:03:44,209 Je suis en retard de fou sur Leon Je suis en x2 ça fait 10 minutes Ah ouais ? [*] Nautilus ! Le sécuriser, [*] logique\n",
      "00:03:44,649 00:03:47,728 C'est Leon qui est en retard de fou Ah ouais ? Je suis en x2 à Gogo\n",
      "00:03:48,649 00:03:49,168 Le x2 à Dogz ?\n",
      "00:03:50,649 00:03:51,347 [*] Le Azir !\n",
      "00:03:52,649 00:03:53,329 Le Aziz !\n",
      "00:03:54,649 00:03:55,306 Le Azir de Vlad J\n",
      "00:03:56,649 00:03:58,228 C'est bien, c'est bien, on l'a vu deux fois sur Thalia\n",
      "00:03:58,649 00:04:00,366 Il était très solide, Azir c'est un champion\n",
      "00:04:00,649 00:04:01,467 Il doit quand [*] même pouvoir\n",
      "00:04:02,649 00:04:04,247 accélérer, [*] Braum, Ashe\n",
      "00:04:04,647 00:04:06,967 Ça c'est une botlane [*] fresh lord ça\n",
      "00:04:08,647 00:04:09,486 Une botlane qui slow, qui stun\n",
      "00:04:10,647 00:04:12,266 Une botlane [*] qui nous fait chier\n",
      "00:04:12,647 00:04:13,027 Clairement,\n",
      "00:04:13,627 00:04:20,165 blanc pour l'arsen des persos qui cassent les couilles ouais [*] ouais un [*] peu de l'arsène il est bon sur le blanc [*] après\n",
      "00:04:20,506 00:04:30,817 le blanc moi j'ai pas trop à phileos un staloc pour f7 c'est vrai que sur ce patch a fait du ce [*] la rue de la bête il a repris du poil de la bête [*]\n",
      "00:04:31,747 00:04:34,336 savoir le last pick pour pour cana [*]\n",
      "00:04:34,917 00:04:56,755 sur un counter match [*] up [*] sur la bannière des classes santé des trucs comme ça on va les laisser justement pour les abus en avec un santé il a trop de compte heures en ligne en soit après sa [*] vie et même si toujours counter il peut tuer quand même avec 2000 gold de retard tu arrives enfin été [*] tombé et était bien encore [*] et bien tant que tu as un gant les givrons c'est bon frère atf qui va être banni [*] et f qui va être banni nous on a banni le vie et go\n",
      "00:04:57,097 00:05:02,216 [*] marche très bien avec le brum qui marche très bien que là le blanc [*] avec l'arrow de h aussi [*] et\n",
      "00:05:03,137 00:05:15,156 surtout marcoun il a fait une excellente game de vie et go contre vitality il avait carré carré cette game quasiment tout seul [*] préfère c'est juan n'y est un carré top à gauche là [*] ouais [*] mais carré top tu te fais coûteur [*]\n",
      "00:05:15,836 00:05:22,755 ouais c'est vrai [*] carré top c'est pas au hiver de j'en tremble de malade montaigne carrément je trop trop [*] fort [*]\n",
      "00:05:23,067 00:05:27,927 j'aime bien aussi en vrai [*] et que le perso qui a tué tout [*] passé rohani\n",
      "00:05:28,206 00:05:35,937 [*] c'est rohani pour un carré top ou la pop ceci c'est pas mal on peut pas je suis pas sûr de la qu'il nous a c'est joanie c'est sûr [*]\n",
      "00:05:36,687 00:05:40,706 pas les passer dans le dans le truc c'est tu vois tu vois c'est joani tu as ouais pas mal [*]\n",
      "00:05:41,725 00:05:48,456 et joanie [*] tu es top homme c'est top [*] la méta était [*] annoncé un [*]\n",
      "00:05:49,355 00:05:51,576 aller juste regarder mes stream agrippes\n",
      "00:05:52,196 00:05:53,055 la sèche\n",
      "00:05:53,397 00:05:55,918 va y avoir peut-être des zones de solo les mecs [*]\n",
      "00:05:57,018 00:05:58,646 Est-ce qu'ils font Kalista top ? Non\n",
      "00:06:00,908 00:06:04,348 On ne fera jamais ça en blind On ne fera jamais ça, Jax blind par contre Ça me va hein\n",
      "00:06:04,807 00:06:12,447 Tu peux pas faire ça normalement contre le monstre qui est Kada [*] Jax blind ça me va Après il a la [*] santé bah oui Il était bien contre tout le monde hein\n",
      "00:06:13,987 00:06:14,208 Ouais Même si en soit tu...\n",
      "00:06:14,807 00:06:17,127 C'est à dire en vrai il a même pas de counter T'es la Camille hein je pense hein\n",
      "00:06:18,528 00:06:20,687 Oh non Donc le blanc et tout c'est pas mal ouais\n",
      "00:06:21,448 00:06:25,127 Oh non la Camille là c'est pas mal hein Même si il y a un Braum en face\n",
      "00:06:25,448 00:06:25,918 [*]\n",
      "00:06:26,508 00:06:28,307 Braum en réponse à Nautilus bien sûr\n",
      "00:06:28,887 00:06:29,088 [*]\n",
      "00:06:29,618 00:06:37,956 J'allais dire Gnars c'est pas mal mais ils l'ont ban C'est bien lourd ouais [*] Gnars pas bien dans beaucoup de game mais là c'était pas mal Jax Avec Canna il a un Gnar de [*] folie\n",
      "00:06:38,417 00:06:40,077 Jax Zen Camille ouais avec les quêtes\n",
      "00:06:40,478 00:06:41,916 [*] Jax Il faut cette Camille\n",
      "00:06:46,417 00:06:47,817 Jax Qu'est ce qu'ils vont prendre en jeu avec Rek'Sai ok\n",
      "00:06:48,417 00:06:50,038 Jax En vrai Rek'Sai il rentre bien dans leur comp\n",
      "00:06:50,417 00:06:51,937 Jax Ah moi je trouve c'est bien dans leur comp\n",
      "00:06:52,417 00:06:52,817 Jax Leur 5 là\n",
      "00:06:54,417 00:06:55,497 Jax Je crois que dans leur comp c'est bien\n",
      "00:06:56,417 00:06:57,298 Jax Leur 5 start j'aime pas trop trop\n",
      "00:06:58,417 00:06:59,898 Jax Oh oui\n",
      "00:07:00,518 00:07:02,718 [*] Jax Oh oui mon petit Canna tu vas me sortir cette Camille\n",
      "00:07:04,417 00:07:12,916 Jax sais qu'à gauche je passe derrière, tu cours tout droit il se passe plus rien C'est gratuit, c'est pour ça que j'aime pas leur comp en fait Non leur draft en global j'aime pas mais je trouve que Rek'Sai c'est un bon pick là\n",
      "00:07:13,737 00:07:16,497 Avec leur comp c'est justement pour commit avec le blanc,\n",
      "00:07:16,777 00:07:19,415 avec l'arrow de hache, t'as vraiment des choses qui peuvent t'aider à rentrer\n",
      "00:07:19,777 00:07:22,437 Là au closer et t'es dans la merde et c'est la camis pour Kana\n",
      "00:07:23,137 00:07:25,656 C'est la camis pour Kana, notre draft est exceptionnel\n",
      "00:07:26,696 00:07:32,456 À [*] gauche il passe derrière c'est nul à chier Les gars le premier qui m'envoie un tweet la draft je sais pas quoi là on va se battre\n",
      "00:07:33,076 00:07:35,295 T'façon y aura toujours un mec si on perd il va dire la draft\n",
      "00:07:36,156 00:07:38,817 Non en fait faut dire avant les mecs, faut dire avant\n",
      "00:07:39,317 00:07:41,057 Là, avis sur la draft\n",
      "00:07:42,076 00:07:45,836 [*] Parce que après quand vous profitez du résultat pour taper sur la draft\n",
      "00:07:46,966 00:07:50,747 On scale de baiser ouais on scale bien mais va falloir faire gaffe aux accélérations\n",
      "00:07:51,006 00:07:53,427 à [*] partir du niveau 6 et même avant\n",
      "00:07:53,866 00:08:00,947 6 à 11 et tout ils vont être bien Ouais c'est ça, [*] c'est juste sur ce timing là si on arrive à [*] serrer les fesses on est bien au-de-fou\n",
      "00:08:03,137 00:08:03,516 La mise en\n",
      "00:08:03,755 00:08:03,516 ouais mais ça va en vrai. En vrai n'importe quoi dans le brome. Faire brome open de toute façon. Tu peux rien faire contre ces monstres.\n"
     ]
    }
   ],
   "source": [
    "srtLines=[]\n",
    "for i,(start,end,mot) in enumerate(srtTours):\n",
    "    print(start,end,mot)\n",
    "    n=i+1\n",
    "    srtLines.append(str(n))\n",
    "    srtLines.append(start+\" --> \"+end)\n",
    "    srtLines.append(mot)\n",
    "    srtLines.append(\"\")\n"
   ]
  },
  {
   "cell_type": "code",
   "execution_count": 30,
   "id": "014bf088-f399-48aa-af43-f2eae34f2bab",
   "metadata": {},
   "outputs": [],
   "source": [
    "with codecs.open(json1.replace(\".json\",\"-tours.srt\"),\"w\",encoding=\"utf8\") as outFile:\n",
    "    for srtLine in srtLines:\n",
    "        outFile.write(srtLine+\"\\n\")"
   ]
  },
  {
   "cell_type": "code",
   "execution_count": null,
   "id": "b5fed684-9f24-4b03-acff-f87a2e25fe7f",
   "metadata": {},
   "outputs": [],
   "source": []
  }
 ],
 "metadata": {
  "kernelspec": {
   "display_name": "Python 3 (ipykernel)",
   "language": "python",
   "name": "python3"
  },
  "language_info": {
   "codemirror_mode": {
    "name": "ipython",
    "version": 3
   },
   "file_extension": ".py",
   "mimetype": "text/x-python",
   "name": "python",
   "nbconvert_exporter": "python",
   "pygments_lexer": "ipython3",
   "version": "3.11.8"
  }
 },
 "nbformat": 4,
 "nbformat_minor": 5
}
