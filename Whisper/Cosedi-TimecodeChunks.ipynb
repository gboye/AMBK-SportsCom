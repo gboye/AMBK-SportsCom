{
 "cells": [
  {
   "cell_type": "markdown",
   "id": "4849e3e8-4860-4c3b-a2f2-6f3d6d7ea205",
   "metadata": {},
   "source": [
    "# Découpage des timecodes en tranches"
   ]
  },
  {
   "cell_type": "code",
   "execution_count": 1,
   "id": "f4b7fe8e-97fb-40cc-9e18-24d21c478f97",
   "metadata": {},
   "outputs": [],
   "source": [
    "minute=60*1000\n",
    "tranche=2*minute\n",
    "tcDebut=0\n",
    "ordreGrandeur=1.1"
   ]
  },
  {
   "cell_type": "code",
   "execution_count": 2,
   "id": "fee64d60-15c0-4ae1-a6cb-c0aeb65d9ccc",
   "metadata": {},
   "outputs": [
    {
     "name": "stdout",
     "output_type": "stream",
     "text": [
      "Intel MKL WARNING: Support of Intel(R) Streaming SIMD Extensions 4.2 (Intel(R) SSE4.2) enabled only processors has been deprecated. Intel oneAPI Math Kernel Library 2025.0 will require Intel(R) Advanced Vector Extensions (Intel(R) AVX) instructions.\n",
      "Intel MKL WARNING: Support of Intel(R) Streaming SIMD Extensions 4.2 (Intel(R) SSE4.2) enabled only processors has been deprecated. Intel oneAPI Math Kernel Library 2025.0 will require Intel(R) Advanced Vector Extensions (Intel(R) AVX) instructions.\n"
     ]
    }
   ],
   "source": [
    "import codecs\n",
    "import pandas as pd"
   ]
  },
  {
   "cell_type": "code",
   "execution_count": 3,
   "id": "27d071e9-67cd-4770-8b52-2e5d08dfde6e",
   "metadata": {},
   "outputs": [
    {
     "name": "stdout",
     "output_type": "stream",
     "text": [
      "Whisper_NouvelleZelande-France.xlsx\n"
     ]
    }
   ],
   "source": [
    "fSRT=\"FranceArgentine-DecWhisper-TransGold.srt\"\n",
    "fSRT=\"Whisper_NouvelleZelande-France-Act2.srt\"\n",
    "fSRT=\"Whisper_France_Argentine.srt\"\n",
    "fSRT=\"Whisper_NouvelleZelande-France.srt\"\n",
    "\n",
    "fXLSX=fSRT.replace(\".srt\",\".xlsx\")\n",
    "print (fXLSX)"
   ]
  },
  {
   "cell_type": "code",
   "execution_count": 4,
   "id": "2ee475ef-f2da-454f-99bf-b204213f11b6",
   "metadata": {},
   "outputs": [],
   "source": [
    "with codecs.open(fSRT,\"r\",encoding=\"utf8\") as inFile:\n",
    "    lignesSRT=[l.strip() for l in inFile.readlines()]\n",
    "if lignesSRT[0].endswith(\"1\"): lignesSRT[0]=\"1\"\n",
    "else: print(\"vérifier le fichier SRT\")"
   ]
  },
  {
   "cell_type": "code",
   "execution_count": 5,
   "id": "66e5631a-0eb6-4ae5-9465-aed9f841c767",
   "metadata": {},
   "outputs": [],
   "source": [
    "def getSeconds(time):\n",
    "    h, m, s = [float(i) for i in time.replace(\",\",\".\").split(':')]\n",
    "    result=((60*h+m)*60+s)*1000\n",
    "    return str(int(result))\n",
    "\n",
    "def getSubtitles(lignes):\n",
    "    result=[]\n",
    "    currentState=\"start\"\n",
    "    currentNum=1\n",
    "    for l in lignes:\n",
    "        if currentState==\"start\" and str(currentNum)==l:\n",
    "            num=l\n",
    "            currentState=\"time\"\n",
    "        elif currentState==\"time\":\n",
    "            t1,t2=l.split(\" --> \")\n",
    "            t1=getSeconds(t1)\n",
    "            t2=getSeconds(t2)\n",
    "            currentState=\"text\"\n",
    "        elif currentState==\"text\":\n",
    "            text=l\n",
    "            currentState=\"skip\"\n",
    "        elif currentState==\"skip\" and l==\"\":\n",
    "            currentState=\"start\"\n",
    "            currentNum+=1\n",
    "            result.append({\"num\":num,\"start\":t1,\"end\":t2,\"text\":text})\n",
    "    return result        "
   ]
  },
  {
   "cell_type": "code",
   "execution_count": 6,
   "id": "2bfca2c9-c808-4345-98f8-fa1977bba395",
   "metadata": {},
   "outputs": [],
   "source": [
    "subtitles=getSubtitles(lignesSRT)\n",
    "dfSub=pd.DataFrame(subtitles).set_index(\"num\")\n",
    "dfSub.start=dfSub.start.astype(int)\n",
    "dfSub.end=dfSub.end.astype(int)"
   ]
  },
  {
   "cell_type": "code",
   "execution_count": 7,
   "id": "b90bb2df-fe8a-4a1f-b00e-833e4a7f68ec",
   "metadata": {},
   "outputs": [
    {
     "name": "stdout",
     "output_type": "stream",
     "text": [
      "0 125800 125.8\n",
      "125800 246120 120.32\n",
      "246120 366480 120.36\n",
      "366480 487480 121.0\n",
      "487480 614880 127.4\n",
      "614880 739120 124.24\n",
      "739120 859880 120.76\n",
      "859880 980880 121.0\n",
      "980880 1100920 120.04\n",
      "1100920 1223340 122.42\n",
      "1223340 1345900 122.56\n",
      "1345900 1467780 121.88\n",
      "1467780 1588660 120.88\n",
      "1588660 1712160 123.5\n",
      "1712160 1833080 120.92\n",
      "1833080 1954300 121.22\n",
      "1954300 2076860 122.56\n",
      "2076860 2201500 124.64\n",
      "2201500 2322200 120.7\n",
      "2322200 2446400 124.2\n",
      "2446400 2566920 120.52\n",
      "2566920 2692920 126.0\n",
      "2692920 2813720 120.8\n",
      "2813720 2935480 121.76\n",
      "2935480 3058080 122.6\n",
      "3058080 3186080 128.0\n",
      "3186080 3306520 120.44\n",
      "3306520 3427280 120.76\n",
      "3427280 3549240 121.96\n",
      "3549240 3670240 121.0\n",
      "3670240 3790240 120.0\n",
      "3790240 3924840 134.6\n",
      "3924840 4045580 120.74\n",
      "4045580 4166080 120.5\n",
      "4166080 4287080 121.0\n",
      "4287080 4409120 122.04\n",
      "4409120 4532880 123.76\n",
      "4532880 4655160 122.28\n",
      "4655160 4776520 121.36\n",
      "4776520 4919520 143.0\n",
      "4919520 5039520 120.0\n",
      "5039520 5162520 123.0\n",
      "5162520 5283760 121.24\n",
      "5283760 5404040 120.28\n",
      "5404040 5527020 122.98\n",
      "5527020 5649660 122.64\n",
      "5649660 5770500 120.84\n",
      "5770500 5900300 129.8\n",
      "5900300 6021260 120.96\n",
      "6021260 6143100 121.84\n",
      "6143100 6264140 121.04\n",
      "6264140 6386180 122.04\n",
      "6386180 6502340 116.16\n"
     ]
    }
   ],
   "source": [
    "chunks=[]\n",
    "tcMax=dfSub.end.max()\n",
    "while tcDebut<tcMax:\n",
    "    chunkStart=dfSub[dfSub.start>=tcDebut].iloc[0].start\n",
    "    try:\n",
    "        chunkEnd=dfSub[dfSub.end>=chunkStart+tranche].iloc[0].end\n",
    "    except:\n",
    "        chunkEnd=tcMax\n",
    "    chunkSize=(chunkEnd-chunkStart)\n",
    "    print (chunkStart,chunkEnd,chunkSize/1000)\n",
    "    if tranche/ordreGrandeur<chunkSize<tranche*ordreGrandeur:\n",
    "        chunks.append((chunkStart,chunkEnd))\n",
    "    tcDebut=chunkEnd"
   ]
  },
  {
   "cell_type": "code",
   "execution_count": 8,
   "id": "dbb4aa1f-9e05-4fb9-a77e-4b2c79bc737e",
   "metadata": {},
   "outputs": [
    {
     "data": {
      "text/plain": [
       "[(0, 125800),\n",
       " (125800, 246120),\n",
       " (246120, 366480),\n",
       " (366480, 487480),\n",
       " (487480, 614880),\n",
       " (614880, 739120),\n",
       " (739120, 859880),\n",
       " (859880, 980880),\n",
       " (980880, 1100920),\n",
       " (1100920, 1223340),\n",
       " (1223340, 1345900),\n",
       " (1345900, 1467780),\n",
       " (1467780, 1588660),\n",
       " (1588660, 1712160),\n",
       " (1712160, 1833080),\n",
       " (1833080, 1954300),\n",
       " (1954300, 2076860),\n",
       " (2076860, 2201500),\n",
       " (2201500, 2322200),\n",
       " (2322200, 2446400),\n",
       " (2446400, 2566920),\n",
       " (2566920, 2692920),\n",
       " (2692920, 2813720),\n",
       " (2813720, 2935480),\n",
       " (2935480, 3058080),\n",
       " (3058080, 3186080),\n",
       " (3186080, 3306520),\n",
       " (3306520, 3427280),\n",
       " (3427280, 3549240),\n",
       " (3549240, 3670240),\n",
       " (3670240, 3790240),\n",
       " (3924840, 4045580),\n",
       " (4045580, 4166080),\n",
       " (4166080, 4287080),\n",
       " (4287080, 4409120),\n",
       " (4409120, 4532880),\n",
       " (4532880, 4655160),\n",
       " (4655160, 4776520),\n",
       " (4919520, 5039520),\n",
       " (5039520, 5162520),\n",
       " (5162520, 5283760),\n",
       " (5283760, 5404040),\n",
       " (5404040, 5527020),\n",
       " (5527020, 5649660),\n",
       " (5649660, 5770500),\n",
       " (5770500, 5900300),\n",
       " (5900300, 6021260),\n",
       " (6021260, 6143100),\n",
       " (6143100, 6264140),\n",
       " (6264140, 6386180),\n",
       " (6386180, 6502340)]"
      ]
     },
     "execution_count": 8,
     "metadata": {},
     "output_type": "execute_result"
    }
   ],
   "source": [
    "chunks"
   ]
  },
  {
   "cell_type": "code",
   "execution_count": 9,
   "id": "e365aebd-c6dd-4429-8875-45c3d62d5f7d",
   "metadata": {},
   "outputs": [],
   "source": [
    "dfChunks=pd.DataFrame.from_records(chunks)\n",
    "dfChunks[0]=pd.to_datetime(dfChunks[0],unit=\"ms\").dt.strftime(\"%H:%M:%S.%f\").str[:-3]\n",
    "dfChunks[1]=pd.to_datetime(dfChunks[1],unit=\"ms\").dt.strftime(\"%H:%M:%S.%f\").str[:-3]\n",
    "dfChunks.columns=\"début fin\".split(\" \")"
   ]
  },
  {
   "cell_type": "code",
   "execution_count": 10,
   "id": "60af2dbf-d0ea-47df-9d90-b15e0060bab8",
   "metadata": {},
   "outputs": [],
   "source": [
    "dfChunks.to_excel(fXLSX,index=False)"
   ]
  }
 ],
 "metadata": {
  "kernelspec": {
   "display_name": "Python 3 (ipykernel)",
   "language": "python",
   "name": "python3"
  },
  "language_info": {
   "codemirror_mode": {
    "name": "ipython",
    "version": 3
   },
   "file_extension": ".py",
   "mimetype": "text/x-python",
   "name": "python",
   "nbconvert_exporter": "python",
   "pygments_lexer": "ipython3",
   "version": "3.9.18"
  }
 },
 "nbformat": 4,
 "nbformat_minor": 5
}
