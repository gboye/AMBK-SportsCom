{
 "cells": [
  {
   "cell_type": "markdown",
   "id": "a1f001a1-109c-43c2-a45b-32ff9b4a42e5",
   "metadata": {},
   "source": [
    "# WhisperTS joining JSON to SRT"
   ]
  },
  {
   "cell_type": "code",
   "execution_count": 456,
   "id": "617bca3c-0a92-4b33-8388-50be8668884f",
   "metadata": {},
   "outputs": [
    {
     "name": "stdout",
     "output_type": "stream",
     "text": [
      "iMac\n"
     ]
    }
   ],
   "source": [
    "import re,codecs,unidecode\n",
    "import pandas as pd\n",
    "import networkx as nx\n",
    "import matplotlib.pylab as p\n",
    "\n",
    "import json,glob,os\n",
    "nMachine=os.uname()[1]\n",
    "if \"iMac\" in nMachine:\n",
    "    nMachine=\"iMac\"\n",
    "elif \"MacBook\" in nMachine:\n",
    "    nMachine=\"MacBook\"\n",
    "print(nMachine)"
   ]
  },
  {
   "cell_type": "code",
   "execution_count": 457,
   "id": "634d8f12-7a26-4be6-93d1-d3643e1b7cd2",
   "metadata": {},
   "outputs": [],
   "source": [
    "def ding():\n",
    "    os.system('afplay /System/Library/Sounds/Submarine.aiff')"
   ]
  },
  {
   "cell_type": "code",
   "execution_count": 458,
   "id": "c1fc5f6e-0dd9-45d4-a13d-d7b32280c9e9",
   "metadata": {},
   "outputs": [
    {
     "data": {
      "text/plain": [
       "8"
      ]
     },
     "execution_count": 458,
     "metadata": {},
     "output_type": "execute_result"
    }
   ],
   "source": [
    "repJson=\"/Users/gilles/sDrive/Cours/Bordeaux/L2-Corpus/Whisper/%s/Json/\"%nMachine\n",
    "segments=len(glob.glob(repJson+\"*.json\"))\n",
    "segments"
   ]
  },
  {
   "cell_type": "code",
   "execution_count": 459,
   "id": "4294ead0-95e7-4246-b1ac-348e93f4dba7",
   "metadata": {},
   "outputs": [],
   "source": [
    "json1=repJson+\"extrait-00.json\"\n",
    "with open(json1) as inFile:\n",
    "    whisper1=json.load(inFile)"
   ]
  },
  {
   "cell_type": "markdown",
   "id": "2f9278fb-db11-4a8a-a795-8410e4b70d87",
   "metadata": {},
   "source": [
    "### Gestion des timestamps"
   ]
  },
  {
   "cell_type": "code",
   "execution_count": 460,
   "id": "d9f994ba-d7a8-47ff-bba6-ba7c311a34e0",
   "metadata": {},
   "outputs": [],
   "source": [
    "def second2timestamp(seconds):\n",
    "    sHours=int(seconds/3600)\n",
    "    sMinutes=int((seconds-sHours*3600)/60)\n",
    "    sSeconds=int((seconds-sHours*3600-sMinutes*60))\n",
    "    sMilliseconds=int((seconds%1)*1000)\n",
    "    return \"%02d:%02d:%02d,%03d\"%(sHours,sMinutes,sSeconds,sMilliseconds)\n",
    "\n",
    "def timestamp2second(timestamp):\n",
    "    m=re.match(\"(\\d\\d):(\\d\\d):(\\d\\d),(\\d\\d\\d)\",timestamp)\n",
    "    if m:\n",
    "        seconds=(int(m.group(1))*60+int(m.group(2)))*60+int(m.group(3))+float(m.group(4))/1000\n",
    "        return seconds\n",
    "    else:\n",
    "        print(\"problème de timestamp\")\n",
    "        return\n",
    "\n",
    "def shiftTime(timestamp,decal):\n",
    "    return second2timestamp(timestamp2second(timestamp)+decal)"
   ]
  },
  {
   "cell_type": "code",
   "execution_count": 461,
   "id": "c31e8718-c3fb-4018-967c-4ef4c70d9e42",
   "metadata": {},
   "outputs": [],
   "source": [
    "punct = list('''!()[]{};:-'\"\\,<>./?@#$%^&*_~''')\n",
    "maxSize=8\n",
    "\n",
    "def removePunct(texte):\n",
    "    result=texte\n",
    "    for p in punct:\n",
    "        result=result.replace(p,\"\")\n",
    "    return result"
   ]
  },
  {
   "cell_type": "markdown",
   "id": "a4cdd29f-4e5a-40f8-a1a5-7ca2396d63f9",
   "metadata": {},
   "source": [
    "### Gestion des structures JSON de Whisper"
   ]
  },
  {
   "cell_type": "code",
   "execution_count": 462,
   "id": "14a9defc-c1a5-426a-9639-a347c17690bf",
   "metadata": {},
   "outputs": [],
   "source": [
    "def getWords(whisper):\n",
    "    lWords=[]\n",
    "    for segment in whisper[\"segments\"]:\n",
    "        for word in segment[\"words\"]:\n",
    "            lWords.append((second2timestamp(word[\"start\"]),\n",
    "                              second2timestamp(word[\"end\"]),\n",
    "                              word[\"text\"],\n",
    "                              word[\"confidence\"]))        \n",
    "    return [(t1,t2,w,c) for t1,t2,w,c in lWords if w!=\"\"]\n",
    "\n",
    "def getList(tWhisper):\n",
    "    return [unidecode.unidecode(removePunct(w)).lower() for _,_,w,_ in tWhisper]"
   ]
  },
  {
   "cell_type": "code",
   "execution_count": 463,
   "id": "ba35c3f6-eb4f-4ec7-90e5-89f6ffe40554",
   "metadata": {},
   "outputs": [],
   "source": [
    "srt=getWords(whisper1)\n",
    "srtList=getList(srt)"
   ]
  },
  {
   "cell_type": "raw",
   "id": "b1d9ce60-e21b-4d62-8924-673331721d46",
   "metadata": {},
   "source": [
    "w2=getWords(whisper2)\n",
    "w2List=getList(w2)"
   ]
  },
  {
   "cell_type": "markdown",
   "id": "63cd79d3-10be-418b-aed8-48913ef7dea6",
   "metadata": {},
   "source": [
    "### Trouver la jointure"
   ]
  },
  {
   "cell_type": "code",
   "execution_count": 464,
   "id": "4df443b5-271a-4135-8cb2-8ce0dd86c715",
   "metadata": {},
   "outputs": [],
   "source": [
    "def findSample(sample,ref):\n",
    "    lowSample=[t.lower() for t in sample]\n",
    "    lowRef=[t.lower() for t in ref]\n",
    "    i=0\n",
    "    while i<len(ref)-len(sample):\n",
    "        # print(\"ref\",i)\n",
    "        if lowSample==lowRef[i:i+len(sample)]:\n",
    "            return i\n",
    "        else:\n",
    "            i+=1\n",
    "    return None"
   ]
  },
  {
   "cell_type": "markdown",
   "id": "87468d77-acae-49fe-b498-f65df8f39918",
   "metadata": {},
   "source": [
    "### Collage des mots\n",
    "1. on cherche la partie commune entre le nouveau segment et les sous-titres précédents\n",
    "2. on peut régler la longueur de la partie commune pour optimiser le collage *maxSize*\n",
    "3. on incrémente les temps de la nouvelle partie à partir du deuxième mot (pour éviter les erreurs de timestamp en début d'enregistrement)"
   ]
  },
  {
   "cell_type": "code",
   "execution_count": 465,
   "id": "6cc0ec9c-7abf-4ba9-b28c-17633ed887ce",
   "metadata": {},
   "outputs": [],
   "source": [
    "def pasteWords(srt,whisper2):\n",
    "    srtList=getList(srt)\n",
    "    w2=getWords(whisper2)\n",
    "    w2List=getList(w2)\n",
    "    lenW2=len(w2)\n",
    "    compSize=min(maxSize,lenW2)\n",
    "    i=1\n",
    "    print(compSize)\n",
    "    while i<lenW2-compSize:\n",
    "        sample=w2List[i:i+compSize]\n",
    "        ref=srtList\n",
    "        # print(sample)\n",
    "        idx=findSample(sample,ref)\n",
    "        if idx:\n",
    "            print(\"found\",i,idx)\n",
    "            break\n",
    "        else:\n",
    "            i+=1\n",
    "    if idx:\n",
    "        print(\"found\",i,idx,srtList[idx],srt[idx][0],w2List[i],w2[i][0])\n",
    "        tDecal=timestamp2second(srt[idx+1][0])-timestamp2second(w2[i+1][0])\n",
    "        print(second2timestamp(tDecal))\n",
    "        newSrt=[]\n",
    "        for n in range(i+1,lenW2):\n",
    "            nWord=w2[n]\n",
    "            newWord=(shiftTime(nWord[0],tDecal),shiftTime(nWord[1],tDecal),nWord[2],nWord[3])\n",
    "            newSrt.append(newWord)\n",
    "        print(srt[idx+1],newSrt[0])\n",
    "        return srt[:idx]+newSrt\n",
    "    else:\n",
    "        print(\"problème\")\n",
    "        ding()\n",
    "        ding()\n",
    "        ding()\n",
    "        return None"
   ]
  },
  {
   "cell_type": "code",
   "execution_count": 466,
   "id": "f6c24f30-426a-4144-9d78-fde30f5ed4fd",
   "metadata": {},
   "outputs": [
    {
     "name": "stdout",
     "output_type": "stream",
     "text": [
      "1\n",
      "8\n",
      "found 8 110\n",
      "found 8 110 je 00:01:02,820 je 00:00:02,720\n",
      "00:01:00,060\n",
      "('00:01:02,979', '00:01:03,140', 'pense', 0.998) ('00:01:02,978', '00:01:03,179', 'pense', 0.999)\n",
      "2\n",
      "8\n",
      "found 3 215\n",
      "found 3 215 crois 00:02:00,859 crois 00:00:07,179\n",
      "00:01:53,558\n",
      "('00:02:00,879', '00:02:01,200', 'que', 0.451) ('00:02:00,878', '00:02:00,998', 'que', 0.983)\n",
      "3\n",
      "8\n",
      "found 3 354\n",
      "found 3 354 un 00:02:53,638 un 00:00:00,120\n",
      "00:02:53,539\n",
      "('00:02:53,699', '00:02:53,878', 'problème', 0.997) ('00:02:53,699', '00:02:53,859', 'problème', 1.0)\n",
      "4\n",
      "8\n",
      "found 1 480\n",
      "found 1 480 faut 00:03:54,539 faut 00:00:00,300\n",
      "00:03:53,617\n",
      "('00:03:54,698', '00:03:54,779', 'que', 0.98) ('00:03:54,698', '00:03:54,836', 'que', 0.915)\n",
      "5\n",
      "8\n",
      "found 1 633\n",
      "found 1 633 va 00:04:53,898 va 00:00:00,180\n",
      "00:04:53,637\n",
      "('00:04:54,057', '00:04:54,398', 'exister', 0.978) ('00:04:54,057', '00:04:54,396', 'exister', 0.983)\n",
      "6\n",
      "8\n",
      "found 6 737\n",
      "found 6 737 on 00:05:58,537 on 00:00:04,719\n",
      "00:05:53,516\n",
      "('00:05:58,637', '00:05:58,917', 'va', 0.99) ('00:05:58,637', '00:05:58,796', 'va', 0.994)\n",
      "7\n",
      "8\n",
      "found 5 877\n",
      "found 5 877 une 00:06:55,336 une 00:00:01,800\n",
      "00:06:53,516\n",
      "('00:06:55,415', '00:06:55,675', 'petite', 0.986) ('00:06:55,415', '00:06:55,676', 'petite', 0.995)\n"
     ]
    }
   ],
   "source": [
    "if segments:\n",
    "    for i in range(1,segments):\n",
    "        print(i)\n",
    "        json2=repJson+\"extrait-%02d.json\"%i\n",
    "        with open(json2) as inFile:\n",
    "            whisper2=json.load(inFile)\n",
    "        newSrt=pasteWords(srt,whisper2)\n",
    "        if not newSrt:\n",
    "            break\n",
    "        else:\n",
    "            srt=newSrt\n",
    "# print(srt)"
   ]
  },
  {
   "cell_type": "code",
   "execution_count": 467,
   "id": "99e02c9b-4807-4c55-97ae-3d974f4086d4",
   "metadata": {
    "scrolled": true
   },
   "outputs": [],
   "source": [
    "pause=0.200\n",
    "\n",
    "srtTours=[]\n",
    "srtMots=[]\n",
    "bTour=True\n",
    "prevEnd=0\n",
    "pStart=second2timestamp(0)\n",
    "pEnd=0\n",
    "\n",
    "for i,(start,end,mot,confidence) in enumerate(srt):\n",
    "    # print(start,end,mot,confidence)\n",
    "    tStart=timestamp2second(start)\n",
    "    tEnd=timestamp2second(end)\n",
    "    # print(start,tStart,prevEnd)\n",
    "    if tStart-prevEnd>pause and prevEnd!=0:\n",
    "        pEnd=second2timestamp(prevEnd)\n",
    "        pTour=\" \".join(srtMots)\n",
    "        srtTours.append((pStart,pEnd,pTour))\n",
    "        pStart=start\n",
    "        prevEnd=tEnd\n",
    "        srtMots=[mot]\n",
    "        bPhrase=True\n",
    "    else:\n",
    "        srtMots.append(mot)\n",
    "        prevEnd=tEnd\n",
    "pTour=\" \".join(srtMots)\n",
    "srtTours.append((pStart,pEnd,pTour))"
   ]
  },
  {
   "cell_type": "code",
   "execution_count": 468,
   "id": "03cbe239-4113-4e69-a479-75a66b07cec4",
   "metadata": {},
   "outputs": [],
   "source": [
    "ding()"
   ]
  },
  {
   "cell_type": "code",
   "execution_count": 469,
   "id": "c21084d7-a297-42a3-8824-72ceba87a731",
   "metadata": {},
   "outputs": [
    {
     "name": "stdout",
     "output_type": "stream",
     "text": [
      "00:00:00,000 00:00:02,480 Ah oui, mais mec c'est trop bien fait leur truc par contre !\n",
      "00:00:03,020 00:00:04,540 Le [*] système est incroyable hein !\n",
      "00:00:06,179 00:00:09,259 Le système est vraiment incroyable ! Attendez, je fais les cloisons encore ?\n",
      "00:00:11,619 00:00:14,900 Là normalement, [*] ici, [*] c'est cloisonné tout le long.\n",
      "00:00:17,480 00:00:17,800 Ok.\n",
      "00:00:23,539 00:00:23,859 [*] Là.\n",
      "00:00:28,059 00:00:30,480 Putain, comment faire ? Là j'ai du mal à me rendre compte.\n",
      "00:00:31,460 00:00:32,020 Je vais faire ici.\n",
      "00:00:32,979 00:00:33,200 Hop.\n",
      "00:00:36,759 00:00:38,978 Là il y a la place d'un couloir chat ou pas vous pensez ?\n",
      "00:00:39,619 00:00:40,079 Attends, merde.\n",
      "00:00:44,719 00:00:46,719 Genre là ça fait un couloir en vrai non ?\n",
      "00:00:47,640 00:00:49,539 Ça [*] fait un couloir même trop grand non ?\n",
      "00:00:56,520 00:01:00,219 Ah, Détroit j'ai adoré déjà, on l'a déjà fait, c'est un gigabanger.\n",
      "00:01:00,479 00:01:01,700 Merci beaucoup Gira pour le subs adorable.\n",
      "00:01:02,978 00:01:03,978 pense là c'est un peu plus correct\n",
      "00:01:05,040 00:01:05,060 Ok\n",
      "00:01:05,960 00:01:10,159 [*] On est pas mal hein, là on est pas trop mal Euh [*] ça en fait il faut que je le décale\n",
      "00:01:11,140 00:01:11,418 Attends\n",
      "00:01:15,960 00:01:17,138 C'est pas exactement comme ça\n",
      "00:01:19,959 00:01:22,040 [*] Il faut que je décale ça\n",
      "00:01:23,959 00:01:24,379 Oh la merde\n",
      "00:01:25,959 00:01:27,399 Il échappe, [*] non ?\n",
      "00:01:30,040 00:01:30,718 [*] Ok\n",
      "00:01:35,959 00:01:37,278 Putain y'a un truc qui va pas là\n",
      "00:01:37,959 00:01:38,819 Y'a un truc qui cloche dans la forme\n",
      "00:01:39,959 00:01:41,299 Ah je sais ce que c'est\n",
      "00:01:41,959 00:01:43,539 J'ai trouvé le truc qui cloche\n",
      "00:01:43,959 00:01:45,459 Ok euh je viens de me rappeler en fait\n",
      "00:01:45,998 00:01:48,438 [*] Comment je supprime ? Supre ?\n",
      "00:01:49,959 00:01:51,299 C'est vraiment très intuitif par contre\n",
      "00:01:51,959 00:01:52,840 Euh hop\n",
      "00:02:00,039 00:02:02,278 [*] Je que c'est plus comme ça en fait la forme.\n",
      "00:02:04,257 00:02:05,378 Ouais je pense que c'est plus ça.\n",
      "00:02:07,218 00:02:10,116 En fait j'avais un truc en tête, faut juste que je me rappelle comment c'est exactement.\n",
      "00:02:10,718 00:02:11,877 Parce que ça fait longtemps que j'ai pas vu.\n",
      "00:02:13,957 00:02:15,138 Ok, [*] ok, ok.\n",
      "00:02:16,397 00:02:20,217 On va tester comme ça et voir si c'est mieux. Là y'a un mur ou y'a pas de mur chat ? Ici.\n",
      "00:02:21,117 00:02:24,116 Tu te rends pas compte mais c'est super grand. Ah bah après on [*] va affiner peut-être.\n",
      "00:02:24,318 00:02:28,736 Faudrait que je place un meuble pour me rendre compte [*] d'à quel point c'est immense.\n",
      "00:02:29,918 00:02:30,937 Genre là c'est vraiment très grand.\n",
      "00:02:32,399 00:02:34,956 Attends je vais mettre une fenêtre bévitrée que j'avais tout à l'heure pour voir.\n",
      "00:02:45,598 00:02:48,478 Non c'est pas si grand là, y'a un problème de proportion par rapport à ce que je voulais.\n",
      "00:02:52,299 00:02:54,158 [*] Y'a problème de proportion.\n",
      "00:02:56,338 00:02:59,298 Il faudrait que j'enlève le mur. Comment on fait pour déconstruire un mur, chat ?\n",
      "00:03:01,718 00:03:05,019 [*] Je sais pas comment on fait.\n",
      "00:03:06,539 00:03:07,157 Ah, bah ok.\n",
      "00:03:07,738 00:03:08,078 Ok, ok.\n",
      "00:03:08,378 00:03:09,557 Une case égale un Sims.\n",
      "00:03:09,898 00:03:12,998 En fait, il faudrait que je place un meuble télé, genre, tu vois, pour me rendre compte, par exemple.\n",
      "00:03:13,718 00:03:14,998 Attends, il y a un meuble télé là-dedans ?\n",
      "00:03:16,278 00:03:18,639 [*] Ou un lit double ? Lit double, c'est vraiment le...\n",
      "00:03:18,938 00:03:20,578 Ah ouais, [*] putain, d'accord.\n",
      "00:03:21,199 00:03:24,959 Ah ouais, non, mais là, c'est trop grand, là. C'est pas du tout aussi grand, mon truc, les gars, que je veux faire.\n",
      "00:03:32,618 00:03:33,778 Non, c'est trop grand, c'est trop grand.\n",
      "00:03:40,718 00:03:41,038 Attends.\n",
      "00:03:48,919 00:03:49,818 C'est immense, là.\n",
      "00:03:50,499 00:03:51,198 Je suis obligé.\n",
      "00:03:51,438 00:03:52,498 Les gars, c'est trop, trop grand. C'est grand.\n",
      "00:03:52,919 00:03:53,758 J'ai abusé de fou.\n",
      "00:03:54,379 00:03:56,556 Il que je garde le lit en tête En fait il faudrait que je fasse\n",
      "00:03:57,237 00:04:04,395 Je le garde là vraiment pour qu'on ait l'échelle dans la tête Merci Shadow pour le seul, merci beaucoup [*] Maintenant que j'ai compris ça va aller beaucoup Je vais aller beaucoup plus vite là\n",
      "00:04:04,736 00:04:13,556 [*] Là j'ai un mur, c'est quoi en fait Je vais faire les pièces petit à petit Sinon on arrivera jamais à faire un truc qui correspond\n",
      "00:04:14,456 00:04:14,855 Hop\n",
      "00:04:15,057 00:04:16,336 Là je vais mettre la porte d'entrée\n",
      "00:04:20,637 00:04:21,855 C'est quoi cette porte\n",
      "00:04:25,278 00:04:26,117 Euh Pfff\n",
      "00:04:26,516 00:04:28,235 Ils sont moches les portes\n",
      "00:04:39,276 00:04:52,137 Vas-y ok je mets la porte là Et comme ça on se rendra bien compte [*] Ok du [*] coup là t'as l'entrée Quand tu rentres ici Il y a une pièce là Vous savez que [*] vraiment [*] j'invente pas Là ce que je vais faire les gars\n",
      "00:04:53,077 00:05:11,637 C'est que je vais faire Vous savez là ça exister je vous promets ma maison sera comme ça [*] retenez bien [*] là à [*] côté de l'entrée les chiottes [*] attends je vais placer les chiottes avant de mettre le mur [*] toilettes [*] toilettes\n",
      "00:05:21,797 00:05:26,576 [*] mais mec mais mais c'est gigantesque genre [*] c'est gigantesque\n",
      "00:05:32,896 00:05:40,435 ok je vais faire comme ça et on va y aller petit à vraiment petit à petit sinon j'arrive jamais à faire les proportions en fait ça paraît tout petit mais le terrain est immense ici mme et\n",
      "00:05:41,536 00:05:59,637 [*] même là mes toilettes et foncent en m² genre mais [*] c'est pas grave [*] porte [*] va mettre la même porte partout,\n",
      "00:06:00,435 00:06:02,896 bonjour, connaissez-vous Twitch Prime ?\n",
      "00:06:05,195 00:06:05,935 hop et hop,\n",
      "00:06:06,336 00:06:07,855 merci ma barbe, merci beaucoup pour le Prime,\n",
      "00:06:08,757 00:06:09,855 et oui on connait, on connait,\n",
      "00:06:10,137 00:06:12,617 [*] ah mais il y a des formats de porte,\n",
      "00:06:14,516 00:06:15,254 je la changerai après,\n",
      "00:06:15,797 00:06:16,456 je la changerai après,\n",
      "00:06:16,735 00:06:16,937 ok,\n",
      "00:06:17,216 00:06:18,117 maintenant qu'on a fait le chiot,\n",
      "00:06:19,096 00:06:19,776 on [*] continue,\n",
      "00:06:20,317 00:06:24,355 là tu rentres dans l'entrée, t'as les chiottes, le long des chiottes, t'as un mur,\n",
      "00:06:25,355 00:06:27,096 qui correspond [*] à un bureau,\n",
      "00:06:27,915 00:06:29,117 donc là normalement [*] ici,\n",
      "00:06:30,516 00:06:31,696 [*] t'arrives dans un bureau,\n",
      "00:06:32,797 00:06:35,437 [*] qui est pas immense non plus,\n",
      "00:06:36,196 00:06:37,375 qui peut faire office de chambre,\n",
      "00:06:41,196 00:06:41,355 ok,\n",
      "00:06:41,937 00:06:42,576 dans ce bureau,\n",
      "00:06:42,875 00:06:44,814 il y a du coup forcément une porte,\n",
      "00:06:48,096 00:06:49,276 est-ce que ça va me remettre la même porte ? ouais,\n",
      "00:06:50,235 00:06:50,896 il y a une porte,\n",
      "00:06:52,016 00:06:53,937 qui est là, et il y a des fenêtres évidemment,\n",
      "00:06:54,915 00:06:58,555 donc il y a petite fenêtre pour les chiottes en vrai c'est marrant à faire c'est\n",
      "00:07:06,256 00:07:11,336 intéressant je trouve petite fenêtre pour les chiottes normal [*] même si elle sera opaque [*] et là\n",
      "00:07:22,496 00:07:35,475 on va mettre une grande fenêtre dans le bureau ok un bureau qui fera toute la longueur mais elles sont bizarres ces fenêtres sont elles sont chelou non [*] ça lui dit à celle de ceux qui arrivent [*] elles sont peut-être pas très belle celle là de fenêtre [*] en haut à droite je peux modifier comment voir les murs [*] en haut à droite\n",
      "00:07:41,314 00:07:35,475 et\n"
     ]
    }
   ],
   "source": [
    "srtLines=[]\n",
    "for i,(start,end,mot) in enumerate(srtTours):\n",
    "    print(start,end,mot)\n",
    "    n=i+1\n",
    "    srtLines.append(str(n))\n",
    "    srtLines.append(start+\" --> \"+end)\n",
    "    srtLines.append(mot)\n",
    "    srtLines.append(\"\")\n"
   ]
  },
  {
   "cell_type": "code",
   "execution_count": 470,
   "id": "014bf088-f399-48aa-af43-f2eae34f2bab",
   "metadata": {},
   "outputs": [],
   "source": [
    "with codecs.open(json1.replace(\".json\",\"-tours.srt\"),\"w\",encoding=\"utf8\") as outFile:\n",
    "    for srtLine in srtLines:\n",
    "        outFile.write(srtLine+\"\\n\")"
   ]
  },
  {
   "cell_type": "code",
   "execution_count": null,
   "id": "b5fed684-9f24-4b03-acff-f87a2e25fe7f",
   "metadata": {},
   "outputs": [],
   "source": []
  }
 ],
 "metadata": {
  "kernelspec": {
   "display_name": "Python 3 (ipykernel)",
   "language": "python",
   "name": "python3"
  },
  "language_info": {
   "codemirror_mode": {
    "name": "ipython",
    "version": 3
   },
   "file_extension": ".py",
   "mimetype": "text/x-python",
   "name": "python",
   "nbconvert_exporter": "python",
   "pygments_lexer": "ipython3",
   "version": "3.11.8"
  }
 },
 "nbformat": 4,
 "nbformat_minor": 5
}
