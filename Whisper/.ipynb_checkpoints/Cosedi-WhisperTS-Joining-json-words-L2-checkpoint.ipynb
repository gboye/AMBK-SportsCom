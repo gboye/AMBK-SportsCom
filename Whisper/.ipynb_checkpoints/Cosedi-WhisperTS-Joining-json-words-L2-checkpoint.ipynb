{
 "cells": [
  {
   "cell_type": "markdown",
   "id": "a1f001a1-109c-43c2-a45b-32ff9b4a42e5",
   "metadata": {},
   "source": [
    "# WhisperTS joining JSON to SRT"
   ]
  },
  {
   "cell_type": "code",
   "execution_count": 701,
   "id": "617bca3c-0a92-4b33-8388-50be8668884f",
   "metadata": {},
   "outputs": [
    {
     "name": "stdout",
     "output_type": "stream",
     "text": [
      "iMac\n"
     ]
    }
   ],
   "source": [
    "import re,codecs,unidecode\n",
    "import pandas as pd\n",
    "import networkx as nx\n",
    "import matplotlib.pylab as p\n",
    "\n",
    "import json,glob,os\n",
    "nMachine=os.uname()[1]\n",
    "if \"iMac\" in nMachine:\n",
    "    nMachine=\"iMac\"\n",
    "elif \"MacBook\" in nMachine:\n",
    "    nMachine=\"MacBook\"\n",
    "print(nMachine)"
   ]
  },
  {
   "cell_type": "code",
   "execution_count": 702,
   "id": "634d8f12-7a26-4be6-93d1-d3643e1b7cd2",
   "metadata": {},
   "outputs": [],
   "source": [
    "def ding():\n",
    "    os.system('afplay /System/Library/Sounds/Submarine.aiff')"
   ]
  },
  {
   "cell_type": "code",
   "execution_count": 703,
   "id": "c1fc5f6e-0dd9-45d4-a13d-d7b32280c9e9",
   "metadata": {},
   "outputs": [
    {
     "data": {
      "text/plain": [
       "9"
      ]
     },
     "execution_count": 703,
     "metadata": {},
     "output_type": "execute_result"
    }
   ],
   "source": [
    "repJson=\"/Users/gilles/sDrive/Cours/Bordeaux/L2-Corpus/Whisper/%s/Json/\"%nMachine\n",
    "segments=len(glob.glob(repJson+\"*.json\"))\n",
    "segments"
   ]
  },
  {
   "cell_type": "code",
   "execution_count": 704,
   "id": "4294ead0-95e7-4246-b1ac-348e93f4dba7",
   "metadata": {},
   "outputs": [],
   "source": [
    "json1=repJson+\"extrait-00.json\"\n",
    "with open(json1) as inFile:\n",
    "    whisper1=json.load(inFile)"
   ]
  },
  {
   "cell_type": "markdown",
   "id": "2f9278fb-db11-4a8a-a795-8410e4b70d87",
   "metadata": {},
   "source": [
    "### Gestion des timestamps"
   ]
  },
  {
   "cell_type": "code",
   "execution_count": 705,
   "id": "d9f994ba-d7a8-47ff-bba6-ba7c311a34e0",
   "metadata": {},
   "outputs": [],
   "source": [
    "def second2timestamp(seconds):\n",
    "    sHours=int(seconds/3600)\n",
    "    sMinutes=int((seconds-sHours*3600)/60)\n",
    "    sSeconds=int((seconds-sHours*3600-sMinutes*60))\n",
    "    sMilliseconds=int((seconds%1)*1000)\n",
    "    return \"%02d:%02d:%02d,%03d\"%(sHours,sMinutes,sSeconds,sMilliseconds)\n",
    "\n",
    "def timestamp2second(timestamp):\n",
    "    m=re.match(\"(\\d\\d):(\\d\\d):(\\d\\d),(\\d\\d\\d)\",timestamp)\n",
    "    if m:\n",
    "        seconds=(int(m.group(1))*60+int(m.group(2)))*60+int(m.group(3))+float(m.group(4))/1000\n",
    "        return seconds\n",
    "    else:\n",
    "        print(\"problème de timestamp\")\n",
    "        return\n",
    "\n",
    "def shiftTime(timestamp,decal):\n",
    "    return second2timestamp(timestamp2second(timestamp)+decal)"
   ]
  },
  {
   "cell_type": "code",
   "execution_count": 706,
   "id": "c31e8718-c3fb-4018-967c-4ef4c70d9e42",
   "metadata": {},
   "outputs": [],
   "source": [
    "punct = list('''!()[]{};:-'\"\\,<>./?@#$%^&*_~''')\n",
    "maxSize=8\n",
    "\n",
    "def removePunct(texte):\n",
    "    result=texte\n",
    "    for p in punct:\n",
    "        result=result.replace(p,\"\")\n",
    "    return result"
   ]
  },
  {
   "cell_type": "markdown",
   "id": "a4cdd29f-4e5a-40f8-a1a5-7ca2396d63f9",
   "metadata": {},
   "source": [
    "### Gestion des structures JSON de Whisper"
   ]
  },
  {
   "cell_type": "code",
   "execution_count": 707,
   "id": "14a9defc-c1a5-426a-9639-a347c17690bf",
   "metadata": {},
   "outputs": [],
   "source": [
    "def getWords(whisper):\n",
    "    lWords=[]\n",
    "    for segment in whisper[\"segments\"]:\n",
    "        for word in segment[\"words\"]:\n",
    "            lWords.append((second2timestamp(word[\"start\"]),\n",
    "                              second2timestamp(word[\"end\"]),\n",
    "                              word[\"text\"],\n",
    "                              word[\"confidence\"]))        \n",
    "    return [(t1,t2,w,c) for t1,t2,w,c in lWords if w!=\"\"]\n",
    "\n",
    "def getList(tWhisper):\n",
    "    return [unidecode.unidecode(removePunct(w)).lower() for _,_,w,_ in tWhisper]"
   ]
  },
  {
   "cell_type": "code",
   "execution_count": 708,
   "id": "ba35c3f6-eb4f-4ec7-90e5-89f6ffe40554",
   "metadata": {},
   "outputs": [],
   "source": [
    "srt=getWords(whisper1)\n",
    "srtList=getList(srt)"
   ]
  },
  {
   "cell_type": "raw",
   "id": "b1d9ce60-e21b-4d62-8924-673331721d46",
   "metadata": {},
   "source": [
    "w2=getWords(whisper2)\n",
    "w2List=getList(w2)"
   ]
  },
  {
   "cell_type": "markdown",
   "id": "63cd79d3-10be-418b-aed8-48913ef7dea6",
   "metadata": {},
   "source": [
    "### Trouver la jointure"
   ]
  },
  {
   "cell_type": "code",
   "execution_count": 709,
   "id": "4df443b5-271a-4135-8cb2-8ce0dd86c715",
   "metadata": {},
   "outputs": [],
   "source": [
    "def findSample(sample,ref):\n",
    "    lowSample=[t.lower() for t in sample]\n",
    "    lowRef=[t.lower() for t in ref]\n",
    "    i=0\n",
    "    while i<len(ref)-len(sample):\n",
    "        # print(\"ref\",i)\n",
    "        if lowSample==lowRef[i:i+len(sample)]:\n",
    "            return i\n",
    "        else:\n",
    "            i+=1\n",
    "    return None"
   ]
  },
  {
   "cell_type": "markdown",
   "id": "87468d77-acae-49fe-b498-f65df8f39918",
   "metadata": {},
   "source": [
    "### Collage des mots\n",
    "1. on cherche la partie commune entre le nouveau segment et les sous-titres précédents\n",
    "2. on peut régler la longueur de la partie commune pour optimiser le collage *maxSize*\n",
    "3. on incrémente les temps de la nouvelle partie à partir du deuxième mot (pour éviter les erreurs de timestamp en début d'enregistrement)"
   ]
  },
  {
   "cell_type": "code",
   "execution_count": 710,
   "id": "6cc0ec9c-7abf-4ba9-b28c-17633ed887ce",
   "metadata": {},
   "outputs": [],
   "source": [
    "def pasteWords(srt,whisper2):\n",
    "    srtList=getList(srt)\n",
    "    w2=getWords(whisper2)\n",
    "    w2List=getList(w2)\n",
    "    lenW2=len(w2)\n",
    "    compSize=min(maxSize,lenW2)\n",
    "    i=1\n",
    "    print(compSize)\n",
    "    while i<lenW2-compSize:\n",
    "        sample=w2List[i:i+compSize]\n",
    "        ref=srtList\n",
    "        # print(sample)\n",
    "        idx=findSample(sample,ref)\n",
    "        if idx:\n",
    "            print(\"found\",i,idx)\n",
    "            break\n",
    "        else:\n",
    "            i+=1\n",
    "    if idx:\n",
    "        print(\"found\",i,idx,srtList[idx],srt[idx][0],w2List[i],w2[i][0])\n",
    "        tDecal=timestamp2second(srt[idx+1][0])-timestamp2second(w2[i+1][0])\n",
    "        print(second2timestamp(tDecal))\n",
    "        newSrt=[]\n",
    "        for n in range(i+1,lenW2):\n",
    "            nWord=w2[n]\n",
    "            newWord=(shiftTime(nWord[0],tDecal),shiftTime(nWord[1],tDecal),nWord[2],nWord[3])\n",
    "            newSrt.append(newWord)\n",
    "        print(srt[idx+1],newSrt[0])\n",
    "        return srt[:idx]+newSrt\n",
    "    else:\n",
    "        print(\"problème\")\n",
    "        ding()\n",
    "        ding()\n",
    "        ding()\n",
    "        return None"
   ]
  },
  {
   "cell_type": "code",
   "execution_count": 711,
   "id": "f6c24f30-426a-4144-9d78-fde30f5ed4fd",
   "metadata": {},
   "outputs": [
    {
     "name": "stdout",
     "output_type": "stream",
     "text": [
      "1\n",
      "7\n",
      "found 4 73\n",
      "found 4 73 la  00:01:00,659 la  00:00:00,820\n",
      "00:01:00,001\n",
      "('00:01:01,380', '00:01:01,700', \"C'est\", 0.779) ('00:01:01,380', '00:01:01,721', \"C'est\", 0.754)\n",
      "2\n",
      "7\n",
      "found 88 232\n",
      "found 88 232 tu 00:02:57,980 tu 00:00:57,799\n",
      "00:02:00,099\n",
      "('00:02:58,160', '00:02:58,201', 'me', 0.768) ('00:02:58,159', '00:02:58,318', 'me', 0.672)\n",
      "3\n",
      "7\n",
      "found 14 252\n",
      "found 14 252 tu 00:03:14,618 tu 00:00:14,720\n",
      "00:03:00,057\n",
      "('00:03:15,058', '00:03:15,259', 'sais', 0.358) ('00:03:15,057', '00:03:15,217', 'sais', 0.004)\n",
      "4\n",
      "7\n",
      "found 16 350\n",
      "found 16 350 enerve 00:04:08,437 enerve 00:00:08,140\n",
      "00:04:00,057\n",
      "('00:04:09,237', '00:04:09,637', '[*]', 0) ('00:04:09,236', '00:04:09,656', '[*]', 0)\n",
      "5\n",
      "7\n",
      "found 27 445\n",
      "found 27 445 quoi 00:05:18,457 quoi 00:00:18,460\n",
      "00:05:00,375\n",
      "('00:05:19,156', '00:05:21,276', '[*]', 0) ('00:05:19,155', '00:05:22,015', '[*]', 0)\n",
      "6\n",
      "7\n",
      "problème\n"
     ]
    }
   ],
   "source": [
    "if segments:\n",
    "    for i in range(1,segments):\n",
    "        print(i)\n",
    "        json2=repJson+\"extrait-%02d.json\"%i\n",
    "        with open(json2) as inFile:\n",
    "            whisper2=json.load(inFile)\n",
    "        newSrt=pasteWords(srt,whisper2)\n",
    "        if not newSrt:\n",
    "            break\n",
    "        else:\n",
    "            srt=newSrt\n",
    "# print(srt)"
   ]
  },
  {
   "cell_type": "code",
   "execution_count": 712,
   "id": "99e02c9b-4807-4c55-97ae-3d974f4086d4",
   "metadata": {
    "scrolled": true
   },
   "outputs": [],
   "source": [
    "pause=0.200\n",
    "\n",
    "srtTours=[]\n",
    "srtMots=[]\n",
    "bTour=True\n",
    "prevEnd=0\n",
    "pStart=second2timestamp(0)\n",
    "pEnd=0\n",
    "\n",
    "for i,(start,end,mot,confidence) in enumerate(srt):\n",
    "    # print(start,end,mot,confidence)\n",
    "    tStart=timestamp2second(start)\n",
    "    tEnd=timestamp2second(end)\n",
    "    # print(start,tStart,prevEnd)\n",
    "    if tStart-prevEnd>pause and prevEnd!=0:\n",
    "        pEnd=second2timestamp(prevEnd)\n",
    "        pTour=\" \".join(srtMots)\n",
    "        srtTours.append((pStart,pEnd,pTour))\n",
    "        pStart=start\n",
    "        prevEnd=tEnd\n",
    "        srtMots=[mot]\n",
    "        bPhrase=True\n",
    "    else:\n",
    "        srtMots.append(mot)\n",
    "        prevEnd=tEnd\n",
    "pTour=\" \".join(srtMots)\n",
    "srtTours.append((pStart,pEnd,pTour))"
   ]
  },
  {
   "cell_type": "code",
   "execution_count": 713,
   "id": "03cbe239-4113-4e69-a479-75a66b07cec4",
   "metadata": {},
   "outputs": [],
   "source": [
    "ding()"
   ]
  },
  {
   "cell_type": "code",
   "execution_count": 714,
   "id": "c21084d7-a297-42a3-8824-72ceba87a731",
   "metadata": {},
   "outputs": [
    {
     "name": "stdout",
     "output_type": "stream",
     "text": [
      "00:00:00,000 00:00:03,660 Cette image, tu me dis tout ce que tu vois et tout ça.\n",
      "00:00:09,849 00:00:11,108 Tu vois quoi là dans l'image ?\n",
      "00:00:12,960 00:00:16,000 Des [*] personnes ? Ils ont l'air comment ?\n",
      "00:00:21,280 00:00:22,399 C'est quoi leur humeur ?\n",
      "00:00:23,140 00:00:25,719 Ah eux là, ils sont comment [*] dans cette première ligne ?\n",
      "00:00:32,539 00:00:33,380 [*]\n",
      "00:00:34,700 00:00:36,079 Ils ont l'air [*] contents,\n",
      "00:00:36,299 00:00:37,700 tristes, énervés ?\n",
      "00:00:38,479 00:00:39,100 Contents.\n",
      "00:00:39,340 00:00:39,880 Contents ?\n",
      "00:00:41,950 00:00:42,189 Ok.\n",
      "00:00:43,469 00:00:44,270 Lui, il fait quoi ?\n",
      "00:00:46,409 00:00:46,810 Lui, il est là.\n",
      "00:00:48,310 00:00:49,228 Il est énervé.\n",
      "00:00:49,710 00:00:50,130 Ah oui ?\n",
      "00:00:52,979 00:00:53,219 Ok.\n",
      "00:00:55,020 00:00:55,399 Elle ?\n",
      "00:00:56,859 00:00:57,719 Elle rigole.\n",
      "00:00:58,340 00:00:58,420 Ah.\n",
      "00:01:00,079 00:01:00,658 Elle a quoi\n",
      "00:01:01,380 00:01:02,081 C'est quoi ça ?\n",
      "00:01:02,420 00:01:03,180 Des lunettes.\n",
      "00:01:03,400 00:01:03,561 Ok.\n",
      "00:01:05,310 00:01:07,349 Et au milieu là, il y a un trou non ?\n",
      "00:01:09,450 00:01:10,608 Oui. Ça veut dire quoi ?\n",
      "00:01:11,370 00:01:13,650 Ça veut dire qu'il a une dame écartée.\n",
      "00:01:14,051 00:01:14,269 Ok.\n",
      "00:01:16,570 00:01:17,730 Là c'est quoi ça ?\n",
      "00:01:18,110 00:01:18,911 Un avion.\n",
      "00:01:19,751 00:01:21,109 Sur le tableau il y a quoi ?\n",
      "00:01:23,700 00:01:25,400 Ils font quoi comme matière tu penses ?\n",
      "00:01:26,219 00:01:26,739 Euh...\n",
      "00:01:32,120 00:01:33,340 Avec des chiffres.\n",
      "00:01:37,680 00:01:38,659 Ils essayent de lire.\n",
      "00:01:39,480 00:01:39,680 Hum hum.\n",
      "00:01:41,939 00:01:44,359 Là elle fait quoi elle ? Une bulle.\n",
      "00:01:45,040 00:01:45,159 Oui.\n",
      "00:01:47,381 00:01:47,480 Hum.\n",
      "00:01:49,320 00:01:49,859 Lui ?\n",
      "00:01:50,969 00:01:51,730 Il a un ballon.\n",
      "00:01:52,290 00:01:52,531 Ouais.\n",
      "00:01:56,521 00:01:56,881 Elle ?\n",
      "00:01:57,120 00:02:00,319 Elle a l'air comment ? Dans son visage et tout ça ?\n",
      "00:02:02,510 00:02:03,569 Euh... Gentille.\n",
      "00:02:03,891 00:02:04,108 Oui.\n",
      "00:02:06,041 00:02:06,959 Et la maîtresse ?\n",
      "00:02:09,261 00:02:09,919 Gentille.\n",
      "00:02:10,719 00:02:10,919 Hum hum.\n",
      "00:02:12,181 00:02:12,700 Très bien.\n",
      "00:02:13,800 00:02:13,919 Hum.\n",
      "00:02:18,379 00:02:18,781 Elle ?\n",
      "00:02:19,160 00:02:20,099 Elle a l'air comment ?\n",
      "00:02:20,681 00:02:22,020 Tu penses ? Énervée.\n",
      "00:02:22,641 00:02:22,740 Ah.\n",
      "00:02:24,531 00:02:24,871 [*] Ok.\n",
      "00:02:25,531 00:02:26,490 C'est tout ce que tu vois ?\n",
      "00:02:27,129 00:02:28,909 Et c'est quoi la couleur des cheveux ?\n",
      "00:02:29,371 00:02:29,510 Le\n",
      "00:02:31,819 00:02:32,468 marron.\n",
      "00:02:33,701 00:02:34,300 On a tous ?\n",
      "00:02:35,770 00:02:37,229 Lui il les a comment les cheveux ?\n",
      "00:02:37,591 00:02:38,229 Jaune.\n",
      "00:02:38,891 00:02:39,210 Ok.\n",
      "00:02:39,511 00:02:39,829 Elle ?\n",
      "00:02:43,020 00:02:43,829 Et lui ?\n",
      "00:02:44,569 00:02:44,628 Noir.\n",
      "00:02:46,350 00:02:46,568 Ok.\n",
      "00:02:47,740 00:02:48,700 C'est tout ce que tu vois ?\n",
      "00:02:49,660 00:02:50,460 Et ça c'est quoi ?\n",
      "00:02:51,860 00:02:52,700 Casquette.\n",
      "00:02:53,219 00:02:53,419 Ok.\n",
      "00:02:54,540 00:02:54,818 Super.\n",
      "00:02:55,300 00:02:56,318 Je te montre l'autre image.\n",
      "00:02:58,159 00:03:05,878 me dis vraiment tout tout tout ce que tu vois [*] là [*] tu vois c'est où ça\n",
      "00:03:10,399 00:03:10,780 tu penses\n",
      "00:03:15,057 00:03:26,575 sais pas [*] ça c'est quoi [*] les [*] statues ah oui [*] ok [*] lui là il fait [*] quoi il a l'air comment\n",
      "00:03:28,497 00:03:42,596 [*] gentil [*] ok et il a quoi là sur [*] les [*] oreilles [*] il [*] fait quoi [*] de la [*] musique [*] et [*] elle\n",
      "00:03:45,036 00:03:54,056 il lâche une glace [*] lui il [*] joue avec un ballon [*] il est comment ce ballon\n",
      "00:03:56,417 00:04:08,437 car ok [*] lui il fait quoi [*] il [*] court [*] et il [*] rigole [*] ok [*] elle elle a l'air comment tu penses [*]\n",
      "00:04:09,236 00:04:37,117 [*] ah ouais [*] elle [*] gentil [*] et la mamie [*] énervé ah [*] oui et elle fait quoi [*] elle fait [*] quoi [*] elle [*] nourrit les pigeons\n",
      "00:04:40,856 00:05:18,456 oui [*] et elle [*] qu'est ce qu'elle fait [*] elle [*] rigole [*] oui et qu'est ce qu'elle fait derrière un or où tu penses qu'elle soit caché [*] ok [*] oui c'est un coin [*] ils [*] sont gentils et qu'est ce qu'ils font ils [*] amènent leurs bébés à la poussette [*] et [*] c'est quoi ça [*] elle [*] avait\n",
      "00:05:19,155 00:05:43,134 [*] elle court en rigolant [*] et lui, [*] il dit bonjour en rigolant, il est assis, [*] ok [*] et ça c'est quoi, là où il est assis, [*] je [*] sais pas, [*] il est là, elle sent comment ça, des fleurs, [*] elle [*] sent comment tu trouves,\n",
      "00:05:43,835 00:06:00,533 [*] rouge [*] et [*] jaune, ok, [*] c'est tout ce que tu vois, [*] maintenant [*] je te pose des questions, comment [*] comment tu es aujourd'hui, de quelle humeur [*] tu es, [*] gentil,\n",
      "00:06:00,875 00:06:08,454 [*] t'es gentil, t'es gentil tous les jours, [*] et [*] tu te sens comment toi, [*] bien,\n",
      "00:06:08,674 00:06:21,093 bien, t'es content, [*] vous allez faire quoi cet après-midi, [*] je [*] sais pas, [*] tu sais pas, vous allez à la piscine non, [*] ah oui, [*] ok,\n",
      "00:06:22,334 00:06:24,533 [*] hier tu étais où d'aller, oui,\n",
      "00:06:24,935 00:06:26,154 et vous avez fait quoi hier,\n",
      "00:06:32,355 00:06:33,415 vous avez été quelque part, non,\n",
      "00:06:38,814 00:06:39,033 oui,\n",
      "00:06:40,055 00:06:43,055 [*] au cinéma, ah,\n",
      "00:06:43,334 00:06:46,233 [*] vous avez regardé quoi, [*] joker,\n",
      "00:06:46,515 00:06:49,415 [*] ah ouais, [*] ça parlait de quoi,\n",
      "00:06:53,754 00:06:55,295 il faisait de la musique, non, oui,\n",
      "00:06:57,415 00:06:55,295 [*] ok, [*] c'était bien,\n"
     ]
    }
   ],
   "source": [
    "srtLines=[]\n",
    "for i,(start,end,mot) in enumerate(srtTours):\n",
    "    print(start,end,mot)\n",
    "    n=i+1\n",
    "    srtLines.append(str(n))\n",
    "    srtLines.append(start+\" --> \"+end)\n",
    "    srtLines.append(mot)\n",
    "    srtLines.append(\"\")\n"
   ]
  },
  {
   "cell_type": "code",
   "execution_count": 715,
   "id": "014bf088-f399-48aa-af43-f2eae34f2bab",
   "metadata": {},
   "outputs": [],
   "source": [
    "with codecs.open(json1.replace(\".json\",\"-tours.srt\"),\"w\",encoding=\"utf8\") as outFile:\n",
    "    for srtLine in srtLines:\n",
    "        outFile.write(srtLine+\"\\n\")"
   ]
  },
  {
   "cell_type": "code",
   "execution_count": null,
   "id": "b5fed684-9f24-4b03-acff-f87a2e25fe7f",
   "metadata": {},
   "outputs": [],
   "source": []
  }
 ],
 "metadata": {
  "kernelspec": {
   "display_name": "Python 3 (ipykernel)",
   "language": "python",
   "name": "python3"
  },
  "language_info": {
   "codemirror_mode": {
    "name": "ipython",
    "version": 3
   },
   "file_extension": ".py",
   "mimetype": "text/x-python",
   "name": "python",
   "nbconvert_exporter": "python",
   "pygments_lexer": "ipython3",
   "version": "3.11.8"
  }
 },
 "nbformat": 4,
 "nbformat_minor": 5
}
