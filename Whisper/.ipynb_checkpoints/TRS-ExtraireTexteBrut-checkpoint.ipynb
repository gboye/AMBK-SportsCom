{
 "cells": [
  {
   "cell_type": "code",
   "execution_count": 22,
   "id": "d47f3ebd-cc66-483a-9270-2b7e426e5a25",
   "metadata": {},
   "outputs": [],
   "source": [
    "import pyperclip\n",
    "from lxml import etree"
   ]
  },
  {
   "cell_type": "code",
   "execution_count": 10,
   "id": "b230b8b7-e5ea-44bf-8680-abfca7d03050",
   "metadata": {},
   "outputs": [],
   "source": [
    "repTrans=\"/Volumes/BroadExt/Gilles/Downloads/LNS3U5-Exercice de transcription-72051/\"\n",
    "fTransCompil=\"France-Canada-entete.trs\""
   ]
  },
  {
   "cell_type": "code",
   "execution_count": 11,
   "id": "ff8be4bf-33c3-4754-a5a5-39530754cd6e",
   "metadata": {},
   "outputs": [],
   "source": [
    "with open(repTrans+fTransCompil) as inFile:\n",
    "    xml=inFile.read()\n",
    "root = etree.fromstring(xml)"
   ]
  },
  {
   "cell_type": "code",
   "execution_count": 23,
   "id": "e44eaa1d-1c60-4055-bca1-01a0ca3cfe10",
   "metadata": {},
   "outputs": [],
   "source": [
    "pyperclip.copy('\\n'.join([l.strip() for l in root.itertext() if l.strip()!=\"\"]))"
   ]
  }
 ],
 "metadata": {
  "kernelspec": {
   "display_name": "Python [conda env:python2]",
   "language": "python",
   "name": "conda-env-python2-py"
  },
  "language_info": {
   "codemirror_mode": {
    "name": "ipython",
    "version": 2
   },
   "file_extension": ".py",
   "mimetype": "text/x-python",
   "name": "python",
   "nbconvert_exporter": "python",
   "pygments_lexer": "ipython2",
   "version": "2.7.16"
  }
 },
 "nbformat": 4,
 "nbformat_minor": 5
}
