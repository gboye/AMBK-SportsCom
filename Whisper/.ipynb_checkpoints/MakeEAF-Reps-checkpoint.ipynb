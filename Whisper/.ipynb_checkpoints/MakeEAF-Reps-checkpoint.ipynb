{
 "cells": [
  {
   "cell_type": "markdown",
   "id": "332477dd-3b41-4d10-a70b-950553043ab0",
   "metadata": {},
   "source": [
    "# Construire un EAF à partir d'un fichier de sous-titres issu de Whisper\n",
    "- le traitement est basé sur un SRT\n",
    "- chaque LINGUISTIC_TYPE_REF des TIER doit correspondre à un LINGUISTIC_TYPE_ID dans les LINGUISTIC_TYPE\n"
   ]
  },
  {
   "cell_type": "code",
   "execution_count": 13,
   "id": "4bf83a2b-91be-45b8-8804-0c0ad4a29fcb",
   "metadata": {},
   "outputs": [
    {
     "name": "stdout",
     "output_type": "stream",
     "text": [
      "iMac\n"
     ]
    }
   ],
   "source": [
    "import lxml.etree as ET\n",
    "import codecs\n",
    "import json,glob,os\n",
    "nMachine=os.uname()[1]\n",
    "if \"iMac\" in nMachine:\n",
    "    nMachine=\"iMac\"\n",
    "elif \"MacBook\" in nMachine:\n",
    "    nMachine=\"MacBook\"\n",
    "print(nMachine)"
   ]
  },
  {
   "cell_type": "code",
   "execution_count": 14,
   "id": "30264be7-2bba-4115-a434-2c1d7da0be7a",
   "metadata": {},
   "outputs": [],
   "source": [
    "def ding():\n",
    "    os.system('afplay /System/Library/Sounds/Submarine.aiff')"
   ]
  },
  {
   "cell_type": "markdown",
   "id": "1b920cdb-8841-44c3-b8b7-7750354dd60e",
   "metadata": {
    "tags": []
   },
   "source": [
    "## Sélection du fichier SRT"
   ]
  },
  {
   "cell_type": "code",
   "execution_count": 21,
   "id": "72f7f3b6-b2cc-44a0-bcfb-7260993c78ae",
   "metadata": {},
   "outputs": [
    {
     "data": {
      "text/plain": [
       "['/Users/gilles/sDrive/Cours/Bordeaux/L2-Corpus/Whisper/iMac/Json/BerloinSalome/enregistrement_10/',\n",
       " '/Users/gilles/sDrive/Cours/Bordeaux/L2-Corpus/Whisper/iMac/Json/BerloinSalome/enregistrement_9/',\n",
       " '/Users/gilles/sDrive/Cours/Bordeaux/L2-Corpus/Whisper/iMac/Json/ClavereauDarrieumerlouMarcheix/ECOLE PRIMAIRE LEOPOLD LACHAIZE 10/',\n",
       " '/Users/gilles/sDrive/Cours/Bordeaux/L2-Corpus/Whisper/iMac/Json/ClavereauDarrieumerlouMarcheix/ECOLE PRIMAIRE LEOPOLD LACHAIZE 13/',\n",
       " '/Users/gilles/sDrive/Cours/Bordeaux/L2-Corpus/Whisper/iMac/Json/ClavereauDarrieumerlouMarcheix/ECOLE PRIMAIRE LEOPOLD LACHAIZE 14/',\n",
       " '/Users/gilles/sDrive/Cours/Bordeaux/L2-Corpus/Whisper/iMac/Json/ClavereauDarrieumerlouMarcheix/ECOLE PRIMAIRE LEOPOLD LACHAIZE 16/',\n",
       " '/Users/gilles/sDrive/Cours/Bordeaux/L2-Corpus/Whisper/iMac/Json/ClavereauDarrieumerlouMarcheix/ECOLE PRIMAIRE LEOPOLD LACHAIZE 17/',\n",
       " '/Users/gilles/sDrive/Cours/Bordeaux/L2-Corpus/Whisper/iMac/Json/ClavereauDarrieumerlouMarcheix/ECOLE PRIMAIRE LEOPOLD LACHAIZE 20/',\n",
       " '/Users/gilles/sDrive/Cours/Bordeaux/L2-Corpus/Whisper/iMac/Json/ClavereauDarrieumerlouMarcheix/ECOLE PRIMAIRE LEOPOLD LACHAIZE 21/',\n",
       " '/Users/gilles/sDrive/Cours/Bordeaux/L2-Corpus/Whisper/iMac/Json/ClavereauDarrieumerlouMarcheix/ECOLE PRIMAIRE LEOPOLD LACHAIZE 22/',\n",
       " '/Users/gilles/sDrive/Cours/Bordeaux/L2-Corpus/Whisper/iMac/Json/ClavereauDarrieumerlouMarcheix/ECOLE PRIMAIRE LEOPOLD LACHAIZE 23/',\n",
       " '/Users/gilles/sDrive/Cours/Bordeaux/L2-Corpus/Whisper/iMac/Json/ClavereauDarrieumerlouMarcheix/ECOLE PRIMAIRE LEOPOLD LACHAIZE 24/',\n",
       " '/Users/gilles/sDrive/Cours/Bordeaux/L2-Corpus/Whisper/iMac/Json/ClavereauDarrieumerlouMarcheix/ECOLE PRIMAIRE LEOPOLD LACHAIZE 25/',\n",
       " '/Users/gilles/sDrive/Cours/Bordeaux/L2-Corpus/Whisper/iMac/Json/ClavereauDarrieumerlouMarcheix/ECOLE PRIMAIRE LEOPOLD LACHAIZE 26/',\n",
       " '/Users/gilles/sDrive/Cours/Bordeaux/L2-Corpus/Whisper/iMac/Json/ClavereauDarrieumerlouMarcheix/ECOLE PRIMAIRE LEOPOLD LACHAIZE 33/',\n",
       " '/Users/gilles/sDrive/Cours/Bordeaux/L2-Corpus/Whisper/iMac/Json/ClavereauDarrieumerlouMarcheix/ECOLE PRIMAIRE LEOPOLD LACHAIZE 35/',\n",
       " '/Users/gilles/sDrive/Cours/Bordeaux/L2-Corpus/Whisper/iMac/Json/ClavereauDarrieumerlouMarcheix/ECOLE PRIMAIRE LEOPOLD LACHAIZE 37/',\n",
       " '/Users/gilles/sDrive/Cours/Bordeaux/L2-Corpus/Whisper/iMac/Json/ClavereauDarrieumerlouMarcheix/ECOLE PRIMAIRE LEOPOLD LACHAIZE 4/',\n",
       " '/Users/gilles/sDrive/Cours/Bordeaux/L2-Corpus/Whisper/iMac/Json/ClavereauDarrieumerlouMarcheix/ECOLE PRIMAIRE LEOPOLD LACHAIZE 44/',\n",
       " '/Users/gilles/sDrive/Cours/Bordeaux/L2-Corpus/Whisper/iMac/Json/ClavereauDarrieumerlouMarcheix/ECOLE PRIMAIRE LEOPOLD LACHAIZE 45/',\n",
       " '/Users/gilles/sDrive/Cours/Bordeaux/L2-Corpus/Whisper/iMac/Json/ClavereauDarrieumerlouMarcheix/ECOLE PRIMAIRE LEOPOLD LACHAIZE 46/',\n",
       " '/Users/gilles/sDrive/Cours/Bordeaux/L2-Corpus/Whisper/iMac/Json/ClavereauDarrieumerlouMarcheix/ECOLE PRIMAIRE LEOPOLD LACHAIZE 8/',\n",
       " '/Users/gilles/sDrive/Cours/Bordeaux/L2-Corpus/Whisper/iMac/Json/ClavereauDarrieumerlouMarcheix/ECOLE PRIMAIRE LEOPOLD LACHAIZE 9/',\n",
       " '/Users/gilles/sDrive/Cours/Bordeaux/L2-Corpus/Whisper/iMac/Json/ClavereauDarrieumerlouMarcheix/Julia CE2/',\n",
       " '/Users/gilles/sDrive/Cours/Bordeaux/L2-Corpus/Whisper/iMac/Json/ClavereauDarrieumerlouMarcheix/Loane CM1/',\n",
       " '/Users/gilles/sDrive/Cours/Bordeaux/L2-Corpus/Whisper/iMac/Json/ClavereauDarrieumerlouMarcheix/Loane CM1 (1)/',\n",
       " '/Users/gilles/sDrive/Cours/Bordeaux/L2-Corpus/Whisper/iMac/Json/ClavereauDarrieumerlouMarcheix/Mattin/',\n",
       " '/Users/gilles/sDrive/Cours/Bordeaux/L2-Corpus/Whisper/iMac/Json/ClavereauDarrieumerlouMarcheix/Mayla CE2/',\n",
       " '/Users/gilles/sDrive/Cours/Bordeaux/L2-Corpus/Whisper/iMac/Json/ClavereauDarrieumerlouMarcheix/Mikel/',\n",
       " '/Users/gilles/sDrive/Cours/Bordeaux/L2-Corpus/Whisper/iMac/Json/ClavereauDarrieumerlouMarcheix/Milia/',\n",
       " '/Users/gilles/sDrive/Cours/Bordeaux/L2-Corpus/Whisper/iMac/Json/ClavereauDarrieumerlouMarcheix/Oihan/',\n",
       " '/Users/gilles/sDrive/Cours/Bordeaux/L2-Corpus/Whisper/iMac/Json/ClavereauDarrieumerlouMarcheix/Pablo CE2/',\n",
       " '/Users/gilles/sDrive/Cours/Bordeaux/L2-Corpus/Whisper/iMac/Json/ClavereauDarrieumerlouMarcheix/Pablo CE2 (1)/',\n",
       " '/Users/gilles/sDrive/Cours/Bordeaux/L2-Corpus/Whisper/iMac/Json/ClavereauDarrieumerlouMarcheix/Patxi/',\n",
       " '/Users/gilles/sDrive/Cours/Bordeaux/L2-Corpus/Whisper/iMac/Json/ClavereauDarrieumerlouMarcheix/Xan/',\n",
       " '/Users/gilles/sDrive/Cours/Bordeaux/L2-Corpus/Whisper/iMac/Json/ClavereauDarrieumerlouMarcheix/Zoé/',\n",
       " '/Users/gilles/sDrive/Cours/Bordeaux/L2-Corpus/Whisper/iMac/Json/ClavereauDarrieumerlouMarcheix/Zoé CM2/',\n",
       " '/Users/gilles/sDrive/Cours/Bordeaux/L2-Corpus/Whisper/iMac/Json/ClavereauDarrieumerlouMarcheix/Zoé CM2 (1)/',\n",
       " '/Users/gilles/sDrive/Cours/Bordeaux/L2-Corpus/Whisper/iMac/Json/DanielivanovRoelandtTouret/audio_locuteur_4_mp3/',\n",
       " '/Users/gilles/sDrive/Cours/Bordeaux/L2-Corpus/Whisper/iMac/Json/DanielivanovRoelandtTouret/audio_locuteur_5_mp3/',\n",
       " '/Users/gilles/sDrive/Cours/Bordeaux/L2-Corpus/Whisper/iMac/Json/EmerasPons/Femme 31 ans/',\n",
       " '/Users/gilles/sDrive/Cours/Bordeaux/L2-Corpus/Whisper/iMac/Json/EmerasPons/Femme 6 ans/',\n",
       " '/Users/gilles/sDrive/Cours/Bordeaux/L2-Corpus/Whisper/iMac/Json/EmerasPons/Femme 7 ans/',\n",
       " '/Users/gilles/sDrive/Cours/Bordeaux/L2-Corpus/Whisper/iMac/Json/LamourRouch/Audio 2 - Maud/',\n",
       " '/Users/gilles/sDrive/Cours/Bordeaux/L2-Corpus/Whisper/iMac/Json/LamourRouch/Audio 3 - Léa/',\n",
       " '/Users/gilles/sDrive/Cours/Bordeaux/L2-Corpus/Whisper/iMac/Json/PidouxRumeau-AlvaroGuilcher/AUDIO-2024sacha anne claire /']"
      ]
     },
     "execution_count": 21,
     "metadata": {},
     "output_type": "execute_result"
    }
   ],
   "source": [
    "jsonReps=glob.glob(\"/Users/gilles/sDrive/Cours/Bordeaux/L2-Corpus/Whisper/%s/Json/*/*/\"%nMachine)\n",
    "jsonReps"
   ]
  },
  {
   "cell_type": "raw",
   "id": "6d628589-b81f-408a-a558-0f316f7a9395",
   "metadata": {},
   "source": [
    "repJson=\"/Users/gilles/sDrive/Cours/Bordeaux/L2-Corpus/Whisper/%s/Json/\"%nMachine\n",
    "fSRT=glob.glob(repJson+\"*-tours.srt\")[0]\n",
    "fEAF=fSRT.replace(\".srt\", \".eaf\")\n",
    "print (fEAF)"
   ]
  },
  {
   "cell_type": "raw",
   "id": "93e4924c-9385-400a-a335-cb62c0335f80",
   "metadata": {
    "tags": []
   },
   "source": [
    "with codecs.open(fSRT, \"r\", encoding=\"utf8\") as inFile:\n",
    "    lignesSRT=[l.strip() for l in inFile.readlines()]\n",
    "if lignesSRT[0].endswith(\"1\"): lignesSRT[0]=\"1\"\n",
    "else: print(\"vérifier le fichier SRT\")"
   ]
  },
  {
   "cell_type": "markdown",
   "id": "0cd28d33-6bd8-4750-812c-f679b2541bdf",
   "metadata": {
    "tags": []
   },
   "source": [
    "## Construction de la coquille\n",
    "- racine ANNOTATION_DOCUMENT\n",
    "    - HEADER minimal avec MEDIA_DESCRIPTOR et PROPERTY\n",
    "    - TIME_ORDER\n",
    "    - TIER \n",
    "    - LINGUISTIC_TYPE"
   ]
  },
  {
   "cell_type": "code",
   "execution_count": 28,
   "id": "23c2e2e3-3740-4b2e-b4eb-f17e58566806",
   "metadata": {},
   "outputs": [
    {
     "data": {
      "text/plain": [
       "['Acteur1', 'Acteur2', 'Acteur3', 'Acteur4']"
      ]
     },
     "execution_count": 28,
     "metadata": {},
     "output_type": "execute_result"
    }
   ],
   "source": [
    "acteurs=[\"Acteur%d\"%n for n in range(1,5)]\n",
    "acteurs"
   ]
  },
  {
   "cell_type": "code",
   "execution_count": 22,
   "id": "8ac9ce28-8b6e-44d3-9d6e-5cacaeb4a36b",
   "metadata": {},
   "outputs": [],
   "source": [
    "def makeDocument():\n",
    "    ANNOTATION_DOCUMENT=ET.Element(\"ANNOTATION_DOCUMENT\", AUTHOR=\"\", DATE=\"\", FORMAT=\"3.0\", VERSION=\"3.0\")\n",
    "    HEADER=ET.SubElement(ANNOTATION_DOCUMENT, \"HEADER\", MEDIA_FILE=\"\", TIME_UNITS=\"milliseconds\")\n",
    "    # la balise MEDIA_DESCRIPTOR fait bugger ELAN\n",
    "    PROPERTY=ET.SubElement(HEADER, \"PROPERTY\", NAME=\"lastUsedAnnotationId\")\n",
    "    TIME_ORDER=ET.SubElement(ANNOTATION_DOCUMENT, \"TIME_ORDER\")\n",
    "    act1TIER=ET.SubElement(ANNOTATION_DOCUMENT, \"TIER\", ANNOTATOR=\"Whisper\",\n",
    "                           LINGUISTIC_TYPE_REF=\"Whisper\",PARTICIPANT=\"Acteur1\", TIER_ID=\"Acteur1\")\n",
    "    act2TIER=ET.SubElement(ANNOTATION_DOCUMENT, \"TIER\", ANNOTATOR=\"Whisper\", LINGUISTIC_TYPE_REF=\"Whisper\",\n",
    "                           PARTICIPANT=\"Acteur2\", TIER_ID=\"Acteur2\")\n",
    "    act3TIER=ET.SubElement(ANNOTATION_DOCUMENT, \"TIER\", ANNOTATOR=\"Whisper\", LINGUISTIC_TYPE_REF=\"Whisper\",\n",
    "                           PARTICIPANT=\"Acteur3\", TIER_ID=\"Acteur3\")\n",
    "    act4TIER=ET.SubElement(ANNOTATION_DOCUMENT, \"TIER\", ANNOTATOR=\"Whisper\", LINGUISTIC_TYPE_REF=\"Whisper\",\n",
    "                           PARTICIPANT=\"Acteur4\", TIER_ID=\"Acteur4\")\n",
    "    LINGUISTIC_TYPE=ET.SubElement(ANNOTATION_DOCUMENT, \"LINGUISTIC_TYPE\", GRAPHIC_REFERENCES=\"false\",\n",
    "                                  LINGUISTIC_TYPE_ID=\"Whisper\", TIME_ALIGNABLE=\"true\")\n",
    "    return ANNOTATION_DOCUMENT"
   ]
  },
  {
   "cell_type": "code",
   "execution_count": 32,
   "id": "adfe5c04-0a19-431a-96e0-5f7201f60402",
   "metadata": {},
   "outputs": [],
   "source": [
    "def makeDocument():\n",
    "    ANNOTATION_DOCUMENT=ET.Element(\"ANNOTATION_DOCUMENT\", AUTHOR=\"\", DATE=\"\", FORMAT=\"3.0\", VERSION=\"3.0\")\n",
    "    HEADER=ET.SubElement(ANNOTATION_DOCUMENT, \"HEADER\", MEDIA_FILE=\"\", TIME_UNITS=\"milliseconds\")\n",
    "    # la balise MEDIA_DESCRIPTOR fait bugger ELAN\n",
    "    PROPERTY=ET.SubElement(HEADER, \"PROPERTY\", NAME=\"lastUsedAnnotationId\")\n",
    "    TIME_ORDER=ET.SubElement(ANNOTATION_DOCUMENT, \"TIME_ORDER\")\n",
    "    for acteur in acteurs:\n",
    "        exec('%sTIER=ET.SubElement(ANNOTATION_DOCUMENT, \"TIER\", ANNOTATOR=\"Whisper\", LINGUISTIC_TYPE_REF=\"Whisper\",PARTICIPANT=\"%s\", TIER_ID=\"%s\"'%(acteur,acteur,acteur))\n",
    "    LINGUISTIC_TYPE=ET.SubElement(ANNOTATION_DOCUMENT, \"LINGUISTIC_TYPE\", GRAPHIC_REFERENCES=\"false\",\n",
    "                                  LINGUISTIC_TYPE_ID=\"Whisper\", TIME_ALIGNABLE=\"true\")\n",
    "    return ANNOTATION_DOCUMENT"
   ]
  },
  {
   "cell_type": "raw",
   "id": "a671efa5-c864-429c-9943-48d7af7dc246",
   "metadata": {},
   "source": [
    "ANNOTATION_DOCUMENT=ET.Element(\"ANNOTATION_DOCUMENT\", AUTHOR=\"\", DATE=\"\", FORMAT=\"3.0\", VERSION=\"3.0\")"
   ]
  },
  {
   "cell_type": "markdown",
   "id": "14f6178b-ae20-4d67-b21b-e3bf76f4fb06",
   "metadata": {},
   "source": [
    "### Header\n",
    "- header\n",
    "     - media_descriptor\n",
    "     - property\n",
    " "
   ]
  },
  {
   "cell_type": "raw",
   "id": "ef79c31d-204a-4dbf-813d-acde854b4ad6",
   "metadata": {},
   "source": [
    "HEADER=ET.SubElement(ANNOTATION_DOCUMENT, \"HEADER\", MEDIA_FILE=\"\", TIME_UNITS=\"milliseconds\")\n",
    "# la balise MEDIA_DESCRIPTOR fait bugger ELAN\n",
    "#MEDIA_DESCRIPTOR=ET.SubElement(HEADER, \"MEDIA_DESCRIPTOR\", MEDIA_URL=\"\", MIME_TYPE=\"\", RELATIVE_MEDIA_URL=\"\")\n",
    "PROPERTY=ET.SubElement(HEADER, \"PROPERTY\", NAME=\"lastUsedAnnotationId\")"
   ]
  },
  {
   "cell_type": "markdown",
   "id": "760ae605-946f-44b1-989f-13d69ddbf0c7",
   "metadata": {},
   "source": [
    "### Time order for Time slots\n",
    "- time order\n",
    "    - time slot\n"
   ]
  },
  {
   "cell_type": "raw",
   "id": "ce99c3e9-ffbc-44b7-9c56-dac5b1acb10b",
   "metadata": {},
   "source": [
    "TIME_ORDER=ET.SubElement(ANNOTATION_DOCUMENT, \"TIME_ORDER\")"
   ]
  },
  {
   "cell_type": "markdown",
   "id": "95b58526-6a2b-42a5-8750-817b23e21670",
   "metadata": {},
   "source": [
    "### Tiers for Annotations\n",
    "- tier\n",
    "    - annotation\n",
    "        - alignable annotation\n",
    "            - annotation value\n"
   ]
  },
  {
   "cell_type": "raw",
   "id": "1f3ca7e3-3fcf-40e1-9eb8-55f136e76a09",
   "metadata": {},
   "source": [
    "act1TIER=ET.SubElement(ANNOTATION_DOCUMENT, \"TIER\", ANNOTATOR=\"Whisper\", LINGUISTIC_TYPE_REF=\"Whisper\", PARTICIPANT=\"Acteur1\", TIER_ID=\"Acteur1\")"
   ]
  },
  {
   "cell_type": "raw",
   "id": "a227bfee-e470-4ee2-8e31-80654f710b76",
   "metadata": {},
   "source": [
    "act2TIER=ET.SubElement(ANNOTATION_DOCUMENT, \"TIER\", ANNOTATOR=\"Whisper\", LINGUISTIC_TYPE_REF=\"Whisper\", PARTICIPANT=\"Acteur2\", TIER_ID=\"Acteur2\")"
   ]
  },
  {
   "cell_type": "raw",
   "id": "b1bbe9bf-1fd0-4cb8-acc3-ccb9614528e5",
   "metadata": {},
   "source": [
    "act3TIER=ET.SubElement(ANNOTATION_DOCUMENT, \"TIER\", ANNOTATOR=\"Whisper\", LINGUISTIC_TYPE_REF=\"Whisper\", PARTICIPANT=\"Acteur3\", TIER_ID=\"Acteur3\")"
   ]
  },
  {
   "cell_type": "raw",
   "id": "30f4e05e-4175-4982-8dea-cabd1646c77d",
   "metadata": {},
   "source": [
    "act4TIER=ET.SubElement(ANNOTATION_DOCUMENT, \"TIER\", ANNOTATOR=\"Whisper\", LINGUISTIC_TYPE_REF=\"Whisper\", PARTICIPANT=\"Acteur4\", TIER_ID=\"Acteur4\")"
   ]
  },
  {
   "cell_type": "markdown",
   "id": "c6f5c09c-d765-44bd-932d-3d7c5917848e",
   "metadata": {},
   "source": [
    "### Linguistic type"
   ]
  },
  {
   "cell_type": "raw",
   "id": "d2b0eced-6b95-4165-a569-bd81709f650e",
   "metadata": {},
   "source": [
    "LINGUISTIC_TYPE=ET.SubElement(ANNOTATION_DOCUMENT, \"LINGUISTIC_TYPE\", GRAPHIC_REFERENCES=\"false\", LINGUISTIC_TYPE_ID=\"Whisper\", TIME_ALIGNABLE=\"true\")"
   ]
  },
  {
   "cell_type": "markdown",
   "id": "7c9f15f2-676a-4972-a7c2-b692da050689",
   "metadata": {},
   "source": [
    "<div style=\"page-break-after: always;\"></div>"
   ]
  },
  {
   "cell_type": "markdown",
   "id": "0fdb97fe-e089-41c2-82b0-5d0382a1d615",
   "metadata": {
    "tags": []
   },
   "source": [
    "## Conversion des sous-titres vers EAF"
   ]
  },
  {
   "cell_type": "markdown",
   "id": "570db391-cb0e-4988-85ec-132f0cb4992f",
   "metadata": {
    "tags": []
   },
   "source": [
    "### Récupération des données SRT"
   ]
  },
  {
   "cell_type": "code",
   "execution_count": 23,
   "id": "dffbb240-0f2d-4dba-a3d6-d61204ee755a",
   "metadata": {},
   "outputs": [],
   "source": [
    "def getSeconds(time):\n",
    "    h, m, s = [float(i) for i in time.replace(\",\",\".\").split(':')]\n",
    "    result=((60*h+m)*60+s)*1000\n",
    "    return str(int(result))\n",
    "\n",
    "def getSubtitles(lignes):\n",
    "    result=[]\n",
    "    currentState=\"start\"\n",
    "    currentNum=1\n",
    "    for l in lignes:\n",
    "        if currentState==\"start\" and str(currentNum)==l:\n",
    "            num=l\n",
    "            currentState=\"time\"\n",
    "        elif currentState==\"time\":\n",
    "            t1, t2=l.split(\" --> \")\n",
    "            t1=getSeconds(t1)\n",
    "            t2=getSeconds(t2)\n",
    "            currentState=\"text\"\n",
    "        elif currentState==\"text\":\n",
    "            text=l\n",
    "            currentState=\"skip\"\n",
    "        elif currentState==\"skip\" and l==\"\":\n",
    "            currentState=\"start\"\n",
    "            currentNum+=1\n",
    "            result.append({\"num\":num, \"start\":t1, \"end\":t2, \"text\":text})\n",
    "    return result        "
   ]
  },
  {
   "cell_type": "raw",
   "id": "c2254a91-7704-4403-8fc6-44b0132a728d",
   "metadata": {
    "tags": []
   },
   "source": [
    "subtitles=getSubtitles(lignesSRT)"
   ]
  },
  {
   "cell_type": "markdown",
   "id": "fa1eff3c-2c7b-4930-82e7-a37037f46ebf",
   "metadata": {
    "tags": []
   },
   "source": [
    "### Insertion des sous-titres dans la coquille"
   ]
  },
  {
   "cell_type": "code",
   "execution_count": 24,
   "id": "315f33c6-6998-4062-afa4-fc99697f0077",
   "metadata": {},
   "outputs": [],
   "source": [
    "def fillActor(actTIER,subtitles):\n",
    "    for s in subtitles:\n",
    "        ANNOTATION=ET.SubElement(actTIER, \"ANNOTATION\")\n",
    "        aid=\"au\"+s[\"num\"]\n",
    "        ALIGNABLE_ANNOTATION=ET.SubElement(ANNOTATION, \"ALIGNABLE_ANNOTATION\", \n",
    "                                           ANNOTATION_ID=aid, \n",
    "                                           TIME_SLOT_REF1=aid+s[\"start\"], \n",
    "                                           TIME_SLOT_REF2=aid+s[\"end\"]\n",
    "                                          )\n",
    "        ANNOTATION_VALUE=ET.SubElement(ALIGNABLE_ANNOTATION, \"ANNOTATION_VALUE\")\n",
    "        ANNOTATION_VALUE.text=s[\"text\"]\n",
    "        TIME_SLOT=ET.SubElement(TIME_ORDER, \"TIME_SLOT\", \n",
    "                                TIME_SLOT_ID=aid+s[\"start\"], \n",
    "                                TIME_VALUE=s[\"start\"], \n",
    "                               )\n",
    "        TIME_SLOT=ET.SubElement(TIME_ORDER, \"TIME_SLOT\", \n",
    "                                TIME_SLOT_ID=aid+s[\"end\"], \n",
    "                                TIME_VALUE=s[\"end\"], \n",
    "                               )"
   ]
  },
  {
   "cell_type": "markdown",
   "id": "ed522098-8b52-4000-958c-806b77439603",
   "metadata": {
    "tags": []
   },
   "source": [
    "## Exportation du fichier EAF"
   ]
  },
  {
   "cell_type": "code",
   "execution_count": 25,
   "id": "8027b22a-96d9-4226-b175-3fb7b6cafd63",
   "metadata": {
    "tags": []
   },
   "outputs": [],
   "source": [
    "def makeEAF(fSRT):\n",
    "    with codecs.open(fSRT, \"r\", encoding=\"utf8\") as inFile:\n",
    "        lignesSRT=[l.strip() for l in inFile.readlines()]\n",
    "    if lignesSRT[0].endswith(\"1\"): lignesSRT[0]=\"1\"\n",
    "    else: print(\"vérifier le fichier SRT\")\n",
    "    subtitles=getSubtitles(lignesSRT)\n",
    "    for actTIER in actTIERS:\n",
    "        fillActor(actTIER,subtitles)\n",
    "    EAF=ET.ElementTree(ANNOTATION_DOCUMENT)\n",
    "    EAF.write(fEAF, pretty_print=True, encoding='utf-8', xml_declaration=True)\n",
    "    return"
   ]
  },
  {
   "cell_type": "code",
   "execution_count": 31,
   "id": "c43f6a0e-2bc2-4fcd-9d98-7540640e9e17",
   "metadata": {},
   "outputs": [
    {
     "name": "stdout",
     "output_type": "stream",
     "text": [
      "/Users/gilles/sDrive/Cours/Bordeaux/L2-Corpus/Whisper/iMac/Json/BerloinSalome/enregistrement_10/\n"
     ]
    },
    {
     "ename": "NameError",
     "evalue": "name 'actors' is not defined",
     "output_type": "error",
     "traceback": [
      "\u001b[0;31m---------------------------------------------------------------------------\u001b[0m",
      "\u001b[0;31mNameError\u001b[0m                                 Traceback (most recent call last)",
      "Cell \u001b[0;32mIn[31], line 3\u001b[0m\n\u001b[1;32m      1\u001b[0m \u001b[38;5;28;01mfor\u001b[39;00m repJson \u001b[38;5;129;01min\u001b[39;00m jsonReps:\n\u001b[1;32m      2\u001b[0m     \u001b[38;5;28mprint\u001b[39m(repJson)\n\u001b[0;32m----> 3\u001b[0m     ANNOTATION_DOCUMENT\u001b[38;5;241m=\u001b[39mmakeDocument()\n\u001b[1;32m      4\u001b[0m     \u001b[38;5;28;01mtry\u001b[39;00m:\n\u001b[1;32m      5\u001b[0m         fSRT\u001b[38;5;241m=\u001b[39mglob\u001b[38;5;241m.\u001b[39mglob(repJson\u001b[38;5;241m+\u001b[39m\u001b[38;5;124m\"\u001b[39m\u001b[38;5;124m*-tours.srt\u001b[39m\u001b[38;5;124m\"\u001b[39m)[\u001b[38;5;241m0\u001b[39m]\n",
      "Cell \u001b[0;32mIn[30], line 7\u001b[0m, in \u001b[0;36mmakeDocument\u001b[0;34m()\u001b[0m\n\u001b[1;32m      5\u001b[0m PROPERTY\u001b[38;5;241m=\u001b[39mET\u001b[38;5;241m.\u001b[39mSubElement(HEADER, \u001b[38;5;124m\"\u001b[39m\u001b[38;5;124mPROPERTY\u001b[39m\u001b[38;5;124m\"\u001b[39m, NAME\u001b[38;5;241m=\u001b[39m\u001b[38;5;124m\"\u001b[39m\u001b[38;5;124mlastUsedAnnotationId\u001b[39m\u001b[38;5;124m\"\u001b[39m)\n\u001b[1;32m      6\u001b[0m TIME_ORDER\u001b[38;5;241m=\u001b[39mET\u001b[38;5;241m.\u001b[39mSubElement(ANNOTATION_DOCUMENT, \u001b[38;5;124m\"\u001b[39m\u001b[38;5;124mTIME_ORDER\u001b[39m\u001b[38;5;124m\"\u001b[39m)\n\u001b[0;32m----> 7\u001b[0m \u001b[38;5;28;01mfor\u001b[39;00m actor \u001b[38;5;129;01min\u001b[39;00m actors:\n\u001b[1;32m      8\u001b[0m     exec(\u001b[38;5;124m'\u001b[39m\u001b[38;5;132;01m%s\u001b[39;00m\u001b[38;5;124mTIER=ET.SubElement(ANNOTATION_DOCUMENT, \u001b[39m\u001b[38;5;124m\"\u001b[39m\u001b[38;5;124mTIER\u001b[39m\u001b[38;5;124m\"\u001b[39m\u001b[38;5;124m, ANNOTATOR=\u001b[39m\u001b[38;5;124m\"\u001b[39m\u001b[38;5;124mWhisper\u001b[39m\u001b[38;5;124m\"\u001b[39m\u001b[38;5;124m, LINGUISTIC_TYPE_REF=\u001b[39m\u001b[38;5;124m\"\u001b[39m\u001b[38;5;124mWhisper\u001b[39m\u001b[38;5;124m\"\u001b[39m\u001b[38;5;124m,PARTICIPANT=\u001b[39m\u001b[38;5;124m\"\u001b[39m\u001b[38;5;132;01m%s\u001b[39;00m\u001b[38;5;124m\"\u001b[39m\u001b[38;5;124m, TIER_ID=\u001b[39m\u001b[38;5;124m\"\u001b[39m\u001b[38;5;132;01m%s\u001b[39;00m\u001b[38;5;124m\"\u001b[39m\u001b[38;5;124m'\u001b[39m\u001b[38;5;241m%\u001b[39m(actor,actor,actor))\n\u001b[1;32m      9\u001b[0m LINGUISTIC_TYPE\u001b[38;5;241m=\u001b[39mET\u001b[38;5;241m.\u001b[39mSubElement(ANNOTATION_DOCUMENT, \u001b[38;5;124m\"\u001b[39m\u001b[38;5;124mLINGUISTIC_TYPE\u001b[39m\u001b[38;5;124m\"\u001b[39m, GRAPHIC_REFERENCES\u001b[38;5;241m=\u001b[39m\u001b[38;5;124m\"\u001b[39m\u001b[38;5;124mfalse\u001b[39m\u001b[38;5;124m\"\u001b[39m,\n\u001b[1;32m     10\u001b[0m                               LINGUISTIC_TYPE_ID\u001b[38;5;241m=\u001b[39m\u001b[38;5;124m\"\u001b[39m\u001b[38;5;124mWhisper\u001b[39m\u001b[38;5;124m\"\u001b[39m, TIME_ALIGNABLE\u001b[38;5;241m=\u001b[39m\u001b[38;5;124m\"\u001b[39m\u001b[38;5;124mtrue\u001b[39m\u001b[38;5;124m\"\u001b[39m)\n",
      "\u001b[0;31mNameError\u001b[0m: name 'actors' is not defined"
     ]
    }
   ],
   "source": [
    "for repJson in jsonReps:\n",
    "    print(repJson)\n",
    "    ANNOTATION_DOCUMENT=makeDocument()\n",
    "    try:\n",
    "        fSRT=glob.glob(repJson+\"*-tours.srt\")[0]\n",
    "    except:\n",
    "        print(\"no SRT\",repJson)\n",
    "        continue\n",
    "    fEAF=fSRT.replace(\".srt\", \".eaf\")\n",
    "    makeEAF(fSRT)\n"
   ]
  },
  {
   "cell_type": "code",
   "execution_count": 460,
   "id": "36f606a3-77ed-430a-97f1-52acea28b925",
   "metadata": {},
   "outputs": [],
   "source": [
    "ding()"
   ]
  }
 ],
 "metadata": {
  "kernelspec": {
   "display_name": "Python 3 (ipykernel)",
   "language": "python",
   "name": "python3"
  },
  "language_info": {
   "codemirror_mode": {
    "name": "ipython",
    "version": 3
   },
   "file_extension": ".py",
   "mimetype": "text/x-python",
   "name": "python",
   "nbconvert_exporter": "python",
   "pygments_lexer": "ipython3",
   "version": "3.11.8"
  }
 },
 "nbformat": 4,
 "nbformat_minor": 5
}
