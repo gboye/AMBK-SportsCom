{
 "cells": [
  {
   "cell_type": "markdown",
   "id": "332477dd-3b41-4d10-a70b-950553043ab0",
   "metadata": {},
   "source": [
    "# Construire un EAF à partir d'un fichier de sous-titres issu de Whisper\n",
    "- le traitement est basé sur un SRT\n",
    "- chaque LINGUISTIC_TYPE_REF des TIER doit correspondre à un LINGUISTIC_TYPE_ID dans les LINGUISTIC_TYPE\n"
   ]
  },
  {
   "cell_type": "code",
   "execution_count": 3,
   "id": "4bf83a2b-91be-45b8-8804-0c0ad4a29fcb",
   "metadata": {},
   "outputs": [],
   "source": [
    "import lxml.etree as ET\n",
    "import codecs"
   ]
  },
  {
   "cell_type": "markdown",
   "id": "1b920cdb-8841-44c3-b8b7-7750354dd60e",
   "metadata": {
    "tags": []
   },
   "source": [
    "## Sélection du fichier SRT"
   ]
  },
  {
   "cell_type": "code",
   "execution_count": 22,
   "id": "009abfa3-56c3-4fd9-90b4-6d0e71dd4eaf",
   "metadata": {},
   "outputs": [
    {
     "name": "stdout",
     "output_type": "stream",
     "text": [
      "Test whisper France Bresil 1998 F.wav-turns.eaf\n"
     ]
    }
   ],
   "source": [
    "repSRT=\"/Users/gilles/sDrive/Cours/Bordeaux/L2-Corpus/Whisper/JSON/SRT/\"\n",
    "fSRT=\"FranceArgentine-DecWhisper-TransGold.srt\"\n",
    "fSRT=\"Whisper_NouvelleZelande-France.srt\"\n",
    "fSRT=\"Whisper_NouvelleZelande-France-Act2.srt\"\n",
    "fSRT=\"Whisper_France_Argentine.srt\"\n",
    "fSRT=\"0-tours.srt\"\n",
    "fSRT=\"FrAr-mots.srt\"\n",
    "fSRT=\"/Users/gilles/sDrive/Recherche/Rugby/Whisper/Transcripts/extrait-00-turns.srt\"\n",
    "fSRT=\"Test whisper France Bresil 1998 F.wav-turns.srt\"\n",
    "fEAF=fSRT.replace(\".srt\", \".eaf\")\n",
    "print (fEAF)"
   ]
  },
  {
   "cell_type": "code",
   "execution_count": 23,
   "id": "2329a3f2-1db0-4c75-aabe-cc2b85768e88",
   "metadata": {
    "tags": []
   },
   "outputs": [],
   "source": [
    "with codecs.open(repSRT+fSRT, \"r\", encoding=\"utf8\") as inFile:\n",
    "    lignesSRT=[l.strip() for l in inFile.readlines()]\n",
    "if lignesSRT[0].endswith(\"1\"): lignesSRT[0]=\"1\"\n",
    "else: print(\"vérifier le fichier SRT\")"
   ]
  },
  {
   "cell_type": "markdown",
   "id": "0cd28d33-6bd8-4750-812c-f679b2541bdf",
   "metadata": {
    "tags": []
   },
   "source": [
    "## Construction de la coquille\n",
    "- racine ANNOTATION_DOCUMENT\n",
    "    - HEADER minimal avec MEDIA_DESCRIPTOR et PROPERTY\n",
    "    - TIME_ORDER\n",
    "    - TIER \n",
    "    - LINGUISTIC_TYPE"
   ]
  },
  {
   "cell_type": "code",
   "execution_count": 24,
   "id": "1ab92703-a669-43d1-9631-359f1d3c7b8e",
   "metadata": {},
   "outputs": [],
   "source": [
    "ANNOTATION_DOCUMENT=ET.Element(\"ANNOTATION_DOCUMENT\", AUTHOR=\"\", DATE=\"\", FORMAT=\"3.0\", VERSION=\"3.0\")"
   ]
  },
  {
   "cell_type": "markdown",
   "id": "14f6178b-ae20-4d67-b21b-e3bf76f4fb06",
   "metadata": {},
   "source": [
    "### Header\n",
    "- header\n",
    "     - media_descriptor\n",
    "     - property\n",
    " "
   ]
  },
  {
   "cell_type": "code",
   "execution_count": 25,
   "id": "96c2c0c1-c784-4b7a-b170-1a042a0ecc6a",
   "metadata": {},
   "outputs": [],
   "source": [
    "HEADER=ET.SubElement(ANNOTATION_DOCUMENT, \"HEADER\", MEDIA_FILE=\"\", TIME_UNITS=\"milliseconds\")\n",
    "# la balise MEDIA_DESCRIPTOR fait bugger ELAN\n",
    "#MEDIA_DESCRIPTOR=ET.SubElement(HEADER, \"MEDIA_DESCRIPTOR\", MEDIA_URL=\"\", MIME_TYPE=\"\", RELATIVE_MEDIA_URL=\"\")\n",
    "PROPERTY=ET.SubElement(HEADER, \"PROPERTY\", NAME=\"lastUsedAnnotationId\")"
   ]
  },
  {
   "cell_type": "markdown",
   "id": "760ae605-946f-44b1-989f-13d69ddbf0c7",
   "metadata": {},
   "source": [
    "### Time order for Time slots\n",
    "- time order\n",
    "    - time slot\n"
   ]
  },
  {
   "cell_type": "code",
   "execution_count": 26,
   "id": "9d8ced62-9f8a-4fdd-905a-ef4b34a3b7e1",
   "metadata": {},
   "outputs": [],
   "source": [
    "TIME_ORDER=ET.SubElement(ANNOTATION_DOCUMENT, \"TIME_ORDER\")"
   ]
  },
  {
   "cell_type": "markdown",
   "id": "95b58526-6a2b-42a5-8750-817b23e21670",
   "metadata": {},
   "source": [
    "### Tiers for Annotations\n",
    "- tier\n",
    "    - annotation\n",
    "        - alignable annotation\n",
    "            - annotation value\n"
   ]
  },
  {
   "cell_type": "code",
   "execution_count": 27,
   "id": "b4989031-deba-43af-b908-249135019af0",
   "metadata": {},
   "outputs": [],
   "source": [
    "WhisperTIER=ET.SubElement(ANNOTATION_DOCUMENT, \"TIER\", ANNOTATOR=\"Whisper\", LINGUISTIC_TYPE_REF=\"Whisper\", PARTICIPANT=\"Acteur1\", TIER_ID=\"Acteur1\")"
   ]
  },
  {
   "cell_type": "code",
   "execution_count": 28,
   "id": "9970ddbd-8aad-433b-8ebe-0d264228454d",
   "metadata": {},
   "outputs": [],
   "source": [
    "JournalTIER=ET.SubElement(ANNOTATION_DOCUMENT, \"TIER\", ANNOTATOR=\"Whisper\", LINGUISTIC_TYPE_REF=\"Whisper\", PARTICIPANT=\"Acteur2\", TIER_ID=\"Acteur2\")"
   ]
  },
  {
   "cell_type": "code",
   "execution_count": 29,
   "id": "da27f011-bf5e-496e-a2e9-920e5bc62d3c",
   "metadata": {},
   "outputs": [],
   "source": [
    "ExpertTIER=ET.SubElement(ANNOTATION_DOCUMENT, \"TIER\", ANNOTATOR=\"Whisper\", LINGUISTIC_TYPE_REF=\"Whisper\", PARTICIPANT=\"Acteur3\", TIER_ID=\"Acteur3\")"
   ]
  },
  {
   "cell_type": "code",
   "execution_count": 30,
   "id": "eab497fe-7f76-4d0c-82f2-51f32318cbd1",
   "metadata": {},
   "outputs": [],
   "source": [
    "TerrainTIER=ET.SubElement(ANNOTATION_DOCUMENT, \"TIER\", ANNOTATOR=\"Whisper\", LINGUISTIC_TYPE_REF=\"Whisper\", PARTICIPANT=\"Acteur4\", TIER_ID=\"Acteur4\")"
   ]
  },
  {
   "cell_type": "markdown",
   "id": "c6f5c09c-d765-44bd-932d-3d7c5917848e",
   "metadata": {},
   "source": [
    "### Linguistic type"
   ]
  },
  {
   "cell_type": "code",
   "execution_count": 31,
   "id": "2cba15b3-ff48-4a2e-9f84-70a0eb6843dd",
   "metadata": {},
   "outputs": [],
   "source": [
    "LINGUISTIC_TYPE=ET.SubElement(ANNOTATION_DOCUMENT, \"LINGUISTIC_TYPE\", GRAPHIC_REFERENCES=\"false\", LINGUISTIC_TYPE_ID=\"Whisper\", TIME_ALIGNABLE=\"true\")\n",
    "# LINGUISTIC_TYPE=ET.SubElement(ANNOTATION_DOCUMENT, \"LINGUISTIC_TYPE\", GRAPHIC_REFERENCES=\"false\", LINGUISTIC_TYPE_ID=\"Journaliste\", TIME_ALIGNABLE=\"true\")\n",
    "# LINGUISTIC_TYPE=ET.SubElement(ANNOTATION_DOCUMENT, \"LINGUISTIC_TYPE\", GRAPHIC_REFERENCES=\"false\", LINGUISTIC_TYPE_ID=\"Expert\", TIME_ALIGNABLE=\"true\")\n",
    "# LINGUISTIC_TYPE=ET.SubElement(ANNOTATION_DOCUMENT, \"LINGUISTIC_TYPE\", GRAPHIC_REFERENCES=\"false\", LINGUISTIC_TYPE_ID=\"Terrain\", TIME_ALIGNABLE=\"true\")"
   ]
  },
  {
   "cell_type": "markdown",
   "id": "7c9f15f2-676a-4972-a7c2-b692da050689",
   "metadata": {},
   "source": [
    "<div style=\"page-break-after: always;\"></div>"
   ]
  },
  {
   "cell_type": "markdown",
   "id": "0fdb97fe-e089-41c2-82b0-5d0382a1d615",
   "metadata": {
    "tags": []
   },
   "source": [
    "## Conversion des sous-titres vers EAF"
   ]
  },
  {
   "cell_type": "markdown",
   "id": "570db391-cb0e-4988-85ec-132f0cb4992f",
   "metadata": {
    "tags": []
   },
   "source": [
    "### Récupération des données SRT"
   ]
  },
  {
   "cell_type": "code",
   "execution_count": 32,
   "id": "dffbb240-0f2d-4dba-a3d6-d61204ee755a",
   "metadata": {},
   "outputs": [],
   "source": [
    "def getSeconds(time):\n",
    "    h, m, s = [float(i) for i in time.replace(\",\",\".\").split(':')]\n",
    "    result=((60*h+m)*60+s)*1000\n",
    "    return str(int(result))\n",
    "\n",
    "def getSubtitles(lignes):\n",
    "    result=[]\n",
    "    currentState=\"start\"\n",
    "    currentNum=1\n",
    "    for l in lignes:\n",
    "        if currentState==\"start\" and str(currentNum)==l:\n",
    "            num=l\n",
    "            currentState=\"time\"\n",
    "        elif currentState==\"time\":\n",
    "            t1, t2=l.split(\" --> \")\n",
    "            t1=getSeconds(t1)\n",
    "            t2=getSeconds(t2)\n",
    "            currentState=\"text\"\n",
    "        elif currentState==\"text\":\n",
    "            text=l\n",
    "            currentState=\"skip\"\n",
    "        elif currentState==\"skip\" and l==\"\":\n",
    "            currentState=\"start\"\n",
    "            currentNum+=1\n",
    "            result.append({\"num\":num, \"start\":t1, \"end\":t2, \"text\":text})\n",
    "    return result        "
   ]
  },
  {
   "cell_type": "code",
   "execution_count": 33,
   "id": "f1539fa0-d30b-460b-a410-500c909495f7",
   "metadata": {
    "tags": []
   },
   "outputs": [],
   "source": [
    "subtitles=getSubtitles(lignesSRT)"
   ]
  },
  {
   "cell_type": "markdown",
   "id": "fa1eff3c-2c7b-4930-82e7-a37037f46ebf",
   "metadata": {
    "tags": []
   },
   "source": [
    "### Insertion des sous-titres dans la coquille"
   ]
  },
  {
   "cell_type": "code",
   "execution_count": 34,
   "id": "315f33c6-6998-4062-afa4-fc99697f0077",
   "metadata": {},
   "outputs": [],
   "source": [
    "for s in subtitles:\n",
    "    ANNOTATION=ET.SubElement(WhisperTIER, \"ANNOTATION\")\n",
    "    aid=\"au\"+s[\"num\"]\n",
    "    ALIGNABLE_ANNOTATION=ET.SubElement(ANNOTATION, \"ALIGNABLE_ANNOTATION\", \n",
    "                                       ANNOTATION_ID=aid, \n",
    "                                       TIME_SLOT_REF1=aid+s[\"start\"], \n",
    "                                       TIME_SLOT_REF2=aid+s[\"end\"]\n",
    "                                      )\n",
    "    ANNOTATION_VALUE=ET.SubElement(ALIGNABLE_ANNOTATION, \"ANNOTATION_VALUE\")\n",
    "    ANNOTATION_VALUE.text=s[\"text\"]\n",
    "    TIME_SLOT=ET.SubElement(TIME_ORDER, \"TIME_SLOT\", \n",
    "                            TIME_SLOT_ID=aid+s[\"start\"], \n",
    "                            TIME_VALUE=s[\"start\"], \n",
    "                           )\n",
    "    TIME_SLOT=ET.SubElement(TIME_ORDER, \"TIME_SLOT\", \n",
    "                            TIME_SLOT_ID=aid+s[\"end\"], \n",
    "                            TIME_VALUE=s[\"end\"], \n",
    "                           )"
   ]
  },
  {
   "cell_type": "markdown",
   "id": "ed522098-8b52-4000-958c-806b77439603",
   "metadata": {
    "tags": []
   },
   "source": [
    "## Exportation du fichier EAF"
   ]
  },
  {
   "cell_type": "code",
   "execution_count": 35,
   "id": "8027b22a-96d9-4226-b175-3fb7b6cafd63",
   "metadata": {
    "tags": []
   },
   "outputs": [],
   "source": [
    "# print (ET.tostring(ANNOTATION_DOCUMENT, pretty_print=True, encoding=\"utf8\").decode(\"utf8\"))"
   ]
  },
  {
   "cell_type": "code",
   "execution_count": 36,
   "id": "33899beb-6e7c-4b93-a994-7a91cb73ad48",
   "metadata": {},
   "outputs": [],
   "source": [
    "EAF=ET.ElementTree(ANNOTATION_DOCUMENT)\n",
    "EAF.write(repSRT+fEAF, pretty_print=True, encoding='utf-8', xml_declaration=True)"
   ]
  },
  {
   "cell_type": "code",
   "execution_count": null,
   "id": "de1dc36f-308e-40b3-b568-b4930f1e3a60",
   "metadata": {},
   "outputs": [],
   "source": []
  },
  {
   "cell_type": "code",
   "execution_count": null,
   "id": "803021f3-2032-427c-8370-4d53d71c000a",
   "metadata": {},
   "outputs": [],
   "source": []
  },
  {
   "cell_type": "code",
   "execution_count": null,
   "id": "6cfcca1d-78cf-4a1b-b55d-67bcdb224faf",
   "metadata": {},
   "outputs": [],
   "source": []
  }
 ],
 "metadata": {
  "kernelspec": {
   "display_name": "Python 3 (ipykernel)",
   "language": "python",
   "name": "python3"
  },
  "language_info": {
   "codemirror_mode": {
    "name": "ipython",
    "version": 3
   },
   "file_extension": ".py",
   "mimetype": "text/x-python",
   "name": "python",
   "nbconvert_exporter": "python",
   "pygments_lexer": "ipython3",
   "version": "3.11.7"
  }
 },
 "nbformat": 4,
 "nbformat_minor": 5
}
