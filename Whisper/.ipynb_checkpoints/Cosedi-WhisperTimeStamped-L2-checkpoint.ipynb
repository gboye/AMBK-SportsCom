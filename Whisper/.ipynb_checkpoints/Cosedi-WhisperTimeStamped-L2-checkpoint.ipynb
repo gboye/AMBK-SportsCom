{
 "cells": [
  {
   "cell_type": "raw",
   "id": "28ea0431-9109-4f25-b64b-bbc828ca3e17",
   "metadata": {},
   "source": [
    "https://github.com/linto-ai/whisper-timestamped/issues/212"
   ]
  },
  {
   "cell_type": "code",
   "execution_count": 67,
   "id": "70d4c61b-b5e2-4e6c-b518-728a3548cef8",
   "metadata": {},
   "outputs": [
    {
     "name": "stdout",
     "output_type": "stream",
     "text": [
      "iMac\n"
     ]
    }
   ],
   "source": [
    "import whisper_timestamped as whisperTS\n",
    "import json,glob,os\n",
    "from datetime import datetime\n",
    "nMachine=os.uname()[1]\n",
    "if \"iMac\" in nMachine:\n",
    "    nMachine=\"iMac\"\n",
    "elif \"MacBook\" in nMachine:\n",
    "    nMachine=\"MacBook\"\n",
    "print(nMachine)\n",
    "\n",
    "# whisperTS.available_models()\n",
    "def ding():\n",
    "    os.system('afplay /System/Library/Sounds/Submarine.aiff')"
   ]
  },
  {
   "cell_type": "code",
   "execution_count": 73,
   "id": "fa176b54-2c62-4f85-84a5-f2d08895486e",
   "metadata": {},
   "outputs": [],
   "source": [
    "repExtraits=\"/Users/gilles/sDrive/Cours/Bordeaux/L2-Corpus/Whisper/%s/Segments/\"%nMachine\n",
    "repJson=\"/Users/gilles/sDrive/Cours/Bordeaux/L2-Corpus/Whisper/%s/Json/\"%nMachine"
   ]
  },
  {
   "cell_type": "code",
   "execution_count": 69,
   "id": "6722ab37-09d6-42f4-9243-75a3773de9f3",
   "metadata": {},
   "outputs": [],
   "source": [
    "def transcribe(audio,model,prompt,seed=1234,vad=False,naive_approach=True):\n",
    "    result=whisperTS.transcribe_timestamped(model, audio, language=\"fr\", task='transcribe', remove_punctuation_from_words=False, compute_word_confidence=True, include_punctuation_in_confidence=True, refine_whisper_precision=0.1, min_word_duration=0.02, plot_word_alignment=False, word_alignement_most_top_layers=None, remove_empty_words=False, use_backend_timestamps=False, seed=seed, vad=vad, detect_disfluencies=True, trust_whisper_timestamps=True, naive_approach=naive_approach, temperature=0.0, best_of=None, beam_size=None, patience=None, length_penalty=None, compression_ratio_threshold=2.4, logprob_threshold=-1.0, no_speech_threshold=0.6, fp16=None, condition_on_previous_text=True, initial_prompt=prompt, suppress_tokens='-1', sample_len=None, verbose=False)\n",
    "    return result"
   ]
  },
  {
   "cell_type": "code",
   "execution_count": 70,
   "id": "da5f43c6-4ae7-4225-8cb1-9d3d39c7bcb5",
   "metadata": {},
   "outputs": [
    {
     "ename": "KeyboardInterrupt",
     "evalue": "",
     "output_type": "error",
     "traceback": [
      "\u001b[0;31m---------------------------------------------------------------------------\u001b[0m",
      "\u001b[0;31mKeyboardInterrupt\u001b[0m                         Traceback (most recent call last)",
      "Cell \u001b[0;32mIn[70], line 1\u001b[0m\n\u001b[0;32m----> 1\u001b[0m model \u001b[38;5;241m=\u001b[39m whisperTS\u001b[38;5;241m.\u001b[39mload_model(\u001b[38;5;124m\"\u001b[39m\u001b[38;5;124mlarge-v3\u001b[39m\u001b[38;5;124m\"\u001b[39m, device\u001b[38;5;241m=\u001b[39m\u001b[38;5;124m\"\u001b[39m\u001b[38;5;124mcpu\u001b[39m\u001b[38;5;124m\"\u001b[39m)\n",
      "File \u001b[0;32m/opt/anaconda3/lib/python3.11/site-packages/whisper_timestamped/transcribe.py:2444\u001b[0m, in \u001b[0;36mload_model\u001b[0;34m(name, device, backend, download_root, in_memory)\u001b[0m\n\u001b[1;32m   2441\u001b[0m extension \u001b[38;5;241m=\u001b[39m os\u001b[38;5;241m.\u001b[39mpath\u001b[38;5;241m.\u001b[39msplitext(name)[\u001b[38;5;241m-\u001b[39m\u001b[38;5;241m1\u001b[39m] \u001b[38;5;28;01mif\u001b[39;00m os\u001b[38;5;241m.\u001b[39mpath\u001b[38;5;241m.\u001b[39misfile(name) \u001b[38;5;28;01melse\u001b[39;00m \u001b[38;5;28;01mNone\u001b[39;00m\n\u001b[1;32m   2443\u001b[0m \u001b[38;5;28;01mif\u001b[39;00m name \u001b[38;5;129;01min\u001b[39;00m whisper\u001b[38;5;241m.\u001b[39mavailable_models() \u001b[38;5;129;01mor\u001b[39;00m extension \u001b[38;5;241m==\u001b[39m \u001b[38;5;124m\"\u001b[39m\u001b[38;5;124m.pt\u001b[39m\u001b[38;5;124m\"\u001b[39m:\n\u001b[0;32m-> 2444\u001b[0m     \u001b[38;5;28;01mreturn\u001b[39;00m whisper\u001b[38;5;241m.\u001b[39mload_model(\n\u001b[1;32m   2445\u001b[0m         name,\n\u001b[1;32m   2446\u001b[0m         device\u001b[38;5;241m=\u001b[39mdevice,\n\u001b[1;32m   2447\u001b[0m         download_root\u001b[38;5;241m=\u001b[39mos\u001b[38;5;241m.\u001b[39mpath\u001b[38;5;241m.\u001b[39mjoin(download_root, \u001b[38;5;124m\"\u001b[39m\u001b[38;5;124mwhisper\u001b[39m\u001b[38;5;124m\"\u001b[39m) \u001b[38;5;28;01mif\u001b[39;00m download_root \u001b[38;5;28;01melse\u001b[39;00m \u001b[38;5;28;01mNone\u001b[39;00m,\n\u001b[1;32m   2448\u001b[0m         in_memory\u001b[38;5;241m=\u001b[39min_memory\n\u001b[1;32m   2449\u001b[0m     )\n\u001b[1;32m   2451\u001b[0m \u001b[38;5;66;03m# Otherwise, assume transformers\u001b[39;00m\n\u001b[1;32m   2452\u001b[0m \u001b[38;5;28;01mif\u001b[39;00m extension \u001b[38;5;129;01min\u001b[39;00m [\u001b[38;5;124m\"\u001b[39m\u001b[38;5;124m.ckpt\u001b[39m\u001b[38;5;124m\"\u001b[39m, \u001b[38;5;124m\"\u001b[39m\u001b[38;5;124m.bin\u001b[39m\u001b[38;5;124m\"\u001b[39m]:\n",
      "File \u001b[0;32m/opt/anaconda3/lib/python3.11/site-packages/whisper/__init__.py:133\u001b[0m, in \u001b[0;36mload_model\u001b[0;34m(name, device, download_root, in_memory)\u001b[0m\n\u001b[1;32m    130\u001b[0m     download_root \u001b[38;5;241m=\u001b[39m os\u001b[38;5;241m.\u001b[39mpath\u001b[38;5;241m.\u001b[39mjoin(os\u001b[38;5;241m.\u001b[39mgetenv(\u001b[38;5;124m\"\u001b[39m\u001b[38;5;124mXDG_CACHE_HOME\u001b[39m\u001b[38;5;124m\"\u001b[39m, default), \u001b[38;5;124m\"\u001b[39m\u001b[38;5;124mwhisper\u001b[39m\u001b[38;5;124m\"\u001b[39m)\n\u001b[1;32m    132\u001b[0m \u001b[38;5;28;01mif\u001b[39;00m name \u001b[38;5;129;01min\u001b[39;00m _MODELS:\n\u001b[0;32m--> 133\u001b[0m     checkpoint_file \u001b[38;5;241m=\u001b[39m _download(_MODELS[name], download_root, in_memory)\n\u001b[1;32m    134\u001b[0m     alignment_heads \u001b[38;5;241m=\u001b[39m _ALIGNMENT_HEADS[name]\n\u001b[1;32m    135\u001b[0m \u001b[38;5;28;01melif\u001b[39;00m os\u001b[38;5;241m.\u001b[39mpath\u001b[38;5;241m.\u001b[39misfile(name):\n",
      "File \u001b[0;32m/opt/anaconda3/lib/python3.11/site-packages/whisper/__init__.py:61\u001b[0m, in \u001b[0;36m_download\u001b[0;34m(url, root, in_memory)\u001b[0m\n\u001b[1;32m     59\u001b[0m \u001b[38;5;28;01mif\u001b[39;00m os\u001b[38;5;241m.\u001b[39mpath\u001b[38;5;241m.\u001b[39misfile(download_target):\n\u001b[1;32m     60\u001b[0m     \u001b[38;5;28;01mwith\u001b[39;00m \u001b[38;5;28mopen\u001b[39m(download_target, \u001b[38;5;124m\"\u001b[39m\u001b[38;5;124mrb\u001b[39m\u001b[38;5;124m\"\u001b[39m) \u001b[38;5;28;01mas\u001b[39;00m f:\n\u001b[0;32m---> 61\u001b[0m         model_bytes \u001b[38;5;241m=\u001b[39m f\u001b[38;5;241m.\u001b[39mread()\n\u001b[1;32m     62\u001b[0m     \u001b[38;5;28;01mif\u001b[39;00m hashlib\u001b[38;5;241m.\u001b[39msha256(model_bytes)\u001b[38;5;241m.\u001b[39mhexdigest() \u001b[38;5;241m==\u001b[39m expected_sha256:\n\u001b[1;32m     63\u001b[0m         \u001b[38;5;28;01mreturn\u001b[39;00m model_bytes \u001b[38;5;28;01mif\u001b[39;00m in_memory \u001b[38;5;28;01melse\u001b[39;00m download_target\n",
      "\u001b[0;31mKeyboardInterrupt\u001b[0m: "
     ]
    }
   ],
   "source": [
    "model = whisperTS.load_model(\"large-v3\", device=\"cpu\")"
   ]
  },
  {
   "cell_type": "code",
   "execution_count": 74,
   "id": "15ebbcf8-e2df-4608-b16f-2e36922edd8c",
   "metadata": {},
   "outputs": [],
   "source": [
    "suggestions=\".?!,\"\n",
    "suggestions=\".?!, press the attack doran blade tabi ninja mercs roam cleanse lanning phase tear lame du roi déchu hess ignite talbin root goal bush grasp trinket abuse sterak toon blue red side mid top jungle jungler support lane carry tank comp engage follow up matchup blind item full draft first pick team kite back map bait greed late ward river step dash mix slow chill swap wave plate start smite magic resist game front flop early lead gank level chunk puch creep zoner in out stack traiding traid mana buff clear flash hook gromp gold safe clear rush ulti bluff tempo teamfight stuff prock farm timing join bail corbin moove stun lead Hextech go blood kill win rate cancel worth scale catch zone flank flip elder contest buffer dodge reset jump nash let’s go re-engage auto Navory Dominique commite baron split ultimate playstation zerma solo auto attack turn regene perf Walkiri Randuin tanki lol poke spike shot back line reset loose base free soul timer Dom job cancel Zhonia hinib prime team season final winner bracket play making instant mix tanker whatsapp rune Electrocute banni late invade trap push trade spell Sumoner heal give golem Doran fleet chill void check face range dive mercure deny all bump life zeke Lyandri Triforce crash power escape deep down ping Warmog burst even card stop watch miss com pene Banshee show on end Nexus setup hyper clutch rooster salam counter zinzin gantelet aro méta stream rinté pickable speed shadow flex scaling demonic ombraised me pressing raid. Ray Canna Closer Vladi Voladi Upset Targamas Myrwin Elyoya Fresskowy Supa Alvaro Jekille Taliyah Rumble Brand Maokaï Zyra Ezreal Ez Sejuani Sej Tristana Tristoune Toon Renekton Corki Zeri Vi Kai’sa Kicor Kennen Jayce Rakan Nautilus Rell Alistar Varus Braum Gnar Nautilus Neeko Targou League of Legends Caps Annie Azir Mordek Mordekaiser Simus Camille Lucian Yone Yon TF Jax Yasuo Jinx Tix Kcorp Ashe Freljord Larssen Leblanc Aphelios Ksanté Viego Markoon Vitality Ivern Cayt Rip Kalista Cams Reksaï Skarner Sivir Trist Xin Xao Draven Fiora Renata Leona Pops Poppy Hwei Hans Sama Mikyx\""
   ]
  },
  {
   "cell_type": "code",
   "execution_count": 75,
   "id": "81362250-06ea-4a28-8abd-3de32c35a304",
   "metadata": {},
   "outputs": [
    {
     "data": {
      "text/plain": [
       "['extrait-00.wav',\n",
       " 'extrait-01.wav',\n",
       " 'extrait-02.wav',\n",
       " 'extrait-03.wav',\n",
       " 'extrait-04.wav',\n",
       " 'extrait-05.wav',\n",
       " 'extrait-06.wav',\n",
       " 'extrait-07.wav',\n",
       " 'extrait-08.wav',\n",
       " 'extrait-09.wav',\n",
       " 'extrait-10.wav',\n",
       " 'extrait-11.wav',\n",
       " 'extrait-12.wav',\n",
       " 'extrait-13.wav',\n",
       " 'extrait-14.wav',\n",
       " 'extrait-15.wav',\n",
       " 'extrait-16.wav',\n",
       " 'extrait-17.wav',\n",
       " 'extrait-18.wav',\n",
       " 'extrait-19.wav']"
      ]
     },
     "execution_count": 75,
     "metadata": {},
     "output_type": "execute_result"
    }
   ],
   "source": [
    "lFichiers=[n.split(\"/\")[-1]for n in sorted(glob.glob(repExtraits+\"*.wav\"))]\n",
    "lFichiers"
   ]
  },
  {
   "cell_type": "code",
   "execution_count": 78,
   "id": "24ddbf72-6796-46a1-a48d-88e670611ec5",
   "metadata": {},
   "outputs": [
    {
     "name": "stdout",
     "output_type": "stream",
     "text": [
      "12:09:38.192124\n"
     ]
    },
    {
     "name": "stderr",
     "output_type": "stream",
     "text": [
      " 50%|████████████████████████████████████████████                                            | 6000/12000 [01:46<01:46, 56.10frames/s]\n"
     ]
    },
    {
     "ename": "KeyboardInterrupt",
     "evalue": "",
     "output_type": "error",
     "traceback": [
      "\u001b[0;31m---------------------------------------------------------------------------\u001b[0m",
      "\u001b[0;31mKeyboardInterrupt\u001b[0m                         Traceback (most recent call last)",
      "Cell \u001b[0;32mIn[78], line 4\u001b[0m\n\u001b[1;32m      2\u001b[0m audio\u001b[38;5;241m=\u001b[39mwhisperTS\u001b[38;5;241m.\u001b[39mload_audio(repExtraits\u001b[38;5;241m+\u001b[39mfichier)\n\u001b[1;32m      3\u001b[0m \u001b[38;5;28mprint\u001b[39m(datetime\u001b[38;5;241m.\u001b[39mnow()\u001b[38;5;241m.\u001b[39mtime())\n\u001b[0;32m----> 4\u001b[0m transcription\u001b[38;5;241m=\u001b[39mtranscribe(audio,model,suggestions)\n\u001b[1;32m      5\u001b[0m \u001b[38;5;28mprint\u001b[39m(transcription[\u001b[38;5;124m\"\u001b[39m\u001b[38;5;124mtext\u001b[39m\u001b[38;5;124m\"\u001b[39m])\n\u001b[1;32m      6\u001b[0m \u001b[38;5;28;01mwith\u001b[39;00m \u001b[38;5;28mopen\u001b[39m(repJson\u001b[38;5;241m+\u001b[39mfichier\u001b[38;5;241m+\u001b[39m\u001b[38;5;124m\"\u001b[39m\u001b[38;5;124m.json\u001b[39m\u001b[38;5;124m\"\u001b[39m,\u001b[38;5;124m\"\u001b[39m\u001b[38;5;124mw\u001b[39m\u001b[38;5;124m\"\u001b[39m) \u001b[38;5;28;01mas\u001b[39;00m outFile:\n",
      "Cell \u001b[0;32mIn[69], line 2\u001b[0m, in \u001b[0;36mtranscribe\u001b[0;34m(audio, model, prompt, seed, vad, naive_approach)\u001b[0m\n\u001b[1;32m      1\u001b[0m \u001b[38;5;28;01mdef\u001b[39;00m \u001b[38;5;21mtranscribe\u001b[39m(audio,model,prompt,seed\u001b[38;5;241m=\u001b[39m\u001b[38;5;241m1234\u001b[39m,vad\u001b[38;5;241m=\u001b[39m\u001b[38;5;28;01mFalse\u001b[39;00m,naive_approach\u001b[38;5;241m=\u001b[39m\u001b[38;5;28;01mTrue\u001b[39;00m):\n\u001b[0;32m----> 2\u001b[0m     result\u001b[38;5;241m=\u001b[39mwhisperTS\u001b[38;5;241m.\u001b[39mtranscribe_timestamped(model, audio, language\u001b[38;5;241m=\u001b[39m\u001b[38;5;124m\"\u001b[39m\u001b[38;5;124mfr\u001b[39m\u001b[38;5;124m\"\u001b[39m, task\u001b[38;5;241m=\u001b[39m\u001b[38;5;124m'\u001b[39m\u001b[38;5;124mtranscribe\u001b[39m\u001b[38;5;124m'\u001b[39m, remove_punctuation_from_words\u001b[38;5;241m=\u001b[39m\u001b[38;5;28;01mFalse\u001b[39;00m, compute_word_confidence\u001b[38;5;241m=\u001b[39m\u001b[38;5;28;01mTrue\u001b[39;00m, include_punctuation_in_confidence\u001b[38;5;241m=\u001b[39m\u001b[38;5;28;01mTrue\u001b[39;00m, refine_whisper_precision\u001b[38;5;241m=\u001b[39m\u001b[38;5;241m0.1\u001b[39m, min_word_duration\u001b[38;5;241m=\u001b[39m\u001b[38;5;241m0.02\u001b[39m, plot_word_alignment\u001b[38;5;241m=\u001b[39m\u001b[38;5;28;01mFalse\u001b[39;00m, word_alignement_most_top_layers\u001b[38;5;241m=\u001b[39m\u001b[38;5;28;01mNone\u001b[39;00m, remove_empty_words\u001b[38;5;241m=\u001b[39m\u001b[38;5;28;01mFalse\u001b[39;00m, use_backend_timestamps\u001b[38;5;241m=\u001b[39m\u001b[38;5;28;01mFalse\u001b[39;00m, seed\u001b[38;5;241m=\u001b[39mseed, vad\u001b[38;5;241m=\u001b[39mvad, detect_disfluencies\u001b[38;5;241m=\u001b[39m\u001b[38;5;28;01mTrue\u001b[39;00m, trust_whisper_timestamps\u001b[38;5;241m=\u001b[39m\u001b[38;5;28;01mTrue\u001b[39;00m, naive_approach\u001b[38;5;241m=\u001b[39mnaive_approach, temperature\u001b[38;5;241m=\u001b[39m\u001b[38;5;241m0.0\u001b[39m, best_of\u001b[38;5;241m=\u001b[39m\u001b[38;5;28;01mNone\u001b[39;00m, beam_size\u001b[38;5;241m=\u001b[39m\u001b[38;5;28;01mNone\u001b[39;00m, patience\u001b[38;5;241m=\u001b[39m\u001b[38;5;28;01mNone\u001b[39;00m, length_penalty\u001b[38;5;241m=\u001b[39m\u001b[38;5;28;01mNone\u001b[39;00m, compression_ratio_threshold\u001b[38;5;241m=\u001b[39m\u001b[38;5;241m2.4\u001b[39m, logprob_threshold\u001b[38;5;241m=\u001b[39m\u001b[38;5;241m-\u001b[39m\u001b[38;5;241m1.0\u001b[39m, no_speech_threshold\u001b[38;5;241m=\u001b[39m\u001b[38;5;241m0.6\u001b[39m, fp16\u001b[38;5;241m=\u001b[39m\u001b[38;5;28;01mNone\u001b[39;00m, condition_on_previous_text\u001b[38;5;241m=\u001b[39m\u001b[38;5;28;01mTrue\u001b[39;00m, initial_prompt\u001b[38;5;241m=\u001b[39mprompt, suppress_tokens\u001b[38;5;241m=\u001b[39m\u001b[38;5;124m'\u001b[39m\u001b[38;5;124m-1\u001b[39m\u001b[38;5;124m'\u001b[39m, sample_len\u001b[38;5;241m=\u001b[39m\u001b[38;5;28;01mNone\u001b[39;00m, verbose\u001b[38;5;241m=\u001b[39m\u001b[38;5;28;01mFalse\u001b[39;00m)\n\u001b[1;32m      3\u001b[0m     \u001b[38;5;28;01mreturn\u001b[39;00m result\n",
      "File \u001b[0;32m/opt/anaconda3/lib/python3.11/site-packages/whisper_timestamped/transcribe.py:290\u001b[0m, in \u001b[0;36mtranscribe_timestamped\u001b[0;34m(model, audio, language, task, remove_punctuation_from_words, compute_word_confidence, include_punctuation_in_confidence, refine_whisper_precision, min_word_duration, plot_word_alignment, word_alignement_most_top_layers, remove_empty_words, use_backend_timestamps, seed, vad, detect_disfluencies, trust_whisper_timestamps, naive_approach, temperature, best_of, beam_size, patience, length_penalty, compression_ratio_threshold, logprob_threshold, no_speech_threshold, fp16, condition_on_previous_text, initial_prompt, suppress_tokens, sample_len, verbose)\u001b[0m\n\u001b[1;32m    287\u001b[0m num_alignment_for_plot \u001b[38;5;241m=\u001b[39m \u001b[38;5;241m0\u001b[39m\n\u001b[1;32m    289\u001b[0m \u001b[38;5;28;01mif\u001b[39;00m naive_approach:\n\u001b[0;32m--> 290\u001b[0m     (transcription, words) \u001b[38;5;241m=\u001b[39m _transcribe_timestamped_naive(model, audio,\n\u001b[1;32m    291\u001b[0m                                                            min_word_duration\u001b[38;5;241m=\u001b[39m\u001b[38;5;241m0.0\u001b[39m, \u001b[38;5;66;03m# Was 0.04 before 1.11\u001b[39;00m\n\u001b[1;32m    292\u001b[0m                                                            trust_whisper_timestamps\u001b[38;5;241m=\u001b[39mtrust_whisper_timestamps,\n\u001b[1;32m    293\u001b[0m                                                            use_backend_timestamps\u001b[38;5;241m=\u001b[39muse_backend_timestamps,\n\u001b[1;32m    294\u001b[0m                                                            \u001b[38;5;241m*\u001b[39m\u001b[38;5;241m*\u001b[39malignment_options, \u001b[38;5;241m*\u001b[39m\u001b[38;5;241m*\u001b[39mwhisper_options, \u001b[38;5;241m*\u001b[39m\u001b[38;5;241m*\u001b[39mother_options)\n\u001b[1;32m    295\u001b[0m \u001b[38;5;28;01melse\u001b[39;00m:\n\u001b[1;32m    296\u001b[0m     (transcription, words) \u001b[38;5;241m=\u001b[39m _transcribe_timestamped_efficient(model, audio,\n\u001b[1;32m    297\u001b[0m                                                                trust_whisper_timestamps\u001b[38;5;241m=\u001b[39mtrust_whisper_timestamps,\n\u001b[1;32m    298\u001b[0m                                                                \u001b[38;5;241m*\u001b[39m\u001b[38;5;241m*\u001b[39malignment_options, \u001b[38;5;241m*\u001b[39m\u001b[38;5;241m*\u001b[39mwhisper_options, \u001b[38;5;241m*\u001b[39m\u001b[38;5;241m*\u001b[39mother_options)\n",
      "File \u001b[0;32m/opt/anaconda3/lib/python3.11/site-packages/whisper_timestamped/transcribe.py:1050\u001b[0m, in \u001b[0;36m_transcribe_timestamped_naive\u001b[0;34m(model, audio, remove_punctuation_from_words, compute_word_confidence, include_punctuation_in_confidence, refine_whisper_precision_nframes, use_backend_timestamps, alignment_heads, plot_word_alignment, word_alignement_most_top_layers, detect_disfluencies, trust_whisper_timestamps, min_word_duration, **whisper_options)\u001b[0m\n\u001b[1;32m   1048\u001b[0m \u001b[38;5;28;01mtry\u001b[39;00m:\n\u001b[1;32m   1049\u001b[0m     model\u001b[38;5;241m.\u001b[39malignment_heads \u001b[38;5;241m=\u001b[39m alignment_heads \u001b[38;5;66;03m# Avoid exception \"AttributeError: 'WhisperUntied' object has no attribute 'alignment_heads'. Did you mean: 'set_alignment_heads'?\"\"\u001b[39;00m\n\u001b[0;32m-> 1050\u001b[0m     transcription \u001b[38;5;241m=\u001b[39m model\u001b[38;5;241m.\u001b[39mtranscribe(audio, \u001b[38;5;241m*\u001b[39m\u001b[38;5;241m*\u001b[39mwhisper_options)\n\u001b[1;32m   1051\u001b[0m \u001b[38;5;28;01mfinally\u001b[39;00m:\n\u001b[1;32m   1052\u001b[0m     \u001b[38;5;28;01mfor\u001b[39;00m hook \u001b[38;5;129;01min\u001b[39;00m all_hooks:\n",
      "File \u001b[0;32m/opt/anaconda3/lib/python3.11/site-packages/whisper/transcribe.py:240\u001b[0m, in \u001b[0;36mtranscribe\u001b[0;34m(model, audio, verbose, temperature, compression_ratio_threshold, logprob_threshold, no_speech_threshold, condition_on_previous_text, initial_prompt, word_timestamps, prepend_punctuations, append_punctuations, **decode_options)\u001b[0m\n\u001b[1;32m    237\u001b[0m mel_segment \u001b[38;5;241m=\u001b[39m pad_or_trim(mel_segment, N_FRAMES)\u001b[38;5;241m.\u001b[39mto(model\u001b[38;5;241m.\u001b[39mdevice)\u001b[38;5;241m.\u001b[39mto(dtype)\n\u001b[1;32m    239\u001b[0m decode_options[\u001b[38;5;124m\"\u001b[39m\u001b[38;5;124mprompt\u001b[39m\u001b[38;5;124m\"\u001b[39m] \u001b[38;5;241m=\u001b[39m all_tokens[prompt_reset_since:]\n\u001b[0;32m--> 240\u001b[0m result: DecodingResult \u001b[38;5;241m=\u001b[39m decode_with_fallback(mel_segment)\n\u001b[1;32m    241\u001b[0m tokens \u001b[38;5;241m=\u001b[39m torch\u001b[38;5;241m.\u001b[39mtensor(result\u001b[38;5;241m.\u001b[39mtokens)\n\u001b[1;32m    243\u001b[0m \u001b[38;5;28;01mif\u001b[39;00m no_speech_threshold \u001b[38;5;129;01mis\u001b[39;00m \u001b[38;5;129;01mnot\u001b[39;00m \u001b[38;5;28;01mNone\u001b[39;00m:\n\u001b[1;32m    244\u001b[0m     \u001b[38;5;66;03m# no voice activity check\u001b[39;00m\n",
      "File \u001b[0;32m/opt/anaconda3/lib/python3.11/site-packages/whisper/transcribe.py:170\u001b[0m, in \u001b[0;36mtranscribe.<locals>.decode_with_fallback\u001b[0;34m(segment)\u001b[0m\n\u001b[1;32m    167\u001b[0m     kwargs\u001b[38;5;241m.\u001b[39mpop(\u001b[38;5;124m\"\u001b[39m\u001b[38;5;124mbest_of\u001b[39m\u001b[38;5;124m\"\u001b[39m, \u001b[38;5;28;01mNone\u001b[39;00m)\n\u001b[1;32m    169\u001b[0m options \u001b[38;5;241m=\u001b[39m DecodingOptions(\u001b[38;5;241m*\u001b[39m\u001b[38;5;241m*\u001b[39mkwargs, temperature\u001b[38;5;241m=\u001b[39mt)\n\u001b[0;32m--> 170\u001b[0m decode_result \u001b[38;5;241m=\u001b[39m model\u001b[38;5;241m.\u001b[39mdecode(segment, options)\n\u001b[1;32m    172\u001b[0m needs_fallback \u001b[38;5;241m=\u001b[39m \u001b[38;5;28;01mFalse\u001b[39;00m\n\u001b[1;32m    173\u001b[0m \u001b[38;5;28;01mif\u001b[39;00m (\n\u001b[1;32m    174\u001b[0m     compression_ratio_threshold \u001b[38;5;129;01mis\u001b[39;00m \u001b[38;5;129;01mnot\u001b[39;00m \u001b[38;5;28;01mNone\u001b[39;00m\n\u001b[1;32m    175\u001b[0m     \u001b[38;5;129;01mand\u001b[39;00m decode_result\u001b[38;5;241m.\u001b[39mcompression_ratio \u001b[38;5;241m>\u001b[39m compression_ratio_threshold\n\u001b[1;32m    176\u001b[0m ):\n",
      "File \u001b[0;32m/opt/anaconda3/lib/python3.11/site-packages/torch/utils/_contextlib.py:116\u001b[0m, in \u001b[0;36mcontext_decorator.<locals>.decorate_context\u001b[0;34m(*args, **kwargs)\u001b[0m\n\u001b[1;32m    113\u001b[0m \u001b[38;5;129m@functools\u001b[39m\u001b[38;5;241m.\u001b[39mwraps(func)\n\u001b[1;32m    114\u001b[0m \u001b[38;5;28;01mdef\u001b[39;00m \u001b[38;5;21mdecorate_context\u001b[39m(\u001b[38;5;241m*\u001b[39margs, \u001b[38;5;241m*\u001b[39m\u001b[38;5;241m*\u001b[39mkwargs):\n\u001b[1;32m    115\u001b[0m     \u001b[38;5;28;01mwith\u001b[39;00m ctx_factory():\n\u001b[0;32m--> 116\u001b[0m         \u001b[38;5;28;01mreturn\u001b[39;00m func(\u001b[38;5;241m*\u001b[39margs, \u001b[38;5;241m*\u001b[39m\u001b[38;5;241m*\u001b[39mkwargs)\n",
      "File \u001b[0;32m/opt/anaconda3/lib/python3.11/site-packages/whisper/decoding.py:824\u001b[0m, in \u001b[0;36mdecode\u001b[0;34m(model, mel, options, **kwargs)\u001b[0m\n\u001b[1;32m    821\u001b[0m \u001b[38;5;28;01mif\u001b[39;00m kwargs:\n\u001b[1;32m    822\u001b[0m     options \u001b[38;5;241m=\u001b[39m replace(options, \u001b[38;5;241m*\u001b[39m\u001b[38;5;241m*\u001b[39mkwargs)\n\u001b[0;32m--> 824\u001b[0m result \u001b[38;5;241m=\u001b[39m DecodingTask(model, options)\u001b[38;5;241m.\u001b[39mrun(mel)\n\u001b[1;32m    826\u001b[0m \u001b[38;5;28;01mreturn\u001b[39;00m result[\u001b[38;5;241m0\u001b[39m] \u001b[38;5;28;01mif\u001b[39;00m single \u001b[38;5;28;01melse\u001b[39;00m result\n",
      "File \u001b[0;32m/opt/anaconda3/lib/python3.11/site-packages/torch/utils/_contextlib.py:116\u001b[0m, in \u001b[0;36mcontext_decorator.<locals>.decorate_context\u001b[0;34m(*args, **kwargs)\u001b[0m\n\u001b[1;32m    113\u001b[0m \u001b[38;5;129m@functools\u001b[39m\u001b[38;5;241m.\u001b[39mwraps(func)\n\u001b[1;32m    114\u001b[0m \u001b[38;5;28;01mdef\u001b[39;00m \u001b[38;5;21mdecorate_context\u001b[39m(\u001b[38;5;241m*\u001b[39margs, \u001b[38;5;241m*\u001b[39m\u001b[38;5;241m*\u001b[39mkwargs):\n\u001b[1;32m    115\u001b[0m     \u001b[38;5;28;01mwith\u001b[39;00m ctx_factory():\n\u001b[0;32m--> 116\u001b[0m         \u001b[38;5;28;01mreturn\u001b[39;00m func(\u001b[38;5;241m*\u001b[39margs, \u001b[38;5;241m*\u001b[39m\u001b[38;5;241m*\u001b[39mkwargs)\n",
      "File \u001b[0;32m/opt/anaconda3/lib/python3.11/site-packages/whisper/decoding.py:737\u001b[0m, in \u001b[0;36mDecodingTask.run\u001b[0;34m(self, mel)\u001b[0m\n\u001b[1;32m    734\u001b[0m tokens \u001b[38;5;241m=\u001b[39m tokens\u001b[38;5;241m.\u001b[39mrepeat_interleave(\u001b[38;5;28mself\u001b[39m\u001b[38;5;241m.\u001b[39mn_group, dim\u001b[38;5;241m=\u001b[39m\u001b[38;5;241m0\u001b[39m)\u001b[38;5;241m.\u001b[39mto(audio_features\u001b[38;5;241m.\u001b[39mdevice)\n\u001b[1;32m    736\u001b[0m \u001b[38;5;66;03m# call the main sampling loop\u001b[39;00m\n\u001b[0;32m--> 737\u001b[0m tokens, sum_logprobs, no_speech_probs \u001b[38;5;241m=\u001b[39m \u001b[38;5;28mself\u001b[39m\u001b[38;5;241m.\u001b[39m_main_loop(audio_features, tokens)\n\u001b[1;32m    739\u001b[0m \u001b[38;5;66;03m# reshape the tensors to have (n_audio, n_group) as the first two dimensions\u001b[39;00m\n\u001b[1;32m    740\u001b[0m audio_features \u001b[38;5;241m=\u001b[39m audio_features[:: \u001b[38;5;28mself\u001b[39m\u001b[38;5;241m.\u001b[39mn_group]\n",
      "File \u001b[0;32m/opt/anaconda3/lib/python3.11/site-packages/whisper/decoding.py:687\u001b[0m, in \u001b[0;36mDecodingTask._main_loop\u001b[0;34m(self, audio_features, tokens)\u001b[0m\n\u001b[1;32m    685\u001b[0m \u001b[38;5;28;01mtry\u001b[39;00m:\n\u001b[1;32m    686\u001b[0m     \u001b[38;5;28;01mfor\u001b[39;00m i \u001b[38;5;129;01min\u001b[39;00m \u001b[38;5;28mrange\u001b[39m(\u001b[38;5;28mself\u001b[39m\u001b[38;5;241m.\u001b[39msample_len):\n\u001b[0;32m--> 687\u001b[0m         logits \u001b[38;5;241m=\u001b[39m \u001b[38;5;28mself\u001b[39m\u001b[38;5;241m.\u001b[39minference\u001b[38;5;241m.\u001b[39mlogits(tokens, audio_features)\n\u001b[1;32m    689\u001b[0m         \u001b[38;5;28;01mif\u001b[39;00m (\n\u001b[1;32m    690\u001b[0m             i \u001b[38;5;241m==\u001b[39m \u001b[38;5;241m0\u001b[39m \u001b[38;5;129;01mand\u001b[39;00m \u001b[38;5;28mself\u001b[39m\u001b[38;5;241m.\u001b[39mtokenizer\u001b[38;5;241m.\u001b[39mno_speech \u001b[38;5;129;01mis\u001b[39;00m \u001b[38;5;129;01mnot\u001b[39;00m \u001b[38;5;28;01mNone\u001b[39;00m\n\u001b[1;32m    691\u001b[0m         ):  \u001b[38;5;66;03m# save no_speech_probs\u001b[39;00m\n\u001b[1;32m    692\u001b[0m             probs_at_sot \u001b[38;5;241m=\u001b[39m logits[:, \u001b[38;5;28mself\u001b[39m\u001b[38;5;241m.\u001b[39msot_index]\u001b[38;5;241m.\u001b[39mfloat()\u001b[38;5;241m.\u001b[39msoftmax(dim\u001b[38;5;241m=\u001b[39m\u001b[38;5;241m-\u001b[39m\u001b[38;5;241m1\u001b[39m)\n",
      "File \u001b[0;32m/opt/anaconda3/lib/python3.11/site-packages/whisper/decoding.py:163\u001b[0m, in \u001b[0;36mPyTorchInference.logits\u001b[0;34m(self, tokens, audio_features)\u001b[0m\n\u001b[1;32m    159\u001b[0m \u001b[38;5;28;01mif\u001b[39;00m tokens\u001b[38;5;241m.\u001b[39mshape[\u001b[38;5;241m-\u001b[39m\u001b[38;5;241m1\u001b[39m] \u001b[38;5;241m>\u001b[39m \u001b[38;5;28mself\u001b[39m\u001b[38;5;241m.\u001b[39minitial_token_length:\n\u001b[1;32m    160\u001b[0m     \u001b[38;5;66;03m# only need to use the last token except in the first forward pass\u001b[39;00m\n\u001b[1;32m    161\u001b[0m     tokens \u001b[38;5;241m=\u001b[39m tokens[:, \u001b[38;5;241m-\u001b[39m\u001b[38;5;241m1\u001b[39m:]\n\u001b[0;32m--> 163\u001b[0m \u001b[38;5;28;01mreturn\u001b[39;00m \u001b[38;5;28mself\u001b[39m\u001b[38;5;241m.\u001b[39mmodel\u001b[38;5;241m.\u001b[39mdecoder(tokens, audio_features, kv_cache\u001b[38;5;241m=\u001b[39m\u001b[38;5;28mself\u001b[39m\u001b[38;5;241m.\u001b[39mkv_cache)\n",
      "File \u001b[0;32m/opt/anaconda3/lib/python3.11/site-packages/torch/nn/modules/module.py:1553\u001b[0m, in \u001b[0;36mModule._wrapped_call_impl\u001b[0;34m(self, *args, **kwargs)\u001b[0m\n\u001b[1;32m   1551\u001b[0m     \u001b[38;5;28;01mreturn\u001b[39;00m \u001b[38;5;28mself\u001b[39m\u001b[38;5;241m.\u001b[39m_compiled_call_impl(\u001b[38;5;241m*\u001b[39margs, \u001b[38;5;241m*\u001b[39m\u001b[38;5;241m*\u001b[39mkwargs)  \u001b[38;5;66;03m# type: ignore[misc]\u001b[39;00m\n\u001b[1;32m   1552\u001b[0m \u001b[38;5;28;01melse\u001b[39;00m:\n\u001b[0;32m-> 1553\u001b[0m     \u001b[38;5;28;01mreturn\u001b[39;00m \u001b[38;5;28mself\u001b[39m\u001b[38;5;241m.\u001b[39m_call_impl(\u001b[38;5;241m*\u001b[39margs, \u001b[38;5;241m*\u001b[39m\u001b[38;5;241m*\u001b[39mkwargs)\n",
      "File \u001b[0;32m/opt/anaconda3/lib/python3.11/site-packages/torch/nn/modules/module.py:1562\u001b[0m, in \u001b[0;36mModule._call_impl\u001b[0;34m(self, *args, **kwargs)\u001b[0m\n\u001b[1;32m   1557\u001b[0m \u001b[38;5;66;03m# If we don't have any hooks, we want to skip the rest of the logic in\u001b[39;00m\n\u001b[1;32m   1558\u001b[0m \u001b[38;5;66;03m# this function, and just call forward.\u001b[39;00m\n\u001b[1;32m   1559\u001b[0m \u001b[38;5;28;01mif\u001b[39;00m \u001b[38;5;129;01mnot\u001b[39;00m (\u001b[38;5;28mself\u001b[39m\u001b[38;5;241m.\u001b[39m_backward_hooks \u001b[38;5;129;01mor\u001b[39;00m \u001b[38;5;28mself\u001b[39m\u001b[38;5;241m.\u001b[39m_backward_pre_hooks \u001b[38;5;129;01mor\u001b[39;00m \u001b[38;5;28mself\u001b[39m\u001b[38;5;241m.\u001b[39m_forward_hooks \u001b[38;5;129;01mor\u001b[39;00m \u001b[38;5;28mself\u001b[39m\u001b[38;5;241m.\u001b[39m_forward_pre_hooks\n\u001b[1;32m   1560\u001b[0m         \u001b[38;5;129;01mor\u001b[39;00m _global_backward_pre_hooks \u001b[38;5;129;01mor\u001b[39;00m _global_backward_hooks\n\u001b[1;32m   1561\u001b[0m         \u001b[38;5;129;01mor\u001b[39;00m _global_forward_hooks \u001b[38;5;129;01mor\u001b[39;00m _global_forward_pre_hooks):\n\u001b[0;32m-> 1562\u001b[0m     \u001b[38;5;28;01mreturn\u001b[39;00m forward_call(\u001b[38;5;241m*\u001b[39margs, \u001b[38;5;241m*\u001b[39m\u001b[38;5;241m*\u001b[39mkwargs)\n\u001b[1;32m   1564\u001b[0m \u001b[38;5;28;01mtry\u001b[39;00m:\n\u001b[1;32m   1565\u001b[0m     result \u001b[38;5;241m=\u001b[39m \u001b[38;5;28;01mNone\u001b[39;00m\n",
      "File \u001b[0;32m/opt/anaconda3/lib/python3.11/site-packages/whisper/model.py:211\u001b[0m, in \u001b[0;36mTextDecoder.forward\u001b[0;34m(self, x, xa, kv_cache)\u001b[0m\n\u001b[1;32m    208\u001b[0m x \u001b[38;5;241m=\u001b[39m x\u001b[38;5;241m.\u001b[39mto(xa\u001b[38;5;241m.\u001b[39mdtype)\n\u001b[1;32m    210\u001b[0m \u001b[38;5;28;01mfor\u001b[39;00m block \u001b[38;5;129;01min\u001b[39;00m \u001b[38;5;28mself\u001b[39m\u001b[38;5;241m.\u001b[39mblocks:\n\u001b[0;32m--> 211\u001b[0m     x \u001b[38;5;241m=\u001b[39m block(x, xa, mask\u001b[38;5;241m=\u001b[39m\u001b[38;5;28mself\u001b[39m\u001b[38;5;241m.\u001b[39mmask, kv_cache\u001b[38;5;241m=\u001b[39mkv_cache)\n\u001b[1;32m    213\u001b[0m x \u001b[38;5;241m=\u001b[39m \u001b[38;5;28mself\u001b[39m\u001b[38;5;241m.\u001b[39mln(x)\n\u001b[1;32m    214\u001b[0m logits \u001b[38;5;241m=\u001b[39m (\n\u001b[1;32m    215\u001b[0m     x \u001b[38;5;241m@\u001b[39m torch\u001b[38;5;241m.\u001b[39mtranspose(\u001b[38;5;28mself\u001b[39m\u001b[38;5;241m.\u001b[39mtoken_embedding\u001b[38;5;241m.\u001b[39mweight\u001b[38;5;241m.\u001b[39mto(x\u001b[38;5;241m.\u001b[39mdtype), \u001b[38;5;241m0\u001b[39m, \u001b[38;5;241m1\u001b[39m)\n\u001b[1;32m    216\u001b[0m )\u001b[38;5;241m.\u001b[39mfloat()\n",
      "File \u001b[0;32m/opt/anaconda3/lib/python3.11/site-packages/torch/nn/modules/module.py:1553\u001b[0m, in \u001b[0;36mModule._wrapped_call_impl\u001b[0;34m(self, *args, **kwargs)\u001b[0m\n\u001b[1;32m   1551\u001b[0m     \u001b[38;5;28;01mreturn\u001b[39;00m \u001b[38;5;28mself\u001b[39m\u001b[38;5;241m.\u001b[39m_compiled_call_impl(\u001b[38;5;241m*\u001b[39margs, \u001b[38;5;241m*\u001b[39m\u001b[38;5;241m*\u001b[39mkwargs)  \u001b[38;5;66;03m# type: ignore[misc]\u001b[39;00m\n\u001b[1;32m   1552\u001b[0m \u001b[38;5;28;01melse\u001b[39;00m:\n\u001b[0;32m-> 1553\u001b[0m     \u001b[38;5;28;01mreturn\u001b[39;00m \u001b[38;5;28mself\u001b[39m\u001b[38;5;241m.\u001b[39m_call_impl(\u001b[38;5;241m*\u001b[39margs, \u001b[38;5;241m*\u001b[39m\u001b[38;5;241m*\u001b[39mkwargs)\n",
      "File \u001b[0;32m/opt/anaconda3/lib/python3.11/site-packages/torch/nn/modules/module.py:1562\u001b[0m, in \u001b[0;36mModule._call_impl\u001b[0;34m(self, *args, **kwargs)\u001b[0m\n\u001b[1;32m   1557\u001b[0m \u001b[38;5;66;03m# If we don't have any hooks, we want to skip the rest of the logic in\u001b[39;00m\n\u001b[1;32m   1558\u001b[0m \u001b[38;5;66;03m# this function, and just call forward.\u001b[39;00m\n\u001b[1;32m   1559\u001b[0m \u001b[38;5;28;01mif\u001b[39;00m \u001b[38;5;129;01mnot\u001b[39;00m (\u001b[38;5;28mself\u001b[39m\u001b[38;5;241m.\u001b[39m_backward_hooks \u001b[38;5;129;01mor\u001b[39;00m \u001b[38;5;28mself\u001b[39m\u001b[38;5;241m.\u001b[39m_backward_pre_hooks \u001b[38;5;129;01mor\u001b[39;00m \u001b[38;5;28mself\u001b[39m\u001b[38;5;241m.\u001b[39m_forward_hooks \u001b[38;5;129;01mor\u001b[39;00m \u001b[38;5;28mself\u001b[39m\u001b[38;5;241m.\u001b[39m_forward_pre_hooks\n\u001b[1;32m   1560\u001b[0m         \u001b[38;5;129;01mor\u001b[39;00m _global_backward_pre_hooks \u001b[38;5;129;01mor\u001b[39;00m _global_backward_hooks\n\u001b[1;32m   1561\u001b[0m         \u001b[38;5;129;01mor\u001b[39;00m _global_forward_hooks \u001b[38;5;129;01mor\u001b[39;00m _global_forward_pre_hooks):\n\u001b[0;32m-> 1562\u001b[0m     \u001b[38;5;28;01mreturn\u001b[39;00m forward_call(\u001b[38;5;241m*\u001b[39margs, \u001b[38;5;241m*\u001b[39m\u001b[38;5;241m*\u001b[39mkwargs)\n\u001b[1;32m   1564\u001b[0m \u001b[38;5;28;01mtry\u001b[39;00m:\n\u001b[1;32m   1565\u001b[0m     result \u001b[38;5;241m=\u001b[39m \u001b[38;5;28;01mNone\u001b[39;00m\n",
      "File \u001b[0;32m/opt/anaconda3/lib/python3.11/site-packages/whisper/model.py:139\u001b[0m, in \u001b[0;36mResidualAttentionBlock.forward\u001b[0;34m(self, x, xa, mask, kv_cache)\u001b[0m\n\u001b[1;32m    137\u001b[0m \u001b[38;5;28;01mif\u001b[39;00m \u001b[38;5;28mself\u001b[39m\u001b[38;5;241m.\u001b[39mcross_attn:\n\u001b[1;32m    138\u001b[0m     x \u001b[38;5;241m=\u001b[39m x \u001b[38;5;241m+\u001b[39m \u001b[38;5;28mself\u001b[39m\u001b[38;5;241m.\u001b[39mcross_attn(\u001b[38;5;28mself\u001b[39m\u001b[38;5;241m.\u001b[39mcross_attn_ln(x), xa, kv_cache\u001b[38;5;241m=\u001b[39mkv_cache)[\u001b[38;5;241m0\u001b[39m]\n\u001b[0;32m--> 139\u001b[0m x \u001b[38;5;241m=\u001b[39m x \u001b[38;5;241m+\u001b[39m \u001b[38;5;28mself\u001b[39m\u001b[38;5;241m.\u001b[39mmlp(\u001b[38;5;28mself\u001b[39m\u001b[38;5;241m.\u001b[39mmlp_ln(x))\n\u001b[1;32m    140\u001b[0m \u001b[38;5;28;01mreturn\u001b[39;00m x\n",
      "File \u001b[0;32m/opt/anaconda3/lib/python3.11/site-packages/torch/nn/modules/module.py:1553\u001b[0m, in \u001b[0;36mModule._wrapped_call_impl\u001b[0;34m(self, *args, **kwargs)\u001b[0m\n\u001b[1;32m   1551\u001b[0m     \u001b[38;5;28;01mreturn\u001b[39;00m \u001b[38;5;28mself\u001b[39m\u001b[38;5;241m.\u001b[39m_compiled_call_impl(\u001b[38;5;241m*\u001b[39margs, \u001b[38;5;241m*\u001b[39m\u001b[38;5;241m*\u001b[39mkwargs)  \u001b[38;5;66;03m# type: ignore[misc]\u001b[39;00m\n\u001b[1;32m   1552\u001b[0m \u001b[38;5;28;01melse\u001b[39;00m:\n\u001b[0;32m-> 1553\u001b[0m     \u001b[38;5;28;01mreturn\u001b[39;00m \u001b[38;5;28mself\u001b[39m\u001b[38;5;241m.\u001b[39m_call_impl(\u001b[38;5;241m*\u001b[39margs, \u001b[38;5;241m*\u001b[39m\u001b[38;5;241m*\u001b[39mkwargs)\n",
      "File \u001b[0;32m/opt/anaconda3/lib/python3.11/site-packages/torch/nn/modules/module.py:1562\u001b[0m, in \u001b[0;36mModule._call_impl\u001b[0;34m(self, *args, **kwargs)\u001b[0m\n\u001b[1;32m   1557\u001b[0m \u001b[38;5;66;03m# If we don't have any hooks, we want to skip the rest of the logic in\u001b[39;00m\n\u001b[1;32m   1558\u001b[0m \u001b[38;5;66;03m# this function, and just call forward.\u001b[39;00m\n\u001b[1;32m   1559\u001b[0m \u001b[38;5;28;01mif\u001b[39;00m \u001b[38;5;129;01mnot\u001b[39;00m (\u001b[38;5;28mself\u001b[39m\u001b[38;5;241m.\u001b[39m_backward_hooks \u001b[38;5;129;01mor\u001b[39;00m \u001b[38;5;28mself\u001b[39m\u001b[38;5;241m.\u001b[39m_backward_pre_hooks \u001b[38;5;129;01mor\u001b[39;00m \u001b[38;5;28mself\u001b[39m\u001b[38;5;241m.\u001b[39m_forward_hooks \u001b[38;5;129;01mor\u001b[39;00m \u001b[38;5;28mself\u001b[39m\u001b[38;5;241m.\u001b[39m_forward_pre_hooks\n\u001b[1;32m   1560\u001b[0m         \u001b[38;5;129;01mor\u001b[39;00m _global_backward_pre_hooks \u001b[38;5;129;01mor\u001b[39;00m _global_backward_hooks\n\u001b[1;32m   1561\u001b[0m         \u001b[38;5;129;01mor\u001b[39;00m _global_forward_hooks \u001b[38;5;129;01mor\u001b[39;00m _global_forward_pre_hooks):\n\u001b[0;32m-> 1562\u001b[0m     \u001b[38;5;28;01mreturn\u001b[39;00m forward_call(\u001b[38;5;241m*\u001b[39margs, \u001b[38;5;241m*\u001b[39m\u001b[38;5;241m*\u001b[39mkwargs)\n\u001b[1;32m   1564\u001b[0m \u001b[38;5;28;01mtry\u001b[39;00m:\n\u001b[1;32m   1565\u001b[0m     result \u001b[38;5;241m=\u001b[39m \u001b[38;5;28;01mNone\u001b[39;00m\n",
      "File \u001b[0;32m/opt/anaconda3/lib/python3.11/site-packages/torch/nn/modules/container.py:219\u001b[0m, in \u001b[0;36mSequential.forward\u001b[0;34m(self, input)\u001b[0m\n\u001b[1;32m    217\u001b[0m \u001b[38;5;28;01mdef\u001b[39;00m \u001b[38;5;21mforward\u001b[39m(\u001b[38;5;28mself\u001b[39m, \u001b[38;5;28minput\u001b[39m):\n\u001b[1;32m    218\u001b[0m     \u001b[38;5;28;01mfor\u001b[39;00m module \u001b[38;5;129;01min\u001b[39;00m \u001b[38;5;28mself\u001b[39m:\n\u001b[0;32m--> 219\u001b[0m         \u001b[38;5;28minput\u001b[39m \u001b[38;5;241m=\u001b[39m module(\u001b[38;5;28minput\u001b[39m)\n\u001b[1;32m    220\u001b[0m     \u001b[38;5;28;01mreturn\u001b[39;00m \u001b[38;5;28minput\u001b[39m\n",
      "File \u001b[0;32m/opt/anaconda3/lib/python3.11/site-packages/torch/nn/modules/module.py:1553\u001b[0m, in \u001b[0;36mModule._wrapped_call_impl\u001b[0;34m(self, *args, **kwargs)\u001b[0m\n\u001b[1;32m   1551\u001b[0m     \u001b[38;5;28;01mreturn\u001b[39;00m \u001b[38;5;28mself\u001b[39m\u001b[38;5;241m.\u001b[39m_compiled_call_impl(\u001b[38;5;241m*\u001b[39margs, \u001b[38;5;241m*\u001b[39m\u001b[38;5;241m*\u001b[39mkwargs)  \u001b[38;5;66;03m# type: ignore[misc]\u001b[39;00m\n\u001b[1;32m   1552\u001b[0m \u001b[38;5;28;01melse\u001b[39;00m:\n\u001b[0;32m-> 1553\u001b[0m     \u001b[38;5;28;01mreturn\u001b[39;00m \u001b[38;5;28mself\u001b[39m\u001b[38;5;241m.\u001b[39m_call_impl(\u001b[38;5;241m*\u001b[39margs, \u001b[38;5;241m*\u001b[39m\u001b[38;5;241m*\u001b[39mkwargs)\n",
      "File \u001b[0;32m/opt/anaconda3/lib/python3.11/site-packages/torch/nn/modules/module.py:1562\u001b[0m, in \u001b[0;36mModule._call_impl\u001b[0;34m(self, *args, **kwargs)\u001b[0m\n\u001b[1;32m   1557\u001b[0m \u001b[38;5;66;03m# If we don't have any hooks, we want to skip the rest of the logic in\u001b[39;00m\n\u001b[1;32m   1558\u001b[0m \u001b[38;5;66;03m# this function, and just call forward.\u001b[39;00m\n\u001b[1;32m   1559\u001b[0m \u001b[38;5;28;01mif\u001b[39;00m \u001b[38;5;129;01mnot\u001b[39;00m (\u001b[38;5;28mself\u001b[39m\u001b[38;5;241m.\u001b[39m_backward_hooks \u001b[38;5;129;01mor\u001b[39;00m \u001b[38;5;28mself\u001b[39m\u001b[38;5;241m.\u001b[39m_backward_pre_hooks \u001b[38;5;129;01mor\u001b[39;00m \u001b[38;5;28mself\u001b[39m\u001b[38;5;241m.\u001b[39m_forward_hooks \u001b[38;5;129;01mor\u001b[39;00m \u001b[38;5;28mself\u001b[39m\u001b[38;5;241m.\u001b[39m_forward_pre_hooks\n\u001b[1;32m   1560\u001b[0m         \u001b[38;5;129;01mor\u001b[39;00m _global_backward_pre_hooks \u001b[38;5;129;01mor\u001b[39;00m _global_backward_hooks\n\u001b[1;32m   1561\u001b[0m         \u001b[38;5;129;01mor\u001b[39;00m _global_forward_hooks \u001b[38;5;129;01mor\u001b[39;00m _global_forward_pre_hooks):\n\u001b[0;32m-> 1562\u001b[0m     \u001b[38;5;28;01mreturn\u001b[39;00m forward_call(\u001b[38;5;241m*\u001b[39margs, \u001b[38;5;241m*\u001b[39m\u001b[38;5;241m*\u001b[39mkwargs)\n\u001b[1;32m   1564\u001b[0m \u001b[38;5;28;01mtry\u001b[39;00m:\n\u001b[1;32m   1565\u001b[0m     result \u001b[38;5;241m=\u001b[39m \u001b[38;5;28;01mNone\u001b[39;00m\n",
      "File \u001b[0;32m/opt/anaconda3/lib/python3.11/site-packages/whisper/model.py:37\u001b[0m, in \u001b[0;36mLinear.forward\u001b[0;34m(self, x)\u001b[0m\n\u001b[1;32m     36\u001b[0m \u001b[38;5;28;01mdef\u001b[39;00m \u001b[38;5;21mforward\u001b[39m(\u001b[38;5;28mself\u001b[39m, x: Tensor) \u001b[38;5;241m-\u001b[39m\u001b[38;5;241m>\u001b[39m Tensor:\n\u001b[0;32m---> 37\u001b[0m     \u001b[38;5;28;01mreturn\u001b[39;00m F\u001b[38;5;241m.\u001b[39mlinear(\n\u001b[1;32m     38\u001b[0m         x,\n\u001b[1;32m     39\u001b[0m         \u001b[38;5;28mself\u001b[39m\u001b[38;5;241m.\u001b[39mweight\u001b[38;5;241m.\u001b[39mto(x\u001b[38;5;241m.\u001b[39mdtype),\n\u001b[1;32m     40\u001b[0m         \u001b[38;5;28;01mNone\u001b[39;00m \u001b[38;5;28;01mif\u001b[39;00m \u001b[38;5;28mself\u001b[39m\u001b[38;5;241m.\u001b[39mbias \u001b[38;5;129;01mis\u001b[39;00m \u001b[38;5;28;01mNone\u001b[39;00m \u001b[38;5;28;01melse\u001b[39;00m \u001b[38;5;28mself\u001b[39m\u001b[38;5;241m.\u001b[39mbias\u001b[38;5;241m.\u001b[39mto(x\u001b[38;5;241m.\u001b[39mdtype),\n\u001b[1;32m     41\u001b[0m     )\n",
      "\u001b[0;31mKeyboardInterrupt\u001b[0m: "
     ]
    }
   ],
   "source": [
    "for fichier in [f for i,f in enumerate(lFichiers) if i in [4,11,14,17,18]]:\n",
    "    audio=whisperTS.load_audio(repExtraits+fichier)\n",
    "    print(datetime.now().time())\n",
    "    transcription=transcribe(audio,model,suggestions,vad=\"silero\")\n",
    "    print(transcription[\"text\"])\n",
    "    with open(repJson+fichier+\".json\",\"w\") as outFile:\n",
    "        outFile.write(json.dumps(transcription, indent = 2, ensure_ascii = False))\n",
    "    print(datetime.now().time())\n",
    "    print(\"\")\n",
    "    ding()\n",
    "ding()"
   ]
  },
  {
   "cell_type": "code",
   "execution_count": 71,
   "id": "8e196541-30a5-49cf-b623-cfe5b66feb0b",
   "metadata": {},
   "outputs": [],
   "source": [
    "suggestions=\".?!, press the attack doran blade tabi ninja mercs roam cleanse lanning phase tear lame du roi déchu hess ignite talbin root goal bush grasp trinket abuse sterak toon blue red side mid top jungle jungler support lane carry tank comp engage follow up matchup blind item full draft first pick team kite back map bait greed late ward river step dash mix slow chill swap wave plate start smite magic resist game front flop early lead gank level chunk puch creep zoner in out stack traiding traid mana buff clear flash hook gromp gold safe clear rush ulti bluff tempo teamfight stuff prock farm timing join bail corbin moove stun lead Hextech go blood kill win rate cancel worth scale catch zone flank flip elder contest buffer dodge reset jump nash let’s go re-engage auto Navory Dominique commite baron split ultimate playstation zerma solo auto attack turn regene perf Walkiri Randuin tanki lol poke spike shot back line reset loose base free soul timer Dom job cancel Zhonia hinib prime team season final winner bracket play making instant mix tanker whatsapp rune Electrocute banni late invade trap push trade spell Sumoner heal give golem Doran fleet chill void check face range dive mercure deny all bump life zeke Lyandri Triforce crash power escape deep down ping Warmog burst even card stop watch miss com pene Banshee show on end Nexus setup hyper clutch rooster salam counter zinzin gantelet aro méta stream rinté pickable speed shadow flex scaling demonic ombraised me pressing raid. Ray Canna Closer Vladi Voladi Upset Targamas Myrwin Elyoya Fresskowy Supa Alvaro Jekille Taliyah Rumble Brand Maokaï Zyra Ezreal Ez Sejuani Sej Tristana Tristoune Toon Renekton Corki Zeri Vi Kai’sa Kicor Kennen Jayce Rakan Nautilus Rell Alistar Varus Braum Gnar Nautilus Neeko Targou League of Legends Caps Annie Azir Mordek Mordekaiser Simus Camille Lucian Yone Yon TF Jax Yasuo Jinx Tix Kcorp Ashe Freljord Larssen Leblanc Aphelios Ksanté Viego Markoon Vitality Ivern Cayt Rip Kalista Cams Reksaï Skarner Sivir Trist Xin Xao Draven Fiora Renata Leona Pops Poppy Hwei Hans Sama Mikyx\"\n",
    "fichier='/Users/gilles/sDrive/Cours/Bordeaux/L2-Corpus/Whisper/%s/Segments/extrait-03.wav'%nMachine"
   ]
  },
  {
   "cell_type": "code",
   "execution_count": 72,
   "id": "1b984fc6-ff51-4a36-bafa-d2271294a58e",
   "metadata": {},
   "outputs": [
    {
     "name": "stdout",
     "output_type": "stream",
     "text": [
      "12:01:56.097539\n"
     ]
    },
    {
     "name": "stderr",
     "output_type": "stream",
     "text": [
      "100%|█████████████████████████████████████████████████████████████████████████████████████████| 9932/9932 [03:10<00:00, 52.26frames/s]\n"
     ]
    },
    {
     "name": "stdout",
     "output_type": "stream",
     "text": [
      " Leblanc Leblanc Leblanc Leblanc Leblanc Leblanc Leblanc Leblanc Leblanc Leblanc Leblanc Leblanc Leblanc Leblanc Leblanc Leblanc Leblanc Leblanc Leblanc Leblanc Leblanc Leblanc Leblanc Leblanc Leblanc Leblanc Leblanc Leblanc Leblanc Leblanc Leblanc Leblanc Leblanc Leblanc Leblanc Leblanc Leblanc Leblanc Leblanc Leblanc Leblanc Leblanc Leblanc Leblanc Leblanc Leblanc Leblanc Leblanc Leblanc Leblanc Leblanc Leblanc Leblanc Leblanc Leblanc Leblanc Leblanc Leblanc Leblanc Leblanc Leblanc Leblanc Leblanc Leblanc Leblanc Leblanc Leblanc Leblanc Leblanc Leblanc Leblanc Leblanc Leblanc Lebl Leblanc Leblanc Leblanc Leblanc Leblanc Leblanc Leblanc Leblanc Leblanc Leblanc Leblanc Leblanc Leblanc Leblanc Leblanc Leblanc Leblanc Leblanc Leblanc Leblanc Leblanc Leblanc Leblanc Leblanc Leblanc Leblanc Leblanc Leblanc Leblanc Leblanc Leblanc Leblanc Leblanc Leblanc Leblanc Leblanc Leblanc Leblanc Leblanc Leblanc Leblanc Leblanc Leblanc Leblanc Leblanc Leblanc Leblanc Leblanc Leblanc Leblanc Leblanc Leblanc Leblanc Leblanc Leblanc Leblanc Leblanc Leblanc Leblanc Leblanc Leblanc Leblanc Leblanc Leblanc Leblanc Leblanc Leblanc Leblanc Leblanc Leblanc Leblanc Leblanc Leblanc Lebl Leblanc Leblanc Leblanc Leblanc Leblanc Leblanc Leblanc Leblanc Leblanc Leblanc Leblanc Leblanc Leblanc Leblanc Leblanc Leblanc Leblanc Leblanc Leblanc Leblanc Leblanc Leblanc Leblanc Leblanc Leblanc Leblanc Leblanc Leblanc Leblanc Leblanc Leblanc Leblanc Leblanc Leblanc Leblanc Leblanc Leblanc Leblanc Leblanc Leblanc Leblanc Leblanc Leblanc Leblanc Leblanc Leblanc Leblanc Leblanc Leblanc Leblanc Leblanc Leblanc Leblanc Leblanc Leblanc Leblanc Leblanc Leblanc Leblanc Leblanc Leblanc Leblanc Leblanc Leblanc Leblanc Leblanc Leblanc Leblanc Leblanc Leblanc Leblanc Leblanc Leblanc Lebl Leblanc Leblanc Leblanc Leblanc Leblanc Leblanc Leblanc Leblanc Leblanc Leblanc Leblanc Leblanc Leblanc Leblanc Leblanc Leblanc Leblanc Leblanc Leblanc Leblanc Leblanc Leblanc Leblanc Leblanc Leblanc Leblanc Leblanc Leblanc Leblanc Leblanc Leblanc Leblanc Leblanc Leblanc Leblanc Leblanc Leblanc Leblanc Leblanc Leblanc Leblanc Leblanc Leblanc Leblanc Leblanc Leblanc Leblanc Leblanc Leblanc Leblanc Leblanc Leblanc Leblanc Leblanc Leblanc Leblanc Leblanc Leblanc Leblanc Leblanc Leblanc Leblanc Leblanc Leblanc Leblanc Leblanc Leblanc Leblanc Leblanc Leblanc Leblanc Leblanc Leblanc Lebl\n",
      "12:05:43.084536\n"
     ]
    }
   ],
   "source": [
    "audio=whisperTS.load_audio(fichier)\n",
    "print(datetime.now().time())\n",
    "transcription=transcribe(audio,model,suggestions,vad=\"silero\")\n",
    "print(transcription[\"text\"])\n",
    "with open(fichier.replace(\".wav\",\".json\"),\"w\") as outFile:\n",
    "    outFile.write(json.dumps(transcription, indent = 2, ensure_ascii = False))\n",
    "print(datetime.now().time())\n",
    "ding()"
   ]
  },
  {
   "cell_type": "code",
   "execution_count": null,
   "id": "79546307-5f52-499b-94c8-27b6a099868f",
   "metadata": {},
   "outputs": [],
   "source": [
    "whisperTS.__version__"
   ]
  }
 ],
 "metadata": {
  "kernelspec": {
   "display_name": "Python 3 (ipykernel)",
   "language": "python",
   "name": "python3"
  },
  "language_info": {
   "codemirror_mode": {
    "name": "ipython",
    "version": 3
   },
   "file_extension": ".py",
   "mimetype": "text/x-python",
   "name": "python",
   "nbconvert_exporter": "python",
   "pygments_lexer": "ipython3",
   "version": "3.11.8"
  }
 },
 "nbformat": 4,
 "nbformat_minor": 5
}
