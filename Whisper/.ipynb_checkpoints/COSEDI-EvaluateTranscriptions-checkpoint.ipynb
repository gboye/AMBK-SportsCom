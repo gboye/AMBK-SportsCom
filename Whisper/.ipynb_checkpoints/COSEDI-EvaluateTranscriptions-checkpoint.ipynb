{
 "cells": [
  {
   "cell_type": "code",
   "execution_count": 125,
   "id": "965a8dc9-c1e3-4b40-9fc5-34689c339cbe",
   "metadata": {},
   "outputs": [],
   "source": [
    "import evaluate,glob\n",
    "import pandas as pd"
   ]
  },
  {
   "cell_type": "code",
   "execution_count": 26,
   "id": "ab24e6a5-ae90-496f-8a45-338242629137",
   "metadata": {},
   "outputs": [
    {
     "name": "stderr",
     "output_type": "stream",
     "text": [
      "[nltk_data] Downloading package wordnet to /Users/gilles/nltk_data...\n",
      "[nltk_data]   Package wordnet is already up-to-date!\n",
      "[nltk_data] Downloading package punkt to /Users/gilles/nltk_data...\n",
      "[nltk_data]   Package punkt is already up-to-date!\n",
      "[nltk_data] Downloading package omw-1.4 to /Users/gilles/nltk_data...\n",
      "[nltk_data]   Package omw-1.4 is already up-to-date!\n"
     ]
    }
   ],
   "source": [
    "wer_metric = evaluate.load(\"wer\")\n",
    "bleu_metric = evaluate.load(\"bleu\")\n",
    "meteor_metric = evaluate.load(\"meteor\")\n"
   ]
  },
  {
   "cell_type": "code",
   "execution_count": 48,
   "id": "3ec82e85-671e-47d0-9ee5-dc03d44c33ca",
   "metadata": {},
   "outputs": [],
   "source": [
    "fEtudiants=sorted(glob.glob(\"results/etudiants/*.txt\"))\n",
    "fWhispers=glob.glob(\"results/transcriptions_whisper/*.txt\")\n",
    "fReferences=sorted(glob.glob(\"data/test/transcription/*.txt\"))\n",
    "indexEtudiants=[f.split(\"/\")[-1] for f in fEtudiants]\n",
    "fReferencesEtudiants=[f for f in fReferences if f.split(\"/\")[-1] in indexEtudiants]"
   ]
  },
  {
   "cell_type": "code",
   "execution_count": 114,
   "id": "235618ef-9d54-4316-b7d4-122afe188f17",
   "metadata": {},
   "outputs": [],
   "source": [
    "whispers=\"tiny base small medium large-v2\".split(\" \")"
   ]
  },
  {
   "cell_type": "code",
   "execution_count": 34,
   "id": "df225e09-092e-4af1-8781-088f905b6867",
   "metadata": {},
   "outputs": [],
   "source": [
    "def readLinesTS(lines):\n",
    "    result=[]\n",
    "    for line in lines:\n",
    "        mot=line.split(\",\")[0][6:]\n",
    "        result.append(mot)\n",
    "    return \" \".join(result)      "
   ]
  },
  {
   "cell_type": "code",
   "execution_count": 68,
   "id": "6ff7f783-1f34-4ce4-9eb1-89ccb2cac00a",
   "metadata": {},
   "outputs": [],
   "source": [
    "def getData(predictions,references):\n",
    "    testIndex=glob.glob(predictions+\"*.txt\")\n",
    "    testIndex=[f.split(predictions)[-1] for f in testIndex]\n",
    "    testIndex=sorted(testIndex,key=lambda x: int(x.split(\".\")[0]))\n",
    "    tPredictions=[]\n",
    "    tReferences=[]\n",
    "    for test in testIndex:\n",
    "        with open(predictions+test,\"r\") as inFile:\n",
    "            if \"_\" in predictions:\n",
    "                linesTS=inFile.readlines()\n",
    "                transcription=readLinesTS(linesTS)\n",
    "            else:\n",
    "                transcription=\" \".join(inFile.readlines())\n",
    "            tPredictions.append(transcription)\n",
    "        with open(references+test,\"r\") as inFile:\n",
    "            transcription=\" \".join(inFile.readlines())\n",
    "            tReferences.append(transcription)\n",
    "    return (tPredictions,tReferences)"
   ]
  },
  {
   "cell_type": "code",
   "execution_count": 102,
   "id": "eb77936d-e531-40cf-b0b5-785d9ef3de1e",
   "metadata": {
    "scrolled": true
   },
   "outputs": [
    {
     "name": "stdout",
     "output_type": "stream",
     "text": [
      "Etudiants:\tGlob\tFrAr\tFrNZ\n",
      "WER:\t\t0.34\t0.32\t0.39\n",
      "BLEU:\t\t52%\t49%\t49%\n",
      "METEOR:\t\t81%\t84%\t75%\n"
     ]
    }
   ],
   "source": [
    "predictions,references=getData(\"results/etudiants/\",\"data/test/transcription/\")\n",
    "\n",
    "werGlob=wer_metric.compute(predictions=predictions,references=references)\n",
    "bleuGlob=bleu_metric.compute(predictions=predictions,references=references)\n",
    "meteorGlob=meteor_metric.compute(predictions=predictions,references=references)\n",
    "\n",
    "werFrAr=wer_metric.compute(predictions=predictions[:31],references=references[:31])\n",
    "bleuFrAr=bleu_metric.compute(predictions=predictions[:31],references=references[:31])\n",
    "meteorFrAr=meteor_metric.compute(predictions=predictions[:31],references=references[:31])\n",
    "\n",
    "werFrNZ=wer_metric.compute(predictions=predictions[31:],references=references[31:])\n",
    "bleuFrNZ=bleu_metric.compute(predictions=predictions[31:],references=references[31:])\n",
    "meteorFrNZ=meteor_metric.compute(predictions=predictions[31:],references=references[31:])\n",
    "print (\"Etudiants:\\tGlob\\tFrAr\\tFrNZ\")\n",
    "print (\"WER:\\t\\t%2.2f\\t%2.2f\\t%2.2f\"%(werGlob,werFrAr,werFrNZ))\n",
    "print (\"BLEU:\\t\\t%2.f%%\\t%2.f%%\\t%2.f%%\"%(bleuGlob[\"bleu\"]*100,bleuFrAr[\"bleu\"]*100,bleuFrNZ[\"bleu\"]*100))\n",
    "print (\"METEOR:\\t\\t%2.f%%\\t%2.f%%\\t%2.f%%\"%(meteorGlob[\"meteor\"]*100,meteorFrAr[\"meteor\"]*100,meteorFrNZ[\"meteor\"]*100))"
   ]
  },
  {
   "cell_type": "code",
   "execution_count": null,
   "id": "cd373062-1d10-4cca-8dc8-f11798444d45",
   "metadata": {},
   "outputs": [],
   "source": []
  },
  {
   "cell_type": "code",
   "execution_count": 184,
   "id": "e7d4f565-d28f-4e89-a964-b0893b56b5fc",
   "metadata": {
    "scrolled": true
   },
   "outputs": [],
   "source": [
    "def getTestResults(modelName,override=\"\"):\n",
    "    results={}\n",
    "    if override==\"\":\n",
    "        transcriptionsData=\"results/transcriptions_whisper/%s_\"%modelName\n",
    "    else:\n",
    "        transcriptionsData=override\n",
    "    predictions,references=getData(transcriptionsData, \"data/test/transcription/\")\n",
    "    \n",
    "    werGlob=wer_metric.compute(predictions=predictions,references=references)\n",
    "    bleuGlob=bleu_metric.compute(predictions=predictions,references=references)\n",
    "    meteorGlob=meteor_metric.compute(predictions=predictions,references=references)\n",
    "    \n",
    "    werFrAr=wer_metric.compute(predictions=predictions[:31],references=references[:31])\n",
    "    bleuFrAr=bleu_metric.compute(predictions=predictions[:31],references=references[:31])\n",
    "    meteorFrAr=meteor_metric.compute(predictions=predictions[:31],references=references[:31])\n",
    "    \n",
    "    werFrNZ=wer_metric.compute(predictions=predictions[31:],references=references[31:])\n",
    "    bleuFrNZ=bleu_metric.compute(predictions=predictions[31:],references=references[31:])\n",
    "    meteorFrNZ=meteor_metric.compute(predictions=predictions[31:],references=references[31:])\n",
    "    print (\"%s Whisper:\\tGlob\\tFrAr\\tFrNZ\"%modelName)\n",
    "    print (\"WER:\\t\\t%2.2f\\t%2.2f\\t%2.2f\"%(werGlob,werFrAr,werFrNZ))\n",
    "    results[(\"WER\",\"Global\")]=werGlob\n",
    "    results[(\"WER\",\"FranceArgentine\")]=werFrAr\n",
    "    results[(\"WER\",\"FranceNouvelleZelande\")]=werFrNZ\n",
    "    print (\"BLEU:\\t\\t%2.f%%\\t%2.f%%\\t%2.f%%\"%(bleuGlob[\"bleu\"]*100,bleuFrAr[\"bleu\"]*100,bleuFrNZ[\"bleu\"]*100))\n",
    "    results[(\"BLEU\",\"Global\")]=bleuGlob[\"bleu\"]*100\n",
    "    results[(\"BLEU\",\"FranceArgentine\")]=bleuFrAr[\"bleu\"]*100\n",
    "    results[(\"BLEU\",\"FranceNouvelleZelande\")]=bleuFrNZ[\"bleu\"]*100\n",
    "    print (\"METEOR:\\t\\t%2.f%%\\t%2.f%%\\t%2.f%%\"%(meteorGlob[\"meteor\"]*100,meteorFrAr[\"meteor\"]*100,meteorFrNZ[\"meteor\"]*100))\n",
    "    results[(\"METEOR\",\"Global\")]=meteorGlob[\"meteor\"]*100\n",
    "    results[(\"METEOR\",\"FranceArgentine\")]=meteorFrAr[\"meteor\"]*100\n",
    "    results[(\"METEOR\",\"FranceNouvelleZelande\")]=meteorFrNZ[\"meteor\"]*100\n",
    "    return results"
   ]
  },
  {
   "cell_type": "code",
   "execution_count": 185,
   "id": "c83a3fc3-411e-4787-bd89-0d270c876963",
   "metadata": {},
   "outputs": [
    {
     "name": "stdout",
     "output_type": "stream",
     "text": [
      "tiny Whisper:\tGlob\tFrAr\tFrNZ\n",
      "WER:\t\t0.70\t0.66\t0.76\n",
      "BLEU:\t\t21%\t23%\t17%\n",
      "METEOR:\t\t41%\t48%\t33%\n",
      "base Whisper:\tGlob\tFrAr\tFrNZ\n",
      "WER:\t\t0.51\t0.46\t0.57\n",
      "BLEU:\t\t36%\t38%\t33%\n",
      "METEOR:\t\t60%\t65%\t53%\n",
      "small Whisper:\tGlob\tFrAr\tFrNZ\n",
      "WER:\t\t0.44\t0.44\t0.44\n",
      "BLEU:\t\t43%\t45%\t42%\n",
      "METEOR:\t\t70%\t71%\t68%\n",
      "medium Whisper:\tGlob\tFrAr\tFrNZ\n",
      "WER:\t\t0.37\t0.35\t0.41\n",
      "BLEU:\t\t48%\t51%\t45%\n",
      "METEOR:\t\t77%\t80%\t73%\n",
      "large-v2 Whisper:\tGlob\tFrAr\tFrNZ\n",
      "WER:\t\t0.34\t0.32\t0.37\n",
      "BLEU:\t\t53%\t56%\t49%\n",
      "METEOR:\t\t78%\t78%\t77%\n",
      " Whisper:\tGlob\tFrAr\tFrNZ\n",
      "WER:\t\t0.34\t0.32\t0.39\n",
      "BLEU:\t\t52%\t49%\t49%\n",
      "METEOR:\t\t81%\t84%\t75%\n"
     ]
    }
   ],
   "source": [
    "whisperResults={}\n",
    "for whisper in whispers:\n",
    "    # print(whisper)\n",
    "    whisperResults[whisper]=getTestResults(whisper)\n",
    "whisperResults[\"etudiants\"]=getTestResults(\"\",override=\"results/etudiants/\")"
   ]
  },
  {
   "cell_type": "code",
   "execution_count": 186,
   "id": "9f44b6b8-0c49-4653-902c-8a23ec499bf1",
   "metadata": {},
   "outputs": [],
   "source": [
    "from math import log10, floor\n",
    "def round_it(x, sig=2):\n",
    "    result=round(x, sig - int(floor(log10(abs(x)))) - 1)\n",
    "    if int(result)==result:\n",
    "        result=\"%d%%\"%result\n",
    "    return result\n"
   ]
  },
  {
   "cell_type": "code",
   "execution_count": 190,
   "id": "c0481216-976d-4d97-9589-1733c5cd0adc",
   "metadata": {},
   "outputs": [],
   "source": [
    "dfResults=pd.DataFrame(whisperResults)\n",
    "for col in dfResults.columns:\n",
    "    dfResults[col]=dfResults[col].apply(round_it)\n",
    "dfResults.to_excel(\"COSEDI-Comparaisons.xlsx\")"
   ]
  },
  {
   "cell_type": "code",
   "execution_count": null,
   "id": "6cb0e7c3-e594-4de2-9cb6-358285e1ce13",
   "metadata": {},
   "outputs": [],
   "source": []
  }
 ],
 "metadata": {
  "kernelspec": {
   "display_name": "Python 3 (ipykernel)",
   "language": "python",
   "name": "python3"
  },
  "language_info": {
   "codemirror_mode": {
    "name": "ipython",
    "version": 3
   },
   "file_extension": ".py",
   "mimetype": "text/x-python",
   "name": "python",
   "nbconvert_exporter": "python",
   "pygments_lexer": "ipython3",
   "version": "3.9.18"
  }
 },
 "nbformat": 4,
 "nbformat_minor": 5
}
