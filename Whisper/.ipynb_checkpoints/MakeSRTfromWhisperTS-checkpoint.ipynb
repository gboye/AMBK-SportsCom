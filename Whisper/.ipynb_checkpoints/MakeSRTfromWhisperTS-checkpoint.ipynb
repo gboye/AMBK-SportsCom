{
 "cells": [
  {
   "cell_type": "code",
   "execution_count": 27,
   "id": "c09e2155-f8d0-4e91-9236-d46af8e831a4",
   "metadata": {},
   "outputs": [],
   "source": [
    "import re,codecs\n",
    "import pandas as pd"
   ]
  },
  {
   "cell_type": "code",
   "execution_count": 11,
   "id": "c1fc5f6e-0dd9-45d4-a13d-d7b32280c9e9",
   "metadata": {},
   "outputs": [],
   "source": [
    "fTranscript=\"Transcript.txt\"\n",
    "with open(fTranscript) as inFile:\n",
    "    lines = inFile.readlines()"
   ]
  },
  {
   "cell_type": "code",
   "execution_count": 15,
   "id": "912f93d5-faba-4b7b-b75f-663afe05466f",
   "metadata": {},
   "outputs": [],
   "source": [
    "tMots=[]\n",
    "for line in lines:\n",
    "    m=re.match(r\"^Word: (.*), start: (.*) end: (.*), confidence: (.*)\",line.strip())\n",
    "    if m:\n",
    "        mot=m.group(1)\n",
    "        start=float(m.group(2))\n",
    "        end=float(m.group(3))\n",
    "        confidence=m.group(4)\n",
    "        tMots.append((start,end,mot,confidence))\n",
    "dfMots=pd.DataFrame(tMots,columns=\"start end mot confidence\".split(\" \"))"
   ]
  },
  {
   "cell_type": "code",
   "execution_count": 22,
   "id": "ba3527c6-dfc9-4327-bb60-5953791ddf32",
   "metadata": {},
   "outputs": [],
   "source": [
    "def second2timestamp(seconds):\n",
    "    sHours=int(seconds/3600)\n",
    "    sMinutes=int((seconds-sHours*3600)/60)\n",
    "    sSeconds=int((seconds-sHours*3600-sMinutes*60))\n",
    "    sMilliseconds=int((seconds%1)*1000)\n",
    "    return \"%02d:%02d:%02d,%03d\"%(sHours,sMinutes,sSeconds,sMilliseconds)"
   ]
  },
  {
   "cell_type": "code",
   "execution_count": 23,
   "id": "b3fbe4fd-2241-4c4a-97dc-7d1026f20ff5",
   "metadata": {},
   "outputs": [
    {
     "data": {
      "text/plain": [
       "'01:01:05,547'"
      ]
     },
     "execution_count": 23,
     "metadata": {},
     "output_type": "execute_result"
    }
   ],
   "source": [
    "second2timestamp(3665.547)"
   ]
  },
  {
   "cell_type": "code",
   "execution_count": null,
   "id": "18f1c297-188a-430a-be19-48feefa0e033",
   "metadata": {},
   "outputs": [],
   "source": [
    "srtLines=[]\n",
    "for i,(start,end,mot,confidence) in enumerate(tMots):\n",
    "    n=i+1\n",
    "    srtLines.append(str(n))\n",
    "    srtLines.append(second2timestamp(start)+\" --> \"+second2timestamp(end))\n",
    "    srtLines.append(mot)\n",
    "    srtLines.append(\"\")\n"
   ]
  },
  {
   "cell_type": "code",
   "execution_count": 29,
   "id": "7f857cc6-ce0b-4dc6-b2bb-aef4037f7dc1",
   "metadata": {},
   "outputs": [],
   "source": [
    "with codecs.open(\"0-mots.srt\",\"w\",encoding=\"utf8\") as outFile:\n",
    "    for srtLine in srtLines:\n",
    "        outFile.write(srtLine+\"\\n\")"
   ]
  },
  {
   "cell_type": "code",
   "execution_count": 44,
   "id": "c7117d9e-cc31-438e-a2b3-3ecf5f36b644",
   "metadata": {},
   "outputs": [],
   "source": [
    "srtPhrases=[]\n",
    "srtMots=[]\n",
    "bPhrase=True\n",
    "pStart=0\n",
    "pEnd=0\n",
    "for i,(start,end,mot,confidence) in enumerate(tMots):\n",
    "    if bPhrase:\n",
    "        # print (\"start\",start)\n",
    "        pStart=start\n",
    "        srtMots=[]\n",
    "        bPhrase=False\n",
    "    m=re.search(r\"[.?!]$\",mot)\n",
    "    if m:\n",
    "        # print(\"end\",end)\n",
    "        pEnd=end\n",
    "        srtMots.append(mot)\n",
    "        pPhrase=\" \".join(srtMots)\n",
    "        srtPhrases.append((pStart,pEnd,pPhrase))\n",
    "        bPhrase=True\n",
    "    elif not bPhrase:\n",
    "        srtMots.append(mot)"
   ]
  },
  {
   "cell_type": "code",
   "execution_count": 47,
   "id": "6194ccd3-62d0-4ecf-9845-addb69706f33",
   "metadata": {},
   "outputs": [],
   "source": [
    "srtPhrasesLines=[]\n",
    "for i,(start,end,phrase) in enumerate(srtPhrases):\n",
    "    n=i+1\n",
    "    srtPhrasesLines.append(str(n))\n",
    "    srtPhrasesLines.append(second2timestamp(start)+\" --> \"+second2timestamp(end))\n",
    "    srtPhrasesLines.append(phrase)\n",
    "    srtPhrasesLines.append(\"\")\n",
    "    \n",
    "with codecs.open(\"0-phrases.srt\",\"w\",encoding=\"utf8\") as outFile:\n",
    "    for srtPhrasesLine in srtPhrasesLines:\n",
    "        outFile.write(srtPhrasesLine+\"\\n\")"
   ]
  }
 ],
 "metadata": {
  "kernelspec": {
   "display_name": "Python 3 (ipykernel)",
   "language": "python",
   "name": "python3"
  },
  "language_info": {
   "codemirror_mode": {
    "name": "ipython",
    "version": 3
   },
   "file_extension": ".py",
   "mimetype": "text/x-python",
   "name": "python",
   "nbconvert_exporter": "python",
   "pygments_lexer": "ipython3",
   "version": "3.9.18"
  }
 },
 "nbformat": 4,
 "nbformat_minor": 5
}
