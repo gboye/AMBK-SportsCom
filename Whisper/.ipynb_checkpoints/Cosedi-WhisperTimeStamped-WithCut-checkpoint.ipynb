{
 "cells": [
  {
   "cell_type": "raw",
   "id": "28ea0431-9109-4f25-b64b-bbc828ca3e17",
   "metadata": {},
   "source": [
    "https://github.com/linto-ai/whisper-timestamped/issues/212"
   ]
  },
  {
   "cell_type": "code",
   "execution_count": null,
   "id": "70d4c61b-b5e2-4e6c-b518-728a3548cef8",
   "metadata": {},
   "outputs": [],
   "source": [
    "# import whisper\n",
    "import whisper_timestamped as whisperTS\n",
    "# import torch\n",
    "import json\n",
    "whisperTS.available_models()\n"
   ]
  },
  {
   "cell_type": "code",
   "execution_count": null,
   "id": "fa176b54-2c62-4f85-84a5-f2d08895486e",
   "metadata": {},
   "outputs": [],
   "source": [
    "rep=\"/Users/gilles/Github/AMBK-SportsCom/Whisper/data/test/audio/\"\n",
    "rep=\"/Volumes/BroadExt/Datasets/Audio/Whisper/\"\n",
    "rep=\"/Users/gilles/pCloud Drive/FOD/GB/Copy/Recherche/Rugby/\""
   ]
  },
  {
   "cell_type": "code",
   "execution_count": null,
   "id": "6722ab37-09d6-42f4-9243-75a3773de9f3",
   "metadata": {},
   "outputs": [],
   "source": [
    "def transcribe(audio,model,prompt=\"bonjour, début de la transcription : on commence. Allez ! Ça va aller ?\"):\n",
    "    result=whisperTS.transcribe_timestamped(model, audio, language=\"fr\", task='transcribe', remove_punctuation_from_words=False, compute_word_confidence=True, include_punctuation_in_confidence=True, refine_whisper_precision=0.1, min_word_duration=0.02, plot_word_alignment=False, word_alignement_most_top_layers=None, remove_empty_words=False, use_backend_timestamps=False, seed=1234, vad=True, detect_disfluencies=True, trust_whisper_timestamps=True, naive_approach=False, temperature=0.0, best_of=5, beam_size=5, patience=None, length_penalty=None, compression_ratio_threshold=2.4, logprob_threshold=-1.0, no_speech_threshold=0.6, fp16=None, condition_on_previous_text=True, initial_prompt=prompt, suppress_tokens='-1', sample_len=None, verbose=False)\n",
    "    return result"
   ]
  },
  {
   "cell_type": "code",
   "execution_count": null,
   "id": "da5f43c6-4ae7-4225-8cb1-9d3d39c7bcb5",
   "metadata": {},
   "outputs": [],
   "source": [
    "model = whisperTS.load_model(\"large-v3\", device=\"cpu\")"
   ]
  },
  {
   "cell_type": "code",
   "execution_count": null,
   "id": "15ebbcf8-e2df-4608-b16f-2e36922edd8c",
   "metadata": {},
   "outputs": [],
   "source": [
    "suggestions=\"mêlée, demi de mêlée, coup de main, coup de pied, maul, touche, au sol, plaquage, pick and go ! Augustin Pichot, David Skrela, Albacete, Lobbe, Cédric Heymans, Mario Ledesma, Hernandez, Spreadbury, Raphaël Ibañez, Rémi Martin, Dominici, Mignoni, de Villiers, Marc-Antoine Jamet, Felipe Contepomi, Roncero, Nani Corleto, Imanol Harinordoquy, Lucas Borges\""
   ]
  },
  {
   "cell_type": "code",
   "execution_count": null,
   "id": "3ad6df05-7bad-4674-98a4-eb65a7f51917",
   "metadata": {},
   "outputs": [],
   "source": [
    "audio=whisperTS.load_audio(rep+\"France_Argentine_match.wav\")"
   ]
  },
  {
   "cell_type": "code",
   "execution_count": null,
   "id": "16aa2fcb-5f1f-453f-afe4-5e76bbe9de32",
   "metadata": {},
   "outputs": [],
   "source": [
    "transcription=transcribe(audio,model,suggestions)\n",
    "# print(json.dumps(transcription, indent = 2, ensure_ascii = False))"
   ]
  },
  {
   "cell_type": "code",
   "execution_count": null,
   "id": "42681eee-1e2b-4a38-8c9e-c2fb624da6bf",
   "metadata": {},
   "outputs": [],
   "source": [
    "with open(\"FrAr-vAir.json\",\"w\") as outFile:\n",
    " outFile.write(json.dumps(transcription, indent = 2, ensure_ascii = False))"
   ]
  },
  {
   "cell_type": "raw",
   "id": "caa157ab-7e15-4539-b482-821e64b7dd15",
   "metadata": {},
   "source": [
    "rep=\"/Users/gilles/pCloud Drive/FOD/GB/Copy/Recherche/Rugby/\"\n",
    "\n",
    "audio=whisperTS.load_audio(rep+\"France_Argentine_match.wav\")"
   ]
  }
 ],
 "metadata": {
  "kernelspec": {
   "display_name": "Python 3 (ipykernel)",
   "language": "python",
   "name": "python3"
  },
  "language_info": {
   "codemirror_mode": {
    "name": "ipython",
    "version": 3
   },
   "file_extension": ".py",
   "mimetype": "text/x-python",
   "name": "python",
   "nbconvert_exporter": "python",
   "pygments_lexer": "ipython3",
   "version": "3.11.7"
  }
 },
 "nbformat": 4,
 "nbformat_minor": 5
}
