{
 "cells": [
  {
   "cell_type": "raw",
   "id": "28ea0431-9109-4f25-b64b-bbc828ca3e17",
   "metadata": {},
   "source": [
    "https://github.com/linto-ai/whisper-timestamped/issues/212"
   ]
  },
  {
   "cell_type": "code",
   "execution_count": 1,
   "id": "70d4c61b-b5e2-4e6c-b518-728a3548cef8",
   "metadata": {},
   "outputs": [
    {
     "name": "stdout",
     "output_type": "stream",
     "text": [
      "Importing the dtw module. When using in academic works please cite:\n",
      "  T. Giorgino. Computing and Visualizing Dynamic Time Warping Alignments in R: The dtw Package.\n",
      "  J. Stat. Soft., doi:10.18637/jss.v031.i07.\n",
      "\n",
      "iMac\n"
     ]
    }
   ],
   "source": [
    "import whisper_timestamped as whisperTS\n",
    "import json,glob,os\n",
    "from datetime import datetime\n",
    "nMachine=os.uname()[1]\n",
    "if \"iMac\" in nMachine:\n",
    "    nMachine=\"iMac\"\n",
    "elif \"MacBook\" in nMachine:\n",
    "    nMachine=\"MacBook\"\n",
    "print(nMachine)\n",
    "\n",
    "# whisperTS.available_models()\n",
    "def ding():\n",
    "    os.system('afplay /System/Library/Sounds/Submarine.aiff')"
   ]
  },
  {
   "cell_type": "code",
   "execution_count": 2,
   "id": "fa176b54-2c62-4f85-84a5-f2d08895486e",
   "metadata": {},
   "outputs": [],
   "source": [
    "repExtraits=\"/Users/gilles/sDrive/Cours/Bordeaux/L2-Corpus/Whisper/%s/Segments/\"%nMachine\n",
    "repJson=\"/Users/gilles/sDrive/Cours/Bordeaux/L2-Corpus/Whisper/%s/Json/\"%nMachine"
   ]
  },
  {
   "cell_type": "code",
   "execution_count": 3,
   "id": "6722ab37-09d6-42f4-9243-75a3773de9f3",
   "metadata": {},
   "outputs": [],
   "source": [
    "def transcribe(audio,model,prompt,seed=1234,vad=False,naive_approach=True):\n",
    "    result=whisperTS.transcribe_timestamped(model, audio, language=\"fr\", task='transcribe', remove_punctuation_from_words=False, compute_word_confidence=True, include_punctuation_in_confidence=True, refine_whisper_precision=0.1, min_word_duration=0.02, plot_word_alignment=False, word_alignement_most_top_layers=None, remove_empty_words=False, use_backend_timestamps=False, seed=seed, vad=vad, detect_disfluencies=True, trust_whisper_timestamps=True, naive_approach=naive_approach, temperature=0.0, best_of=None, beam_size=None, patience=None, length_penalty=None, compression_ratio_threshold=2.4, logprob_threshold=-1.0, no_speech_threshold=0.6, fp16=None, condition_on_previous_text=True, initial_prompt=prompt, suppress_tokens='-1', sample_len=None, verbose=False)\n",
    "    return result"
   ]
  },
  {
   "cell_type": "code",
   "execution_count": 4,
   "id": "da5f43c6-4ae7-4225-8cb1-9d3d39c7bcb5",
   "metadata": {},
   "outputs": [
    {
     "name": "stderr",
     "output_type": "stream",
     "text": [
      "/opt/anaconda3/lib/python3.11/site-packages/whisper/__init__.py:146: FutureWarning: You are using `torch.load` with `weights_only=False` (the current default value), which uses the default pickle module implicitly. It is possible to construct malicious pickle data which will execute arbitrary code during unpickling (See https://github.com/pytorch/pytorch/blob/main/SECURITY.md#untrusted-models for more details). In a future release, the default value for `weights_only` will be flipped to `True`. This limits the functions that could be executed during unpickling. Arbitrary objects will no longer be allowed to be loaded via this mode unless they are explicitly allowlisted by the user via `torch.serialization.add_safe_globals`. We recommend you start setting `weights_only=True` for any use case where you don't have full control of the loaded file. Please open an issue on GitHub for any issues related to this experimental feature.\n",
      "  checkpoint = torch.load(fp, map_location=device)\n"
     ]
    }
   ],
   "source": [
    "model = whisperTS.load_model(\"large-v3\", device=\"cpu\")"
   ]
  },
  {
   "cell_type": "code",
   "execution_count": 5,
   "id": "15ebbcf8-e2df-4608-b16f-2e36922edd8c",
   "metadata": {},
   "outputs": [],
   "source": [
    "suggestions=\".?!,\""
   ]
  },
  {
   "cell_type": "code",
   "execution_count": 6,
   "id": "81362250-06ea-4a28-8abd-3de32c35a304",
   "metadata": {},
   "outputs": [
    {
     "data": {
      "text/plain": [
       "['extrait-00.wav',\n",
       " 'extrait-01.wav',\n",
       " 'extrait-02.wav',\n",
       " 'extrait-03.wav',\n",
       " 'extrait-04.wav',\n",
       " 'extrait-05.wav',\n",
       " 'extrait-06.wav',\n",
       " 'extrait-07.wav',\n",
       " 'extrait-08.wav']"
      ]
     },
     "execution_count": 6,
     "metadata": {},
     "output_type": "execute_result"
    }
   ],
   "source": [
    "lFichiers=[n.split(\"/\")[-1]for n in sorted(glob.glob(repExtraits+\"*.wav\"))]\n",
    "lFichiers"
   ]
  },
  {
   "cell_type": "code",
   "execution_count": 7,
   "id": "24ddbf72-6796-46a1-a48d-88e670611ec5",
   "metadata": {},
   "outputs": [
    {
     "name": "stdout",
     "output_type": "stream",
     "text": [
      "09:30:01.260429\n"
     ]
    },
    {
     "name": "stderr",
     "output_type": "stream",
     "text": [
      "100%|███████████████████████████████████████████████████████████████████████████████████████| 10898/10898 [02:25<00:00, 74.80frames/s]\n"
     ]
    },
    {
     "name": "stdout",
     "output_type": "stream",
     "text": [
      " Avec l'arrow de hache aussi Et surtout Markoon il a fait une excellente game de viego contre Vitality Il avait carry cette game quasiment tout seul Après il fait faire ses Juhani et un carry top à gauche là Ouais mais carry top tu te fais couter Ouais c'est vrai Carry top c'est pas... Oh Il vient de j'en tremble de malade mental J'ai j'ai j'ai C'est trop trop fort Pour rendre j'aime bien aussi en vrai Etre le personnage qui a de l'égo qui s'enfuit et tout Là c'est Rohani C'est Rohani pour un carry top ou la Pops aussi c'est pas mal hein Donc Pops je suis pas sûr du tout mais Non c'est ses Juhani c'est sûr Quand il est passé dans le truc tu vois ses Juhani tu dis ah ouais pas mal Ses Juhani T'es top homme ? T'es top La méta était annoncée hein Fallait juste regarder mes streams avec RIP Là il va y avoir peut-être des zones de solo les mecs Est-ce qu'ils font Kalista top ? Non On ne fera jamais ça en blind On ne fera jamais ça, Jax blind par contre Ça me va hein Tu peux pas faire ça normalement contre le monstre qui est Kada Jax blind ça me va Après il a la santé bah oui Il était bien contre tout le monde hein Ouais Même si en soit tu... C'est à dire en vrai il a même pas de counter T'es la Camille hein je pense hein Oh non Donc le blanc et tout c'est pas mal ouais Oh non la Camille là c'est pas mal hein Même si il y a un Braum en face Braum en réponse à Nautilus bien sûr J'allais dire Gnars c'est pas mal mais ils l'ont ban C'est bien lourd ouais Gnars c'est pas bien dans beaucoup de game mais là c'était pas mal Ah Kana il a un Niar de folie Zen Camille ouais ouais Il faut cette Camille Qu'est ce qu'ils vont prendre en jeu avec le Rek'Sai ok En vrai Rek'Sai il rentre bien dans leur comp Ah moi je trouve que c'est bien dans leur comp Leur 5 là Je crois que dans leur comp c'est bien Leur 5 start j'aime pas trop trop Oh oui la Camille c'est bien\n",
      "09:39:29.171349\n",
      "\n"
     ]
    }
   ],
   "source": [
    "for fichier in lFichiers[5:6]: #[f for i,f in enumerate(lFichiers) if i in [0,2,3,4,7,9,11,12,13,15,16,17]]:\n",
    "    audio=whisperTS.load_audio(repExtraits+fichier)\n",
    "    print(datetime.now().time())\n",
    "    transcription=transcribe(audio,model,suggestions,vad=\"silero\")\n",
    "    print(transcription[\"text\"])\n",
    "    with open(repJson+fichier+\".json\",\"w\") as outFile:\n",
    "        outFile.write(json.dumps(transcription, indent = 2, ensure_ascii = False))\n",
    "    print(datetime.now().time())\n",
    "    print(\"\")\n",
    "    ding()\n",
    "ding()"
   ]
  },
  {
   "cell_type": "code",
   "execution_count": 8,
   "id": "8e196541-30a5-49cf-b623-cfe5b66feb0b",
   "metadata": {},
   "outputs": [],
   "source": [
    "suggestions=\".?!, sinon on allait être en souffrance. Il aime trop avoir des champions chelou celui-là press the attack doran blade tabi ninja mercs roam cleanse lanning phase tear lame du roi déchu hess ignite talbin root goal bush grasp trinket abuse sterak toon blue red side mid top jungle jungler support lane carry tank comp engage follow up matchup blind item full draft first pick team kite back map bait greed late ward river step dash mix slow chill swap wave plate start smite magic resist game front flop early lead gank level chunk puch creep zoner in out stack traiding traid mana buff clear flash hook gromp gold safe clear rush ulti bluff tempo teamfight stuff prock farm timing join bail corbin moove stun lead Hextech go blood kill win rate cancel worth scale catch zone flank flip elder contest buffer dodge reset jump nash let’s go re-engage auto Navory Dominique commite baron split ultimate playstation zerma solo auto attack turn regene perf Walkiri Randuin tanki lol poke spike shot back line reset loose base free soul timer Dom job cancel Zhonia hinib prime team season final winner bracket play making instant mix tanker whatsapp rune Electrocute banni late invade trap push trade spell Sumoner heal give golem Doran fleet chill void check face range dive mercure deny all bump life zeke Lyandri Triforce crash power escape deep down ping Warmog burst even card stop watch miss com pene Banshee show on end Nexus setup hyper clutch rooster salam counter zinzin gantelet aro méta stream rinté pickable speed shadow flex scaling demonic ombraised me pressing raid. Ray Canna Closer Vladi Voladi Upset Targamas Myrwin Elyoya Fresskowy Supa Alvaro Jekille Taliyah Rumble Brand Maokaï Zyra Ezreal Ez Sejuani Sej Tristana Tristoune Toon Renekton Corki Zeri Vi Kai’sa Kicor Kennen Jayce Rakan Nautilus Rell Alistar Varus Braum Gnar Nautilus Neeko Targou League of Legends Caps Annie Azir Mordek Mordekaiser Simus Camille Lucian Yone Yon TF Jax Yasuo Jinx Tix Kcorp Ashe Freljord Larssen Leblanc Aphelios Ksanté Viego Markoon Vitality Ivern Cayt Rip Kalista Cams Reksaï Skarner Sivir Trist Xin Xao Draven Fiora Renata Leona Pops Poppy Hwei Hans Sama Mikyx\"\n",
    "suggestions=\".?!,\"\n",
    "fichier='/Users/gilles/sDrive/Cours/Bordeaux/L2-Corpus/Whisper/%s/Segments/extrait-07.wav'%nMachine"
   ]
  },
  {
   "cell_type": "code",
   "execution_count": 9,
   "id": "1b984fc6-ff51-4a36-bafa-d2271294a58e",
   "metadata": {},
   "outputs": [
    {
     "name": "stdout",
     "output_type": "stream",
     "text": [
      "09:39:34.560836\n"
     ]
    },
    {
     "name": "stderr",
     "output_type": "stream",
     "text": [
      "100%|█████████████████████████████████████████████████████████████████████████████████████████| 6698/6698 [01:36<00:00, 69.12frames/s]\n"
     ]
    },
    {
     "name": "stdout",
     "output_type": "stream",
     "text": [
      " Ah oui mon petit Kana tu vas me sortir cette camis Tu sais qu'à gauche je passe derrière, tu cours tout droit il se passe plus rien C'est gratuit, c'est pour ça que j'aime pas leur comp en fait Non leur draft en global j'aime pas mais je trouve que Rek'Sai c'est un bon pick là Avec leur comp c'est justement pour commit avec le blanc, avec l'arrow de hache, t'as vraiment des choses qui peuvent t'aider à rentrer Là au closer et t'es dans la merde et c'est la camis pour Kana C'est la camis pour Kana, notre draft est exceptionnel À gauche il passe derrière c'est nul à chier Les gars le premier qui m'envoie un tweet la draft je sais pas quoi là on va se battre T'façon y aura toujours un mec si on perd il va dire la draft Non en fait faut dire avant les mecs, faut dire avant Là, avis sur la draft Parce que après quand vous profitez du résultat pour taper sur la draft On scale de baiser ouais on scale bien mais va falloir faire gaffe aux accélérations à partir du niveau 6 et même avant 6 à 11 et tout ils vont être bien Ouais c'est ça, c'est juste sur ce timing là si on arrive à serrer les fesses on est bien au-de-fou La mise en brome ouais mais ça va en vrai, en vrai n'importe quoi dans brome Faire brome open t'façon, tu peux rien faire contre ces monstres\n",
      "09:44:05.166642\n"
     ]
    }
   ],
   "source": [
    "audio=whisperTS.load_audio(fichier)\n",
    "print(datetime.now().time())\n",
    "transcription=transcribe(audio,model,suggestions,vad=\"silero\")\n",
    "print(transcription[\"text\"])\n",
    "with open(fichier.replace(\".wav\",\".json\"),\"w\") as outFile:\n",
    "    outFile.write(json.dumps(transcription, indent = 2, ensure_ascii = False))\n",
    "print(datetime.now().time())\n",
    "ding()"
   ]
  },
  {
   "cell_type": "code",
   "execution_count": null,
   "id": "79546307-5f52-499b-94c8-27b6a099868f",
   "metadata": {},
   "outputs": [],
   "source": [
    "whisperTS.__version__"
   ]
  }
 ],
 "metadata": {
  "kernelspec": {
   "display_name": "Python 3 (ipykernel)",
   "language": "python",
   "name": "python3"
  },
  "language_info": {
   "codemirror_mode": {
    "name": "ipython",
    "version": 3
   },
   "file_extension": ".py",
   "mimetype": "text/x-python",
   "name": "python",
   "nbconvert_exporter": "python",
   "pygments_lexer": "ipython3",
   "version": "3.11.8"
  }
 },
 "nbformat": 4,
 "nbformat_minor": 5
}
