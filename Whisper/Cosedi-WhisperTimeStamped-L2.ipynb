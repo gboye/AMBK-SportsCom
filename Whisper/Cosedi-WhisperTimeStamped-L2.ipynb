{
 "cells": [
  {
   "cell_type": "raw",
   "id": "28ea0431-9109-4f25-b64b-bbc828ca3e17",
   "metadata": {},
   "source": [
    "https://github.com/linto-ai/whisper-timestamped/issues/212"
   ]
  },
  {
   "cell_type": "code",
   "execution_count": 29,
   "id": "70d4c61b-b5e2-4e6c-b518-728a3548cef8",
   "metadata": {},
   "outputs": [
    {
     "name": "stdout",
     "output_type": "stream",
     "text": [
      "iMac\n"
     ]
    }
   ],
   "source": [
    "import whisper_timestamped as whisperTS\n",
    "import json,glob,os\n",
    "nMachine=os.uname()[1]\n",
    "if \"iMac\" in nMachine:\n",
    "    nMachine=\"iMac\"\n",
    "elif \"MacBook\" in nMachine:\n",
    "    nMachine=\"MacBook\"\n",
    "print(nMachine)\n",
    "\n",
    "# whisperTS.available_models()\n"
   ]
  },
  {
   "cell_type": "code",
   "execution_count": 8,
   "id": "fa176b54-2c62-4f85-84a5-f2d08895486e",
   "metadata": {},
   "outputs": [],
   "source": [
    "repExtraits=\"/Users/gilles/sDrive/Cours/Bordeaux/L2-Corpus/Whisper/%s/Segments/\"%nMachine\n",
    "repJson=\"/Users/gilles/sDrive/Cours/Bordeaux/L2-Corpus/Whisper/%s/Json/\"%nMachine"
   ]
  },
  {
   "cell_type": "code",
   "execution_count": 9,
   "id": "6722ab37-09d6-42f4-9243-75a3773de9f3",
   "metadata": {},
   "outputs": [],
   "source": [
    "def transcribe(audio,model,prompt,seed=1234,vad=False,naive_approach=True):\n",
    "    result=whisperTS.transcribe_timestamped(model, audio, language=\"fr\", task='transcribe', remove_punctuation_from_words=False, compute_word_confidence=True, include_punctuation_in_confidence=True, refine_whisper_precision=0.1, min_word_duration=0.02, plot_word_alignment=False, word_alignement_most_top_layers=None, remove_empty_words=False, use_backend_timestamps=False, seed=seed, vad=vad, detect_disfluencies=True, trust_whisper_timestamps=True, naive_approach=naive_approach, temperature=0.0, best_of=None, beam_size=None, patience=None, length_penalty=None, compression_ratio_threshold=2.4, logprob_threshold=-1.0, no_speech_threshold=0.6, fp16=None, condition_on_previous_text=True, initial_prompt=prompt, suppress_tokens='-1', sample_len=None, verbose=False)\n",
    "    return result"
   ]
  },
  {
   "cell_type": "code",
   "execution_count": 10,
   "id": "da5f43c6-4ae7-4225-8cb1-9d3d39c7bcb5",
   "metadata": {},
   "outputs": [],
   "source": [
    "model = whisperTS.load_model(\"large-v3\", device=\"cpu\")"
   ]
  },
  {
   "cell_type": "code",
   "execution_count": 11,
   "id": "15ebbcf8-e2df-4608-b16f-2e36922edd8c",
   "metadata": {},
   "outputs": [],
   "source": [
    "suggestions=\".?!,\""
   ]
  },
  {
   "cell_type": "code",
   "execution_count": 12,
   "id": "81362250-06ea-4a28-8abd-3de32c35a304",
   "metadata": {},
   "outputs": [
    {
     "data": {
      "text/plain": [
       "['extrait-00.wav',\n",
       " 'extrait-01.wav',\n",
       " 'extrait-02.wav',\n",
       " 'extrait-03.wav',\n",
       " 'extrait-04.wav',\n",
       " 'extrait-05.wav',\n",
       " 'extrait-06.wav',\n",
       " 'extrait-07.wav',\n",
       " 'extrait-08.wav',\n",
       " 'extrait-09.wav',\n",
       " 'extrait-10.wav']"
      ]
     },
     "execution_count": 12,
     "metadata": {},
     "output_type": "execute_result"
    }
   ],
   "source": [
    "lFichiers=[n.split(\"/\")[-1]for n in sorted(glob.glob(repExtraits+\"*.wav\"))]\n",
    "lFichiers"
   ]
  },
  {
   "cell_type": "code",
   "execution_count": null,
   "id": "24ddbf72-6796-46a1-a48d-88e670611ec5",
   "metadata": {},
   "outputs": [
    {
     "name": "stderr",
     "output_type": "stream",
     "text": [
      "100%|████████████████████████████████| 12000/12000 [01:35<00:00, 125.01frames/s]\n",
      "100%|████████████████████████████████| 12000/12000 [01:48<00:00, 111.06frames/s]\n",
      "100%|████████████████████████████████| 12000/12000 [01:58<00:00, 101.22frames/s]\n",
      "100%|████████████████████████████████| 12000/12000 [01:53<00:00, 106.02frames/s]\n",
      "Got inconsistent length for segment 27 (13 != 11). Some words have been ignored.\n",
      "100%|████████████████████████████████| 12000/12000 [01:54<00:00, 104.68frames/s]\n",
      "100%|████████████████████████████████| 12000/12000 [01:52<00:00, 106.49frames/s]\n",
      "100%|████████████████████████████████| 12000/12000 [01:46<00:00, 112.37frames/s]\n",
      "100%|████████████████████████████████| 12000/12000 [01:57<00:00, 102.17frames/s]\n",
      " 49%|████████████████▏                | 5894/12000 [01:00<00:51, 118.50frames/s]"
     ]
    }
   ],
   "source": [
    "for fichier in lFichiers[:]:\n",
    "    audio=whisperTS.load_audio(repExtraits+fichier)\n",
    "    transcription=transcribe(audio,model,suggestions)\n",
    "    with open(repJson+fichier+\".json\",\"w\") as outFile:\n",
    "        outFile.write(json.dumps(transcription, indent = 2, ensure_ascii = False))"
   ]
  },
  {
   "cell_type": "code",
   "execution_count": 125,
   "id": "8e196541-30a5-49cf-b623-cfe5b66feb0b",
   "metadata": {},
   "outputs": [],
   "source": [
    "suggestions=\".?!, portugaise\"\n",
    "fichier='/Users/gilles/sDrive/Cours/Bordeaux/L2-Corpus/Whisper/iMac/Segments/extrait-04.wav'"
   ]
  },
  {
   "cell_type": "code",
   "execution_count": 126,
   "id": "1b984fc6-ff51-4a36-bafa-d2271294a58e",
   "metadata": {},
   "outputs": [
    {
     "name": "stderr",
     "output_type": "stream",
     "text": [
      "100%|███████████████████████████████████████████████████████████████████████████████████████| 11737/11737 [02:33<00:00, 76.34frames/s]"
     ]
    },
    {
     "name": "stdout",
     "output_type": "stream",
     "text": [
      " j'ai pas compris j'ai pas trop compris la question ton métier tu as une idée de métier pour plus tard oui je voudrais être maîtresse ouais comme d'habitude maîtresse de quel niveau petit grand et petit ouais mais tu sais couturier tu fais de la couture un petit peu non parce que vous avez déjà voyagé oui ah vas-y il ou dit moi canaries canaries style et avec le moment où il est seul au brésil a trop bien ça t'y restais longtemps il y avait six ans il est resté là bas parce que là bas il ya toute la famille de mon père la famille de ma grand mère ouais alors il ya mes cousins aussi là bas alors moi je suis portugaise c'est pas un peu portugais ah ouais vas-y dis nous des trucs en portugais comme quoi tu dis bonjour je m'appelle moi je sais bien anaclara ok, tu sais dire ? oui on dit chamame carla como te vais c'est ça ou pas ? non c'est pas ça on dit pas chamame carla ? non como te llamas ok c'est pas ça ? c'est como te llamas non ? non mais ça c'est en espagnol en portugais c'est eu me chamo c'est quoi ton nom ? Carla je me chame Carla ah c'est chiant c'est bah si c'est chiant ouais\n"
     ]
    },
    {
     "name": "stderr",
     "output_type": "stream",
     "text": [
      "\n"
     ]
    }
   ],
   "source": [
    "audio=whisperTS.load_audio(fichier)\n",
    "transcription=transcribe(audio,model,suggestions,vad=\"silero\")\n",
    "print(transcription[\"text\"])\n",
    "with open(fichier.replace(\".wav\",\".json\"),\"w\") as outFile:\n",
    "    outFile.write(json.dumps(transcription, indent = 2, ensure_ascii = False))"
   ]
  },
  {
   "cell_type": "code",
   "execution_count": 114,
   "id": "79546307-5f52-499b-94c8-27b6a099868f",
   "metadata": {},
   "outputs": [
    {
     "data": {
      "text/plain": [
       "'1.15.4'"
      ]
     },
     "execution_count": 114,
     "metadata": {},
     "output_type": "execute_result"
    }
   ],
   "source": [
    "whisperTS.__version__"
   ]
  }
 ],
 "metadata": {
  "kernelspec": {
   "display_name": "Python 3 (ipykernel)",
   "language": "python",
   "name": "python3"
  },
  "language_info": {
   "codemirror_mode": {
    "name": "ipython",
    "version": 3
   },
   "file_extension": ".py",
   "mimetype": "text/x-python",
   "name": "python",
   "nbconvert_exporter": "python",
   "pygments_lexer": "ipython3",
   "version": "3.11.8"
  }
 },
 "nbformat": 4,
 "nbformat_minor": 5
}
