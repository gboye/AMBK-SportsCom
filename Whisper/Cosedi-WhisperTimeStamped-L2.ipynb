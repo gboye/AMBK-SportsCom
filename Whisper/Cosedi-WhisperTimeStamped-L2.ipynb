{
 "cells": [
  {
   "cell_type": "raw",
   "id": "28ea0431-9109-4f25-b64b-bbc828ca3e17",
   "metadata": {},
   "source": [
    "https://github.com/linto-ai/whisper-timestamped/issues/212"
   ]
  },
  {
   "cell_type": "code",
   "execution_count": 11,
   "id": "70d4c61b-b5e2-4e6c-b518-728a3548cef8",
   "metadata": {},
   "outputs": [
    {
     "data": {
      "text/plain": [
       "['tiny.en',\n",
       " 'tiny',\n",
       " 'base.en',\n",
       " 'base',\n",
       " 'small.en',\n",
       " 'small',\n",
       " 'medium.en',\n",
       " 'medium',\n",
       " 'large-v1',\n",
       " 'large-v2',\n",
       " 'large-v3',\n",
       " 'large']"
      ]
     },
     "execution_count": 11,
     "metadata": {},
     "output_type": "execute_result"
    }
   ],
   "source": [
    "import whisper_timestamped as whisperTS\n",
    "import json,glob\n",
    "whisperTS.available_models()\n"
   ]
  },
  {
   "cell_type": "code",
   "execution_count": 25,
   "id": "fa176b54-2c62-4f85-84a5-f2d08895486e",
   "metadata": {},
   "outputs": [],
   "source": [
    "# rep=\"/Users/gilles/pCloud Drive/FOD/GB/Copy/Recherche/Rugby/\"\n",
    "# rep=\"/Volumes/BroadExt/Datasets/Audio/Whisper/\"\n",
    "repExtraits=\"/Users/gilles/sDrive/Cours/Bordeaux/L2-Corpus/Whisper/\"\n",
    "repExtraits=\"/Users/gilles/sDrive/Cours/Bordeaux/L2-Corpus/Whisper/Segmenter/Segments/\""
   ]
  },
  {
   "cell_type": "code",
   "execution_count": 13,
   "id": "6722ab37-09d6-42f4-9243-75a3773de9f3",
   "metadata": {},
   "outputs": [],
   "source": [
    "def transcribe(audio,model,prompt,seed=1234,vad=False):\n",
    "    result=whisperTS.transcribe_timestamped(model, audio, language=\"fr\", task='transcribe', remove_punctuation_from_words=False, compute_word_confidence=True, include_punctuation_in_confidence=True, refine_whisper_precision=0.1, min_word_duration=0.02, plot_word_alignment=False, word_alignement_most_top_layers=None, remove_empty_words=False, use_backend_timestamps=False, seed=seed, vad=vad, detect_disfluencies=True, trust_whisper_timestamps=True, naive_approach=False, temperature=0.0, best_of=None, beam_size=None, patience=None, length_penalty=None, compression_ratio_threshold=2.4, logprob_threshold=-1.0, no_speech_threshold=0.6, fp16=None, condition_on_previous_text=True, initial_prompt=prompt, suppress_tokens='-1', sample_len=None, verbose=False)\n",
    "    return result"
   ]
  },
  {
   "cell_type": "code",
   "execution_count": 14,
   "id": "da5f43c6-4ae7-4225-8cb1-9d3d39c7bcb5",
   "metadata": {},
   "outputs": [
    {
     "name": "stderr",
     "output_type": "stream",
     "text": [
      "/opt/anaconda3/lib/python3.11/site-packages/whisper/__init__.py:146: FutureWarning: You are using `torch.load` with `weights_only=False` (the current default value), which uses the default pickle module implicitly. It is possible to construct malicious pickle data which will execute arbitrary code during unpickling (See https://github.com/pytorch/pytorch/blob/main/SECURITY.md#untrusted-models for more details). In a future release, the default value for `weights_only` will be flipped to `True`. This limits the functions that could be executed during unpickling. Arbitrary objects will no longer be allowed to be loaded via this mode unless they are explicitly allowlisted by the user via `torch.serialization.add_safe_globals`. We recommend you start setting `weights_only=True` for any use case where you don't have full control of the loaded file. Please open an issue on GitHub for any issues related to this experimental feature.\n",
      "  checkpoint = torch.load(fp, map_location=device)\n"
     ]
    }
   ],
   "source": [
    "model = whisperTS.load_model(\"large-v3\", device=\"cpu\")"
   ]
  },
  {
   "cell_type": "code",
   "execution_count": 39,
   "id": "15ebbcf8-e2df-4608-b16f-2e36922edd8c",
   "metadata": {},
   "outputs": [],
   "source": [
    "suggestions=\".?!, institutrice aide-éducatrice malentendu se servir d'un compte-gouttes gestes extrèmement précis terminé avec les blancs battus en neige\""
   ]
  },
  {
   "cell_type": "code",
   "execution_count": 33,
   "id": "81362250-06ea-4a28-8abd-3de32c35a304",
   "metadata": {},
   "outputs": [],
   "source": [
    "lFichiers=sorted(glob.glob(repExtraits+\"*.wav\"))"
   ]
  },
  {
   "cell_type": "code",
   "execution_count": 34,
   "id": "24ddbf72-6796-46a1-a48d-88e670611ec5",
   "metadata": {},
   "outputs": [
    {
     "name": "stderr",
     "output_type": "stream",
     "text": [
      "100%|████████████████████████████████| 12000/12000 [01:10<00:00, 170.28frames/s]\n",
      "100%|████████████████████████████████| 12000/12000 [01:21<00:00, 147.41frames/s]\n",
      "100%|████████████████████████████████| 12000/12000 [00:42<00:00, 281.10frames/s]\n",
      "100%|████████████████████████████████| 12000/12000 [01:14<00:00, 161.06frames/s]\n",
      "100%|████████████████████████████████| 12000/12000 [01:42<00:00, 116.86frames/s]\n",
      "100%|████████████████████████████████| 12000/12000 [01:26<00:00, 138.47frames/s]\n",
      "100%|████████████████████████████████| 12000/12000 [01:11<00:00, 167.96frames/s]\n",
      "100%|████████████████████████████████| 12000/12000 [00:54<00:00, 221.66frames/s]\n",
      "100%|████████████████████████████████| 12000/12000 [01:13<00:00, 162.50frames/s]\n",
      "100%|████████████████████████████████| 12000/12000 [00:55<00:00, 217.13frames/s]\n",
      "100%|████████████████████████████████| 12000/12000 [01:20<00:00, 148.91frames/s]\n",
      "100%|████████████████████████████████| 12000/12000 [00:25<00:00, 462.36frames/s]\n",
      "100%|████████████████████████████████| 10175/10175 [01:06<00:00, 152.77frames/s]\n",
      "100%|██████████████████████████████████| 4175/4175 [00:25<00:00, 162.83frames/s]\n"
     ]
    }
   ],
   "source": [
    "for fichier in lFichiers:\n",
    "    audio=whisperTS.load_audio(fichier)\n",
    "    transcription=transcribe(audio,model,suggestions)\n",
    "    with open(fichier+\".json\",\"w\") as outFile:\n",
    "        outFile.write(json.dumps(transcription, indent = 2, ensure_ascii = False))"
   ]
  },
  {
   "cell_type": "code",
   "execution_count": 44,
   "id": "8e196541-30a5-49cf-b623-cfe5b66feb0b",
   "metadata": {},
   "outputs": [],
   "source": [
    "suggestions=\".?!, institutrice aide-éducatrice malentendu monsieur le ministre de l'éducation nationale avait fait des déclarations\"\n",
    "fichier='/Users/gilles/sDrive/Cours/Bordeaux/L2-Corpus/Whisper/Segmenter/Segments/extrait-11.wav'"
   ]
  },
  {
   "cell_type": "code",
   "execution_count": 45,
   "id": "1b984fc6-ff51-4a36-bafa-d2271294a58e",
   "metadata": {},
   "outputs": [
    {
     "name": "stderr",
     "output_type": "stream",
     "text": [
      "100%|████████████████████████████████| 12000/12000 [01:29<00:00, 134.82frames/s]\n"
     ]
    }
   ],
   "source": [
    "audio=whisperTS.load_audio(fichier)\n",
    "transcription=transcribe(audio,model,suggestions)\n",
    "with open(fichier+\".json\",\"w\") as outFile:\n",
    "    outFile.write(json.dumps(transcription, indent = 2, ensure_ascii = False))"
   ]
  },
  {
   "cell_type": "code",
   "execution_count": null,
   "id": "79546307-5f52-499b-94c8-27b6a099868f",
   "metadata": {},
   "outputs": [],
   "source": []
  }
 ],
 "metadata": {
  "kernelspec": {
   "display_name": "Python 3 (ipykernel)",
   "language": "python",
   "name": "python3"
  },
  "language_info": {
   "codemirror_mode": {
    "name": "ipython",
    "version": 3
   },
   "file_extension": ".py",
   "mimetype": "text/x-python",
   "name": "python",
   "nbconvert_exporter": "python",
   "pygments_lexer": "ipython3",
   "version": "3.11.7"
  }
 },
 "nbformat": 4,
 "nbformat_minor": 5
}
