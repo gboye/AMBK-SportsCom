{
 "cells": [
  {
   "cell_type": "markdown",
   "id": "a1f001a1-109c-43c2-a45b-32ff9b4a42e5",
   "metadata": {},
   "source": [
    "# WhisperTS joining JSON to SRT"
   ]
  },
  {
   "cell_type": "code",
   "execution_count": 13,
   "id": "c09e2155-f8d0-4e91-9236-d46af8e831a4",
   "metadata": {},
   "outputs": [],
   "source": [
    "import re,codecs,json,unidecode\n",
    "import pandas as pd"
   ]
  },
  {
   "cell_type": "code",
   "execution_count": 14,
   "id": "c1fc5f6e-0dd9-45d4-a13d-d7b32280c9e9",
   "metadata": {},
   "outputs": [],
   "source": [
    "repJson=\"/Users/gilles/Github/AMBK-SportsCom/Whisper/Extrait/Transcripts/\""
   ]
  },
  {
   "cell_type": "code",
   "execution_count": 15,
   "id": "4294ead0-95e7-4246-b1ac-348e93f4dba7",
   "metadata": {},
   "outputs": [],
   "source": [
    "json1=repJson+\"extrait-00.json\"\n",
    "with open(json1) as inFile:\n",
    "    whisper1=json.load(inFile)"
   ]
  },
  {
   "cell_type": "markdown",
   "id": "2f9278fb-db11-4a8a-a795-8410e4b70d87",
   "metadata": {},
   "source": [
    "### Gestion des timestamps"
   ]
  },
  {
   "cell_type": "code",
   "execution_count": 16,
   "id": "d9f994ba-d7a8-47ff-bba6-ba7c311a34e0",
   "metadata": {},
   "outputs": [],
   "source": [
    "def second2timestamp(seconds):\n",
    "    sHours=int(seconds/3600)\n",
    "    sMinutes=int((seconds-sHours*3600)/60)\n",
    "    sSeconds=int((seconds-sHours*3600-sMinutes*60))\n",
    "    sMilliseconds=int((seconds%1)*1000)\n",
    "    return \"%02d:%02d:%02d,%03d\"%(sHours,sMinutes,sSeconds,sMilliseconds)\n",
    "\n",
    "def timestamp2second(timestamp):\n",
    "    m=re.match(\"(\\d\\d):(\\d\\d):(\\d\\d),(\\d\\d\\d)\",timestamp)\n",
    "    if m:\n",
    "        seconds=(int(m.group(1))*60+int(m.group(2)))*60+int(m.group(3))+float(m.group(4))/1000\n",
    "        return seconds\n",
    "    else:\n",
    "        print(\"problème de timestamp\")\n",
    "        return"
   ]
  },
  {
   "cell_type": "markdown",
   "id": "a4cdd29f-4e5a-40f8-a1a5-7ca2396d63f9",
   "metadata": {},
   "source": [
    "### Gestion des structures JSON de Whisper"
   ]
  },
  {
   "cell_type": "code",
   "execution_count": 17,
   "id": "14a9defc-c1a5-426a-9639-a347c17690bf",
   "metadata": {},
   "outputs": [],
   "source": [
    "def getWhisper(whisper,elements=\"segments\"):\n",
    "    lElements=[]\n",
    "    if elements==\"segments\":\n",
    "        for element in whisper[elements]:\n",
    "            lElements.append((second2timestamp(element[\"start\"]),\n",
    "                              second2timestamp(element[\"end\"]),\n",
    "                              element[\"text\"],\n",
    "                              element[\"confidence\"]))\n",
    "    elif elements==\"words\":\n",
    "        for segment in whisper[\"segments\"]:\n",
    "            for element in segment[elements]:\n",
    "                lElements.append((second2timestamp(element[\"start\"]),\n",
    "                                  second2timestamp(element[\"end\"]),\n",
    "                                  element[\"text\"],\n",
    "                                  element[\"confidence\"]))        \n",
    "    return lElements"
   ]
  },
  {
   "cell_type": "markdown",
   "id": "87468d77-acae-49fe-b498-f65df8f39918",
   "metadata": {},
   "source": [
    "## Collage des segments"
   ]
  },
  {
   "cell_type": "code",
   "execution_count": 18,
   "id": "31f9e539-3e07-4db3-9d65-8ad3f3f36cbf",
   "metadata": {},
   "outputs": [],
   "source": [
    "def removePunct(texte):\n",
    "    result=texte\n",
    "    punct = list('''!()-[]{};:'\"\\,<>./?@#$%^&*_~''')\n",
    "    for p in punct:\n",
    "        result=result.replace(p,\"\")\n",
    "    return result\n",
    "    \n",
    "def egaleTextes(text1,text2):\n",
    "    t1=unidecode.unidecode(removePunct(text1))\n",
    "    t2=unidecode.unidecode(removePunct(text2))\n",
    "    lMax=min(len(t1),len(t2))\n",
    "    lMax=min(20,lMax)\n",
    "    return t1[:lMax].lower()==t2[:lMax].lower()\n",
    "    \n",
    "def pasteSegment(srt,whisper2):\n",
    "    for i in range(1,len(whisper2[\"segments\"])):\n",
    "        id1=None\n",
    "        for n,(_,_,texte,_) in enumerate(srt):\n",
    "            texte2=whisper2[\"segments\"][i][\"text\"]\n",
    "            if egaleTextes(texte,texte2):\n",
    "                id1=n\n",
    "                print(texte)\n",
    "                print(texte2)\n",
    "                break\n",
    "        if id1:\n",
    "            break\n",
    "        else:\n",
    "            print(\"problème de jointure\",i, whisper2[\"segments\"][i][\"text\"])\n",
    "    if id1:\n",
    "        jointTime=timestamp2second(srt[id1][0])\n",
    "        newSrt=srt[:id1]\n",
    "    \n",
    "        srt2=getWhisper(whisper2)[i:]\n",
    "        for (tDeb,tFin,texte,confidence) in srt2:\n",
    "            nDeb=second2timestamp(timestamp2second(tDeb)+jointTime)\n",
    "            nFin=second2timestamp(timestamp2second(tFin)+jointTime)\n",
    "            newSrt.append((nDeb,nFin,texte,confidence))\n",
    "        return newSrt\n",
    "    else:\n",
    "        return None"
   ]
  },
  {
   "cell_type": "code",
   "execution_count": 19,
   "id": "895b7ccb-f52e-4e67-8c14-d542ba339a93",
   "metadata": {},
   "outputs": [
    {
     "data": {
      "text/plain": [
       "60.0"
      ]
     },
     "execution_count": 19,
     "metadata": {},
     "output_type": "execute_result"
    }
   ],
   "source": [
    "timestamp2second(\"00:01:00,000\")"
   ]
  },
  {
   "cell_type": "code",
   "execution_count": 20,
   "id": "ad3a9d50-8b27-441c-ad34-ce612555eaba",
   "metadata": {},
   "outputs": [],
   "source": [
    "srt=[]\n",
    "decalageInitial=0\n",
    "for (tDeb,tFin,texte,confidence) in getWhisper(whisper1):\n",
    "    nDeb=second2timestamp(timestamp2second(tDeb)+decalageInitial)\n",
    "    nFin=second2timestamp(timestamp2second(tFin)+decalageInitial)\n",
    "    srt.append((nDeb,nFin,texte,confidence))"
   ]
  },
  {
   "cell_type": "code",
   "execution_count": 21,
   "id": "8e4110b8-14f8-492a-b43a-794923a784ea",
   "metadata": {},
   "outputs": [
    {
     "name": "stdout",
     "output_type": "stream",
     "text": [
      "1\n",
      "problème de jointure 1  Lancé pour le capitaine de l'équipe de France, Raphaël Ibañez, qui a donc le choix de la combinaison.\n",
      " Un ballon bien pris, à quoi que relâché, et ça profite à Pichot.\n",
      " Un ballon bien pris, à quoi que relâché, et ça profite à Pichot. Un petit coup de pied par-dessus,\n",
      "2\n",
      " Les Argentins qui ont bien démarré en chipant un premier ballon à l'alignement français et en s'emparant proprement du deuxième.\n",
      " Les Argentins qui ont bien démarré en chipant un premier ballon à l'alignement français\n",
      "3\n",
      " Il faut vite aller recouper le terrain pour se rassurer.\n",
      " Il faut vite aller recouper le terrain pour se rassurer parce qu'en tout cas, c'est le début de partie, il est argentin, vous le voyez.\n",
      "4\n",
      " Quand on est au sol, on est un joueur modeste.\n",
      " Quand on est au sol, on est un joueur mort, Thierry, on ne doit plus rien faire, si ce n'est que s'écarter le plus vite possible de la zone de jeu.\n",
      "5\n",
      " Et c'est vrai, vous le verrez, que Mignoni, il a un dynamisme viral, alors que Pichotte est beaucoup plus lent dans ses transitions.\n",
      " Et c'est vrai, vous le verrez, que Mignoni, il a un dynamisme viral,\n",
      "6\n",
      " Quand on est au sol, on est un joueur mort, Thierry, on ne doit plus rien faire, si ce n'est que s'écarter le plus vite possible de la zone de jeu.\n",
      " quand on est au sol, il faut ramper, rouler, faire ce que vous voulez, mais sortir de la zone. Et là vous allez voir, le joueur argentin, il n'est plus sur ses pieds, il vient plonger, et après il ne fait même pas l'effort, il prend le ballon encore avec les mers, il ne fait même pas l'effort de sortir de ramper, de rouler, mais de sortir de la zone. Il est pénalisé. Le buteur de l'équipe de France, c'est lui, c'est David Oskrela. Un peu moins de 26 mètres, la ligne que vous voyez devant lui, c'est la ligne des 22 mètres, mais avec le décalage, ça fera un peu moins de 26 mètres pour égaliser.\n",
      "7\n",
      "problème de jointure 1  Et trois partout !\n",
      " Jo Maso, Bernard Laporte, le manager et le sélectionneur de cette équipe de France.\n",
      " Jo Maso, Bernard Laporte, le manager et le sélectionneur de cette équipe de France.\n",
      "8\n",
      "problème de jointure 1  Heymans, bien pris par trois Argentins, le soutien français suit. Skrela, bien plaqué, bien chassé par la troisième ligne argentine.\n",
      "problème de jointure 2  David Skrela, les ballons récupérés par les Pumas, qui vont venir jouer sur le petit côté avec Contepomi.\n",
      "problème de jointure 3  Oh oui, passe croisée pour Lucas Borges. Un avantage en cours pour l'Argentine.\n",
      "problème de jointure 4  Et Pichot, voilà. Pichot, en se débarrassant du ballon, force l'arbitre à revenir à la faute et à accorder la pénalité à l'Argentine.\n",
      " Effectivement, puisqu'il n'y a pas avantage. L'avantage, en fait, c'est l'arbitre qui vous le donne.\n",
      " Effectivement, puisqu'il n'y a pas avantage. L'avantage, en fait, c'est l'arbitre qui vous le donne.\n",
      "9\n",
      "problème de jointure 1  Et vous voyez Dominici qui est au sol et qui joue le ballon. On le répète, quand on est au sol, on ne s'occupe plus du ballon et c'est une pénalité pour l'argentin.\n",
      " Fabrice, vous sentez de la fébrilité côté français en ce début de match ?\n",
      " Fabrice, vous sentez de la fébrilité côté français en ce début de match ?\n",
      "10\n",
      " Je vais revenir Thierry sur l'analyse de Fabrice Landreau.\n",
      " Je vais revenir Thierry sur l'analyse de Fabrice Landreau.\n",
      "11\n",
      "problème de jointure 1  Il reviendra à l'en avant de Mignoni, on vous a parlé tout à l'heure, il n'y a pas eu avantage, c'est l'arbitre, je l'ai dit, qui le désigne, il y a eu un avant de Mignoni, on a laissé le jeu.\n",
      " Les Argentins n'ont pas avancé sur le terrain.\n",
      " Les Argentins n'ont pas avancé sur le terrain, donc on revient à la faute, à l'endroit où Mignoni a fait la faute.\n",
      "12\n",
      " Les deux centres sont deux jumeaux aux côtés argentins.\n",
      " Les deux centres sont deux jumeaux côté argentin.\n",
      "13\n",
      "problème de jointure 1  qui peste balle et fait un en avare, Mignoni, l'Argentine, et bien revient à la faute, parce que trop d'en avare, il faut arrêter le jeu.\n",
      " Mais effectivement, la défense de l'équipe de France qui sonne le réveil.\n",
      " Mais effectivement, la défense de l'équipe de France, qui sonne le réveil, cette défense qui avait été impeccable lors des matchs de préparation, avec des Skrela, des Martin, des Serge Petsen,\n",
      "14\n",
      "problème de jointure 1  ramène des maillots, comme des trophées, avec imprimés, meilleur défenseur, meilleur plaquage, meilleur tondeur de gazon aussi, vous savez, ces plaquages au rein de recrutement, pour faire tomber immédiatement l'adversaire.\n",
      "problème de jointure 2  La carte au plaquant bas, ça tombe de suite, vous faites 5 kilos, vous en faites 70, vous plaquez aux chevilles, c'est pareil, ça tombe au même endroit.\n",
      " La mêlée s'est écroulée.\n",
      " La mêlée s'est écroulée.\n",
      "15\n",
      " Et c'est pour ça qu'il s'écarte et qu'il s'allonge, pour obliger le 9 argentin à faire un grand défi.\n",
      " Et c'est pour ça qu'ils s'écartent et qu'ils s'allongent, pour obliger le 9 argentin à faire un grand défi.\n",
      "16\n",
      " Avec la victoire du stade français.\n",
      " Avec la victoire du stade français, premier capitaine étranger a gagné le championnat de France, Augustin Pichot.\n",
      "17\n",
      " Donc on sera obligé de le sortir parce que tout saignement, on sort du terrain.\n",
      " Donc on sera obligé de le sortir parce que tout saignement, on sort du terrain, on pourra rentrer une fois que le saignement est écarté, en tout cas vous avez vu le coup de pied indirect, quand vous n'êtes pas dans vos 22 mètres dans votre camp, il faut que le ballon rebondisse dans l'air de jeu avant de sortir, ça c'est un coup de pied indirect, alors que quand vous êtes dans les 22, vous l'avez dit tout à l'heure Thierry, vous pouvez taper directement en touche, en tout cas ce qu'on a vu c'est que l'équipe d'Argentine sur le contact, ils nous prennent pour le moment, ils sont devant nous et on subit l'impact, c'est pour ça qu'aujourd'hui on subit aussi le terrain en ce moment.\n",
      "18\n",
      "problème de jointure 1  L'entrée de Michalak est temporaire, c'est autorisé au rugby pendant que l'on soigne Damien Traille.\n",
      "problème de jointure 2  Michalak vient pour que l'équipe de France joue à 15 contre 15 et une fois que Traille sera soigné, il reprendra sa place.\n",
      " Vous avez vu ces joueurs argentins, c'est pas compliqué aujourd'hui, cher Téléspectateur.\n",
      " Vous avez vu ces joueurs argentins, c'est pas compliqué aujourd'hui chers téléspectateurs.\n",
      "19\n",
      "problème de jointure 1  Oui, loin de la défense, il faut pas qu'il mette les bras sur le ballon, on le met derrière,\n",
      "problème de jointure 2  et c'est le dernier joueur, il faut que ça communique.\n",
      " Là ça part, vous voyez il est derrière, on en parle et c'est Mignoni qui parle.\n",
      " Là ça part, vous voyez, on en parle, et c'est Mignoni qui parle.\n",
      "20\n",
      " Heureusement qu'on est agressif en défense, parce qu'on est encore un petit peu fébrile.\n",
      " Heureusement qu'on est agressif en défense parce qu'on est encore un petit peu fébrile.\n",
      "21\n",
      "problème de jointure 1  L'introduction de Mignoni cette fois est bonne, cette mêlée qui tangue un peu, c'est difficile pour Harinordoquy, Mignoni, pour Skrela, attention à ne pas se faire contrer, cette fois impeccable Skrela pour trouver la touche, et donner un peu d'air à l'équipe de France.\n",
      " C'est ça, arrêter le jeu.\n",
      " C'est ça arrêter le jeu, voilà, c'est classique, passe, on protège le 9, on envoie au buteur le 10, le 12, celui qui se présente dans l'axe, et on tape, voilà, et là on peut repartir sur des bases saines.\n",
      "22\n",
      " C'est intelligent parce qu'on a lancé en fond de touche pour fixer entre 3ème ligne et libérer justement du temps.\n",
      " C'est intelligent parce qu'on a lancé en fond de touche pour fixer entre troisième ligne et libérer justement du temps.\n",
      "23\n",
      "problème de jointure 1  Merci à tous ces partenaires. Il a pris le ballon, Nani Corleto, il peut jouer avec Contepomi.\n",
      " Et le soutien qui arrive des Argentins,\n",
      " Et le soutien qui arrive des Argentins, en rafale. Ballon libéré.\n",
      "24\n",
      " Et là, la baradita. Alors la baradita c'est quoi ?\n",
      " Et là, la baradita, alors la baradita c'est quoi ? C'est l'Argentine, le seul pays au monde à utiliser la baradita.\n",
      "25\n",
      " Pichot encore. À l'extérieur avec Borges, qui a échappé à Emos.\n",
      " Pichot encore, à l'extérieur avec Borges, qui a échappé à Heymans.\n",
      "26\n",
      "problème de jointure 1  9 à 3, joli silence du stade de France.\n",
      " Ballon qui part bien et qui va passer entre les perches.\n",
      " Ballon qui part bien et qui va passer entre les perches.\n",
      "27\n",
      " Donc mentalement, il faut être concentré quand on est remplaçant.\n",
      " Donc mentalement il faut être concentré quand on est remplaçant, c'est le plus dur, parce qu'on n'y est pas dedans, il faut rentrer et ressortir.\n",
      "28\n",
      " Attention au rebond, Josion est venu.\n",
      " Attention au rebond, Josion est venu, le ballon est français, Mignoni, avec Dominici, dans le dos de Traille, pris par Borges.\n",
      "29\n",
      " Revenons à de la simplicité, des bonnes mêlées, des bonnes touches.\n",
      " Revenons à de la simplicité, des bonnes mêlées, des bonnes touches, on fait des petites cocottes, on organise là, et après on écarte un peu, on va percuter au milieu.\n",
      "30\n",
      " Eh bien, c'est déjà pas mal. Si la sérénité peut revenir.\n",
      " Eh bien c'est déjà pas mal, si la sérénité peut revenir.\n",
      "31\n",
      "problème de jointure 1  ...Compante Pomi !\n",
      "problème de jointure 2  Oulala, oulala, c'est passé !\n",
      " Oui, effectivement, c'est argentin avec Augustin Pichot. Alors il faut en parler aussi parce que la clé du match aujourd'hui, c'est du numéro 9.\n",
      " Oui !\n",
      "32\n",
      " Au moins, il y a toujours un derrière !\n",
      " Au moins, il y a toujours un derrière. Là, on a tous été consommés sur le premier rideau. Et pourquoi on fait un soutien dans l'axe, derrière ? Pour éviter l'interception.\n",
      "33\n",
      " Allez, les Français, la réaction. Il faut réagir. Avant la mi-temps, en envoyant au front, Martin Mignoni avec Scrella.\n",
      " Allez, les Français, la réaction, il faut réagir, avant la mi-temps, en envoyant au front, Martin, Mignoni, avec Skrela.\n",
      "34\n",
      " Quand on garde les ballons et qu'on les donne aux ports argentiers, voilà ce que ça donne.\n",
      " Quand on garde les ballons et qu'on les donne aux ports argentiers, voilà ce que ça donne, c'est des phases de jeu, c'est en tout cas une pénalité, ça veut dire qu'on est en position de les faire craquer et de marquer des points, que ce soit par le pied ou par les essais.\n",
      "35\n",
      "problème de jointure 1  David Skrela pour cette pénalité, pour remettre les Français dans le jeu, pour les remettre dans le score.\n",
      " C'est parti, et ça passera entre les potos, 14 à 6, en faveur de l'Argentine.\n",
      " C'est parti, et ça passera entre les potos, 14 à 6, en faveur de l'Argentine.\n",
      "36\n",
      "problème de jointure 1  Quand vous êtes en avant, et Fabrice le confirmera sur Romain, vous aimez avancer, vous n'aimez pas reculer, vous avez récupéré un ballon, vous avez pris la pression comme Rémi Martin qui est présent, malheureusement il n'a pas s'intercepté mais il est hyper présent, en tout cas aujourd'hui.\n",
      "problème de jointure 2  Une fois que vous avez lutté pour avoir ce ballon bien couvé, c'est que ça avance derrière.\n",
      " Le desma pour la remise en jeu.\n",
      " Le Desma pour la remise en jeu, une touche en formation complète, il y a des Français qui essayent de batailler à l'image de Jérôme Thion, mais le ballon sera argentin avec le pichote.\n",
      "37\n",
      "problème de jointure 1  Bon là il va falloir être clair, tout ballon récupéré dans les airs, plus de passes, plus de passes !\n",
      "problème de jointure 2  Et oui parce qu'ils se faufilent entre nous, et bien sûr, comme on n'est pas suffisamment groupés et liés, ils interceptent tous les ballons, jusqu'à avoir une pénalité.\n",
      "problème de jointure 3  Est-ce qu'on va la tenter ?\n",
      "problème de jointure 4  Oh oui, Contepomi va la tenter, il attend le petit T, c'est, comment on pourrait dire un T ? Quelque chose qui va surélever un petit peu le ballon.\n",
      " Thierry, vous qui êtes un ancien grand buteur.\n",
      " Thierry, vous qui êtes un ancien grand buteur.\n",
      "38\n",
      "problème de jointure 1  J'espère ne pas le mettre en problème.\n",
      "problème de jointure 2  Un peu plus de 50 mètres de ces perches, de cette barre transversale qui est à 3 mètres du sol.\n",
      " Les deux perches, elles sont séparées.\n",
      " Les deux perches, elles sont séparées.\n",
      "39\n",
      " Depuis le début, on en voit un buteur français qui est dans l'axe du numéro 9.\n",
      " Depuis le début, on envoie un buteur français qui est dans l'axe du numéro 9. Donc les 3e ligne, ils montent tout le temps dans l'axe. Si à un moment donné on décalait à quelqu'un d'autre sur le côté pour alterner...\n",
      "40\n",
      " Mais pour essayer de vous rejoindre, l'équipe de France a envie de se débrider, de se libérer. Malheureusement, elle n'a pas de ballon. Le problème, il y a.\n",
      " Mais pour essayer de vous rejoindre, l'équipe de France a envie de se débrider, de se libérer.\n",
      "41\n",
      " Alors que nous, par Skrela, souvent, on tape à n'importe qui. C'est parce qu'on est sous pression.\n",
      " Alors que nous, par Skrela, souvent, on tape à n'importe où, c'est parce qu'on est sous pression.\n",
      "42\n",
      " Alors il faut avancer Thierry, parce que si ça s'arrête, on perdra le ballon.\n",
      " Alors il faut avancer Thierry, parce que si ça s'arrête, on perdra le ballon.\n",
      "43\n",
      " Vous voyez, s'il y en a déjà deux, l'argentin sur Ibanez,\n",
      " Vous voyez, s'il y en a déjà deux, l'argentin sur Ibañez, c'est que quelque part, ils ne sont pas sur la largeur.\n"
     ]
    }
   ],
   "source": [
    "for i in range(1,44):\n",
    "    print(i)\n",
    "    json2=repJson+\"extrait-%02d.json\"%i\n",
    "    with open(json2) as inFile:\n",
    "        whisper2=json.load(inFile)\n",
    "    newSrt=pasteSegment(srt,whisper2)\n",
    "    if not newSrt:\n",
    "        break\n",
    "    else:\n",
    "        srt=newSrt\n",
    "# print(srt)"
   ]
  },
  {
   "cell_type": "code",
   "execution_count": 22,
   "id": "d1dddc84-bd08-4e71-aece-aabbe94949d7",
   "metadata": {},
   "outputs": [],
   "source": [
    "# srt"
   ]
  },
  {
   "cell_type": "code",
   "execution_count": 23,
   "id": "c21084d7-a297-42a3-8824-72ceba87a731",
   "metadata": {},
   "outputs": [],
   "source": [
    "srtLines=[]\n",
    "for i,(start,end,mot,confidence) in enumerate(srt):\n",
    "    n=i+1\n",
    "    srtLines.append(str(n))\n",
    "    srtLines.append(start+\" --> \"+end)\n",
    "    srtLines.append(mot)\n",
    "    srtLines.append(\"\")\n"
   ]
  },
  {
   "cell_type": "code",
   "execution_count": 24,
   "id": "014bf088-f399-48aa-af43-f2eae34f2bab",
   "metadata": {},
   "outputs": [],
   "source": [
    "with codecs.open(json1.replace(\".json\",\"-segments.srt\"),\"w\",encoding=\"utf8\") as outFile:\n",
    "    for srtLine in srtLines:\n",
    "        outFile.write(srtLine+\"\\n\")"
   ]
  },
  {
   "cell_type": "code",
   "execution_count": null,
   "id": "0204bd4c-6ecf-41c4-803c-508bdd706f76",
   "metadata": {},
   "outputs": [],
   "source": []
  }
 ],
 "metadata": {
  "kernelspec": {
   "display_name": "Python 3 (ipykernel)",
   "language": "python",
   "name": "python3"
  },
  "language_info": {
   "codemirror_mode": {
    "name": "ipython",
    "version": 3
   },
   "file_extension": ".py",
   "mimetype": "text/x-python",
   "name": "python",
   "nbconvert_exporter": "python",
   "pygments_lexer": "ipython3",
   "version": "3.11.7"
  }
 },
 "nbformat": 4,
 "nbformat_minor": 5
}
