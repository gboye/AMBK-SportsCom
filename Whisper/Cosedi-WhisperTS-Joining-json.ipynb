{
 "cells": [
  {
   "cell_type": "markdown",
   "id": "a1f001a1-109c-43c2-a45b-32ff9b4a42e5",
   "metadata": {},
   "source": [
    "# WhisperTS joining JSON to SRT"
   ]
  },
  {
   "cell_type": "code",
   "execution_count": 43,
   "id": "c09e2155-f8d0-4e91-9236-d46af8e831a4",
   "metadata": {},
   "outputs": [],
   "source": [
    "import re,codecs,json,unidecode\n",
    "import pandas as pd"
   ]
  },
  {
   "cell_type": "code",
   "execution_count": 44,
   "id": "c1fc5f6e-0dd9-45d4-a13d-d7b32280c9e9",
   "metadata": {},
   "outputs": [],
   "source": [
    "repJson=\"/Users/gilles/Github/AMBK-SportsCom/Whisper/Extrait/Transcripts/\""
   ]
  },
  {
   "cell_type": "code",
   "execution_count": 45,
   "id": "4294ead0-95e7-4246-b1ac-348e93f4dba7",
   "metadata": {},
   "outputs": [],
   "source": [
    "json1=repJson+\"extrait-00.json\"\n",
    "with open(json1) as inFile:\n",
    "    whisper1=json.load(inFile)"
   ]
  },
  {
   "cell_type": "markdown",
   "id": "2f9278fb-db11-4a8a-a795-8410e4b70d87",
   "metadata": {},
   "source": [
    "### Gestion des timestamps"
   ]
  },
  {
   "cell_type": "code",
   "execution_count": 46,
   "id": "d9f994ba-d7a8-47ff-bba6-ba7c311a34e0",
   "metadata": {},
   "outputs": [],
   "source": [
    "def second2timestamp(seconds):\n",
    "    sHours=int(seconds/3600)\n",
    "    sMinutes=int((seconds-sHours*3600)/60)\n",
    "    sSeconds=int((seconds-sHours*3600-sMinutes*60))\n",
    "    sMilliseconds=int((seconds%1)*1000)\n",
    "    return \"%02d:%02d:%02d,%03d\"%(sHours,sMinutes,sSeconds,sMilliseconds)\n",
    "\n",
    "def timestamp2second(timestamp):\n",
    "    m=re.match(\"(\\d\\d):(\\d\\d):(\\d\\d),(\\d\\d\\d)\",timestamp)\n",
    "    if m:\n",
    "        seconds=(int(m.group(1))*60+int(m.group(2)))*60+int(m.group(3))+float(m.group(4))/1000\n",
    "        return seconds\n",
    "    else:\n",
    "        print(\"problème de timestamp\")\n",
    "        return"
   ]
  },
  {
   "cell_type": "markdown",
   "id": "a4cdd29f-4e5a-40f8-a1a5-7ca2396d63f9",
   "metadata": {},
   "source": [
    "### Gestion des structures JSON de Whisper"
   ]
  },
  {
   "cell_type": "code",
   "execution_count": 47,
   "id": "14a9defc-c1a5-426a-9639-a347c17690bf",
   "metadata": {},
   "outputs": [],
   "source": [
    "def getWhisper(whisper,elements=\"segments\"):\n",
    "    lElements=[]\n",
    "    if elements==\"segments\":\n",
    "        for element in whisper[elements]:\n",
    "            lElements.append((second2timestamp(element[\"start\"]),\n",
    "                              second2timestamp(element[\"end\"]),\n",
    "                              element[\"text\"],\n",
    "                              element[\"confidence\"]))\n",
    "    elif elements==\"words\":\n",
    "        for segment in whisper[\"segments\"]:\n",
    "            for element in segment[elements]:\n",
    "                lElements.append((second2timestamp(element[\"start\"]),\n",
    "                                  second2timestamp(element[\"end\"]),\n",
    "                                  element[\"text\"],\n",
    "                                  element[\"confidence\"]))        \n",
    "    return lElements"
   ]
  },
  {
   "cell_type": "markdown",
   "id": "87468d77-acae-49fe-b498-f65df8f39918",
   "metadata": {},
   "source": [
    "## Collage des segments"
   ]
  },
  {
   "cell_type": "code",
   "execution_count": 48,
   "id": "31f9e539-3e07-4db3-9d65-8ad3f3f36cbf",
   "metadata": {},
   "outputs": [],
   "source": [
    "def removePunct(texte):\n",
    "    result=texte\n",
    "    punct = list('''!()-[]{};:'\"\\,<>./?@#$%^&*_~''')\n",
    "    for p in punct:\n",
    "        result=result.replace(p,\"\")\n",
    "    return result\n",
    "    \n",
    "def egaleTextes(text1,text2):\n",
    "    t1=unidecode.unidecode(removePunct(text1))\n",
    "    t2=unidecode.unidecode(removePunct(text2))\n",
    "    lMax=min(len(t1),len(t2))\n",
    "    lMax=min(20,lMax)\n",
    "    return t1[:lMax].lower()==t2[:lMax].lower()\n",
    "    \n",
    "def pasteSegment(srt,whisper2):\n",
    "    for i in range(1,len(whisper2[\"segments\"])):\n",
    "        id1=None\n",
    "        for n,(_,_,texte,_) in enumerate(srt):\n",
    "            texte2=whisper2[\"segments\"][i][\"text\"]\n",
    "            if egaleTextes(texte,texte2):\n",
    "                id1=n\n",
    "                print(texte)\n",
    "                print(texte2)\n",
    "                break\n",
    "        if id1:\n",
    "            break\n",
    "        else:\n",
    "            print(\"problème de jointure\",i, whisper2[\"segments\"][i][\"text\"])\n",
    "    if id1:\n",
    "        jointTime=timestamp2second(srt[id1][0])\n",
    "        newSrt=srt[:id1]\n",
    "    \n",
    "        srt2=getWhisper(whisper2)[i:]\n",
    "        for (tDeb,tFin,texte,confidence) in srt2:\n",
    "            nDeb=second2timestamp(timestamp2second(tDeb)+jointTime)\n",
    "            nFin=second2timestamp(timestamp2second(tFin)+jointTime)\n",
    "            newSrt.append((nDeb,nFin,texte,confidence))\n",
    "        return newSrt\n",
    "    else:\n",
    "        return None"
   ]
  },
  {
   "cell_type": "code",
   "execution_count": 49,
   "id": "895b7ccb-f52e-4e67-8c14-d542ba339a93",
   "metadata": {},
   "outputs": [
    {
     "data": {
      "text/plain": [
       "60.0"
      ]
     },
     "execution_count": 49,
     "metadata": {},
     "output_type": "execute_result"
    }
   ],
   "source": [
    "timestamp2second(\"00:01:00,000\")"
   ]
  },
  {
   "cell_type": "code",
   "execution_count": 50,
   "id": "ad3a9d50-8b27-441c-ad34-ce612555eaba",
   "metadata": {},
   "outputs": [],
   "source": [
    "srt=[]\n",
    "decalageInitial=0\n",
    "for (tDeb,tFin,texte,confidence) in getWhisper(whisper1):\n",
    "    nDeb=second2timestamp(timestamp2second(tDeb)+decalageInitial)\n",
    "    nFin=second2timestamp(timestamp2second(tFin)+decalageInitial)\n",
    "    srt.append((nDeb,nFin,texte,confidence))"
   ]
  },
  {
   "cell_type": "code",
   "execution_count": 51,
   "id": "8e4110b8-14f8-492a-b43a-794923a784ea",
   "metadata": {},
   "outputs": [
    {
     "name": "stdout",
     "output_type": "stream",
     "text": [
      "1\n",
      " Alors la touche, ça, ça sera une des clés de cette rencontre.\n",
      " Alors la touche, ça, ça sera une des clés de cette rencontre.\n",
      "2\n",
      " Les Argentins qui ont bien démarré en chipant un premier ballon à l'alignement français\n",
      " Les Argentins qui ont bien démarré en chipant un premier ballon à l'alignement français\n",
      "3\n",
      " Il faut vite aller recouper le terrain pour se rassurer.\n",
      " Il faut vite aller recouper le terrain pour se rassurer parce qu'en tout cas, c'est le début de partie, il est argentin, vous le voyez.\n",
      "4\n",
      " Quand on est au sol, on est un joueur mort, on ne doit plus rien faire, si ce n'est que s'écarter le plus vite possible de la zone de jeu.\n",
      " Quand on est au sol, on est un joueur mort, Thierry, on ne doit plus rien faire, si ce n'est que s'écarter le plus vite possible de la zone de jeu.\n",
      "5\n",
      " et c'est vrai, vous le verrez, que Mignoni, il a un dynamisme viral, alors que Pichotte est beaucoup plus lent dans ses transitions.\n",
      " Et c'est vrai, vous le verrez, que Mignoni a un dynamisme viral alors que Pichot est beaucoup plus lent dans ses transitions.\n",
      "6\n",
      " Bonsoir Thierry, ça va être une belle épreuve de choc,\n",
      " Bonsoir Thierry, ça va être une belle épreuve de choc, on voit tout de suite la mêlée argentine qui a pris le dessus,\n",
      "7\n",
      " Concentration de David Oskrela.\n",
      " Concentration de David Skrela.\n",
      "8\n",
      " Mignoni, avec Skrela pour trouver.\n",
      " Mignoni, avec Skrela, il y a peut-être un coup à jouer sur l'extérieur, Heymans, bien pris par trois Argentins, le soutien français suit !\n",
      "9\n",
      "problème de jointure 1  On le répète, quand on est au sol, on ne s'occupe plus du ballon, et c'est une pénalité pour l'argentin.\n",
      " Fabrice, vous sentez de la fébrilité côté français en ce début de match ?\n",
      " Fabrice, vous sentez de la fébrilité côté français en ce début de match ?\n",
      "10\n",
      " Je vais revenir Thierry sur l'analyse de Fabrice Landreau, effectivement, quand vous êtes sous pression pour se rassurer collectivement à 15, puisque c'est 15 contre 15,\n",
      " Je vais revenir Thierry sur l'analyse de Fabrice Landreau.\n",
      "11\n",
      " Il reviendra à l'en avant de Mignoni.\n",
      " Il reviendra à l'en avant de Mignoni, on vous a parlé tout à l'heure, il n'y a pas eu avantage, c'est l'arbitre je le dis, il le désigne, il y a eu un avant de Mignoni, on a laissé le jeu, les Argentins n'ont pas avancé sur le terrain, donc on revient à la faute, à l'endroit où Mignoni a fait la faute.\n",
      "12\n",
      " Avant d'écarter pour Hernandez, combinaison avec l'autre Conte Pomi.\n",
      " Avant d'écarter pour Hernandez, combinaison avec l'autre Contepomi.\n",
      "13\n",
      "problème de jointure 1  regardez-le, boum, ça c'est du Martin, il a 3 Argentins, mais il y va, il est guerrier, il est tonique, et derrière, l'Argentine va récupérer ce balle et faire un en avant, Mignoni, l'Argentine, et bien revient à la faute, parce que trop d'en avant, il faut arrêter le jeu.\n",
      " Mais effectivement, la défense de l'équipe de France qui sonne le réveil.\n",
      " Mais effectivement, la défense de l'équipe de France, qui sonne le réveil, cette défense qui avait été impeccable, alors des matchs de préparation, avec des Skrela, des Martin, des Serge Betzen,\n",
      "14\n",
      " La 4e plaque en bas, ça tombe de suite, vous faites 5 kilos, vous en faites 70.\n",
      " La 4e plaque en bas, ça tombe de suite, vous faites 5 kilos, vous en faites 70, vous plaquez aux chevilles, c'est pareil, ça tombe au même endroit.\n",
      "15\n",
      " Et c'est pour ça qu'ils s'écartent et qu'ils s'allongent pour obliger le 9 argentin à faire un grand défi.\n",
      " Et c'est pour ça qu'ils s'écartent et qu'ils s'allongent, pour obliger le 9 argentin à faire un grand défi.\n",
      "16\n",
      " Premier capitaine étranger à gagner le championnat de France à Augustin Pichot.\n",
      " Premier capitaine étranger à gagner le championnat de France à Augustin Pichot.\n",
      "17\n",
      " Un bien repoussé, plaquage agressif de Hemmance.\n",
      " Un bien repoussé, plaquage agressif de Heymans.\n",
      "18\n",
      "problème de jointure 1  Skrela va passer au centre\n",
      "problème de jointure 2  C'est une entrée temporaire, c'est autorisé au rugby pendant que l'on soigne Damien Traille\n",
      " Michalak vient pour que l'équipe de France joue à 15 contre 15.\n",
      " Michalak vient pour que l'équipe de France joue à 15 contre 15\n",
      "19\n",
      " Loin de la défense, on voit qu'ils mettent les bras sur le ballon, on le met derrière\n",
      " Loin de la défense, on voit qu'ils mettent les bras sur le ballon, on le met derrière,\n",
      "20\n",
      " Heureusement qu'on est agressif en défense, parce qu'on est encore un petit peu fébrile, et la fébrilité elle vient de quoi ?\n",
      " Heureusement qu'on est agressif en défense, parce qu'on est encore un petit peu fébrile, et la fébrilité elle vient de quoi ?\n",
      "21\n",
      " Allez, l'introduction de Mignoni cette fois est bonne, cette mêlée qui tangue un peu.\n",
      " Allez, l'introduction de Mignoni cette fois est bonne, cette mêlée qui tangue un peu, assez difficile pour Harinordoquy.\n",
      "22\n",
      " C'est intelligent parce qu'on a lancé en fond de touche pour fixer entre 3ème ligne et libérer justement du temps.\n",
      " C'est intelligent parce qu'on a lancé en fond de touche pour fixer entre troisième ligne et libérer justement du temps.\n",
      "23\n",
      "problème de jointure 1  Le match des Argentins, c'est exactement celui qu'on attendait.\n",
      " Le Desma,\n",
      " Le Desma, Hernandez, et encore une Chantel pour tester Heymans !\n",
      "24\n",
      " Et là, la baradita, alors la baradita c'est quoi ?\n",
      " Et là, la baradita, alors la baradita c'est quoi ? C'est l'Argentine, le seul pays au monde à utiliser la baradita.\n",
      "25\n",
      " Oui, on a été pénalisés parce qu'on a été plaqueurs.\n",
      " Oui, on a été pénalisés parce qu'on a été plaqueurs, et qu'on n'est pas sortis de la zone, entre le joueur qui était au sol, le joueur qui l'a plaqué, et bien à un moment donné, il faut sortir de la zone, ramper, rouler, je vous l'ai dit, mais ne surtout pas jouer le ballon au sol, et sortir de cette zone pour laisser libre la balle, tout simplement.\n",
      "26\n",
      "problème de jointure 1  Qu'est-ce qu'il faut ? Donner la balle, un bloc, et après donner la balle et jouer au pied !\n",
      "problème de jointure 2  Et qu'est-ce qu'on fait ? On repère la balle derrière.\n",
      " Ce début de partie, on est très fébriles du côté français, on perd trop de ballons, on facilite le jeu argentin, si on les garde, vous verrez, ça changera de physio même.\n",
      " Ce début de partie, on est très fébriles du côté français, on perd trop de ballons, on facilite le jeu argentin.\n",
      "27\n",
      " Donc mentalement, il faut être concentré quand on est remplaçant.\n",
      " Donc mentalement il faut être concentré quand on est remplaçant, c'est le plus dur, parce qu'on n'y est pas dedans, il faut rentrer et ressortir.\n",
      "28\n",
      " Attention au rebond, Josion est venu, le ballon est français.\n",
      " Attention au rebond, Josion est venu, le ballon est français, Mignoni, avec Dominici, dans le dos de Traille, pris par Borges.\n",
      "29\n",
      "problème de jointure 1  Ils n'en ont pas beaucoup, on leur donne.\n",
      "problème de jointure 2  On a un mauvais jeu au pied, on fait tomber des ballons, on est fébrile.\n",
      "problème de jointure 3  Revenons à de la simplicité, des bonnes mêlées, des bonnes touches, on fait des petites cocottes, on organise là,\n",
      "problème de jointure 4  et après on écarte un peu, on va percuter au milieu, on se rassure par du petit jeu.\n",
      " Mais c'est important le petit jeu quand on doute, comme on doute aujourd'hui, en ce moment en tout cas. Mais c'est pas, c'est qu'à le début de la partie, bien sûr.\n",
      " Mais c'est important le petit jeu quand on doute, comme on doute aujourd'hui, en ce moment en tout cas.\n",
      "30\n",
      "problème de jointure 1  Eh bien c'est déjà pas mal, si la sérénité peut revenir.\n",
      "problème de jointure 2  Mais dans la défense on est bien.\n",
      "problème de jointure 3  Oui, oui, c'est pour ça.\n",
      " C'est dans l'utilisation des ballons qu'on tombe au tour de balle.\n",
      " C'est dans l'utilisation des ballons qu'on tombe au tour de balle.\n",
      "31\n",
      "problème de jointure 1  Attention à Contepomi !\n",
      " Et attention à Corleto qui va vite, qui va très vite.\n",
      " Et attention à Corleto qui va vite, qui va très vite !\n",
      "32\n",
      " Ah oui, c'est 50-50\n",
      " Ah oui, c'est 50-50 !\n",
      "33\n",
      " Allez, les Français, la réaction.\n",
      " Allez, les Français, la réaction, il faut réagir, avant la mi-temps, en envoyant au front, Martin !\n",
      "34\n",
      " Et le soutien qui vient, le nettoyage qui est fait.\n",
      " Et le soutien qui vient, le nettoyage qui est fait, Mignoni encore, avec Rougerie !\n",
      "35\n",
      "problème de jointure 1  David Skrela pour cette pénalité, pour remettre les Français dans le jeu, pour les remettre dans le score.\n",
      " C'est parti, et ça passera entre les potos, 14 à 6, en faveur de l'Argentine !\n",
      " C'est parti, et ça passera entre les potos, 14 à 6.\n",
      "36\n",
      " Mignoni, Skrela.\n",
      " Mignoni, Skrela, trouvez la touche, jouez simple, a dit Thierry Lacroix, c'est ce que font les Français, en essayant de revenir au plus vite dans la moitié de terrain de l'Argentine.\n",
      "37\n",
      " Bon là il va falloir être clair, tout ballon récupéré dans les airs, plus de passes, plus de passes.\n",
      " Bon là il va falloir être clair, tout ballon récupéré dans les airs, plus de passes, plus de passes ! Et oui parce qu'ils se faufilent entre nous, et bien sûr, comme on n'est pas suffisamment groupés et liés, ils interceptent tous les ballons, jusqu'à avoir une pénalité, parce qu'on va la tenter.\n",
      "38\n",
      "problème de jointure 1  J'espère ne pas le mettre en problème.\n",
      " Un peu plus de 50 mètres, hein, de ces perches, de cette barre transversale qui est à 3 mètres du sol, les deux perches elles sont séparées.\n",
      " Un peu plus de 50 mètres, hein ?\n",
      "39\n",
      " Il a bien lutté, il a essayé de résister pour attendre le soutien.\n",
      " Il a bien lutté, il a essayé de résister pour attendre le soutien.\n",
      "40\n",
      " Elle tombe beaucoup.\n",
      " Elle tombe beaucoup, elle les a, mais elle les tombe très vite.\n",
      "41\n",
      " Alors que nous, par Skrela Souva, on a toujours, on tape à n'importe qui, c'est parce qu'on est sous pression.\n",
      " Alors que nous, par Skrela, souvent, on tape à n'importe qui, c'est parce qu'on est sous pression.\n",
      "42\n",
      " Alors il faut avancer Thierry, parce que si ça s'arrête, on perdra le ballon.\n",
      " Alors il faut avancer Thierry, parce que si ça s'arrête, on perdra le ballon. Il faut que le maul se cocotte, ce ballon porté, il faut que ça avance toujours un peu, qu'il y ait un certain dynamisme, sinon on perdra le ballon.\n",
      "43\n",
      " Regardez avec Ibañez qui, à mon avis, se libère.\n",
      " Regardez avec Ibañez qui à mon avis se libère.\n"
     ]
    }
   ],
   "source": [
    "for i in range(1,44):\n",
    "    print(i)\n",
    "    json2=repJson+\"extrait-%02d.json\"%i\n",
    "    with open(json2) as inFile:\n",
    "        whisper2=json.load(inFile)\n",
    "    newSrt=pasteSegment(srt,whisper2)\n",
    "    if not newSrt:\n",
    "        break\n",
    "    else:\n",
    "        srt=newSrt\n",
    "# print(srt)"
   ]
  },
  {
   "cell_type": "code",
   "execution_count": 52,
   "id": "d1dddc84-bd08-4e71-aece-aabbe94949d7",
   "metadata": {},
   "outputs": [],
   "source": [
    "# srt"
   ]
  },
  {
   "cell_type": "code",
   "execution_count": 53,
   "id": "c21084d7-a297-42a3-8824-72ceba87a731",
   "metadata": {},
   "outputs": [],
   "source": [
    "srtLines=[]\n",
    "for i,(start,end,mot,confidence) in enumerate(srt):\n",
    "    n=i+1\n",
    "    srtLines.append(str(n))\n",
    "    srtLines.append(start+\" --> \"+end)\n",
    "    srtLines.append(mot)\n",
    "    srtLines.append(\"\")\n"
   ]
  },
  {
   "cell_type": "code",
   "execution_count": 54,
   "id": "014bf088-f399-48aa-af43-f2eae34f2bab",
   "metadata": {},
   "outputs": [],
   "source": [
    "with codecs.open(json1.replace(\".json\",\"-segments.srt\"),\"w\",encoding=\"utf8\") as outFile:\n",
    "    for srtLine in srtLines:\n",
    "        outFile.write(srtLine+\"\\n\")"
   ]
  },
  {
   "cell_type": "code",
   "execution_count": null,
   "id": "0204bd4c-6ecf-41c4-803c-508bdd706f76",
   "metadata": {},
   "outputs": [],
   "source": []
  }
 ],
 "metadata": {
  "kernelspec": {
   "display_name": "Python 3 (ipykernel)",
   "language": "python",
   "name": "python3"
  },
  "language_info": {
   "codemirror_mode": {
    "name": "ipython",
    "version": 3
   },
   "file_extension": ".py",
   "mimetype": "text/x-python",
   "name": "python",
   "nbconvert_exporter": "python",
   "pygments_lexer": "ipython3",
   "version": "3.11.8"
  }
 },
 "nbformat": 4,
 "nbformat_minor": 5
}
