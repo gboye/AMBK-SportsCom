{
 "cells": [
  {
   "cell_type": "markdown",
   "id": "53b646d6-d117-4363-928d-17f3b5ca4f76",
   "metadata": {},
   "source": [
    "# Assembler texte à partir d'une liste d'EAF"
   ]
  },
  {
   "cell_type": "code",
   "execution_count": 1,
   "id": "29daf1d2-94e2-49d0-8124-d6133ebc415d",
   "metadata": {},
   "outputs": [],
   "source": [
    "import codecs\n",
    "import pandas as pd\n",
    "from unidecode import unidecode\n",
    "from lxml import etree as ET"
   ]
  },
  {
   "cell_type": "markdown",
   "id": "d5d0b1b0-02cc-4e21-bc5d-04b135f0c365",
   "metadata": {},
   "source": [
    "### Lire les informations sur l'ordre d'assemblage des EAF"
   ]
  },
  {
   "cell_type": "code",
   "execution_count": 32,
   "id": "fecaeb94-e50a-4294-bb4f-2c9b7b066a73",
   "metadata": {},
   "outputs": [],
   "source": [
    "repSource=\"/Users/gilles/Downloads/\"\n",
    "repEAF=repSource+\"Cosedi-FranceNouvelleZelande/\"\n",
    "fSync=repSource+\"France-NouvelleZelande.xlsx\"\n",
    "repEAF=repSource+\"Cosedi-FranceArgentine/\"\n",
    "fSync=repSource+\"France-Argentine.xlsx\"\n",
    "fTexte=fSync.replace(\".xlsx\",\".txt\")\n",
    "df=pd.read_excel(fSync)"
   ]
  },
  {
   "cell_type": "code",
   "execution_count": 33,
   "id": "ef5d51ea-7c72-4859-b287-e8208066a0cf",
   "metadata": {},
   "outputs": [],
   "source": [
    "# df.dropna(thresh=3)"
   ]
  },
  {
   "cell_type": "code",
   "execution_count": 34,
   "id": "2f719dca-8a5d-4ac2-93ec-e2caceec7555",
   "metadata": {},
   "outputs": [],
   "source": [
    "df[\"prenom\"]=df.dropna(thresh=3)[u\"Prénom\"].str.strip().str.upper().str.replace(\" \",\"-\").apply(unidecode)\n",
    "df[\"nom\"]=df.dropna(thresh=3)[u\"Nom\"].str.strip().str.upper().str.replace(\" \",\"-\").apply(unidecode)\n",
    "df[\"fichier\"]=df.prenom+\"-\"+df.nom+\".eaf\""
   ]
  },
  {
   "cell_type": "code",
   "execution_count": 35,
   "id": "011d48c4-847d-4afe-a3fe-603fdffbac2f",
   "metadata": {},
   "outputs": [],
   "source": [
    "dfSync=df.dropna(thresh=3)[u\"début fin fichier\".split(\" \")]"
   ]
  },
  {
   "cell_type": "code",
   "execution_count": 36,
   "id": "7f229731-57f9-463f-b544-1e3bfb526a98",
   "metadata": {},
   "outputs": [
    {
     "data": {
      "text/plain": [
       "['JEANNE-ROBIN.eaf',\n",
       " 'AXEL-MEUNIER.eaf',\n",
       " 'CAMILLE-VILLECHALANNE.eaf',\n",
       " 'MAEWENN-GAUDIN.eaf',\n",
       " 'CAPUCINE-MERESSE-ETIENNE.eaf',\n",
       " 'MAUREEN-VIARD.eaf',\n",
       " 'LEELOU-DE-GIRARDI.eaf',\n",
       " 'COLINE-GOURSAUD.eaf',\n",
       " 'LAETITIA-CAPELO.eaf',\n",
       " 'GAELLE-DUBROCA.eaf',\n",
       " 'EVA-DELAHODDE.eaf',\n",
       " 'LILIANA-CORREIA.eaf',\n",
       " 'JULIE-BOATTO.eaf',\n",
       " 'ESTELLE-VEAU.eaf',\n",
       " 'MARIAH-GOTTER.eaf',\n",
       " 'ELYSA-RAVET.eaf',\n",
       " 'ALISSA-BESSETTES.eaf',\n",
       " 'ELISE-CHAIGNE.eaf',\n",
       " 'LAURINE-BIGLIONE.eaf',\n",
       " 'GAELLE-LAMARQUE.eaf',\n",
       " 'ELIANE-MEGARUS.eaf',\n",
       " 'LEA-BOUSSARD.eaf',\n",
       " 'LEO-MESQUITA.eaf',\n",
       " 'MARIUS-RECULET.eaf',\n",
       " 'CHLOE-VERHEYDE.eaf',\n",
       " 'CHARLINE-LEMOINE.eaf',\n",
       " 'VADIM-OLIVAN.eaf',\n",
       " 'CLARA-LEGER.eaf',\n",
       " 'ALICE-LOOF.eaf',\n",
       " 'YELYZAVETA-SHADRINA.eaf',\n",
       " 'ROMAIN-DUBOIS.eaf',\n",
       " 'COLEEN-MOREAU.eaf',\n",
       " 'NORIKO-ROBINSON.eaf',\n",
       " 'MATISSE-ROGER.eaf']"
      ]
     },
     "execution_count": 36,
     "metadata": {},
     "output_type": "execute_result"
    }
   ],
   "source": [
    "fichiers=dfSync.fichier.tolist()\n",
    "fichiers"
   ]
  },
  {
   "cell_type": "markdown",
   "id": "4a589168-7b14-43f3-bc52-5083caaa29e8",
   "metadata": {},
   "source": [
    "### Lire les fichiers EAF"
   ]
  },
  {
   "cell_type": "code",
   "execution_count": 37,
   "id": "34754ca2-47b1-46e8-b0e1-08cbc5c1fd33",
   "metadata": {},
   "outputs": [],
   "source": [
    "parser = ET.XMLParser(remove_blank_text=True)"
   ]
  },
  {
   "cell_type": "code",
   "execution_count": 38,
   "id": "524e826a-dc00-4500-b608-8e5c86946d26",
   "metadata": {},
   "outputs": [],
   "source": [
    "def time2TRS(time):\n",
    "    return unicode(float(time)/1000)\n",
    "\n",
    "\n",
    "def texteEAF(xmlEAF):\n",
    "    ts={}\n",
    "    for timeOrder in xmlEAF.xpath(\"//TIME_ORDER/TIME_SLOT\"):\n",
    "        tsID=timeOrder.attrib[\"TIME_SLOT_ID\"]\n",
    "        tsTime=timeOrder.attrib[\"TIME_VALUE\"]\n",
    "        ts[tsID]=tsTime\n",
    "    tiersTypes={}\n",
    "    annotations={}\n",
    "    tcTexte={}\n",
    "    turnTextes=[]\n",
    "    for tier in xmlEAF.xpath(\"//TIER\"):\n",
    "        tierID=tier.attrib[\"TIER_ID\"]\n",
    "        if tierID!=\"Whisper\":\n",
    "            tierType=tier.attrib[\"LINGUISTIC_TYPE_REF\"]\n",
    "            tiersTypes[tierID]=tierType\n",
    "            for annotation in tier.xpath(\"ANNOTATION/ALIGNABLE_ANNOTATION\"):\n",
    "                aID=annotation.attrib[\"ANNOTATION_ID\"]\n",
    "                aTS1=annotation.attrib[\"TIME_SLOT_REF1\"]\n",
    "                aTS2=annotation.attrib[\"TIME_SLOT_REF2\"]\n",
    "                aBegin=time2TRS(ts[aTS1])\n",
    "                aEnd=time2TRS(ts[aTS2])\n",
    "                aValue=annotation.xpath(\"ANNOTATION_VALUE/text()\")\n",
    "                # print aValue\n",
    "                if aValue!=[\"[bruit]\"]:\n",
    "                    turnTextes.append(\"\\n\".join(aValue))\n",
    "                    turn=(tierID, aBegin, aEnd, aValue)\n",
    "                    annotations[aID]=turn\n",
    "                    tcTexte[float(aBegin)]=\"\\n\".join(aValue)\n",
    "    texteEAF=[]\n",
    "    for k in sorted(tcTexte):\n",
    "        texteEAF.append(tcTexte[k])\n",
    "    return texteEAF"
   ]
  },
  {
   "cell_type": "code",
   "execution_count": 39,
   "id": "b035909a-a54f-4158-800e-edc31a92d46b",
   "metadata": {},
   "outputs": [
    {
     "name": "stdout",
     "output_type": "stream",
     "text": [
      "pas de COLINE-GOURSAUD.eaf\n",
      "pas de GAELLE-DUBROCA.eaf\n",
      "pas de LILIANA-CORREIA.eaf\n",
      "pas de ALISSA-BESSETTES.eaf\n",
      "pas de MARIUS-RECULET.eaf\n",
      "pas de CHLOE-VERHEYDE.eaf\n",
      "pas de VADIM-OLIVAN.eaf\n",
      "pas de MATISSE-ROGER.eaf\n"
     ]
    }
   ],
   "source": [
    "texteMatch=[]\n",
    "for fichier in fichiers[:]:\n",
    "    # print fichier\n",
    "    try:\n",
    "        xmlFichier=ET.parse(repEAF+fichier,parser)\n",
    "        texteMatch.extend(texteEAF(xmlFichier))\n",
    "    except:\n",
    "        print \"pas de\",fichier"
   ]
  },
  {
   "cell_type": "code",
   "execution_count": 28,
   "id": "59f460f4-59ff-4890-a187-23e0ddb423c1",
   "metadata": {
    "scrolled": true
   },
   "outputs": [],
   "source": [
    "with codecs.open(fTexte,\"w\",encoding=\"utf8\") as outFile:\n",
    "    outFile.write(\"\\n\".join(texteMatch))"
   ]
  },
  {
   "cell_type": "code",
   "execution_count": 29,
   "id": "235574f0-48b7-4129-afac-bad1621da640",
   "metadata": {},
   "outputs": [
    {
     "data": {
      "text/plain": [
       "['il y va X',\n",
       " u'il est o\\xfa le XXX',\n",
       " 'oh non non y a pas essai',\n",
       " 'en avant',\n",
       " 'non non y a pas essai',\n",
       " 'en avant',\n",
       " 'y a pas essai',\n",
       " 'non',\n",
       " 'alors',\n",
       " u\"et si s'il me fait \\xe7a \\xe0 tout long il me fait mourir\",\n",
       " 'ah ah ah ah ah',\n",
       " u\"si il est \\xe0 la but mais qu'il applatit pas il va il va me faire mourir\",\n",
       " \"X l'essai\",\n",
       " u\"et c'\\xe9tait beau\",\n",
       " u'ouais, ouais il y a pas grand chose \\xe0, il y a pas grand chose \\xe0 dire dire le',\n",
       " u'fin tout ceux qui \\xe9taient sur le terrain ils \\xe9taient e',\n",
       " 'en moins de XX de nous et e',\n",
       " u\"et \\xe7a s'est vu d\\xe8s d\\xe8s la premi\\xe8re mi-temps quand on a, quand il y a eu des opportunit\\xe9es de de revenir on a pas \\xe9taient e\",\n",
       " u\"assez rigoureux pour donner la quantit\\xe9 \\xe0 notre jeux pour tout donner X de l'espoir \",\n",
       " u\"on a perdu des ballons vraiment trop facilement et contre eux \\xe9videmment c'est e\",\n",
       " 'e on le paie, on le paie de suite donc e',\n",
       " u'voil\\xe0 \\xe7a a \\xe9t\\xe9 e, \\xe7a a \\xe9t\\xe9 un milieu de deuxi\\xe8me mi temps \\xe7a a \\xe9t\\xe9 tr\\xe8s tr\\xe8s difficile de',\n",
       " u'de, de, de, de la maintenir donc e voil\\xe0 ',\n",
       " u'comment on peut rebondir face \\xe0 une d\\xe9convenue comme celle ci ? ',\n",
       " 'comment ? ',\n",
       " u'comment peut-on rebondir face \\xe0 une d\\xe9convenue comme celle ci ? ',\n",
       " u\"e je sais pas c'est e, c'est e, c'est quand m\\xeame tr\\xe8s e, tr\\xe8s tr\\xe8s dur e\",\n",
       " 'vraiment, vraiment tous e',\n",
       " u'tr\\xe8s tr\\xe8s d\\xe9\\xe7u de cette performance l\\xe0',\n",
       " u\"perdre avec autant de diff\\xe9rences c'est e\",\n",
       " u\"c'est assez compliqu\\xe9 d'autant plus ouais il y avait \\xe9norm\\xe9ment de fran\\xe7ais e\",\n",
       " u\"ici \\xe0 \\xe0  Cardiff et sortir de cette fa\\xe7on l\\xe0 c'est e\",\n",
       " u'\\xe7a \\xe7a \\xe7a fait mal au coeur',\n",
       " 'Thierry est ce que tu peux nous rassurer ',\n",
       " u\"tu es encore l\\xe0 ici l'ann\\xe9e prochaine ? \",\n",
       " u\"voil\\xe0 aujourd'hui je ferais encore mon possible je XX de tout \\xe7a \",\n",
       " \"e j'ai e\",\n",
       " 'je suis vraiment e vraiment encore sous le coup de de',\n",
       " 'de notre e contre performance et e bon ',\n",
       " u\"voil\\xe0 tout ce que je peux dire c'est e bonne chance e\",\n",
       " u'au n\\xe9o-z\\xe9landais pour e pour la suite ',\n",
       " 'merci beaucoup thierry ',\n",
       " 'merci',\n",
       " u\"voil\\xe0 ce sera les mots tr\\xe8s dignes du capitaine de l'\\xe9quipe de France e Bernard\",\n",
       " u\"les derni\\xe8res images de l'\\xe9quipe de France \",\n",
       " u\"nous avons \\xe9t\\xe9 emport\\xe9 par une tornade noire il n'y avait pas photo\",\n",
       " 'merci',\n",
       " u'merci \\xe0 vous ',\n",
       " u'Bernard dans un instant Denis avec des r\\xe9actions bien s\\xfbr en direct ici de Cardiff et avec e',\n",
       " u'tout nos consultants et \\xe0 demain pour e Argentine Irlande, tout de suite Denis va parler ']"
      ]
     },
     "execution_count": 29,
     "metadata": {},
     "output_type": "execute_result"
    }
   ],
   "source": [
    "texteMatch[-50:]"
   ]
  },
  {
   "cell_type": "code",
   "execution_count": null,
   "id": "7ddcc3f0-383d-4d93-b0ba-78a038ee73db",
   "metadata": {},
   "outputs": [],
   "source": []
  }
 ],
 "metadata": {
  "kernelspec": {
   "display_name": "Python 2.7",
   "language": "python",
   "name": "py2"
  },
  "language_info": {
   "codemirror_mode": {
    "name": "ipython",
    "version": 2
   },
   "file_extension": ".py",
   "mimetype": "text/x-python",
   "name": "python",
   "nbconvert_exporter": "python",
   "pygments_lexer": "ipython2",
   "version": "2.7.16"
  }
 },
 "nbformat": 4,
 "nbformat_minor": 5
}
