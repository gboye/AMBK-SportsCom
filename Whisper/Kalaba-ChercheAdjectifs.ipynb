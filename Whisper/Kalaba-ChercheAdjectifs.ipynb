{
 "cells": [
  {
   "cell_type": "code",
   "execution_count": 16,
   "id": "61142a3d-4a45-4c30-9646-94b08a3f31f1",
   "metadata": {},
   "outputs": [],
   "source": [
    "adj1=\"\"\"blanc, blessé, cinq, courageux, dernier, furieux, jaune, nombreux, nouveau, petit, rouge, sept, six, suivant, terrible, troisième, vert\"\"\".split(\", \")\n",
    "adj2=\"\"\"autre, bas, deux, différent, disparu, effrayé, grand, gros, héroïque, maigre, méchant, noir, profond, quatre, treize, trois, vilain\"\"\".split(\", \")"
   ]
  },
  {
   "cell_type": "code",
   "execution_count": 17,
   "id": "3e10f307-e8b6-4c87-b20e-1f50a5b485b9",
   "metadata": {},
   "outputs": [],
   "source": [
    "with open(\"/Users/gilles/sDrive/Cours/Bordeaux/L1-LinguistiqueGenerale/00-ProjetKalaba/Phrases-A1-agathos.csv\") as inFile:\n",
    "    lignes=[l.replace(\"\\t\",\" \").strip() for l in inFile.readlines()]"
   ]
  },
  {
   "cell_type": "code",
   "execution_count": 20,
   "id": "f4f6ae28-63cc-49c6-9ee5-a4b3e183488f",
   "metadata": {},
   "outputs": [
    {
     "data": {
      "text/plain": [
       "{'quatre': 4,\n",
       " 'grand': 13,\n",
       " 'treize': 2,\n",
       " 'deux': 13,\n",
       " 'héroïque': 2,\n",
       " 'noir': 24,\n",
       " 'trois': 11,\n",
       " 'méchant': 7,\n",
       " 'vilain': 2,\n",
       " 'disparu': 3,\n",
       " 'autre': 2}"
      ]
     },
     "execution_count": 20,
     "metadata": {},
     "output_type": "execute_result"
    }
   ],
   "source": [
    "occ1={}\n",
    "occ2={}\n",
    "for ligne in lignes:\n",
    "    for a1 in adj1:\n",
    "        if \" \"+a1 in ligne:\n",
    "            if a1 not in occ1: occ1[a1]=0\n",
    "            occ1[a1]+=1\n",
    "    for a2 in adj2:\n",
    "        if \" \"+a2 in ligne:\n",
    "            if a2 not in occ2: occ2[a2]=0\n",
    "            occ2[a2]+=1\n",
    "occ2      "
   ]
  },
  {
   "cell_type": "code",
   "execution_count": null,
   "id": "79ff2de4-3e5b-4cbc-adc0-a5863222a4e2",
   "metadata": {},
   "outputs": [],
   "source": []
  }
 ],
 "metadata": {
  "kernelspec": {
   "display_name": "Python 3 (ipykernel)",
   "language": "python",
   "name": "python3"
  },
  "language_info": {
   "codemirror_mode": {
    "name": "ipython",
    "version": 3
   },
   "file_extension": ".py",
   "mimetype": "text/x-python",
   "name": "python",
   "nbconvert_exporter": "python",
   "pygments_lexer": "ipython3",
   "version": "3.11.7"
  }
 },
 "nbformat": 4,
 "nbformat_minor": 5
}
