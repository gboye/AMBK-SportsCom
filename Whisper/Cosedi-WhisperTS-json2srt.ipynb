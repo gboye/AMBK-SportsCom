{
 "cells": [
  {
   "cell_type": "markdown",
   "id": "a1f001a1-109c-43c2-a45b-32ff9b4a42e5",
   "metadata": {},
   "source": [
    "# WhisperTS JSON vers SRT"
   ]
  },
  {
   "cell_type": "code",
   "execution_count": 1,
   "id": "c09e2155-f8d0-4e91-9236-d46af8e831a4",
   "metadata": {},
   "outputs": [],
   "source": [
    "import re,codecs,json,glob\n",
    "import pandas as pd"
   ]
  },
  {
   "cell_type": "code",
   "execution_count": 2,
   "id": "c1fc5f6e-0dd9-45d4-a13d-d7b32280c9e9",
   "metadata": {},
   "outputs": [
    {
     "ename": "IndexError",
     "evalue": "list index out of range",
     "output_type": "error",
     "traceback": [
      "\u001b[0;31m---------------------------------------------------------------------------\u001b[0m",
      "\u001b[0;31mIndexError\u001b[0m                                Traceback (most recent call last)",
      "Cell \u001b[0;32mIn[2], line 2\u001b[0m\n\u001b[1;32m      1\u001b[0m repJson\u001b[38;5;241m=\u001b[39m\u001b[38;5;124m\"\u001b[39m\u001b[38;5;124m/Users/gilles/sDrive/Cours/Bordeaux/L2-Corpus/Whisper/JSON/\u001b[39m\u001b[38;5;124m\"\u001b[39m\n\u001b[0;32m----> 2\u001b[0m fTranscript\u001b[38;5;241m=\u001b[39mglob\u001b[38;5;241m.\u001b[39mglob(repJson\u001b[38;5;241m+\u001b[39m\u001b[38;5;124m\"\u001b[39m\u001b[38;5;124m*.json\u001b[39m\u001b[38;5;124m\"\u001b[39m)[\u001b[38;5;241m0\u001b[39m]\n\u001b[1;32m      3\u001b[0m pause\u001b[38;5;241m=\u001b[39m\u001b[38;5;241m0.200\u001b[39m\n\u001b[1;32m      4\u001b[0m \u001b[38;5;28;01mwith\u001b[39;00m \u001b[38;5;28mopen\u001b[39m(fTranscript) \u001b[38;5;28;01mas\u001b[39;00m inFile:\n",
      "\u001b[0;31mIndexError\u001b[0m: list index out of range"
     ]
    }
   ],
   "source": [
    "repJson=\"/Users/gilles/sDrive/Cours/Bordeaux/L2-Corpus/Whisper/JSON/\"\n",
    "fTranscript=glob.glob(repJson+\"*.json\")[0]\n",
    "pause=0.200\n",
    "with open(fTranscript) as inFile:\n",
    "    whisper=json.load(inFile)"
   ]
  },
  {
   "cell_type": "code",
   "execution_count": null,
   "id": "ba3527c6-dfc9-4327-bb60-5953791ddf32",
   "metadata": {},
   "outputs": [],
   "source": [
    "def second2timestamp(seconds):\n",
    "    sHours=int(seconds/3600)\n",
    "    sMinutes=int((seconds-sHours*3600)/60)\n",
    "    sSeconds=int((seconds-sHours*3600-sMinutes*60))\n",
    "    sMilliseconds=int((seconds%1)*1000)\n",
    "    return \"%02d:%02d:%02d,%03d\"%(sHours,sMinutes,sSeconds,sMilliseconds)"
   ]
  },
  {
   "cell_type": "code",
   "execution_count": null,
   "id": "ef1cf144-e479-4a90-811f-6270f6aac2dd",
   "metadata": {},
   "outputs": [],
   "source": [
    "def timestamp2second(timestamp):\n",
    "    m=re.match(\"(\\d\\d):(\\d\\d):(\\d\\d),(\\d\\d\\d)\",timestamp)\n",
    "    if m:\n",
    "        seconds=(int(m.group(1))*60+int(m.group(2)))*60+int(m.group(3))+float(m.group(4))/1000\n",
    "        return seconds\n",
    "    else:\n",
    "        print(\"problème de timestamp\")\n",
    "        return"
   ]
  },
  {
   "cell_type": "code",
   "execution_count": null,
   "id": "1c5ca7bc-0231-4f0f-aea5-ebc067e97e2f",
   "metadata": {},
   "outputs": [],
   "source": [
    "def getWhisper(elements):\n",
    "    lElements=[]\n",
    "    if elements==\"segments\":\n",
    "        for element in whisper[elements]:\n",
    "            lElements.append((second2timestamp(element[\"start\"]),\n",
    "                              second2timestamp(element[\"end\"]),\n",
    "                              element[\"text\"],\n",
    "                              element[\"confidence\"]))\n",
    "    elif elements==\"words\":\n",
    "        for segment in whisper[\"segments\"]:\n",
    "            for element in segment[elements]:\n",
    "                lElements.append((second2timestamp(element[\"start\"]),\n",
    "                                  second2timestamp(element[\"end\"]),\n",
    "                                  element[\"text\"],\n",
    "                                  element[\"confidence\"]))        \n",
    "    return lElements"
   ]
  },
  {
   "cell_type": "code",
   "execution_count": null,
   "id": "32d66a4a-5713-4a6a-9a0f-cad48b0f0755",
   "metadata": {},
   "outputs": [],
   "source": [
    "tMots=getWhisper(\"words\")\n",
    "dfMots=pd.DataFrame(tMots,columns=\"start end mot confidence\".split(\" \"))\n",
    "dfMots"
   ]
  },
  {
   "cell_type": "code",
   "execution_count": null,
   "id": "18847ace-9803-4e14-bdd8-2ca32778fab7",
   "metadata": {},
   "outputs": [],
   "source": [
    "dfSegments=pd.DataFrame(getWhisper(\"segments\"),columns=\"start end mot confidence\".split(\" \"))\n",
    "dfSegments"
   ]
  },
  {
   "cell_type": "code",
   "execution_count": null,
   "id": "b3fbe4fd-2241-4c4a-97dc-7d1026f20ff5",
   "metadata": {},
   "outputs": [],
   "source": [
    "second2timestamp(3665.547)"
   ]
  },
  {
   "cell_type": "code",
   "execution_count": null,
   "id": "18f1c297-188a-430a-be19-48feefa0e033",
   "metadata": {},
   "outputs": [],
   "source": [
    "srtLines=[]\n",
    "for i,(start,end,mot,confidence) in enumerate(tMots):\n",
    "    n=i+1\n",
    "    srtLines.append(str(n))\n",
    "    srtLines.append(start+\" --> \"+end)\n",
    "    srtLines.append(mot)\n",
    "    srtLines.append(\"\")\n"
   ]
  },
  {
   "cell_type": "code",
   "execution_count": null,
   "id": "7f857cc6-ce0b-4dc6-b2bb-aef4037f7dc1",
   "metadata": {},
   "outputs": [],
   "source": [
    "with codecs.open(fTranscript.replace(\".json\",\"-mots.srt\"),\"w\",encoding=\"utf8\") as outFile:\n",
    "    for srtLine in srtLines:\n",
    "        outFile.write(srtLine+\"\\n\")"
   ]
  },
  {
   "cell_type": "code",
   "execution_count": null,
   "id": "c7117d9e-cc31-438e-a2b3-3ecf5f36b644",
   "metadata": {},
   "outputs": [],
   "source": [
    "srtPhrases=[]\n",
    "srtMots=[]\n",
    "bPhrase=True\n",
    "pStart=0\n",
    "pEnd=0\n",
    "for i,(start,end,mot,confidence) in enumerate(tMots):\n",
    "    \n",
    "    if bPhrase:\n",
    "        print (\"start\",start)\n",
    "        pStart=start\n",
    "        srtMots=[]\n",
    "        bPhrase=False\n",
    "    m=re.search(r\"[.?!]$\",mot)\n",
    "    if m:\n",
    "        print(\"end\",end)\n",
    "        pEnd=end\n",
    "        srtMots.append(mot)\n",
    "        pPhrase=\" \".join(srtMots)\n",
    "        srtPhrases.append((pStart,pEnd,pPhrase))\n",
    "        bPhrase=True\n",
    "    elif not bPhrase:\n",
    "        srtMots.append(mot)"
   ]
  },
  {
   "cell_type": "code",
   "execution_count": null,
   "id": "9090b869-f0f6-40b2-9d9f-53f7a207df00",
   "metadata": {},
   "outputs": [],
   "source": [
    "srtPhrases\n"
   ]
  },
  {
   "cell_type": "code",
   "execution_count": null,
   "id": "6194ccd3-62d0-4ecf-9845-addb69706f33",
   "metadata": {},
   "outputs": [],
   "source": [
    "srtPhrasesLines=[]\n",
    "for i,(start,end,phrase) in enumerate(srtPhrases):\n",
    "    n=i+1\n",
    "    srtPhrasesLines.append(str(n))\n",
    "    srtPhrasesLines.append(start+\" --> \"+end)\n",
    "    srtPhrasesLines.append(phrase)\n",
    "    srtPhrasesLines.append(\"\")\n",
    "    \n",
    "with codecs.open(fTranscript.replace(\".json\",\"-phrases.srt\"),\"w\",encoding=\"utf8\") as outFile:\n",
    "    for srtPhrasesLine in srtPhrasesLines:\n",
    "        outFile.write(srtPhrasesLine+\"\\n\")"
   ]
  },
  {
   "cell_type": "code",
   "execution_count": null,
   "id": "a892023f-fb40-436b-871a-e603b8dd3211",
   "metadata": {},
   "outputs": [],
   "source": [
    "srtTours=[]\n",
    "srtMots=[]\n",
    "bTour=True\n",
    "prevEnd=0\n",
    "pStart=0\n",
    "pEnd=0\n",
    "for i,(start,end,mot,confidence) in enumerate(tMots):\n",
    "    sStart=timestamp2second(start)\n",
    "    sEnd=timestamp2second(end)\n",
    "    if sStart-prevEnd>pause and prevEnd!=0:\n",
    "        pEnd=prevEnd\n",
    "        pTour=\" \".join(srtMots)\n",
    "        srtTours.append((pStart,pEnd,pTour))\n",
    "        pStart=sStart\n",
    "        prevEnd=sEnd\n",
    "        srtMots=[mot]\n",
    "        bPhrase=True\n",
    "    else:\n",
    "        srtMots.append(mot)\n",
    "        prevEnd=sEnd\n",
    "pTour=\" \".join(srtMots)\n",
    "srtTours.append((pStart,pEnd,pTour))"
   ]
  },
  {
   "cell_type": "code",
   "execution_count": null,
   "id": "a8742433-1b60-4302-8847-0fd29e67358d",
   "metadata": {},
   "outputs": [],
   "source": [
    "srtToursLines=[]\n",
    "for i,(start,end,phrase) in enumerate(srtTours):\n",
    "    n=i+1\n",
    "    srtToursLines.append(str(n))\n",
    "    srtToursLines.append(second2timestamp(start)+\" --> \"+second2timestamp(end))\n",
    "    srtToursLines.append(phrase)\n",
    "    srtToursLines.append(\"\")\n",
    "    \n",
    "with codecs.open(fTranscript.replace(\".json\",\"-tours.srt\"),\"w\",encoding=\"utf8\") as outFile:\n",
    "    for srtToursLine in srtToursLines:\n",
    "        outFile.write(srtToursLine+\"\\n\")"
   ]
  },
  {
   "cell_type": "code",
   "execution_count": null,
   "id": "d07eb924-6513-49be-8ac4-ab0d599222da",
   "metadata": {},
   "outputs": [],
   "source": []
  }
 ],
 "metadata": {
  "kernelspec": {
   "display_name": "Python 3 (ipykernel)",
   "language": "python",
   "name": "python3"
  },
  "language_info": {
   "codemirror_mode": {
    "name": "ipython",
    "version": 3
   },
   "file_extension": ".py",
   "mimetype": "text/x-python",
   "name": "python",
   "nbconvert_exporter": "python",
   "pygments_lexer": "ipython3",
   "version": "3.11.8"
  }
 },
 "nbformat": 4,
 "nbformat_minor": 5
}
