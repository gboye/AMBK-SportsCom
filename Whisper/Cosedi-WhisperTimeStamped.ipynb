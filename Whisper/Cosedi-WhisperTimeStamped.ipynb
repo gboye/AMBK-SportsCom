{
 "cells": [
  {
   "cell_type": "raw",
   "id": "28ea0431-9109-4f25-b64b-bbc828ca3e17",
   "metadata": {},
   "source": [
    "https://github.com/linto-ai/whisper-timestamped/issues/212"
   ]
  },
  {
   "cell_type": "code",
   "execution_count": 29,
   "id": "70d4c61b-b5e2-4e6c-b518-728a3548cef8",
   "metadata": {},
   "outputs": [
    {
     "data": {
      "text/plain": [
       "['tiny.en',\n",
       " 'tiny',\n",
       " 'base.en',\n",
       " 'base',\n",
       " 'small.en',\n",
       " 'small',\n",
       " 'medium.en',\n",
       " 'medium',\n",
       " 'large-v1',\n",
       " 'large-v2',\n",
       " 'large-v3',\n",
       " 'large']"
      ]
     },
     "execution_count": 29,
     "metadata": {},
     "output_type": "execute_result"
    }
   ],
   "source": [
    "import whisper_timestamped as whisperTS\n",
    "import json,glob\n",
    "whisperTS.available_models()\n"
   ]
  },
  {
   "cell_type": "code",
   "execution_count": 30,
   "id": "fa176b54-2c62-4f85-84a5-f2d08895486e",
   "metadata": {},
   "outputs": [],
   "source": [
    "# rep=\"/Users/gilles/pCloud Drive/FOD/GB/Copy/Recherche/Rugby/\"\n",
    "# rep=\"/Volumes/BroadExt/Datasets/Audio/Whisper/\"\n",
    "repExtraits=\"/Users/gilles/Github/AMBK-SportsCom/Whisper/Extrait/\""
   ]
  },
  {
   "cell_type": "code",
   "execution_count": 31,
   "id": "6722ab37-09d6-42f4-9243-75a3773de9f3",
   "metadata": {},
   "outputs": [],
   "source": [
    "def transcribe(audio,model,prompt,seed=1234):\n",
    "    result=whisperTS.transcribe_timestamped(model, audio, language=\"fr\", task='transcribe', remove_punctuation_from_words=False, compute_word_confidence=True, include_punctuation_in_confidence=True, refine_whisper_precision=0.1, min_word_duration=0.02, plot_word_alignment=False, word_alignement_most_top_layers=None, remove_empty_words=False, use_backend_timestamps=False, seed=seed, vad=True, detect_disfluencies=True, trust_whisper_timestamps=True, naive_approach=False, temperature=0.0, best_of=None, beam_size=None, patience=None, length_penalty=None, compression_ratio_threshold=2.4, logprob_threshold=-1.0, no_speech_threshold=0.6, fp16=None, condition_on_previous_text=True, initial_prompt=prompt, suppress_tokens='-1', sample_len=None, verbose=False)\n",
    "    return result"
   ]
  },
  {
   "cell_type": "code",
   "execution_count": 32,
   "id": "da5f43c6-4ae7-4225-8cb1-9d3d39c7bcb5",
   "metadata": {},
   "outputs": [
    {
     "name": "stderr",
     "output_type": "stream",
     "text": [
      "/opt/anaconda3/lib/python3.11/site-packages/whisper/__init__.py:146: FutureWarning: You are using `torch.load` with `weights_only=False` (the current default value), which uses the default pickle module implicitly. It is possible to construct malicious pickle data which will execute arbitrary code during unpickling (See https://github.com/pytorch/pytorch/blob/main/SECURITY.md#untrusted-models for more details). In a future release, the default value for `weights_only` will be flipped to `True`. This limits the functions that could be executed during unpickling. Arbitrary objects will no longer be allowed to be loaded via this mode unless they are explicitly allowlisted by the user via `torch.serialization.add_safe_globals`. We recommend you start setting `weights_only=True` for any use case where you don't have full control of the loaded file. Please open an issue on GitHub for any issues related to this experimental feature.\n",
      "  checkpoint = torch.load(fp, map_location=device)\n"
     ]
    }
   ],
   "source": [
    "model = whisperTS.load_model(\"large-v3\", device=\"cpu\")"
   ]
  },
  {
   "cell_type": "code",
   "execution_count": 33,
   "id": "15ebbcf8-e2df-4608-b16f-2e36922edd8c",
   "metadata": {},
   "outputs": [],
   "source": [
    "suggestions=\"mêlée, demi de mêlée, coup de main, coup de pied, maul, touche, au sol, plaquage, pick and go ! l'équipe de France, chef d'oeuvre, bœuf, prise à deux mains. Augustin Pichot, David Skrela, Albacete, Lobbe, Cédric Heymans, Mario Ledesma, Hernandez, Spreadbury, Raphaël Ibañez, Rémi Martin, Dominici, Mignoni, de Villiers, Marc-Antoine Jamet, Felipe Contepomi, Roncero, Nani Corleto, Imanol Harinordoquy, Lucas Borges\""
   ]
  },
  {
   "cell_type": "code",
   "execution_count": 34,
   "id": "24ddbf72-6796-46a1-a48d-88e670611ec5",
   "metadata": {},
   "outputs": [
    {
     "name": "stderr",
     "output_type": "stream",
     "text": [
      "100%|████████████████████████████████| 10872/10872 [01:19<00:00, 137.01frames/s]\n",
      "100%|████████████████████████████████| 10874/10874 [01:17<00:00, 139.56frames/s]\n",
      "100%|████████████████████████████████| 10091/10091 [01:11<00:00, 141.80frames/s]\n",
      "100%|████████████████████████████████| 10861/10861 [01:19<00:00, 136.18frames/s]\n",
      "100%|████████████████████████████████| 11997/11997 [01:24<00:00, 141.69frames/s]\n",
      "100%|████████████████████████████████| 11577/11577 [01:36<00:00, 120.30frames/s]\n",
      "100%|████████████████████████████████| 10369/10369 [01:21<00:00, 126.60frames/s]\n",
      "100%|████████████████████████████████| 10123/10123 [01:12<00:00, 139.20frames/s]\n",
      "100%|████████████████████████████████| 10210/10210 [01:21<00:00, 125.32frames/s]\n",
      "100%|████████████████████████████████| 10623/10623 [01:13<00:00, 144.40frames/s]\n",
      "100%|████████████████████████████████| 11419/11419 [01:24<00:00, 134.36frames/s]\n",
      "100%|████████████████████████████████| 10663/10663 [01:24<00:00, 126.71frames/s]\n",
      "100%|██████████████████████████████████| 9319/9319 [01:17<00:00, 120.95frames/s]\n",
      "100%|████████████████████████████████| 11116/11116 [01:38<00:00, 112.51frames/s]\n",
      "100%|████████████████████████████████| 11320/11320 [01:31<00:00, 123.65frames/s]\n",
      "100%|████████████████████████████████| 10816/10816 [01:33<00:00, 116.28frames/s]\n",
      "100%|████████████████████████████████| 10390/10390 [01:29<00:00, 115.78frames/s]\n",
      "100%|████████████████████████████████| 10951/10951 [01:31<00:00, 119.12frames/s]\n",
      "100%|████████████████████████████████| 11192/11192 [01:28<00:00, 126.49frames/s]\n",
      "100%|████████████████████████████████| 10961/10961 [01:27<00:00, 125.32frames/s]\n",
      "100%|████████████████████████████████| 11387/11387 [01:30<00:00, 125.46frames/s]\n",
      "100%|████████████████████████████████| 11717/11717 [01:40<00:00, 117.11frames/s]\n",
      "100%|████████████████████████████████| 11283/11283 [01:25<00:00, 131.47frames/s]\n",
      "100%|████████████████████████████████| 11354/11354 [01:05<00:00, 172.66frames/s]\n",
      "100%|████████████████████████████████| 11257/11257 [01:33<00:00, 119.89frames/s]\n",
      "100%|████████████████████████████████| 11020/11020 [01:29<00:00, 123.78frames/s]\n",
      "100%|█████████████████████████████████| 10954/10954 [01:58<00:00, 92.64frames/s]\n",
      "100%|████████████████████████████████| 10748/10748 [01:18<00:00, 136.92frames/s]\n",
      "100%|████████████████████████████████| 11181/11181 [01:28<00:00, 126.92frames/s]\n",
      "100%|████████████████████████████████| 11075/11075 [01:28<00:00, 124.52frames/s]\n",
      "100%|██████████████████████████████████| 9780/9780 [01:29<00:00, 109.33frames/s]\n",
      "100%|██████████████████████████████████| 9389/9389 [01:27<00:00, 107.71frames/s]\n",
      "100%|████████████████████████████████| 11876/11876 [01:33<00:00, 127.01frames/s]\n",
      "100%|████████████████████████████████| 11334/11334 [01:28<00:00, 127.84frames/s]\n",
      "100%|████████████████████████████████| 10237/10237 [01:35<00:00, 106.90frames/s]\n",
      "100%|████████████████████████████████| 10114/10114 [01:30<00:00, 111.49frames/s]\n",
      "100%|████████████████████████████████| 10998/10998 [01:28<00:00, 124.30frames/s]\n",
      "100%|████████████████████████████████| 11516/11516 [01:44<00:00, 110.19frames/s]\n",
      "100%|████████████████████████████████| 11544/11544 [01:33<00:00, 123.08frames/s]\n",
      "100%|████████████████████████████████| 11632/11632 [01:36<00:00, 120.84frames/s]\n",
      "100%|████████████████████████████████| 11237/11237 [01:28<00:00, 127.11frames/s]\n",
      "100%|████████████████████████████████| 10618/10618 [01:29<00:00, 118.55frames/s]\n",
      "100%|████████████████████████████████| 10966/10966 [01:29<00:00, 122.65frames/s]\n",
      "100%|████████████████████████████████| 10731/10731 [01:21<00:00, 132.33frames/s]\n",
      "100%|██████████████████████████████████| 9073/9073 [01:06<00:00, 136.52frames/s]\n"
     ]
    }
   ],
   "source": [
    "for num in range(45):\n",
    "    audio=whisperTS.load_audio(repExtraits+\"extrait-%02d.wav\"%num)\n",
    "    transcription=transcribe(audio,model,suggestions)\n",
    "    with open(repExtraits+\"Transcripts/extrait-%02d.json\"%num,\"w\") as outFile:\n",
    "        outFile.write(json.dumps(transcription, indent = 2, ensure_ascii = False))"
   ]
  },
  {
   "cell_type": "raw",
   "id": "2a4aaec6-3bfa-4cb0-9385-a8e8372f26ea",
   "metadata": {},
   "source": [
    "num=0\n",
    "audio=whisperTS.load_audio(repExtraits+\"extrait-%02d.wav\"%num)\n",
    "transcription=transcribe(audio,model,suggestions,seed=314)\n",
    "with open(repExtraits+\"Transcripts/extrait-%02d.json\"%num,\"w\") as outFile:\n",
    "    outFile.write(json.dumps(transcription, indent = 2, ensure_ascii = False))"
   ]
  },
  {
   "cell_type": "raw",
   "id": "caa157ab-7e15-4539-b482-821e64b7dd15",
   "metadata": {},
   "source": [
    "rep=\"/Users/gilles/pCloud Drive/FOD/GB/Copy/Recherche/Rugby/\"\n",
    "\n",
    "audio=whisperTS.load_audio(rep+\"France_Argentine_match.wav\")"
   ]
  }
 ],
 "metadata": {
  "kernelspec": {
   "display_name": "Python 3 (ipykernel)",
   "language": "python",
   "name": "python3"
  },
  "language_info": {
   "codemirror_mode": {
    "name": "ipython",
    "version": 3
   },
   "file_extension": ".py",
   "mimetype": "text/x-python",
   "name": "python",
   "nbconvert_exporter": "python",
   "pygments_lexer": "ipython3",
   "version": "3.11.7"
  }
 },
 "nbformat": 4,
 "nbformat_minor": 5
}
