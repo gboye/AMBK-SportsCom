{
 "cells": [
  {
   "cell_type": "code",
   "execution_count": null,
   "id": "70d4c61b-b5e2-4e6c-b518-728a3548cef8",
   "metadata": {},
   "outputs": [],
   "source": [
    "import whisper_timestamped as whisper\n",
    "import json"
   ]
  },
  {
   "cell_type": "code",
   "execution_count": null,
   "id": "bc0eba12-20dc-4ef9-82b2-4fa8a2a4a3ad",
   "metadata": {},
   "outputs": [],
   "source": [
    "audio=whisper.load_audio(\"0.wav\")\n",
    "model = whisper.load_model(\"tiny\", device=\"cpu\")\n",
    "result = whisper.transcribe(model, audio, language=\"fr\")\n",
    "print(json.dumps(result, indent = 2, ensure_ascii = False))"
   ]
  }
 ],
 "metadata": {
  "kernelspec": {
   "display_name": "Python 3 (ipykernel)",
   "language": "python",
   "name": "python3"
  },
  "language_info": {
   "codemirror_mode": {
    "name": "ipython",
    "version": 3
   },
   "file_extension": ".py",
   "mimetype": "text/x-python",
   "name": "python",
   "nbconvert_exporter": "python",
   "pygments_lexer": "ipython3",
   "version": "3.9.18"
  }
 },
 "nbformat": 4,
 "nbformat_minor": 5
}
