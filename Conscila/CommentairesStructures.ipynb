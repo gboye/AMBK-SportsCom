{
 "cells": [
  {
   "cell_type": "code",
   "execution_count": 8,
   "metadata": {
    "collapsed": true
   },
   "outputs": [],
   "source": [
    "import pandas as pd"
   ]
  },
  {
   "cell_type": "code",
   "execution_count": 1,
   "metadata": {
    "collapsed": true
   },
   "outputs": [],
   "source": [
    "repertoireDonnees=\"/Users/gilles/Copy/Recherche/Rugby/CMLF2014/Présentation CMLF/Graphes/\""
   ]
  },
  {
   "cell_type": "code",
   "execution_count": null,
   "metadata": {
    "collapsed": true
   },
   "outputs": [],
   "source": [
    "with open(repertoireDonnees+\"ActionsStructures.csv\", \"r\") as input:\n",
    "    donnees=input.readlines()"
   ]
  },
  {
   "cell_type": "code",
   "execution_count": 16,
   "metadata": {
    "collapsed": false
   },
   "outputs": [],
   "source": [
    "donnees=pd.read_csv(\n",
    "    filepath_or_buffer=repertoireDonnees+\"ActionsStructures.csv\", \n",
    "    sep='\\t', header=None,\n",
    "    names=[\"Action\",\"Structure\",\"nb\"],\n",
    "    encoding=\"utf8\")"
   ]
  },
  {
   "cell_type": "code",
   "execution_count": 6,
   "metadata": {
    "collapsed": true
   },
   "outputs": [],
   "source": [
    "for num,ligne in enumerate(donnees):\n",
    "    donnees[num]=ligne.strip().split(\"\\t\")"
   ]
  },
  {
   "cell_type": "code",
   "execution_count": 26,
   "metadata": {
    "collapsed": false
   },
   "outputs": [
    {
     "data": {
      "text/plain": [
       "Structure\n",
       "SansCommentaire    970\n",
       "adj                  2\n",
       "dd                  12\n",
       "ddx2                 1\n",
       "dg                   4\n",
       "gn                  19\n",
       "gngp                15\n",
       "gninf                3\n",
       "gnpp                 4\n",
       "gnpppar              9\n",
       "gnppà                1\n",
       "gnqui                9\n",
       "gp                  19\n",
       "gpgp                 8\n",
       "gppppar              1\n",
       "gpqui                2\n",
       "gpx                  1\n",
       "inf                 11\n",
       "n                    5\n",
       "navecx               2\n",
       "ndex                 2\n",
       "ngp                  6\n",
       "npourx               4\n",
       "npp                  3\n",
       "npppar               6\n",
       "npppargnqui          1\n",
       "npppour              2\n",
       "nppsur               2\n",
       "nqui                 2\n",
       "nx                   2\n",
       "pc                  24\n",
       "pp                   3\n",
       "ppgn                 1\n",
       "pppar                7\n",
       "ppparxqui            1\n",
       "ppst                 4\n",
       "ppx                  2\n",
       "prepx               64\n",
       "prepxgp              2\n",
       "prepxinf             1\n",
       "prepxpppar           1\n",
       "prepxqui            19\n",
       "svo                 88\n",
       "x                  134\n",
       "xadj                 1\n",
       "xgp                 13\n",
       "xgpqui               1\n",
       "xpourx               7\n",
       "xpp                  3\n",
       "xprepx              10\n",
       "xqui                27\n",
       "Name: nb, dtype: int64"
      ]
     },
     "execution_count": 26,
     "metadata": {},
     "output_type": "execute_result"
    }
   ],
   "source": [
    "donnees[~donnees[\"Structure\"].str.contains(\";|bis\")].groupby(\"Structure\")[\"nb\"].sum()"
   ]
  }
 ],
 "metadata": {
  "kernelspec": {
   "display_name": "Python 2",
   "language": "python",
   "name": "python2"
  },
  "language_info": {
   "codemirror_mode": {
    "name": "ipython",
    "version": 2
   },
   "file_extension": ".py",
   "mimetype": "text/x-python",
   "name": "python",
   "nbconvert_exporter": "python",
   "pygments_lexer": "ipython2",
   "version": "2.7.11"
  }
 },
 "nbformat": 4,
 "nbformat_minor": 0
}
