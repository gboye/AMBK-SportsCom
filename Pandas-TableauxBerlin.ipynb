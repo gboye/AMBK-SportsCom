{
 "metadata": {
  "name": "",
  "signature": "sha256:9fd1598de8a18a03ccc436bce23ad1af908dbbe051c8488c40e51b12efb67bf7"
 },
 "nbformat": 3,
 "nbformat_minor": 0,
 "worksheets": [
  {
   "cells": [
    {
     "cell_type": "markdown",
     "metadata": {},
     "source": [
      "#Traitement des informations sur la ligne de temps"
     ]
    },
    {
     "cell_type": "markdown",
     "metadata": {},
     "source": [
      "Importation des modules\n",
      "\n",
      "- pandas pour la gestion des csv et les calculs type excel\n",
      "- numpy pour les calculs en g\u00e9n\u00e9ral\n",
      "- matplotlib pour les graphiques"
     ]
    },
    {
     "cell_type": "code",
     "collapsed": false,
     "input": [
      "%matplotlib inline\n",
      "import pandas as pd\n",
      "import numpy as np\n",
      "import matplotlib.pyplot as plt\n",
      "import scipy, datetime\n",
      "import io\n",
      "\n",
      "# actions per time interval:\n",
      "timeinterval=5.0\n",
      "before=timeinterval/2 # time before in secs\n",
      "after=timeinterval/2  # time after in secs \n",
      "\n",
      "# plages de rythme :\n",
      "rythme1=3\n",
      "rythme2=6"
     ],
     "language": "python",
     "metadata": {},
     "outputs": [],
     "prompt_number": 1
    },
    {
     "cell_type": "code",
     "collapsed": false,
     "input": [
      "def very_deep_copy(self):\n",
      "    return pd.DataFrame(self.values.copy(), self.index.copy(), self.columns.copy())\n",
      "pd.DataFrame.very_deep_copy = very_deep_copy"
     ],
     "language": "python",
     "metadata": {},
     "outputs": [],
     "prompt_number": 2
    },
    {
     "cell_type": "markdown",
     "metadata": {},
     "source": [
      "###Lecture des fichiers csv dans une DataFrame\n",
      "\n",
      "- *Match* pour le fichier issu du traitement Rythme sur les actions et correspondances\n",
      "- *Syntaxe* pour le fichier issu du traitement syntaxique de la transcription\n"
     ]
    },
    {
     "cell_type": "code",
     "collapsed": false,
     "input": [
      "Match=pd.read_csv(\"/Users/gilles/Downloads/CorrespondancesEvActionsCommALL-GB-Rythme.csv\",sep=\";\")"
     ],
     "language": "python",
     "metadata": {},
     "outputs": [],
     "prompt_number": 3
    },
    {
     "cell_type": "code",
     "collapsed": false,
     "input": [
      "Syntaxe=pd.read_csv(\"/Users/gilles/Downloads/RugbyFrance_Argentine_Annot_Revised-140701-GB.csv\",sep=\",\")"
     ],
     "language": "python",
     "metadata": {},
     "outputs": [],
     "prompt_number": 4
    },
    {
     "cell_type": "markdown",
     "metadata": {},
     "source": [
      "###Mise en forme des champs de Match\n",
      "\n",
      "- Conversion des champs D\u00e9but et Fin en datetime\n",
      "- Nettoyage des champs textes pour supprimer les blancs en trop\n",
      "- Mise en place de l'index temporel"
     ]
    },
    {
     "cell_type": "code",
     "collapsed": false,
     "input": [
      "Match['D\u00e9but']=pd.to_datetime(Match['D\u00e9but'])\n",
      "Match['Fin']=pd.to_datetime(Match['Fin'])\n",
      "\n",
      "Match['NrAction']=Match['NrAction'].str.strip()\n",
      "Match['Action']=Match['Action'].str.strip()\n",
      "Match['Ev\u00e9nement']=Match['Ev\u00e9nement'].str.strip()\n",
      "Match['RefCommentaire']=Match['RefCommentaire'].str.strip()\n",
      "Match['Commentaire']=Match['Commentaire'].str.strip()\n",
      "Match[\"Structure\"]=Match[\"Structure\"].str.lower().str.strip()\n",
      "\n",
      "Match=Match.set_index(pd.DatetimeIndex(Match['D\u00e9but']))"
     ],
     "language": "python",
     "metadata": {},
     "outputs": [],
     "prompt_number": 5
    },
    {
     "cell_type": "markdown",
     "metadata": {},
     "source": [
      "###Mise en forme des champs de Syntaxe\n",
      "\n",
      "- Nettoyage des champs textes\n",
      "- Elimination des lignes vides"
     ]
    },
    {
     "cell_type": "code",
     "collapsed": false,
     "input": [
      "Syntaxe['Commentaire']=Syntaxe['Commentaire'].str.strip()\n",
      "Syntaxe=Syntaxe.dropna()"
     ],
     "language": "python",
     "metadata": {},
     "outputs": [],
     "prompt_number": 6
    },
    {
     "cell_type": "markdown",
     "metadata": {},
     "source": [
      "###Faire la liste des Commentaires dans Syntaxe\n",
      "La liste permettra de rapprocher les donn\u00e9es de Syntaxe de celles de Match via la colonne Commentaire"
     ]
    },
    {
     "cell_type": "code",
     "collapsed": false,
     "input": [
      "refsSyn=list(Syntaxe.Commentaire.values)"
     ],
     "language": "python",
     "metadata": {},
     "outputs": [],
     "prompt_number": 7
    },
    {
     "cell_type": "markdown",
     "metadata": {},
     "source": [
      "###Interpoloation de RythmeAction et ajout de Speaker et R\u00e9partitionSPK\n",
      "\n",
      "- interpolate(method='time') fonctionne sur l'\u00e9chelle de l'index (identique \u00e0 D\u00e9but)\n",
      "- str.split() fonctionne comme un split() mais sur une colonne, on obtient les \u00e9l\u00e9ments avec str.get()\n",
      "- str.lower() comme lower() sur une colonne\n"
     ]
    },
    {
     "cell_type": "code",
     "collapsed": false,
     "input": [
      "#Match['Dur\u00e9e']=Match['Fin']-Match['D\u00e9but']\n",
      "Match['RythmeAction']=Match['RythmeAction'].interpolate(method='time')\n",
      "Match['Speaker']=Match['Commentaire'].str.split(\"-\",1).str.get(0).str.lower().str.strip()\n",
      "\n",
      "def repartitionSPK(row):\n",
      "    duree=(row['Fin']-row['D\u00e9but']).total_seconds()\n",
      "    if duree>before+after:\n",
      "        if row['Speaker']==\"spk1\":\n",
      "            return \"1;0;0;0\"\n",
      "        elif row['Speaker']==\"spk2\":\n",
      "            return \"0;1;0;0\"\n",
      "        elif row['Speaker']==\"spk3\":\n",
      "            return \"0;0;1;0\"\n",
      "        elif row['Speaker']==\"\":\n",
      "            return \"0;0;0;1\"\n",
      "        else:\n",
      "            return \"0;0;0;0\"\n",
      "    else:\n",
      "        addBefore=before-duree/2\n",
      "        addAfter=after-duree/2\n",
      "        Extrait=Match.loc[(Match[\"D\u00e9but\"]>=row[\"D\u00e9but\"]-datetime.timedelta(seconds=int(addBefore)))&(Match[\"Fin\"]<=row[\"Fin\"]+datetime.timedelta(seconds=int(addAfter)))]\n",
      "        nbSpk1=Extrait.loc[Extrait[\"Speaker\"]==\"spk1\"][\"Speaker\"].count()\n",
      "        nbSpk2=Extrait.loc[Extrait[\"Speaker\"]==\"spk2\"][\"Speaker\"].count()\n",
      "        nbSpk3=Extrait.loc[Extrait[\"Speaker\"]==\"spk3\"][\"Speaker\"].count()\n",
      "        nbNoComment=Extrait.loc[Extrait[\"Speaker\"].isnull()][\"Speaker\"].shape[0]\n",
      "        return \"%d;%d;%d;%d\" %(nbSpk1,nbSpk2,nbSpk3,nbNoComment)\n",
      "Match['R\u00e9partitionSPK']=Match.apply(repartitionSPK, axis=1)"
     ],
     "language": "python",
     "metadata": {},
     "outputs": [],
     "prompt_number": 8
    },
    {
     "cell_type": "markdown",
     "metadata": {},
     "source": [
      "###D\u00e9composition de la r\u00e9partition en 4 colonnes"
     ]
    },
    {
     "cell_type": "code",
     "collapsed": false,
     "input": [
      "Match[\"R\u00e9partitionSpk1\"]=Match['R\u00e9partitionSPK'].str.split(\";\").str.get(0).astype(int)\n",
      "Match[\"R\u00e9partitionSpk2\"]=Match['R\u00e9partitionSPK'].str.split(\";\").str.get(1).astype(int)\n",
      "Match[\"R\u00e9partitionSpk3\"]=Match['R\u00e9partitionSPK'].str.split(\";\").str.get(2).astype(int)\n",
      "Match[\"R\u00e9partitionNoComm\"]=Match['R\u00e9partitionSPK'].str.split(\";\").str.get(3).astype(int)"
     ],
     "language": "python",
     "metadata": {},
     "outputs": [],
     "prompt_number": 9
    },
    {
     "cell_type": "markdown",
     "metadata": {},
     "source": [
      "###S\u00e9paration des donn\u00e9es en deux tables\n",
      "\n",
      "- Actions pour les calculs sur les actions\n",
      "- Commentaires pour les calculs sur les commentaires"
     ]
    },
    {
     "cell_type": "code",
     "collapsed": false,
     "input": [
      "Actions=Match[Match.Action.notnull()]\n",
      "Commentaires=Match[Match.Commentaire.notnull()]"
     ],
     "language": "python",
     "metadata": {},
     "outputs": [],
     "prompt_number": 10
    },
    {
     "cell_type": "markdown",
     "metadata": {},
     "source": [
      "###Mise en forme de Actions\n",
      "\n",
      "- Ajout de colonnes \n",
      " - NrEv\u00e9nement \n",
      " - Ev\u00e9nement\n",
      " - NrAction \n",
      " - SpkCommentaire : r\u00e9f\u00e9rence du commentaire de l'action\n",
      "- Remplissage des vides de SpkCommentaire avec \"SansCommentaire\""
     ]
    },
    {
     "cell_type": "code",
     "collapsed": false,
     "input": [
      "Actions=Actions.drop('Commentaire',1)\n",
      "Actions=Actions.drop('ActionsAvant',1)\n",
      "Actions=Actions.drop('ActionsApr\u00e8s',1)\n",
      "Actions['NrEv\u00e9nement']=Actions['Ev\u00e9nement'].str.split(\" \",1).str.get(0).str.strip()\n",
      "Actions['Ev\u00e9nement']=Actions['Ev\u00e9nement'].str.split(\" \",1).str.get(1).str.strip()\n",
      "Actions['NrAction']=Actions['NrAction'].str.split(\" \",1).str.get(0).str.strip()\n",
      "Actions['SpkCommentaire']=Actions['RefCommentaire'].str.split(\"-\",1).str.get(0).str.strip()\n",
      "Actions['SpkCommentaire']=Actions['SpkCommentaire'].fillna(\"SansCommentaire\")"
     ],
     "language": "python",
     "metadata": {},
     "outputs": [],
     "prompt_number": 11
    },
    {
     "cell_type": "markdown",
     "metadata": {},
     "source": [
      "###Calcul des r\u00e9f\u00e9rences multiples de RefCommentaire\n",
      "\n",
      "Certaines r\u00e9f\u00e9rences contiennent plusieurs num\u00e9ros de commentaire s\u00e9par\u00e9es par des virgules"
     ]
    },
    {
     "cell_type": "code",
     "collapsed": false,
     "input": [
      "refsTemp=list(Actions.RefCommentaire.values)\n",
      "Refs=[]\n",
      "for ref in refsTemp:\n",
      "    if isinstance(ref, basestring):\n",
      "        if \",\" in ref:\n",
      "            temps=ref.split(\",\")\n",
      "            for temp in temps:\n",
      "                Refs.append(temp.strip())\n",
      "        else:\n",
      "            Refs.append(ref)"
     ],
     "language": "python",
     "metadata": {},
     "outputs": [],
     "prompt_number": 12
    },
    {
     "cell_type": "markdown",
     "metadata": {},
     "source": [
      "###Mise en forme de Commentaires\n",
      "\n",
      "- Elimination des colonnes inutiles\n",
      "- Calcul du RythmeArrondi\n",
      "- Calcul de la r\u00e9f\u00e9rence du Commentaire et de son texte"
     ]
    },
    {
     "cell_type": "code",
     "collapsed": false,
     "input": [
      "Commentaires=Commentaires.drop('Ev\u00e9nement',1)\n",
      "Commentaires=Commentaires.drop('NrAction',1)\n",
      "Commentaires=Commentaires.drop('Action',1)\n",
      "Commentaires=Commentaires.drop('ActionsAvant',1)\n",
      "Commentaires=Commentaires.drop('ActionsApr\u00e8s',1)\n",
      "Commentaires[\"RythmeArrondi\"]=np.round(Commentaires[\"RythmeAction\"],0)\n",
      "Commentaires['RefCommentaire']=Commentaires['Commentaire'].str.split(\" \",1).str.get(0).str.strip()\n",
      "Commentaires['Text']=Commentaires['Commentaire'].str.split(\" \",1).str.get(1).str.strip()\n",
      "#Commentaires['Longueur']=Commentaires['Text'].str.len()"
     ],
     "language": "python",
     "metadata": {},
     "outputs": [],
     "prompt_number": 13
    },
    {
     "cell_type": "markdown",
     "metadata": {},
     "source": [
      "###Calcul du type \"action\" vs \"compl\u00e9mentaire\" pour Commentaires['Type']\n",
      "\n",
      "- si la r\u00e9f\u00e9rence du commentaire est dans la liste des r\u00e9f\u00e9rences *Refs*\n",
      " - alors c'est un commentaire pour une action => \"action\"\n",
      " - sinon c'est du discours compl\u00e9mentaire => \"compl\u00e9ment\""
     ]
    },
    {
     "cell_type": "code",
     "collapsed": false,
     "input": [
      "def typeCommentaire(row):\n",
      "    if row['RefCommentaire'] in Refs:\n",
      "#        return \"action-\"+row['Speaker']\n",
      "        return \"action\"\n",
      "    else:\n",
      "#        return \"compl\u00e9mentaire-\"+row['Speaker']\n",
      "        return \"compl\u00e9mentaire\"\n",
      "Commentaires['Type']=Commentaires.apply(typeCommentaire, axis=1)"
     ],
     "language": "python",
     "metadata": {},
     "outputs": [],
     "prompt_number": 14
    },
    {
     "cell_type": "markdown",
     "metadata": {},
     "source": [
      "###Rapprochement entre Syntaxe et Commentaires\n",
      "\n",
      "- si pour la ligne courante *row*, le contenu *row['Text']* est dans la liste des commentaires annot\u00e9s syntaxiquement\n",
      " - alors ajouter l'information \u00e0 la colonne\n",
      " - sinon rien"
     ]
    },
    {
     "cell_type": "code",
     "collapsed": false,
     "input": [
      "def nbsyllabes(row):\n",
      "    if row['Text'] in refsSyn:\n",
      "        return Syntaxe.loc[Syntaxe[\"Commentaire\"]==row['Text']][\"NbSyllabes\"].values[0]\n",
      "    else:\n",
      "        return \"\"\n",
      "Commentaires['NbSyllabes']=Commentaires.apply(nbsyllabes, axis=1)\n",
      "def nbmots(row):\n",
      "    if row['Text'] in refsSyn:\n",
      "        return Syntaxe.loc[Syntaxe[\"Commentaire\"]==row['Text']][\"NbMots\"].values[0]\n",
      "    else:\n",
      "        return \"\"\n",
      "Commentaires['NbMots']=Commentaires.apply(nbmots, axis=1)\n",
      "def nbmots(row):\n",
      "    if row['Text'] in refsSyn:\n",
      "        return Syntaxe.loc[Syntaxe[\"Commentaire\"]==row['Text']][\"NbMots\"].values[0]\n",
      "    else:\n",
      "        return \"\"\n",
      "Commentaires['NbMots']=Commentaires.apply(nbmots, axis=1)\n",
      "def debit(row):\n",
      "    if row['Text'] in refsSyn:\n",
      "        return Syntaxe.loc[Syntaxe[\"Commentaire\"]==row['Text']][\"D\u00e9bit\"].values[0]\n",
      "    else:\n",
      "        return \"\"\n",
      "Commentaires['D\u00e9bit']=Commentaires.apply(debit, axis=1)\n",
      "def nbverbes(row):\n",
      "    if row['Text'] in refsSyn:\n",
      "        return Syntaxe.loc[Syntaxe[\"Commentaire\"]==row['Text']][\"NbVerbes\"].values[0]\n",
      "    else:\n",
      "        return \"\"\n",
      "Commentaires['NbVerbes']=Commentaires.apply(nbverbes, axis=1)\n",
      "def nbnoms(row):\n",
      "    if row['Text'] in refsSyn:\n",
      "        return Syntaxe.loc[Syntaxe[\"Commentaire\"]==row['Text']][\"NbNoms\"].values[0]\n",
      "    else:\n",
      "        return \"\"\n",
      "Commentaires['NbNoms']=Commentaires.apply(nbnoms, axis=1)\n",
      "def deco(row):\n",
      "    if row['Text'] in refsSyn:\n",
      "        return Syntaxe.loc[Syntaxe[\"Commentaire\"]==row['Text']][\"DeCo\"].values[0]\n",
      "    else:\n",
      "        return \"\"\n",
      "Commentaires['DeCo']=Commentaires.apply(deco, axis=1)"
     ],
     "language": "python",
     "metadata": {},
     "outputs": [],
     "prompt_number": 15
    },
    {
     "cell_type": "markdown",
     "metadata": {},
     "source": [
      "###Exportation des donn\u00e9es pour les tableaux"
     ]
    },
    {
     "cell_type": "markdown",
     "metadata": {},
     "source": [
      "####Tableaux g\u00e9n\u00e9raux"
     ]
    },
    {
     "cell_type": "code",
     "collapsed": false,
     "input": [
      "Actions.to_csv(\"/Users/gilles/Downloads/Actions.csv\", sep='\\t', encoding='utf-8')\n",
      "Commentaires.to_csv(\"/Users/gilles/Downloads/Commentaires.csv\", sep='\\t', encoding='utf-8')\n",
      "Match.to_csv(\"/Users/gilles/Downloads/Match.csv\", sep='\\t', encoding='utf-8')"
     ],
     "language": "python",
     "metadata": {},
     "outputs": [],
     "prompt_number": 16
    },
    {
     "cell_type": "markdown",
     "metadata": {},
     "source": [
      "####Tableau Rythme"
     ]
    },
    {
     "cell_type": "code",
     "collapsed": false,
     "input": [
      "Rythme=Match[[\"D\u00e9but\",\"RythmeAction\",\"R\u00e9partitionSpk1\",\"R\u00e9partitionSpk2\",\"R\u00e9partitionSpk3\",\"R\u00e9partitionNoComm\"]]\n",
      "Rythme.to_csv(\"/Users/gilles/Downloads/TempsRythmeSpeaker.csv\", sep='\\t', encoding='utf-8')"
     ],
     "language": "python",
     "metadata": {},
     "outputs": [],
     "prompt_number": 17
    },
    {
     "cell_type": "markdown",
     "metadata": {},
     "source": [
      "####Tableau ActionsSpeakers\n",
      "\n",
      "- extraction des trois plages de rythme\n",
      " - Rythme1 : RythmeAction <=rythme1\n",
      " - Rythme2 : rythme1 < RythmeAction <=rythme2\n",
      " - Rythme3 : rythme2 < RythmeAction"
     ]
    },
    {
     "cell_type": "code",
     "collapsed": false,
     "input": [
      "ActionsSpeakers=pd.DataFrame(columns=[\"Rythme1\",\"Rythme2\",\"Rythme3\"])\n",
      "ActionsSpeakers[\"Rythme1\"]=Actions.loc[Actions[\"RythmeAction\"]<=rythme1].groupby([\"Action\",\"SpkCommentaire\"]).size()\n",
      "ActionsSpeakers[\"Rythme2\"]=Actions.loc[(Actions[\"RythmeAction\"]>rythme1) & (Actions[\"RythmeAction\"]<=rythme2)].groupby([\"Action\",\"SpkCommentaire\"]).size()\n",
      "ActionsSpeakers[\"Rythme3\"]=Actions.loc[Actions[\"RythmeAction\"]>rythme2].groupby([\"Action\",\"SpkCommentaire\"]).size()\n",
      "ActionsSpeakers.to_csv(\"/Users/gilles/Downloads/ActionsSpeakers.csv\", sep='\\t', encoding='utf-8')"
     ],
     "language": "python",
     "metadata": {},
     "outputs": [],
     "prompt_number": 18
    },
    {
     "cell_type": "markdown",
     "metadata": {},
     "source": [
      "####Tableau RythmesSpeakers"
     ]
    },
    {
     "cell_type": "code",
     "collapsed": false,
     "input": [
      "RythmesSpeakers=Commentaires.groupby([\"RythmeArrondi\",\"Speaker\"]).size()\n",
      "RythmesSpeakers.to_csv(\"/Users/gilles/Downloads/RythmesSpeakers.csv\", sep='\\t', encoding='utf-8')"
     ],
     "language": "python",
     "metadata": {},
     "outputs": [],
     "prompt_number": 19
    },
    {
     "cell_type": "markdown",
     "metadata": {},
     "source": [
      "####Tableau RythmesStructures"
     ]
    },
    {
     "cell_type": "code",
     "collapsed": false,
     "input": [
      "RythmesStructures=pd.DataFrame(columns=[\"Rythme1\",\"Rythme2\",\"Rythme3\"])\n",
      "RythmesStructures[\"Rythme1\"]=Commentaires.loc[Commentaires[\"RythmeAction\"]<=3].groupby([\"Structure\"]).size()\n",
      "RythmesStructures[\"Rythme2\"]=Commentaires.loc[(Commentaires[\"RythmeAction\"]>3) & (Commentaires[\"RythmeAction\"]<=6)].groupby([\"Structure\"]).size()\n",
      "RythmesStructures[\"Rythme3\"]=Commentaires.loc[Commentaires[\"RythmeAction\"]>6].groupby([\"Structure\"]).size()\n",
      "RythmesStructures.to_csv(\"/Users/gilles/Downloads/RythmesStructures.csv\", sep='\\t', encoding='utf-8')"
     ],
     "language": "python",
     "metadata": {},
     "outputs": [],
     "prompt_number": 20
    },
    {
     "cell_type": "markdown",
     "metadata": {},
     "source": [
      "####Tableau ActionsStructures"
     ]
    },
    {
     "cell_type": "code",
     "collapsed": false,
     "input": [
      "ActionsStructures=Match[[\"Action\",\"RefCommentaire\"]]\n",
      "def structAction(row):\n",
      "    temp=row[\"RefCommentaire\"]\n",
      "    commentaires=str(temp).split(\",\")\n",
      "    structures=[]\n",
      "    for commentaire in commentaires:\n",
      "        if commentaire in Refs:\n",
      "            valeur=str(Commentaires.loc[Commentaires[\"RefCommentaire\"].str.lower()==commentaire][\"Structure\"].values[0]).strip()\n",
      "            if valeur!=\"nan\" and valeur!=\" \" and valeur!=\"\":\n",
      "                structures.append(valeur)\n",
      "    return \";\".join(structures)\n",
      "ActionsStructures[\"Structures\"]=ActionsStructures.apply(structAction, axis=1)\n",
      "ActionsStructures[\"RefCommentaire\"]=ActionsStructures[\"RefCommentaire\"].fillna(value=\"SansCommentaire\")\n",
      "ActionsStructures.Structures[ActionsStructures.RefCommentaire==\"SansCommentaire\"]=\"SansCommentaire\"\n",
      "ActionsStructures.groupby([\"Action\",\"Structures\"]).size().to_csv(\"/Users/gilles/Downloads/ActionsStructures.csv\", sep='\\t', encoding='utf-8')"
     ],
     "language": "python",
     "metadata": {},
     "outputs": [
      {
       "output_type": "stream",
       "stream": "stderr",
       "text": [
        "-c:13: SettingWithCopyWarning: A value is trying to be set on a copy of a slice from a DataFrame.\n",
        "Try using .loc[row_index,col_indexer] = value instead\n",
        "/Users/gilles/anaconda/lib/python2.7/site-packages/pandas/core/series.py:632: SettingWithCopyWarning: A value is trying to be set on a copy of a slice from a DataFrame\n",
        "  self.where(~key, value, inplace=True)\n"
       ]
      }
     ],
     "prompt_number": 21
    },
    {
     "cell_type": "markdown",
     "metadata": {},
     "source": [
      "####Tableau StructuresSpeakers"
     ]
    },
    {
     "cell_type": "code",
     "collapsed": false,
     "input": [
      "StructuresSpeakers=Commentaires[[\"Structure\",\"Speaker\"]]\n",
      "StructuresSpeakers.groupby([\"Structure\",\"Speaker\"]).size().to_csv(\"/Users/gilles/Downloads/StructuresSpeakers.csv\", sep='\\t', encoding='utf-8')"
     ],
     "language": "python",
     "metadata": {},
     "outputs": [],
     "prompt_number": 22
    },
    {
     "cell_type": "markdown",
     "metadata": {},
     "source": [
      "####Tableau MotsDureeSpeaker"
     ]
    },
    {
     "cell_type": "code",
     "collapsed": false,
     "input": [
      "MotsDureeSpeaker=Commentaires[[\"D\u00e9but\",\"Fin\"]]\n",
      "MotsDureeSpeaker=pd.merge(MotsDureeSpeaker,Commentaires.loc[Commentaires[\"Speaker\"].str.lower()==\"spk1\"][[\"D\u00e9but\",\"NbMots\"]],on='D\u00e9but',how='outer')\n",
      "MotsDureeSpeaker.rename(columns={\"NbMots\":\"Spk1\"},inplace=True)\n",
      "MotsDureeSpeaker=pd.merge(MotsDureeSpeaker,Commentaires.loc[Commentaires[\"Speaker\"].str.lower()==\"spk2\"][[\"D\u00e9but\",\"NbMots\"]],on='D\u00e9but',how='outer')\n",
      "MotsDureeSpeaker.rename(columns={\"NbMots\":\"Spk2\"},inplace=True)\n",
      "MotsDureeSpeaker=pd.merge(MotsDureeSpeaker,Commentaires.loc[Commentaires[\"Speaker\"].str.lower()==\"spk3\"][[\"D\u00e9but\",\"NbMots\"]],on='D\u00e9but',how='outer')\n",
      "MotsDureeSpeaker.rename(columns={\"NbMots\":\"Spk3\"},inplace=True)\n",
      "MotsDureeSpeaker.to_csv(\"/Users/gilles/Downloads/MotsDureeSpeaker.csv\", sep='\\t', encoding='utf-8')"
     ],
     "language": "python",
     "metadata": {},
     "outputs": [],
     "prompt_number": 23
    },
    {
     "cell_type": "markdown",
     "metadata": {},
     "source": [
      "####Tableau MotsDureeType"
     ]
    },
    {
     "cell_type": "code",
     "collapsed": false,
     "input": [
      "MotsDureeType=Commentaires[[\"D\u00e9but\",\"Fin\"]]\n",
      "MotsDureeType=pd.merge(MotsDureeType,Commentaires.loc[Commentaires[\"Type\"].str.lower()==\"action\"][[\"D\u00e9but\",\"NbMots\"]],on='D\u00e9but',how='outer')\n",
      "MotsDureeType.rename(columns={\"NbMots\":\"Actions\"},inplace=True)\n",
      "MotsDureeType=pd.merge(MotsDureeType,Commentaires.loc[Commentaires[\"Type\"].str.lower()==\"compl\u00e9mentaire\"][[\"D\u00e9but\",\"NbMots\"]],on='D\u00e9but',how='outer')\n",
      "MotsDureeType.rename(columns={\"NbMots\":\"Compl\u00e9ments\"},inplace=True)\n",
      "MotsDureeType.to_csv(\"/Users/gilles/Downloads/MotsDureeType.csv\", sep='\\t', encoding='utf-8')"
     ],
     "language": "python",
     "metadata": {},
     "outputs": [],
     "prompt_number": 24
    },
    {
     "cell_type": "markdown",
     "metadata": {},
     "source": [
      "#Zone d'\u00e9laboration : Run All Above"
     ]
    },
    {
     "cell_type": "code",
     "collapsed": false,
     "input": [
      "Commentaires.groupby([\"Type\",\"Structure\"]).size().to_csv(\"/Users/gilles/Downloads/TypeStructures.csv\", sep='\\t', encoding='utf-8')"
     ],
     "language": "python",
     "metadata": {},
     "outputs": [],
     "prompt_number": 41
    },
    {
     "cell_type": "code",
     "collapsed": false,
     "input": [
      "Commentaires.loc[Commentaires[\"Speaker\"].str.lower()==\"spk1\"][\"NbMots\"]"
     ],
     "language": "python",
     "metadata": {},
     "outputs": [
      {
       "metadata": {},
       "output_type": "pyout",
       "prompt_number": 25,
       "text": [
        "2014-07-17 00:12:24.600000    21\n",
        "2014-07-17 00:12:28.560000     5\n",
        "2014-07-17 00:12:34.720000     5\n",
        "2014-07-17 00:12:36.960000     5\n",
        "2014-07-17 00:12:38.960000     2\n",
        "2014-07-17 00:12:40.880000     4\n",
        "2014-07-17 00:12:42.960000     6\n",
        "2014-07-17 00:12:45.400000    16\n",
        "2014-07-17 00:12:49.480000     4\n",
        "2014-07-17 00:12:50.320000     5\n",
        "2014-07-17 00:12:51.760000     1\n",
        "2014-07-17 00:12:54.760000     3\n",
        "2014-07-17 00:12:55.640000     9\n",
        "2014-07-17 00:12:57.520000     3\n",
        "2014-07-17 00:12:59.120000     4\n",
        "...\n",
        "2014-07-17 01:49:58.060000     9\n",
        "2014-07-17 01:50:00.420000    11\n",
        "2014-07-17 01:50:02.580000     6\n",
        "2014-07-17 01:50:04.740000     3\n",
        "2014-07-17 01:50:05.980000     8\n",
        "2014-07-17 01:50:09.060000     3\n",
        "2014-07-17 01:50:10.260000     6\n",
        "2014-07-17 01:50:11.820000     3\n",
        "2014-07-17 01:50:13.220000     5\n",
        "2014-07-17 01:50:14.580000     3\n",
        "2014-07-17 01:50:16.420000     3\n",
        "2014-07-17 01:50:17.580000     3\n",
        "2014-07-17 01:50:18.340000     5\n",
        "2014-07-17 01:50:19.900000     2\n",
        "2014-07-17 01:50:20.900000     6\n",
        "Name: NbMots, Length: 1569"
       ]
      }
     ],
     "prompt_number": 25
    },
    {
     "cell_type": "code",
     "collapsed": false,
     "input": [
      "#RythmesStructures.to_csv(\"/Users/gilles/Downloads/ActionsSpeakers.csv\", sep='\\t', encoding='utf-8')"
     ],
     "language": "python",
     "metadata": {},
     "outputs": [],
     "prompt_number": 26
    },
    {
     "cell_type": "code",
     "collapsed": false,
     "input": [
      "#Match.loc[(Match['Action']!=\"\") & (Match[\"RythmeAction\"]>0)]['RythmeAction'].plot(figsize=(180,6))"
     ],
     "language": "python",
     "metadata": {},
     "outputs": [],
     "prompt_number": 27
    },
    {
     "cell_type": "markdown",
     "metadata": {},
     "source": [
      "Calcul du graphe de Longueur et Dur\u00e9e pour le spk1 en fonction du num\u00e9ro de Sync (pas de la timeline)"
     ]
    },
    {
     "cell_type": "code",
     "collapsed": false,
     "input": [
      "#Match.loc[(Match['Speaker']==\"spk2\")][[\"Dur\u00e9e\",\"RythmeAction\"]].plot(figsize=(180,6))"
     ],
     "language": "python",
     "metadata": {},
     "outputs": [],
     "prompt_number": 28
    },
    {
     "cell_type": "code",
     "collapsed": false,
     "input": [
      "#Match.loc[(Match['Action']!=\"\") & (Match[\"Ev\u00e9nement\"]==\"3 port\u00e9\")][\"RythmeAction\"].keys()[0]"
     ],
     "language": "python",
     "metadata": {},
     "outputs": [],
     "prompt_number": 29
    },
    {
     "cell_type": "code",
     "collapsed": false,
     "input": [
      "#Match.loc[(Match['Speaker']==\"spk2\")]"
     ],
     "language": "python",
     "metadata": {},
     "outputs": [],
     "prompt_number": 30
    },
    {
     "cell_type": "code",
     "collapsed": false,
     "input": [
      "#pd.rolling_mean(Match.loc[(Match['Action']!=\"\") & (Match[\"RythmeAction\"]>0)]['RythmeAction'],3).describe()"
     ],
     "language": "python",
     "metadata": {},
     "outputs": [],
     "prompt_number": 31
    },
    {
     "cell_type": "code",
     "collapsed": true,
     "input": [
      "#Extrait=Match.loc[(Match[\"D\u00e9but\"]>=Match[\"D\u00e9but\"][7]-datetime.timedelta(seconds=3))&(Match[\"Fin\"]<=Match[\"Fin\"][7]+datetime.timedelta(seconds=3))]\n",
      "#Extrait.loc[Extrait[\"Speaker\"].isnull()][\"Speaker\"].shape[0]\n"
     ],
     "language": "python",
     "metadata": {},
     "outputs": [],
     "prompt_number": 32
    },
    {
     "cell_type": "code",
     "collapsed": false,
     "input": [
      "#Commentaires[\"RythmeArrondi\"]=np.round(Commentaires[\"RythmeAction\"],0)"
     ],
     "language": "python",
     "metadata": {},
     "outputs": [],
     "prompt_number": 33
    },
    {
     "cell_type": "code",
     "collapsed": false,
     "input": [
      "#Commentaires.loc[Commentaires[\"RefCommentaire\"]==\"Spk2-071\"]"
     ],
     "language": "python",
     "metadata": {},
     "outputs": [],
     "prompt_number": 34
    },
    {
     "cell_type": "code",
     "collapsed": false,
     "input": [
      "#for name, group in Actions.groupby([\"Action\",\"Speaker\",\"RythmeAction\"]):\n",
      "#    print name[0], name[1], name[2], group.NrAction.count()"
     ],
     "language": "python",
     "metadata": {},
     "outputs": [],
     "prompt_number": 35
    },
    {
     "cell_type": "code",
     "collapsed": false,
     "input": [
      "#Match.loc[(Match['Action']!=\"\") & (Match[\"RythmeAction\"]>0)][[\"RythmeAction\",\"R\u00e9partitionNoComm\"]].plot(figsize=(180,6))"
     ],
     "language": "python",
     "metadata": {},
     "outputs": [],
     "prompt_number": 36
    },
    {
     "cell_type": "code",
     "collapsed": false,
     "input": [
      "#Commentaires"
     ],
     "language": "python",
     "metadata": {},
     "outputs": [],
     "prompt_number": 37
    },
    {
     "cell_type": "code",
     "collapsed": false,
     "input": [],
     "language": "python",
     "metadata": {},
     "outputs": [],
     "prompt_number": 37
    }
   ],
   "metadata": {}
  }
 ]
}