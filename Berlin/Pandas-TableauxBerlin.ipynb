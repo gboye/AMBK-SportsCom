{
 "cells": [
  {
   "cell_type": "markdown",
   "metadata": {},
   "source": [
    "# Traitement des informations sur la ligne de temps"
   ]
  },
  {
   "cell_type": "markdown",
   "metadata": {},
   "source": [
    "Importation des modules\n",
    "\n",
    "- pandas pour la gestion des csv et les calculs type excel\n",
    "- numpy pour les calculs en général\n",
    "- matplotlib pour les graphiques"
   ]
  },
  {
   "cell_type": "code",
   "execution_count": 1,
   "metadata": {
    "collapsed": true
   },
   "outputs": [],
   "source": [
    "%matplotlib inline\n",
    "import pandas as pd\n",
    "import numpy as np\n",
    "import matplotlib.pyplot as plt\n",
    "import scipy, datetime\n",
    "import io\n",
    "\n",
    "# actions per time interval:\n",
    "timeinterval=5.0\n",
    "before=timeinterval/2 # time before in secs\n",
    "after=timeinterval/2  # time after in secs \n",
    "\n",
    "# plages de rythme :\n",
    "rythme1=3\n",
    "rythme2=6"
   ]
  },
  {
   "cell_type": "code",
   "execution_count": 2,
   "metadata": {
    "collapsed": true
   },
   "outputs": [],
   "source": [
    "def very_deep_copy(self):\n",
    "    return pd.DataFrame(self.values.copy(), self.index.copy(), self.columns.copy())\n",
    "pd.DataFrame.very_deep_copy = very_deep_copy"
   ]
  },
  {
   "cell_type": "markdown",
   "metadata": {},
   "source": [
    "###Lecture des fichiers csv dans une DataFrame\n",
    "\n",
    "- *Match* pour le fichier issu du traitement Rythme sur les actions et correspondances\n",
    "- *Syntaxe* pour le fichier issu du traitement syntaxique de la transcription\n"
   ]
  },
  {
   "cell_type": "code",
   "execution_count": 3,
   "metadata": {
    "collapsed": true
   },
   "outputs": [],
   "source": [
    "Match=pd.read_csv(\"/Users/gilles/Downloads/CorrespondancesEvActionsCommALL-GB-Rythme.csv\",sep=\";\")"
   ]
  },
  {
   "cell_type": "code",
   "execution_count": 4,
   "metadata": {
    "collapsed": true
   },
   "outputs": [],
   "source": [
    "Syntaxe=pd.read_csv(\"/Users/gilles/Downloads/RugbyFrance_Argentine_Annot_Revised-140701-GB.csv\",sep=\",\")"
   ]
  },
  {
   "cell_type": "markdown",
   "metadata": {},
   "source": [
    "###Mise en forme des champs de Match\n",
    "\n",
    "- Conversion des champs Début et Fin en datetime\n",
    "- Nettoyage des champs textes pour supprimer les blancs en trop\n",
    "- Mise en place de l'index temporel"
   ]
  },
  {
   "cell_type": "code",
   "execution_count": 5,
   "metadata": {
    "collapsed": true
   },
   "outputs": [],
   "source": [
    "Match['Début']=pd.to_datetime(Match['Début'])\n",
    "Match['Fin']=pd.to_datetime(Match['Fin'])\n",
    "\n",
    "Match['NrAction']=Match['NrAction'].str.strip()\n",
    "Match['Action']=Match['Action'].str.strip()\n",
    "Match['Evénement']=Match['Evénement'].str.strip()\n",
    "Match['RefCommentaire']=Match['RefCommentaire'].str.strip()\n",
    "Match['Commentaire']=Match['Commentaire'].str.strip()\n",
    "Match[\"Structure\"]=Match[\"Structure\"].str.lower().str.strip()\n",
    "Match[\"Structure1\"]=Match[\"Structure1\"].str.lower().str.strip()\n",
    "Match[\"Structure2\"]=Match[\"Structure2\"].str.lower().str.strip()\n",
    "Match[\"Structure3\"]=Match[\"Structure3\"].str.lower().str.strip()\n",
    "\n",
    "Match=Match.set_index(pd.DatetimeIndex(Match['Début']))"
   ]
  },
  {
   "cell_type": "markdown",
   "metadata": {},
   "source": [
    "###Mise en forme des champs de Syntaxe\n",
    "\n",
    "- Nettoyage des champs textes\n",
    "- Elimination des lignes vides"
   ]
  },
  {
   "cell_type": "code",
   "execution_count": 6,
   "metadata": {
    "collapsed": true
   },
   "outputs": [],
   "source": [
    "Syntaxe['Commentaire']=Syntaxe['Commentaire'].str.strip()\n",
    "Syntaxe=Syntaxe.dropna()"
   ]
  },
  {
   "cell_type": "markdown",
   "metadata": {},
   "source": [
    "###Faire la liste des Commentaires dans Syntaxe\n",
    "La liste permettra de rapprocher les données de Syntaxe de celles de Match via la colonne Commentaire"
   ]
  },
  {
   "cell_type": "code",
   "execution_count": 7,
   "metadata": {
    "collapsed": true
   },
   "outputs": [],
   "source": [
    "refsSyn=list(Syntaxe.Commentaire.values)"
   ]
  },
  {
   "cell_type": "markdown",
   "metadata": {},
   "source": [
    "###Interpoloation de RythmeAction et ajout de Speaker et RépartitionSPK\n",
    "\n",
    "- interpolate(method='time') fonctionne sur l'échelle de l'index (identique à Début)\n",
    "- str.split() fonctionne comme un split() mais sur une colonne, on obtient les éléments avec str.get()\n",
    "- str.lower() comme lower() sur une colonne\n"
   ]
  },
  {
   "cell_type": "code",
   "execution_count": 8,
   "metadata": {
    "collapsed": true
   },
   "outputs": [],
   "source": [
    "#Match['Durée']=Match['Fin']-Match['Début']\n",
    "Match['RythmeAction']=Match['RythmeAction'].interpolate(method='time')\n",
    "Match['Speaker']=Match['Commentaire'].str.split(\"-\",1).str.get(0).str.lower().str.strip()\n",
    "\n",
    "def repartitionSPK(row):\n",
    "    duree=(row['Fin']-row['Début']).total_seconds()\n",
    "    if duree>before+after:\n",
    "        if row['Speaker']==\"spk1\":\n",
    "            return \"1;0;0;0\"\n",
    "        elif row['Speaker']==\"spk2\":\n",
    "            return \"0;1;0;0\"\n",
    "        elif row['Speaker']==\"spk3\":\n",
    "            return \"0;0;1;0\"\n",
    "        elif row['Speaker']==\"\":\n",
    "            return \"0;0;0;1\"\n",
    "        else:\n",
    "            return \"0;0;0;0\"\n",
    "    else:\n",
    "        addBefore=before-duree/2\n",
    "        addAfter=after-duree/2\n",
    "        Extrait=Match.loc[(Match[\"Début\"]>=row[\"Début\"]-datetime.timedelta(seconds=int(addBefore)))&(Match[\"Fin\"]<=row[\"Fin\"]+datetime.timedelta(seconds=int(addAfter)))]\n",
    "        nbSpk1=Extrait.loc[Extrait[\"Speaker\"]==\"spk1\"][\"Speaker\"].count()\n",
    "        nbSpk2=Extrait.loc[Extrait[\"Speaker\"]==\"spk2\"][\"Speaker\"].count()\n",
    "        nbSpk3=Extrait.loc[Extrait[\"Speaker\"]==\"spk3\"][\"Speaker\"].count()\n",
    "        nbNoComment=Extrait.loc[Extrait[\"Speaker\"].isnull()][\"Speaker\"].shape[0]\n",
    "        return \"%d;%d;%d;%d\" %(nbSpk1,nbSpk2,nbSpk3,nbNoComment)\n",
    "Match['RépartitionSPK']=Match.apply(repartitionSPK, axis=1)"
   ]
  },
  {
   "cell_type": "markdown",
   "metadata": {},
   "source": [
    "###Décomposition de la répartition en 4 colonnes"
   ]
  },
  {
   "cell_type": "code",
   "execution_count": 9,
   "metadata": {
    "collapsed": true
   },
   "outputs": [],
   "source": [
    "Match[\"RépartitionSpk1\"]=Match['RépartitionSPK'].str.split(\";\").str.get(0).astype(int)\n",
    "Match[\"RépartitionSpk2\"]=Match['RépartitionSPK'].str.split(\";\").str.get(1).astype(int)\n",
    "Match[\"RépartitionSpk3\"]=Match['RépartitionSPK'].str.split(\";\").str.get(2).astype(int)\n",
    "Match[\"RépartitionNoComm\"]=Match['RépartitionSPK'].str.split(\";\").str.get(3).astype(int)"
   ]
  },
  {
   "cell_type": "markdown",
   "metadata": {},
   "source": [
    "###Séparation des données en deux tables\n",
    "\n",
    "- Actions pour les calculs sur les actions\n",
    "- Commentaires pour les calculs sur les commentaires"
   ]
  },
  {
   "cell_type": "code",
   "execution_count": 10,
   "metadata": {
    "collapsed": true
   },
   "outputs": [],
   "source": [
    "Actions=Match[Match.Action.notnull()]\n",
    "Commentaires=Match[Match.Commentaire.notnull()]"
   ]
  },
  {
   "cell_type": "markdown",
   "metadata": {},
   "source": [
    "###Mise en forme de Actions\n",
    "\n",
    "- Ajout de colonnes \n",
    " - NrEvénement \n",
    " - Evénement\n",
    " - NrAction \n",
    " - SpkCommentaire : référence du commentaire de l'action\n",
    "- Remplissage des vides de SpkCommentaire avec \"SansCommentaire\""
   ]
  },
  {
   "cell_type": "code",
   "execution_count": 11,
   "metadata": {
    "collapsed": true
   },
   "outputs": [],
   "source": [
    "Actions=Actions.drop('Commentaire',1)\n",
    "Actions=Actions.drop('ActionsAvant',1)\n",
    "Actions=Actions.drop('ActionsAprès',1)\n",
    "Actions['NrEvénement']=Actions['Evénement'].str.split(\" \",1).str.get(0).str.strip()\n",
    "Actions['Evénement']=Actions['Evénement'].str.split(\" \",1).str.get(1).str.strip()\n",
    "Actions['NrAction']=Actions['NrAction'].str.split(\" \",1).str.get(0).str.strip()\n",
    "Actions['SpkCommentaire']=Actions['RefCommentaire'].str.split(\"-\",1).str.get(0).str.strip()\n",
    "Actions['SpkCommentaire']=Actions['SpkCommentaire'].fillna(\"SansCommentaire\")"
   ]
  },
  {
   "cell_type": "markdown",
   "metadata": {},
   "source": [
    "###Calcul des références multiples de RefCommentaire\n",
    "\n",
    "Certaines références contiennent plusieurs numéros de commentaire séparées par des virgules"
   ]
  },
  {
   "cell_type": "code",
   "execution_count": 12,
   "metadata": {
    "collapsed": true
   },
   "outputs": [],
   "source": [
    "refsTemp=list(Actions.RefCommentaire.values)\n",
    "Refs=[]\n",
    "for ref in refsTemp:\n",
    "    if isinstance(ref, basestring):\n",
    "        if \",\" in ref:\n",
    "            temps=ref.split(\",\")\n",
    "            for temp in temps:\n",
    "                Refs.append(temp.strip())\n",
    "        else:\n",
    "            Refs.append(ref)"
   ]
  },
  {
   "cell_type": "markdown",
   "metadata": {},
   "source": [
    "###Mise en forme de Commentaires\n",
    "\n",
    "- Elimination des colonnes inutiles\n",
    "- Calcul du RythmeArrondi\n",
    "- Calcul de la référence du Commentaire et de son texte"
   ]
  },
  {
   "cell_type": "code",
   "execution_count": 13,
   "metadata": {
    "collapsed": true
   },
   "outputs": [],
   "source": [
    "Commentaires=Commentaires.drop('Evénement',1)\n",
    "Commentaires=Commentaires.drop('NrAction',1)\n",
    "Commentaires=Commentaires.drop('Action',1)\n",
    "Commentaires=Commentaires.drop('ActionsAvant',1)\n",
    "Commentaires=Commentaires.drop('ActionsAprès',1)\n",
    "Commentaires[\"RythmeArrondi\"]=np.round(Commentaires[\"RythmeAction\"],0)\n",
    "Commentaires['RefCommentaire']=Commentaires['Commentaire'].str.split(\" \",1).str.get(0).str.strip()\n",
    "Commentaires['Text']=Commentaires['Commentaire'].str.split(\" \",1).str.get(1).str.strip()\n",
    "#Commentaires['Longueur']=Commentaires['Text'].str.len()"
   ]
  },
  {
   "cell_type": "markdown",
   "metadata": {},
   "source": [
    "###Calcul du type \"action\" vs \"complémentaire\" pour Commentaires['Type']\n",
    "\n",
    "- si la référence du commentaire est dans la liste des références *Refs*\n",
    " - alors c'est un commentaire pour une action => \"action\"\n",
    " - sinon c'est du discours complémentaire => \"complément\""
   ]
  },
  {
   "cell_type": "code",
   "execution_count": 14,
   "metadata": {
    "collapsed": true
   },
   "outputs": [],
   "source": [
    "def typeCommentaire(row):\n",
    "    if row['RefCommentaire'] in Refs:\n",
    "#        return \"action-\"+row['Speaker']\n",
    "        return \"action\"\n",
    "    else:\n",
    "#        return \"complémentaire-\"+row['Speaker']\n",
    "        return \"complémentaire\"\n",
    "Commentaires['Type']=Commentaires.apply(typeCommentaire, axis=1)"
   ]
  },
  {
   "cell_type": "markdown",
   "metadata": {},
   "source": [
    "###Rapprochement entre Syntaxe et Commentaires\n",
    "\n",
    "- si pour la ligne courante *row*, le contenu *row['Text']* est dans la liste des commentaires annotés syntaxiquement\n",
    " - alors ajouter l'information à la colonne\n",
    " - sinon rien"
   ]
  },
  {
   "cell_type": "code",
   "execution_count": 15,
   "metadata": {
    "collapsed": true
   },
   "outputs": [],
   "source": [
    "def nbsyllabes(row):\n",
    "    if row['Text'] in refsSyn:\n",
    "        return Syntaxe.loc[Syntaxe[\"Commentaire\"]==row['Text']][\"NbSyllabes\"].values[0]\n",
    "    else:\n",
    "        return \"\"\n",
    "Commentaires['NbSyllabes']=Commentaires.apply(nbsyllabes, axis=1)\n",
    "def nbmots(row):\n",
    "    if row['Text'] in refsSyn:\n",
    "        return Syntaxe.loc[Syntaxe[\"Commentaire\"]==row['Text']][\"NbMots\"].values[0]\n",
    "    else:\n",
    "        return \"\"\n",
    "Commentaires['NbMots']=Commentaires.apply(nbmots, axis=1)\n",
    "def nbmots(row):\n",
    "    if row['Text'] in refsSyn:\n",
    "        return Syntaxe.loc[Syntaxe[\"Commentaire\"]==row['Text']][\"NbMots\"].values[0]\n",
    "    else:\n",
    "        return \"\"\n",
    "Commentaires['NbMots']=Commentaires.apply(nbmots, axis=1)\n",
    "def debit(row):\n",
    "    if row['Text'] in refsSyn:\n",
    "        return Syntaxe.loc[Syntaxe[\"Commentaire\"]==row['Text']][\"Débit\"].values[0]\n",
    "    else:\n",
    "        return \"\"\n",
    "Commentaires['Débit']=Commentaires.apply(debit, axis=1)\n",
    "def nbverbes(row):\n",
    "    if row['Text'] in refsSyn:\n",
    "        return Syntaxe.loc[Syntaxe[\"Commentaire\"]==row['Text']][\"NbVerbes\"].values[0]\n",
    "    else:\n",
    "        return \"\"\n",
    "Commentaires['NbVerbes']=Commentaires.apply(nbverbes, axis=1)\n",
    "def nbnoms(row):\n",
    "    if row['Text'] in refsSyn:\n",
    "        return Syntaxe.loc[Syntaxe[\"Commentaire\"]==row['Text']][\"NbNoms\"].values[0]\n",
    "    else:\n",
    "        return \"\"\n",
    "Commentaires['NbNoms']=Commentaires.apply(nbnoms, axis=1)\n",
    "def deco(row):\n",
    "    if row['Text'] in refsSyn:\n",
    "        return Syntaxe.loc[Syntaxe[\"Commentaire\"]==row['Text']][\"DeCo\"].values[0]\n",
    "    else:\n",
    "        return \"\"\n",
    "Commentaires['DeCo']=Commentaires.apply(deco, axis=1)"
   ]
  },
  {
   "cell_type": "markdown",
   "metadata": {},
   "source": [
    "###Exportation des données pour les tableaux"
   ]
  },
  {
   "cell_type": "markdown",
   "metadata": {},
   "source": [
    "####Tableaux généraux"
   ]
  },
  {
   "cell_type": "code",
   "execution_count": 16,
   "metadata": {
    "collapsed": true
   },
   "outputs": [],
   "source": [
    "Actions.to_csv(\"/Users/gilles/Downloads/Actions.csv\", sep='\\t', encoding='utf-8')\n",
    "Commentaires.to_csv(\"/Users/gilles/Downloads/Commentaires.csv\", sep='\\t', encoding='utf-8')\n",
    "Match.to_csv(\"/Users/gilles/Downloads/Match.csv\", sep='\\t', encoding='utf-8')"
   ]
  },
  {
   "cell_type": "markdown",
   "metadata": {},
   "source": [
    "####Tableau Rythme"
   ]
  },
  {
   "cell_type": "code",
   "execution_count": 17,
   "metadata": {
    "collapsed": true
   },
   "outputs": [],
   "source": [
    "Rythme=Match[[\"Début\",\"RythmeAction\",\"RépartitionSpk1\",\"RépartitionSpk2\",\"RépartitionSpk3\",\"RépartitionNoComm\"]]\n",
    "Rythme.to_csv(\"/Users/gilles/Downloads/TempsRythmeSpeaker.csv\", sep='\\t', encoding='utf-8')"
   ]
  },
  {
   "cell_type": "markdown",
   "metadata": {},
   "source": [
    "####Tableau ActionsSpeakers\n",
    "\n",
    "- extraction des trois plages de rythme\n",
    " - Rythme1 : RythmeAction <=rythme1\n",
    " - Rythme2 : rythme1 < RythmeAction <=rythme2\n",
    " - Rythme3 : rythme2 < RythmeAction"
   ]
  },
  {
   "cell_type": "code",
   "execution_count": 18,
   "metadata": {
    "collapsed": true
   },
   "outputs": [],
   "source": [
    "ActionsSpeakers=pd.DataFrame(columns=[\"Rythme1\",\"Rythme2\",\"Rythme3\"])\n",
    "ActionsSpeakers[\"Rythme1\"]=Actions.loc[Actions[\"RythmeAction\"]<=rythme1].groupby([\"Action\",\"SpkCommentaire\"]).size()\n",
    "ActionsSpeakers[\"Rythme2\"]=Actions.loc[(Actions[\"RythmeAction\"]>rythme1) & (Actions[\"RythmeAction\"]<=rythme2)].groupby([\"Action\",\"SpkCommentaire\"]).size()\n",
    "ActionsSpeakers[\"Rythme3\"]=Actions.loc[Actions[\"RythmeAction\"]>rythme2].groupby([\"Action\",\"SpkCommentaire\"]).size()\n",
    "ActionsSpeakers.to_csv(\"/Users/gilles/Downloads/ActionsSpeakers.csv\", sep='\\t', encoding='utf-8')"
   ]
  },
  {
   "cell_type": "markdown",
   "metadata": {},
   "source": [
    "####Tableau RythmesSpeakers"
   ]
  },
  {
   "cell_type": "code",
   "execution_count": 19,
   "metadata": {
    "collapsed": true
   },
   "outputs": [],
   "source": [
    "RythmesSpeakers=Commentaires.groupby([\"RythmeArrondi\",\"Speaker\"]).size()\n",
    "RythmesSpeakers.to_csv(\"/Users/gilles/Downloads/RythmesSpeakers.csv\", sep='\\t', encoding='utf-8')"
   ]
  },
  {
   "cell_type": "markdown",
   "metadata": {},
   "source": [
    "####Tableau RythmesStructures"
   ]
  },
  {
   "cell_type": "code",
   "execution_count": 20,
   "metadata": {
    "collapsed": true
   },
   "outputs": [],
   "source": [
    "RythmesStructures=pd.DataFrame(columns=[\"Rythme1\",\"Rythme2\",\"Rythme3\"])\n",
    "RythmesStructures[\"Rythme1\"]=Commentaires.loc[Commentaires[\"RythmeAction\"]<=3].groupby([\"Structure\"]).size()\n",
    "RythmesStructures[\"Rythme2\"]=Commentaires.loc[(Commentaires[\"RythmeAction\"]>3) & (Commentaires[\"RythmeAction\"]<=6)].groupby([\"Structure\"]).size()\n",
    "RythmesStructures[\"Rythme3\"]=Commentaires.loc[Commentaires[\"RythmeAction\"]>6].groupby([\"Structure\"]).size()\n",
    "RythmesStructures.to_csv(\"/Users/gilles/Downloads/RythmesStructures.csv\", sep='\\t', encoding='utf-8')"
   ]
  },
  {
   "cell_type": "markdown",
   "metadata": {},
   "source": [
    "####Tableau ActionsStructures"
   ]
  },
  {
   "cell_type": "code",
   "execution_count": 21,
   "metadata": {},
   "outputs": [
    {
     "name": "stderr",
     "output_type": "stream",
     "text": [
      "-c:13: SettingWithCopyWarning: A value is trying to be set on a copy of a slice from a DataFrame.\n",
      "Try using .loc[row_index,col_indexer] = value instead\n",
      "/Users/gilles/anaconda/lib/python2.7/site-packages/pandas/core/series.py:637: SettingWithCopyWarning: A value is trying to be set on a copy of a slice from a DataFrame\n",
      "  self.where(~key, value, inplace=True)\n"
     ]
    }
   ],
   "source": [
    "ActionsStructures=Match[[\"Action\",\"RefCommentaire\"]]\n",
    "def structAction(row):\n",
    "    temp=row[\"RefCommentaire\"]\n",
    "    commentaires=str(temp).split(\",\")\n",
    "    structures=[]\n",
    "    for commentaire in commentaires:\n",
    "        if commentaire in Refs:\n",
    "            valeur=str(Commentaires.loc[Commentaires[\"RefCommentaire\"].str.lower()==commentaire][\"Structure\"].values[0]).strip()\n",
    "            if valeur!=\"nan\" and valeur!=\" \" and valeur!=\"\":\n",
    "                structures.append(valeur)\n",
    "    return \";\".join(structures)\n",
    "ActionsStructures[\"Structures\"]=ActionsStructures.apply(structAction, axis=1)\n",
    "ActionsStructures[\"RefCommentaire\"]=ActionsStructures[\"RefCommentaire\"].fillna(value=\"SansCommentaire\")\n",
    "ActionsStructures.Structures[ActionsStructures.RefCommentaire==\"SansCommentaire\"]=\"SansCommentaire\"\n",
    "ActionsStructures.groupby([\"Action\",\"Structures\"]).size().to_csv(\"/Users/gilles/Downloads/ActionsStructures.csv\", sep='\\t', encoding='utf-8')"
   ]
  },
  {
   "cell_type": "markdown",
   "metadata": {},
   "source": [
    "####Tableau StructuresSpeakers"
   ]
  },
  {
   "cell_type": "code",
   "execution_count": 22,
   "metadata": {
    "collapsed": true
   },
   "outputs": [],
   "source": [
    "StructuresSpeakers=Commentaires[[\"Structure\",\"Speaker\"]]\n",
    "StructuresSpeakers.groupby([\"Structure\",\"Speaker\"]).size().to_csv(\"/Users/gilles/Downloads/StructuresSpeakers.csv\", sep='\\t', encoding='utf-8')"
   ]
  },
  {
   "cell_type": "markdown",
   "metadata": {},
   "source": [
    "####Tableau MotsDureeSpeaker"
   ]
  },
  {
   "cell_type": "code",
   "execution_count": 23,
   "metadata": {
    "collapsed": true
   },
   "outputs": [],
   "source": [
    "MotsDureeSpeaker=Commentaires[[\"Début\",\"Fin\"]]\n",
    "MotsDureeSpeaker=pd.merge(MotsDureeSpeaker,Commentaires.loc[Commentaires[\"Speaker\"].str.lower()==\"spk1\"][[\"Début\",\"NbMots\"]],on='Début',how='outer')\n",
    "MotsDureeSpeaker.rename(columns={\"NbMots\":\"Spk1\"},inplace=True)\n",
    "MotsDureeSpeaker=pd.merge(MotsDureeSpeaker,Commentaires.loc[Commentaires[\"Speaker\"].str.lower()==\"spk2\"][[\"Début\",\"NbMots\"]],on='Début',how='outer')\n",
    "MotsDureeSpeaker.rename(columns={\"NbMots\":\"Spk2\"},inplace=True)\n",
    "MotsDureeSpeaker=pd.merge(MotsDureeSpeaker,Commentaires.loc[Commentaires[\"Speaker\"].str.lower()==\"spk3\"][[\"Début\",\"NbMots\"]],on='Début',how='outer')\n",
    "MotsDureeSpeaker.rename(columns={\"NbMots\":\"Spk3\"},inplace=True)\n",
    "MotsDureeSpeaker.to_csv(\"/Users/gilles/Downloads/MotsDureeSpeaker.csv\", sep='\\t', encoding='utf-8')"
   ]
  },
  {
   "cell_type": "markdown",
   "metadata": {},
   "source": [
    "####Tableau MotsDureeType"
   ]
  },
  {
   "cell_type": "code",
   "execution_count": 24,
   "metadata": {
    "collapsed": true
   },
   "outputs": [],
   "source": [
    "MotsDureeType=Commentaires[[\"Début\",\"Fin\"]]\n",
    "MotsDureeType=pd.merge(MotsDureeType,Commentaires.loc[Commentaires[\"Type\"].str.lower()==\"action\"][[\"Début\",\"NbMots\"]],on='Début',how='outer')\n",
    "MotsDureeType.rename(columns={\"NbMots\":\"Actions\"},inplace=True)\n",
    "MotsDureeType=pd.merge(MotsDureeType,Commentaires.loc[Commentaires[\"Type\"].str.lower()==\"complémentaire\"][[\"Début\",\"NbMots\"]],on='Début',how='outer')\n",
    "MotsDureeType.rename(columns={\"NbMots\":\"Compléments\"},inplace=True)\n",
    "MotsDureeType.to_csv(\"/Users/gilles/Downloads/MotsDureeType.csv\", sep='\\t', encoding='utf-8')"
   ]
  },
  {
   "cell_type": "markdown",
   "metadata": {},
   "source": [
    "#Zone d'élaboration : Run All Above"
   ]
  },
  {
   "cell_type": "code",
   "execution_count": 25,
   "metadata": {
    "collapsed": true
   },
   "outputs": [],
   "source": [
    "Commentaires.groupby([\"Type\",\"Structure\"]).size().to_csv(\"/Users/gilles/Downloads/TypeStructures.csv\", sep='\\t', encoding='utf-8')"
   ]
  },
  {
   "cell_type": "code",
   "execution_count": 26,
   "metadata": {},
   "outputs": [
    {
     "data": {
      "text/plain": [
       "2015-01-05 00:12:24.600000    \n",
       "2015-01-05 00:12:28.560000    \n",
       "2015-01-05 00:12:34.720000    \n",
       "2015-01-05 00:12:36.960000    \n",
       "2015-01-05 00:12:38.960000    \n",
       "2015-01-05 00:12:40.880000    \n",
       "2015-01-05 00:12:42.960000    \n",
       "2015-01-05 00:12:45.400000    \n",
       "2015-01-05 00:12:49.480000    \n",
       "2015-01-05 00:12:50.320000    \n",
       "2015-01-05 00:12:51.760000    \n",
       "2015-01-05 00:12:54.760000    \n",
       "2015-01-05 00:12:55.640000    \n",
       "2015-01-05 00:12:57.520000    \n",
       "2015-01-05 00:12:59.120000    \n",
       "...\n",
       "2015-01-05 01:49:58.060000    \n",
       "2015-01-05 01:50:00.420000    \n",
       "2015-01-05 01:50:02.580000    \n",
       "2015-01-05 01:50:04.740000    \n",
       "2015-01-05 01:50:05.980000    \n",
       "2015-01-05 01:50:09.060000    \n",
       "2015-01-05 01:50:10.260000    \n",
       "2015-01-05 01:50:11.820000    \n",
       "2015-01-05 01:50:13.220000    \n",
       "2015-01-05 01:50:14.580000    \n",
       "2015-01-05 01:50:16.420000    \n",
       "2015-01-05 01:50:17.580000    \n",
       "2015-01-05 01:50:18.340000    \n",
       "2015-01-05 01:50:19.900000    \n",
       "2015-01-05 01:50:20.900000    \n",
       "Name: NbMots, Length: 1569"
      ]
     },
     "execution_count": 26,
     "metadata": {},
     "output_type": "execute_result"
    }
   ],
   "source": [
    "Commentaires.loc[Commentaires[\"Speaker\"].str.lower()==\"spk1\"][\"NbMots\"]"
   ]
  },
  {
   "cell_type": "code",
   "execution_count": 31,
   "metadata": {
    "collapsed": true
   },
   "outputs": [],
   "source": [
    "Commentaires.groupby([\"Type\",\"Structure1\"]).size().to_csv(\"/Users/gilles/Downloads/TypeStructures1.csv\", sep='\\t', encoding='utf-8')\n",
    "Commentaires.groupby([\"Type\",\"Structure2\"]).size().to_csv(\"/Users/gilles/Downloads/TypeStructures2.csv\", sep='\\t', encoding='utf-8')\n",
    "Commentaires.groupby([\"Type\",\"Structure3\"]).size().to_csv(\"/Users/gilles/Downloads/TypeStructures3.csv\", sep='\\t', encoding='utf-8')"
   ]
  },
  {
   "cell_type": "code",
   "execution_count": 69,
   "metadata": {
    "collapsed": true
   },
   "outputs": [],
   "source": [
    "Comptage1=pd.DataFrame(Commentaires.groupby([\"Type\",\"Structure1\"]).size()).unstack().fillna(0)\n",
    "Comptage2=pd.DataFrame(Commentaires.groupby([\"Type\",\"Structure2\"]).size()).unstack().fillna(0)\n",
    "Comptage3=pd.DataFrame(Commentaires.groupby([\"Type\",\"Structure3\"]).size()).unstack().fillna(0)"
   ]
  },
  {
   "cell_type": "code",
   "execution_count": 77,
   "metadata": {
    "collapsed": true
   },
   "outputs": [],
   "source": [
    "Comptage1.to_csv(\"/Users/gilles/Downloads/TypeStructures1.csv\", sep='\\t', encoding='utf-8')"
   ]
  },
  {
   "cell_type": "code",
   "execution_count": 78,
   "metadata": {
    "collapsed": true
   },
   "outputs": [],
   "source": [
    "Comptage2.to_csv(\"/Users/gilles/Downloads/TypeStructures2.csv\", sep='\\t', encoding='utf-8')"
   ]
  },
  {
   "cell_type": "code",
   "execution_count": 79,
   "metadata": {
    "collapsed": true
   },
   "outputs": [],
   "source": [
    "Comptage3.to_csv(\"/Users/gilles/Downloads/TypeStructures3.csv\", sep='\\t', encoding='utf-8')"
   ]
  },
  {
   "cell_type": "code",
   "execution_count": null,
   "metadata": {
    "collapsed": true
   },
   "outputs": [],
   "source": [
    "#RythmesStructures.to_csv(\"/Users/gilles/Downloads/ActionsSpeakers.csv\", sep='\\t', encoding='utf-8')"
   ]
  },
  {
   "cell_type": "code",
   "execution_count": null,
   "metadata": {
    "collapsed": true
   },
   "outputs": [],
   "source": [
    "#Match.loc[(Match['Action']!=\"\") & (Match[\"RythmeAction\"]>0)]['RythmeAction'].plot(figsize=(180,6))"
   ]
  },
  {
   "cell_type": "markdown",
   "metadata": {},
   "source": [
    "Calcul du graphe de Longueur et Durée pour le spk1 en fonction du numéro de Sync (pas de la timeline)"
   ]
  },
  {
   "cell_type": "code",
   "execution_count": null,
   "metadata": {
    "collapsed": true
   },
   "outputs": [],
   "source": [
    "#Match.loc[(Match['Speaker']==\"spk2\")][[\"Durée\",\"RythmeAction\"]].plot(figsize=(180,6))"
   ]
  },
  {
   "cell_type": "code",
   "execution_count": null,
   "metadata": {
    "collapsed": true
   },
   "outputs": [],
   "source": [
    "#Match.loc[(Match['Action']!=\"\") & (Match[\"Evénement\"]==\"3 porté\")][\"RythmeAction\"].keys()[0]"
   ]
  },
  {
   "cell_type": "code",
   "execution_count": null,
   "metadata": {
    "collapsed": true
   },
   "outputs": [],
   "source": [
    "#Match.loc[(Match['Speaker']==\"spk2\")]"
   ]
  },
  {
   "cell_type": "code",
   "execution_count": null,
   "metadata": {
    "collapsed": true
   },
   "outputs": [],
   "source": [
    "#pd.rolling_mean(Match.loc[(Match['Action']!=\"\") & (Match[\"RythmeAction\"]>0)]['RythmeAction'],3).describe()"
   ]
  },
  {
   "cell_type": "code",
   "execution_count": null,
   "metadata": {
    "collapsed": true
   },
   "outputs": [],
   "source": [
    "#Extrait=Match.loc[(Match[\"Début\"]>=Match[\"Début\"][7]-datetime.timedelta(seconds=3))&(Match[\"Fin\"]<=Match[\"Fin\"][7]+datetime.timedelta(seconds=3))]\n",
    "#Extrait.loc[Extrait[\"Speaker\"].isnull()][\"Speaker\"].shape[0]\n"
   ]
  },
  {
   "cell_type": "code",
   "execution_count": null,
   "metadata": {
    "collapsed": true
   },
   "outputs": [],
   "source": [
    "#Commentaires[\"RythmeArrondi\"]=np.round(Commentaires[\"RythmeAction\"],0)"
   ]
  },
  {
   "cell_type": "code",
   "execution_count": null,
   "metadata": {
    "collapsed": true
   },
   "outputs": [],
   "source": [
    "#Commentaires.loc[Commentaires[\"RefCommentaire\"]==\"Spk2-071\"]"
   ]
  },
  {
   "cell_type": "code",
   "execution_count": null,
   "metadata": {
    "collapsed": true
   },
   "outputs": [],
   "source": [
    "#for name, group in Actions.groupby([\"Action\",\"Speaker\",\"RythmeAction\"]):\n",
    "#    print name[0], name[1], name[2], group.NrAction.count()"
   ]
  },
  {
   "cell_type": "code",
   "execution_count": null,
   "metadata": {
    "collapsed": true
   },
   "outputs": [],
   "source": [
    "#Match.loc[(Match['Action']!=\"\") & (Match[\"RythmeAction\"]>0)][[\"RythmeAction\",\"RépartitionNoComm\"]].plot(figsize=(180,6))"
   ]
  },
  {
   "cell_type": "code",
   "execution_count": null,
   "metadata": {
    "collapsed": true
   },
   "outputs": [],
   "source": [
    "#Commentaires"
   ]
  },
  {
   "cell_type": "code",
   "execution_count": null,
   "metadata": {
    "collapsed": true
   },
   "outputs": [],
   "source": []
  }
 ],
 "metadata": {
  "kernelspec": {
   "display_name": "Python 2",
   "language": "python",
   "name": "python2"
  },
  "language_info": {
   "codemirror_mode": {
    "name": "ipython",
    "version": 2
   },
   "file_extension": ".py",
   "mimetype": "text/x-python",
   "name": "python",
   "nbconvert_exporter": "python",
   "pygments_lexer": "ipython2",
   "version": "2.7.11"
  }
 },
 "nbformat": 4,
 "nbformat_minor": 1
}
