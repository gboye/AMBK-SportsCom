{
 "metadata": {
  "name": "",
  "signature": "sha256:f8f6b439379dbc7b9835349b13b9cb5a18641c98f39dbb29763dcd3076104272"
 },
 "nbformat": 3,
 "nbformat_minor": 0,
 "worksheets": [
  {
   "cells": [
    {
     "cell_type": "markdown",
     "metadata": {},
     "source": [
      "#Mise en forme pour un graphe \u00e0 barres de largeur variable"
     ]
    },
    {
     "cell_type": "markdown",
     "metadata": {},
     "source": [
      "####Importation des modules\n",
      "\n",
      "- codecs : gestion des fichiers utf8 (open)\n",
      "- sys : gestion du syst\u00e8me (exit)"
     ]
    },
    {
     "cell_type": "code",
     "collapsed": false,
     "input": [
      "import codecs,sys"
     ],
     "language": "python",
     "metadata": {},
     "outputs": [],
     "prompt_number": 19
    },
    {
     "cell_type": "markdown",
     "metadata": {},
     "source": [
      "####D\u00e9finition du s\u00e9parateur et du nom de fichier"
     ]
    },
    {
     "cell_type": "code",
     "collapsed": false,
     "input": [
      "sep=\"\\t\"\n",
      "File=\"/Users/gilles/Downloads/MotsDureeSpeaker.csv\"\n",
      "console=False"
     ],
     "language": "python",
     "metadata": {},
     "outputs": [],
     "prompt_number": 20
    },
    {
     "cell_type": "markdown",
     "metadata": {},
     "source": [
      "####Ouverture du fichier"
     ]
    },
    {
     "cell_type": "code",
     "collapsed": false,
     "input": [
      "try:\n",
      "    fileContent=codecs.open(File,\"r\", \"utf-8\") \n",
      "\n",
      "except IOError:\n",
      "    print 'I could not open the file', File\n",
      "    sys.exit()\n",
      "\n",
      "if not console:\n",
      "    Output=File.split(\".\")[0]+\"-Var.csv\"\n",
      "    try:\n",
      "        fileOutput=codecs.open(Output,\"w\", \"utf-8\") \n",
      "\n",
      "    except IOError:\n",
      "        print 'I could not open the file', Output\n",
      "        sys.exit()\n"
     ],
     "language": "python",
     "metadata": {},
     "outputs": [],
     "prompt_number": 21
    },
    {
     "cell_type": "markdown",
     "metadata": {},
     "source": [
      "####Calcul de l'indice de temps en centi\u00e8mes de secondes\n",
      "\n",
      "Les champs de temps sont pr\u00e9vus sous la forme \"2014-07-14 00:12:24.600000\" pour 12 minutes 24 secondes et 60 centi\u00e8mes\n",
      "\n",
      "- calcul des centi\u00e8mes\n",
      "- diff\u00e9rence avec le temps initial"
     ]
    },
    {
     "cell_type": "code",
     "collapsed": false,
     "input": [
      "base=0\n",
      "def formatTime(date):\n",
      "    jour,instant=date.split(\" \")\n",
      "    heures, minutes, secmil = instant.split(\":\")\n",
      "    if \".\" in secmil:\n",
      "        secondes, milliemes=secmil.split(\".\")\n",
      "    else:\n",
      "        secondes=secmil\n",
      "        milliemes=\"0\"\n",
      "    numero=int(milliemes)/10000+100*int(secondes)+6000*int(minutes)+360000*int(heures)\n",
      "    return numero-base"
     ],
     "language": "python",
     "metadata": {},
     "outputs": [],
     "prompt_number": 22
    },
    {
     "cell_type": "markdown",
     "metadata": {},
     "source": [
      "####Transformation d'une ligne de donn\u00e9es\n",
      "\n",
      "- d\u00e9coupage de *line* sur le s\u00e9parateur dans *champs*\n",
      "- transformation des deux premiers *champs* en nombre de centi\u00e8mes de seconde depuis le premier top (*base*)\n",
      "- accumulation des champs restants dans *valeurs*\n",
      " - nettoyage des chaines *valeur*\n",
      " - remplacement des chaines vides par des \"0\"\n",
      " - accumulation de \"0\" dans *zeros*, autant que de *valeur* dans *valeurs*, pour faire les bas de barres\n",
      "\n",
      "La fonction renvoie deux chaines (*debut*, *fin*) et deux listes (*valeurs*, *zeros*)"
     ]
    },
    {
     "cell_type": "code",
     "collapsed": false,
     "input": [
      "def formatLine(line):\n",
      "    champs=line.split(sep)\n",
      "    debut=str(formatTime(champs[1]))\n",
      "    fin=str(formatTime(champs[2]))\n",
      "    valeurs=[]\n",
      "    zeros=[]\n",
      "    for champ in champs[3:]:\n",
      "        valeur=champ.strip()\n",
      "        if valeur==\"\" :\n",
      "            valeurs.append(\"0\")\n",
      "        else:\n",
      "            valeurs.append(valeur)\n",
      "        zeros.append(\"0\")\n",
      "    valeurs.extend([\"\",champs[1]])\n",
      "    zeros.extend([\"\",champs[1]])\n",
      "    return (debut, fin, valeurs, zeros)"
     ],
     "language": "python",
     "metadata": {},
     "outputs": [],
     "prompt_number": 23
    },
    {
     "cell_type": "markdown",
     "metadata": {},
     "source": [
      "###Transformation des lignes pour les barres \u00e0 largeur-dur\u00e9e\n",
      "\n",
      "On lit le fichier et on d\u00e9coupe la premi\u00e8re ligne pour mettre en place les titres\n",
      "\n",
      "- on \u00e9limine le num\u00e9ro d'index *titres[0]* et l'\u00e9tiquette fin *titres[2]*, on garde les autres titres\n",
      "- l'instant de r\u00e9f\u00e9rence est le debut sur la *lignes[1]* => *base* \n",
      "\n",
      "- au d\u00e9part on a une ligne avec un num\u00e9ro, le d\u00e9but, la fin et les autres valeurs\n",
      "- \u00e0 l'arriv\u00e9e on a quatre lignes\n",
      " - le d\u00e9but avec des z\u00e9ros\n",
      " - le d\u00e9but avec les autres valeurs\n",
      " - la fin avec les autres valeurs\n",
      " - la fin avec des z\u00e9ros"
     ]
    },
    {
     "cell_type": "code",
     "collapsed": false,
     "input": [
      "lignes=fileContent.readlines()\n",
      "titres=lignes[0].split(\"\\t\")\n",
      "champs=formatLine(lignes[1])\n",
      "base=int(champs[0])\n",
      "\n",
      "if console:\n",
      "    print titres[1].encode(\"utf8\")+sep+sep.join(titres[3:]).strip().encode(\"utf8\")\n",
      "    for ligne in lignes[1:50]:\n",
      "        (debut,fin,valeurs,zeros)=formatLine(ligne)\n",
      "        if valeurs!=zeros:\n",
      "            print debut+sep+sep.join(zeros)\n",
      "            print debut+sep+sep.join(valeurs)\n",
      "            print fin+sep+sep.join(valeurs)\n",
      "            print fin+sep+sep.join(zeros)\n",
      "else:\n",
      "    fileOutput.write(titres[1]+sep+sep.join(titres[3:]).strip()+\"\\n\")\n",
      "    for ligne in lignes[1:]:\n",
      "        (debut,fin,valeurs,zeros)=formatLine(ligne)\n",
      "        if valeurs!=zeros:\n",
      "            fileOutput.write(debut+sep+sep.join(zeros)+\"\\n\")\n",
      "            fileOutput.write(debut+sep+sep.join(valeurs)+\"\\n\")\n",
      "            fileOutput.write(fin+sep+sep.join(valeurs)+\"\\n\")\n",
      "            fileOutput.write(fin+sep+sep.join(zeros)+\"\\n\")\n",
      "    print Output, \"Termin\u00e9\"\n",
      "    "
     ],
     "language": "python",
     "metadata": {},
     "outputs": [
      {
       "output_type": "stream",
       "stream": "stdout",
       "text": [
        "/Users/gilles/Downloads/MotsDureeSpeaker-Var.csv Termin\u00e9\n"
       ]
      }
     ],
     "prompt_number": 24
    },
    {
     "cell_type": "code",
     "collapsed": false,
     "input": [],
     "language": "python",
     "metadata": {},
     "outputs": [],
     "prompt_number": 24
    }
   ],
   "metadata": {}
  }
 ]
}