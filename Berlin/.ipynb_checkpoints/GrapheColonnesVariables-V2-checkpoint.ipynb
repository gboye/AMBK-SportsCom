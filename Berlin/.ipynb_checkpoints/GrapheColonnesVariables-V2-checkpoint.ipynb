{
 "cells": [
  {
   "cell_type": "markdown",
   "metadata": {},
   "source": [
    "# Mise en forme pour un graphe à barres de largeur variable"
   ]
  },
  {
   "cell_type": "markdown",
   "metadata": {},
   "source": [
    "#### Importation des modules\n",
    "\n",
    "- codecs : gestion des fichiers utf8 (open)\n",
    "- sys : gestion du système (exit)"
   ]
  },
  {
   "cell_type": "code",
   "execution_count": 19,
   "metadata": {},
   "outputs": [],
   "source": [
    "import codecs,sys"
   ]
  },
  {
   "cell_type": "markdown",
   "metadata": {},
   "source": [
    "#### Définition du séparateur et du nom de fichier"
   ]
  },
  {
   "cell_type": "code",
   "execution_count": 20,
   "metadata": {},
   "outputs": [],
   "source": [
    "sep=\"\\t\"\n",
    "File=\"/Users/gilles/Downloads/MotsDureeSpeaker.csv\"\n",
    "console=False"
   ]
  },
  {
   "cell_type": "markdown",
   "metadata": {},
   "source": [
    "####Ouverture du fichier"
   ]
  },
  {
   "cell_type": "code",
   "execution_count": 21,
   "metadata": {},
   "outputs": [],
   "source": [
    "try:\n",
    "    fileContent=codecs.open(File,\"r\", \"utf-8\") \n",
    "\n",
    "except IOError:\n",
    "    print 'I could not open the file', File\n",
    "    sys.exit()\n",
    "\n",
    "if not console:\n",
    "    Output=File.split(\".\")[0]+\"-Var.csv\"\n",
    "    try:\n",
    "        fileOutput=codecs.open(Output,\"w\", \"utf-8\") \n",
    "\n",
    "    except IOError:\n",
    "        print 'I could not open the file', Output\n",
    "        sys.exit()\n"
   ]
  },
  {
   "cell_type": "markdown",
   "metadata": {},
   "source": [
    "#### Calcul de l'indice de temps en centièmes de secondes\n",
    "\n",
    "Les champs de temps sont prévus sous la forme \"2014-07-14 00:12:24.600000\" pour 12 minutes 24 secondes et 60 centièmes\n",
    "\n",
    "- calcul des centièmes\n",
    "- différence avec le temps initial"
   ]
  },
  {
   "cell_type": "code",
   "execution_count": 22,
   "metadata": {},
   "outputs": [],
   "source": [
    "base=0\n",
    "def formatTime(date):\n",
    "    jour,instant=date.split(\" \")\n",
    "    heures, minutes, secmil = instant.split(\":\")\n",
    "    if \".\" in secmil:\n",
    "        secondes, milliemes=secmil.split(\".\")\n",
    "    else:\n",
    "        secondes=secmil\n",
    "        milliemes=\"0\"\n",
    "    numero=int(milliemes)/10000+100*int(secondes)+6000*int(minutes)+360000*int(heures)\n",
    "    return numero-base"
   ]
  },
  {
   "cell_type": "markdown",
   "metadata": {},
   "source": [
    "####Transformation d'une ligne de données\n",
    "\n",
    "- découpage de *line* sur le séparateur dans *champs*\n",
    "- transformation des deux premiers *champs* en nombre de centièmes de seconde depuis le premier top (*base*)\n",
    "- accumulation des champs restants dans *valeurs*\n",
    " - nettoyage des chaines *valeur*\n",
    " - remplacement des chaines vides par des \"0\"\n",
    " - accumulation de \"0\" dans *zeros*, autant que de *valeur* dans *valeurs*, pour faire les bas de barres\n",
    "\n",
    "La fonction renvoie deux chaines (*debut*, *fin*) et deux listes (*valeurs*, *zeros*)"
   ]
  },
  {
   "cell_type": "code",
   "execution_count": 23,
   "metadata": {},
   "outputs": [],
   "source": [
    "def formatLine(line):\n",
    "    champs=line.split(sep)\n",
    "    debut=str(formatTime(champs[1]))\n",
    "    fin=str(formatTime(champs[2]))\n",
    "    valeurs=[]\n",
    "    zeros=[]\n",
    "    for champ in champs[3:]:\n",
    "        valeur=champ.strip()\n",
    "        if valeur==\"\" :\n",
    "            valeurs.append(\"0\")\n",
    "        else:\n",
    "            valeurs.append(valeur)\n",
    "        zeros.append(\"0\")\n",
    "    valeurs.extend([\"\",champs[1]])\n",
    "    zeros.extend([\"\",champs[1]])\n",
    "    return (debut, fin, valeurs, zeros)"
   ]
  },
  {
   "cell_type": "markdown",
   "metadata": {},
   "source": [
    "### Transformation des lignes pour les barres à largeur-durée\n",
    "\n",
    "On lit le fichier et on découpe la première ligne pour mettre en place les titres\n",
    "\n",
    "- on élimine le numéro d'index *titres[0]* et l'étiquette fin *titres[2]*, on garde les autres titres\n",
    "- l'instant de référence est le debut sur la *lignes[1]* => *base* \n",
    "\n",
    "- au départ on a une ligne avec un numéro, le début, la fin et les autres valeurs\n",
    "- à l'arrivée on a quatre lignes\n",
    " - le début avec des zéros\n",
    " - le début avec les autres valeurs\n",
    " - la fin avec les autres valeurs\n",
    " - la fin avec des zéros"
   ]
  },
  {
   "cell_type": "code",
   "execution_count": 24,
   "metadata": {},
   "outputs": [
    {
     "name": "stdout",
     "output_type": "stream",
     "text": [
      "/Users/gilles/Downloads/MotsDureeSpeaker-Var.csv Terminé\n"
     ]
    }
   ],
   "source": [
    "lignes=fileContent.readlines()\n",
    "titres=lignes[0].split(\"\\t\")\n",
    "champs=formatLine(lignes[1])\n",
    "base=int(champs[0])\n",
    "\n",
    "if console:\n",
    "    print titres[1].encode(\"utf8\")+sep+sep.join(titres[3:]).strip().encode(\"utf8\")\n",
    "    for ligne in lignes[1:50]:\n",
    "        (debut,fin,valeurs,zeros)=formatLine(ligne)\n",
    "        if valeurs!=zeros:\n",
    "            print debut+sep+sep.join(zeros)\n",
    "            print debut+sep+sep.join(valeurs)\n",
    "            print fin+sep+sep.join(valeurs)\n",
    "            print fin+sep+sep.join(zeros)\n",
    "else:\n",
    "    fileOutput.write(titres[1]+sep+sep.join(titres[3:]).strip()+\"\\n\")\n",
    "    for ligne in lignes[1:]:\n",
    "        (debut,fin,valeurs,zeros)=formatLine(ligne)\n",
    "        if valeurs!=zeros:\n",
    "            fileOutput.write(debut+sep+sep.join(zeros)+\"\\n\")\n",
    "            fileOutput.write(debut+sep+sep.join(valeurs)+\"\\n\")\n",
    "            fileOutput.write(fin+sep+sep.join(valeurs)+\"\\n\")\n",
    "            fileOutput.write(fin+sep+sep.join(zeros)+\"\\n\")\n",
    "    print Output, \"Terminé\"\n",
    "    "
   ]
  },
  {
   "cell_type": "code",
   "execution_count": 24,
   "metadata": {},
   "outputs": [],
   "source": []
  }
 ],
 "metadata": {
  "kernelspec": {
   "display_name": "Python 2",
   "language": "python",
   "name": "python2"
  },
  "language_info": {
   "codemirror_mode": {
    "name": "ipython",
    "version": 2
   },
   "file_extension": ".py",
   "mimetype": "text/x-python",
   "name": "python",
   "nbconvert_exporter": "python",
   "pygments_lexer": "ipython2",
   "version": "2.7.15"
  }
 },
 "nbformat": 4,
 "nbformat_minor": 1
}
