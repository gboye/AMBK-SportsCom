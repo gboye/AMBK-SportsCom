{
 "cells": [
  {
   "cell_type": "code",
   "execution_count": 57,
   "metadata": {
    "collapsed": true
   },
   "outputs": [],
   "source": [
    "import pandas as pd\n",
    "from numpy import arange\n",
    "import codecs"
   ]
  },
  {
   "cell_type": "code",
   "execution_count": 55,
   "metadata": {
    "collapsed": true
   },
   "outputs": [],
   "source": [
    "textgridName=\"/Users/gilles/Copy/Recherche/Rugby/CorpusRugby2007/phonTimelineSorted.csv\"\n",
    "debitName=\"/Users/gilles/Copy/Recherche/Rugby/CorpusRugby2007/phonTimeline-Debit.csv\"\n",
    "textgridFile=open(textgridName,\"r\")\n",
    "textgrid=textgridFile.readlines()"
   ]
  },
  {
   "cell_type": "code",
   "execution_count": 11,
   "metadata": {
    "collapsed": true
   },
   "outputs": [],
   "source": [
    "voyelles=[\"a\",\"e\",\"i\",\"y\",\"u\",\"eh\",\"oh\",\"eu\",\"on\",\"an\",\"swa\"]"
   ]
  },
  {
   "cell_type": "code",
   "execution_count": 12,
   "metadata": {
    "collapsed": true
   },
   "outputs": [],
   "source": [
    "timing=[]\n",
    "for ligne in textgrid[1:]:\n",
    "    timing.append(ligne.strip().split(\",\"))"
   ]
  },
  {
   "cell_type": "code",
   "execution_count": 13,
   "metadata": {
    "collapsed": false
   },
   "outputs": [],
   "source": [
    "#timeLine=pd.DataFrame(index=[float(i)/100 for i in range(6500000)],columns=[\"début\",\"fin\",\"V1\",\"V2\",\"V3\"])\n",
    "timeLine=pd.DataFrame(columns=[\"début\",\"fin\",\"V1\",\"V2\",\"V3\"])"
   ]
  },
  {
   "cell_type": "code",
   "execution_count": null,
   "metadata": {
    "collapsed": true
   },
   "outputs": [],
   "source": [
    "for ligne in timing:\n",
    "    debut=int(float(ligne[0])*100)\n",
    "#    debut=float(ligne[0])*100//20*20/100\n",
    "#    debut=int(float(ligne[0]))\n",
    "#    print debut,\n",
    "    if ligne[2] in voyelles:\n",
    "        if ligne[3]==\"spk1\":\n",
    "            timeLine.loc[debut]=[ligne[0],ligne[1],ligne[2],None,None]\n",
    "        elif ligne[3]==\"spk2\":\n",
    "            timeLine.loc[debut]=[ligne[0],ligne[1],None,ligne[2],None]\n",
    "        elif ligne[3]==\"spk3\":\n",
    "            timeLine.loc[debut]=[ligne[0],ligne[1],None,None,ligne[2]]"
   ]
  },
  {
   "cell_type": "code",
   "execution_count": 41,
   "metadata": {
    "collapsed": false
   },
   "outputs": [
    {
     "data": {
      "text/plain": [
       "7"
      ]
     },
     "execution_count": 41,
     "metadata": {},
     "output_type": "execute_result"
    }
   ],
   "source": [
    "len(timeLine[timeLine.index<3400][timeLine[timeLine.index<3400].index>3300])"
   ]
  },
  {
   "cell_type": "code",
   "execution_count": 64,
   "metadata": {
    "collapsed": true
   },
   "outputs": [],
   "source": [
    "def adapte(valeur):\n",
    "    return float(valeur*100)"
   ]
  },
  {
   "cell_type": "code",
   "execution_count": 87,
   "metadata": {
    "collapsed": false,
    "scrolled": true
   },
   "outputs": [
    {
     "name": "stdout",
     "output_type": "stream",
     "text": [
      "CPU times: user 5min 46s, sys: 3.44 s, total: 5min 50s\n",
      "Wall time: 5min 50s\n"
     ]
    }
   ],
   "source": [
    "%%time\n",
    "debits={}\n",
    "demiFenetres=[0.25,0.5,0.75,1,1.5,2,2.5,3]\n",
    "increment=0.25\n",
    "for demiFenetre in demiFenetres:\n",
    "    debits[demiFenetre]={}\n",
    "    demiFen=adapte(demiFenetre)\n",
    "    debut=adapte(30)\n",
    "    fin=adapte(6000)\n",
    "    step=adapte(increment)\n",
    "    for i in arange(debut,fin,step):\n",
    "        nbVoyelles=len(timeLine[timeLine.index<=i+demiFen][timeLine[timeLine.index<=i+demiFen].index>=i-demiFen])\n",
    "        debits[demiFenetre][float(i)/100]=float(nbVoyelles)/(2*demiFen/100)"
   ]
  },
  {
   "cell_type": "code",
   "execution_count": 88,
   "metadata": {
    "collapsed": false
   },
   "outputs": [],
   "source": [
    "for fenetre in debits:\n",
    "    with codecs.open(debitName.replace(\".csv\",\"-Total-\"+str(fenetre)+\".csv\"),\"w\",encoding=\"utf8\") as output:\n",
    "        for element in sorted(debits[fenetre]):\n",
    "            output.write(\"%.3f;%.1f\"%(element,debits[fenetre][element])+\"\\n\")\n"
   ]
  }
 ],
 "metadata": {
  "kernelspec": {
   "display_name": "Python 2",
   "language": "python",
   "name": "python2"
  },
  "language_info": {
   "codemirror_mode": {
    "name": "ipython",
    "version": 2
   },
   "file_extension": ".py",
   "mimetype": "text/x-python",
   "name": "python",
   "nbconvert_exporter": "python",
   "pygments_lexer": "ipython2",
   "version": "2.7.10"
  }
 },
 "nbformat": 4,
 "nbformat_minor": 0
}
