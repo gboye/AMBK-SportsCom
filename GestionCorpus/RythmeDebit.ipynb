{
 "cells": [
  {
   "cell_type": "code",
   "execution_count": 57,
   "metadata": {
    "collapsed": true
   },
   "outputs": [],
   "source": [
    "import pandas as pd\n",
    "from numpy import arange\n",
    "import codecs"
   ]
  },
  {
   "cell_type": "code",
   "execution_count": 58,
   "metadata": {
    "collapsed": true
   },
   "outputs": [],
   "source": [
    "#%matplotlib inline\n",
    "\n",
    "import matplotlib\n",
    "import numpy as np\n",
    "import matplotlib.pyplot as plt"
   ]
  },
  {
   "cell_type": "code",
   "execution_count": 59,
   "metadata": {
    "collapsed": true
   },
   "outputs": [],
   "source": [
    "import pickle"
   ]
  },
  {
   "cell_type": "code",
   "execution_count": 60,
   "metadata": {
    "collapsed": true
   },
   "outputs": [],
   "source": [
    "repertoire=\"/Users/gilles/Copy/Recherche/Rugby/CorpusRugby2007/\"\n",
    "rythmeName=\"/Users/gilles/Copy/Recherche/Rugby/CorpusRugby2007/Timeline-Rythme-MT1-Pandas.pkl\"\n",
    "debitName=\"/Users/gilles/Copy/Recherche/Rugby/CorpusRugby2007/Timeline-Debit-Pandas.pkl\"\n",
    "vitesseName=\"/Users/gilles/Copy/Recherche/Rugby/CorpusRugby2007/Timeline-Vitesse-Pandas.pkl\""
   ]
  },
  {
   "cell_type": "code",
   "execution_count": 61,
   "metadata": {
    "collapsed": false
   },
   "outputs": [],
   "source": [
    "with codecs.open(rythmeName,\"rb\") as input:\n",
    "    timeRythmes=pickle.load(input)"
   ]
  },
  {
   "cell_type": "code",
   "execution_count": 62,
   "metadata": {
    "collapsed": true
   },
   "outputs": [],
   "source": [
    "with codecs.open(debitName,\"rb\") as input:\n",
    "    timeDebits=pickle.load(input)"
   ]
  },
  {
   "cell_type": "code",
   "execution_count": 63,
   "metadata": {
    "collapsed": true
   },
   "outputs": [],
   "source": [
    "with codecs.open(debitName.replace(\".pkl\",\"-Spk1.pkl\"),\"rb\") as input:\n",
    "    timeDebits1=pickle.load(input)\n",
    "with codecs.open(debitName.replace(\".pkl\",\"-Spk2.pkl\"),\"rb\") as input:\n",
    "    timeDebits2=pickle.load(input)\n",
    "with codecs.open(debitName.replace(\".pkl\",\"-Spk3.pkl\"),\"rb\") as input:\n",
    "    timeDebits3=pickle.load(input)"
   ]
  },
  {
   "cell_type": "code",
   "execution_count": 64,
   "metadata": {
    "collapsed": true
   },
   "outputs": [],
   "source": [
    "timeDebitRythme=pd.merge(timeRythmes,timeDebits,right_index=True,left_index=True)\n",
    "timeDebitRythme=pd.merge(timeDebitRythme,timeDebits1,right_index=True,left_index=True)\n",
    "timeDebitRythme=pd.merge(timeDebitRythme,timeDebits2,right_index=True,left_index=True)\n",
    "timeDebitRythme=pd.merge(timeDebitRythme,timeDebits3,right_index=True,left_index=True)"
   ]
  },
  {
   "cell_type": "code",
   "execution_count": 65,
   "metadata": {
    "collapsed": false
   },
   "outputs": [
    {
     "data": {
      "text/plain": [
       "S1D5.00    0.757203\n",
       "S2D5.00    0.275421\n",
       "dtype: float64"
      ]
     },
     "execution_count": 65,
     "metadata": {},
     "output_type": "execute_result"
    }
   ],
   "source": [
    "#timeDebitRythme[timeDebitRythme[\"S2D2.00\"]!=0][\"S2D2.00\"]\n",
    "timeDebitRythme[timeDebitRythme[\"R5.00\"]>5][[\"S1D5.00\",\"S2D5.00\"]].std()\n",
    "#timeDebitRythme"
   ]
  },
  {
   "cell_type": "code",
   "execution_count": 69,
   "metadata": {
    "collapsed": false
   },
   "outputs": [],
   "source": [
    "#timeDebitRythme[[\"S1D2.00\",\"S2D2.00\",\"S3D2.00\",\"R5.00\"]].plot(figsize=(4000,4),xticks=np.arange(3000,600000,1000))\n",
    "#timeDebitRythme[[\"S1D5.00\",\"S2D5.00\",\"R5.00\"]].plot(figsize=(800,4),xticks=np.arange(3000,600000,1000))\n",
    "timeDebitRythme[[\"R3.00\",\"R4.00\",\"R5.00\"]].plot(figsize=(800,4),xticks=np.arange(3000,600000,1000))\n",
    "plt.savefig(repertoire+'myplot.pdf')"
   ]
  },
  {
   "cell_type": "code",
   "execution_count": 67,
   "metadata": {
    "collapsed": false
   },
   "outputs": [],
   "source": [
    "#plt.plot(timeDebitRythme[[\"D3.00\",\"R3.00\"]])\n",
    "#plt.figure(figsize=(40000,4))\n",
    "plt.plot(timeDebitRythme[\"D3.00\"])\n",
    "#plt.xticks(np.arange(3000,600000,1000))\n",
    "#plt.show()\n",
    "plt.savefig(repertoire+'myplot.pdf')"
   ]
  }
 ],
 "metadata": {
  "kernelspec": {
   "display_name": "Python 2",
   "language": "python",
   "name": "python2"
  },
  "language_info": {
   "codemirror_mode": {
    "name": "ipython",
    "version": 2
   },
   "file_extension": ".py",
   "mimetype": "text/x-python",
   "name": "python",
   "nbconvert_exporter": "python",
   "pygments_lexer": "ipython2",
   "version": "2.7.10"
  }
 },
 "nbformat": 4,
 "nbformat_minor": 0
}
