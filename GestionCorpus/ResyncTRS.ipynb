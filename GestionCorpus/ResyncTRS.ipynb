{
 "cells": [
  {
   "cell_type": "markdown",
   "id": "100fd1c9",
   "metadata": {},
   "source": [
    "# Resynchronisation TRS\n",
    "calculer le ratio entre le temps TRS initial et le temps voulu.   \n",
    "appliquer le ratio à tous les attributs de temps dans le TRS :\n",
    "- Section\n",
    "- Turn\n",
    "- Sync\n",
    "  \n",
    "sauver le résultat avec l'encodage par défaut de Transcriber : ISO-8859-1"
   ]
  },
  {
   "cell_type": "code",
   "execution_count": 1,
   "id": "b858b02e-9311-40d6-a666-7869d3900c3c",
   "metadata": {},
   "outputs": [],
   "source": [
    "def calTime(chaine):\n",
    "    h,m,s=chaine.split(\":\")\n",
    "    h=float(h)\n",
    "    m=float(m)\n",
    "    s=float(s)\n",
    "    time=(h*60+m)*60+s\n",
    "    return time"
   ]
  },
  {
   "cell_type": "code",
   "execution_count": 2,
   "id": "c7235f11-730c-4b03-bab5-1d3b669cbe13",
   "metadata": {},
   "outputs": [
    {
     "data": {
      "text/plain": [
       "0.9953217780387519"
      ]
     },
     "execution_count": 2,
     "metadata": {},
     "output_type": "execute_result"
    }
   ],
   "source": [
    "tMp3=\"01:50:48.000\"\n",
    "tTRS=\"01:51:19.247\"\n",
    "ratio=calTime(tMp3)/calTime(tTRS)\n",
    "ratio"
   ]
  },
  {
   "cell_type": "code",
   "execution_count": 3,
   "id": "f9c111a1",
   "metadata": {
    "collapsed": false,
    "jupyter": {
     "outputs_hidden": false
    }
   },
   "outputs": [],
   "source": [
    "from lxml import etree\n",
    "import codecs"
   ]
  },
  {
   "cell_type": "code",
   "execution_count": 4,
   "id": "fe7d8114-2ce5-4a1e-9629-23dd1490c939",
   "metadata": {},
   "outputs": [],
   "source": [
    "fTRS=\"/Users/gilles/Downloads/Japon-Fidji/2007-09-12_Japon-Fidji.trs\""
   ]
  },
  {
   "cell_type": "code",
   "execution_count": 5,
   "id": "54d2e49c-351b-4c34-84c2-22b12c99567d",
   "metadata": {},
   "outputs": [],
   "source": [
    "xml=etree.parse(fTRS)\n",
    "root=xml"
   ]
  },
  {
   "cell_type": "code",
   "execution_count": 6,
   "id": "2aa65c58",
   "metadata": {
    "collapsed": false,
    "jupyter": {
     "outputs_hidden": false
    }
   },
   "outputs": [],
   "source": [
    "def calculSync(chaineTemps):\n",
    "    sync=\"%.3f\"%(float(chaineTemps)*ratio)\n",
    "    return sync"
   ]
  },
  {
   "cell_type": "code",
   "execution_count": 7,
   "id": "b581e9ff-011c-4ac8-a099-95966bb793ad",
   "metadata": {},
   "outputs": [
    {
     "data": {
      "text/plain": [
       "'1206.778'"
      ]
     },
     "execution_count": 7,
     "metadata": {},
     "output_type": "execute_result"
    }
   ],
   "source": [
    "calculSync(1212.45)"
   ]
  },
  {
   "cell_type": "code",
   "execution_count": 8,
   "id": "ec0c28db-9162-4aad-bcf2-96d017f526d9",
   "metadata": {},
   "outputs": [],
   "source": [
    "for section in root.xpath('//Section'):\n",
    "    startTRS=section.get(\"startTime\")\n",
    "    startSync=calculSync(startTRS)\n",
    "    section.attrib[\"startTime\"]=startSync\n",
    "    endTRS=section.get(\"endTime\")\n",
    "    endSync=calculSync(endTRS)\n",
    "    section.attrib[\"endTime\"]=endSync"
   ]
  },
  {
   "cell_type": "code",
   "execution_count": 9,
   "id": "febf8ff0-70b1-4d1a-aae4-021c142da992",
   "metadata": {},
   "outputs": [],
   "source": [
    "for turn in root.xpath('//Turn'):\n",
    "    startTRS=turn.get(\"startTime\")\n",
    "    startSync=calculSync(startTRS)\n",
    "    turn.attrib[\"startTime\"]=startSync\n",
    "    endTRS=turn.get(\"endTime\")\n",
    "    endSync=calculSync(endTRS)\n",
    "    turn.attrib[\"endTime\"]=endSync"
   ]
  },
  {
   "cell_type": "code",
   "execution_count": 10,
   "id": "860c6996-cb44-44a9-990c-be2adc57d615",
   "metadata": {},
   "outputs": [],
   "source": [
    "for sync in root.xpath('//Sync'):\n",
    "    timeTRS=sync.get(\"time\")\n",
    "    timeSync=calculSync(timeTRS)\n",
    "    sync.attrib[\"time\"]=timeSync"
   ]
  },
  {
   "cell_type": "code",
   "execution_count": 11,
   "id": "6edc5fc1-83ad-4bc7-a760-a3ba29384b78",
   "metadata": {},
   "outputs": [],
   "source": [
    "xml.write(fTRS.replace(\".trs\",\"-Resync.trs\"), encoding='ISO-8859-1', xml_declaration=True)"
   ]
  },
  {
   "cell_type": "code",
   "execution_count": null,
   "id": "1035fe3e-68db-49e0-af81-0997d3ef49ba",
   "metadata": {},
   "outputs": [],
   "source": []
  }
 ],
 "metadata": {
  "kernelspec": {
   "display_name": "Python 2.7",
   "language": "python",
   "name": "py2"
  },
  "language_info": {
   "codemirror_mode": {
    "name": "ipython",
    "version": 2
   },
   "file_extension": ".py",
   "mimetype": "text/x-python",
   "name": "python",
   "nbconvert_exporter": "python",
   "pygments_lexer": "ipython2",
   "version": "2.7.16"
  }
 },
 "nbformat": 4,
 "nbformat_minor": 5
}
