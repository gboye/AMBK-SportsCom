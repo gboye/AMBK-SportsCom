{
 "cells": [
  {
   "cell_type": "code",
   "execution_count": 3,
   "metadata": {
    "collapsed": true
   },
   "outputs": [],
   "source": [
    "import pandas as pd\n",
    "from numpy import arange\n",
    "import codecs"
   ]
  },
  {
   "cell_type": "code",
   "execution_count": 4,
   "metadata": {
    "collapsed": true
   },
   "outputs": [],
   "source": [
    "%matplotlib inline\n",
    "import matplotlib\n",
    "import numpy as np\n",
    "import matplotlib.pyplot as plt"
   ]
  },
  {
   "cell_type": "code",
   "execution_count": 5,
   "metadata": {
    "collapsed": true
   },
   "outputs": [],
   "source": [
    "import pickle"
   ]
  },
  {
   "cell_type": "code",
   "execution_count": null,
   "metadata": {
    "collapsed": true
   },
   "outputs": [],
   "source": [
    "commentairesName=\"/Users/gilles/Copy/Recherche/Rugby/Videos/CorrespondancesAction-PlayVsColour.csv\"\n",
    "commentairesTypesName=\"/Users/gilles/Copy/Recherche/Rugby/CorpusRugby2007/Timeline-TypeCommentaires.pkl\"\n",
    "commentaireActionName=\"/Users/gilles/Copy/Recherche/Rugby/CorpusRugby2007/Timeline-CommentaireAction.pkl\"\n",
    "commentairesFile=codecs.open(commentairesName,\"r\",encoding=\"utf8\")\n",
    "commentaires=commentairesFile.readlines()"
   ]
  },
  {
   "cell_type": "code",
   "execution_count": null,
   "metadata": {
    "collapsed": false
   },
   "outputs": [],
   "source": [
    "initialTime=\"00:11:52.4\"\n",
    "decalage=0\n",
    "def decodeTime(temps):\n",
    "    (heure,minute,seconde)=temps.split(\":\")\n",
    "    result=int(100*(3600*int(heure)+60*int(minute)+float(seconde))-decalage)\n",
    "    return result\n",
    "\n",
    "decalage=decodeTime(initialTime)\n",
    "print decalage, decodeTime(initialTime)"
   ]
  },
  {
   "cell_type": "code",
   "execution_count": null,
   "metadata": {
    "collapsed": false
   },
   "outputs": [],
   "source": [
    "def sliceDataFrame(df,debut,fin,seuil,colonnes):\n",
    "    return df[df.index<fin][df[df.index<fin].index>=debut][colonnes].dropna(thresh=seuil)"
   ]
  },
  {
   "cell_type": "code",
   "execution_count": null,
   "metadata": {
    "collapsed": false
   },
   "outputs": [],
   "source": [
    "#timeLine=pd.DataFrame(index=[float(i)/100 for i in range(6500000)],columns=[\"début\",\"fin\",\"V1\",\"V2\",\"V3\"])\n",
    "timeLine=pd.DataFrame(columns=[\"début\",\"fin\",\"numEvent\",\"événement\",\"numAct\",\"action\",\"numSpk\",\"Spk\",\"texte\",\"PxP\",\"colour\"])"
   ]
  },
  {
   "cell_type": "code",
   "execution_count": null,
   "metadata": {
    "collapsed": false
   },
   "outputs": [],
   "source": [
    "for ligne in commentaires[1:]:\n",
    "    elements=ligne.strip().split(\";\")\n",
    "\n",
    "    if elements[14]==\"\":\n",
    "        typeCommentaire=elements[13]\n",
    "    else:\n",
    "        typeCommentaire=elements[14]\n",
    "\n",
    "    if typeCommentaire in [\"Play by play\",\"Ponctuant\"]:\n",
    "        boolPlay=1\n",
    "        boolColour=np.nan\n",
    "    elif typeCommentaire in [\"Colour commentary\",\"Color commentary\",\"Color Commentary\"]:\n",
    "        boolPlay=np.nan\n",
    "        boolColour=1\n",
    "    elif typeCommentaire==\"\":\n",
    "        boolPlay=np.nan\n",
    "        boolColour=np.nan\n",
    "    else:\n",
    "        print \"commentaire non-standard\",typeCommentaire\n",
    "    \n",
    "    if \" \" in elements[5]:\n",
    "        (numEvent,Event)=elements[5].split(\" \",1)\n",
    "        numEvent=int(numEvent)\n",
    "    else:\n",
    "        (numEvent,Event)=(np.nan,np.nan)\n",
    "    if \" \" in elements[6]:\n",
    "        (numAction,Action)=elements[6].split(\" \",1)\n",
    "        numAction=int(numAction.strip(\"A-\"))\n",
    "    else:\n",
    "        (numAction,Action)=(np.nan,np.nan)\n",
    "    if \" \" in elements[8]:\n",
    "        (numSpk,texte)=elements[8].split(\" \",1)\n",
    "        if \"-\" in numSpk:\n",
    "            (spk,numSpk)=numSpk.split(\"-\",1)\n",
    "            numSpk=int(numSpk)\n",
    "        else:\n",
    "            numSpk=np.nan\n",
    "            spk=numSpk\n",
    "    else:\n",
    "        (numSpk,texte)=(np.nan,np.nan)\n",
    "\n",
    "    timeLine.loc[decodeTime(elements[1])]=[decodeTime(elements[1]),decodeTime(elements[2]),numEvent,Event,numAction,Action, numSpk,spk,texte, boolPlay, boolColour]"
   ]
  },
  {
   "cell_type": "code",
   "execution_count": null,
   "metadata": {
    "collapsed": false
   },
   "outputs": [],
   "source": [
    "timeLine[timeLine.index<3400].dropna(subset=[\"PxP\"]).iloc[-1][\"fin\"]"
   ]
  },
  {
   "cell_type": "code",
   "execution_count": null,
   "metadata": {
    "collapsed": false
   },
   "outputs": [],
   "source": [
    "timeLine"
   ]
  },
  {
   "cell_type": "code",
   "execution_count": null,
   "metadata": {
    "collapsed": false
   },
   "outputs": [],
   "source": [
    "timeLine[timeLine[\"numAction\"].notnull()][\"textAction\"]=timeLine[\"action\"].str.split(\" \").str[1:]\n",
    "timeLine[timeLine[\"numAction\"].notnull()]"
   ]
  },
  {
   "cell_type": "code",
   "execution_count": null,
   "metadata": {
    "collapsed": false
   },
   "outputs": [],
   "source": [
    "timeLine"
   ]
  },
  {
   "cell_type": "code",
   "execution_count": null,
   "metadata": {
    "collapsed": false
   },
   "outputs": [],
   "source": [
    "#sliceDataFrame(timeLine,3200,3300,1,[\"colour\"])"
   ]
  },
  {
   "cell_type": "code",
   "execution_count": null,
   "metadata": {
    "collapsed": false
   },
   "outputs": [],
   "source": [
    "%%time\n",
    "timeCommentType=pd.DataFrame(columns=[\"PxP\",\"colour\",\"sumPxP\",\"sumColour\"])\n",
    "step=100\n",
    "for i in arange(3000,644000,step):\n",
    "    if len(sliceDataFrame(timeLine,i,i+step,1,[\"PxP\"])) > 0:\n",
    "#        print \"PxP\",i\n",
    "        PxP=1\n",
    "        sumPxP=sliceDataFrame(timeLine,i,i+step,1,[\"PxP\"])[\"PxP\"].sum()\n",
    "    else:\n",
    "        PxP=0\n",
    "        sumPxP=0\n",
    "    if len(timeLine[timeLine.index<i].dropna(subset=[\"PxP\"]))>0:\n",
    "        if timeLine[timeLine.index<i].dropna(subset=[\"PxP\"]).iloc[-1][\"fin\"]>i:\n",
    "            PxP=1\n",
    "            sumPxP+=1\n",
    "#            print \"PxP+\",i,PxP\n",
    "    if len(sliceDataFrame(timeLine,i,i+step,1,[\"colour\"])) > 0:\n",
    "#        print \"colour\",i\n",
    "        colour=1\n",
    "        sumColour=sliceDataFrame(timeLine,i,i+step,1,[\"colour\"])[\"colour\"].sum()\n",
    "    else:\n",
    "        colour=0\n",
    "        sumColour=0\n",
    "    if len(timeLine[timeLine.index<i].dropna(subset=[\"colour\"]))>0:\n",
    "        if timeLine[timeLine.index<i].dropna(subset=[\"colour\"]).iloc[-1][\"fin\"]>i:\n",
    "            colour=1\n",
    "            sumColour+=1\n",
    "    timeCommentType.loc[i]=[PxP, colour, sumPxP, sumColour]"
   ]
  },
  {
   "cell_type": "code",
   "execution_count": null,
   "metadata": {
    "collapsed": false,
    "scrolled": true
   },
   "outputs": [],
   "source": [
    "#timeCommentType[0:5880][timeCommentType[\"sumPxP\"]>1]\n",
    "timeCommentType"
   ]
  },
  {
   "cell_type": "code",
   "execution_count": null,
   "metadata": {
    "collapsed": true
   },
   "outputs": [],
   "source": [
    "with codecs.open(commentairesTypesName,\"wb\") as output:\n",
    "    pickle.dump(timeCommentType, output, pickle.HIGHEST_PROTOCOL)"
   ]
  },
  {
   "cell_type": "code",
   "execution_count": null,
   "metadata": {
    "collapsed": false
   },
   "outputs": [],
   "source": [
    "with codecs.open(commentaireActionName,\"wb\") as output:\n",
    "    pickle.dump(timeLine[[\"début\",\"fin\",\"numEvent\",\"événement\",\"numAct\",\"action\",\"numSpk\",\"Spk\",\"texte\"]], output, pickle.HIGHEST_PROTOCOL)"
   ]
  },
  {
   "cell_type": "code",
   "execution_count": null,
   "metadata": {
    "collapsed": false
   },
   "outputs": [],
   "source": [
    "timeLine"
   ]
  }
 ],
 "metadata": {
  "kernelspec": {
   "display_name": "Python 2",
   "language": "python",
   "name": "python2"
  },
  "language_info": {
   "codemirror_mode": {
    "name": "ipython",
    "version": 2
   },
   "file_extension": ".py",
   "mimetype": "text/x-python",
   "name": "python",
   "nbconvert_exporter": "python",
   "pygments_lexer": "ipython2",
   "version": "2.7.10"
  }
 },
 "nbformat": 4,
 "nbformat_minor": 0
}
