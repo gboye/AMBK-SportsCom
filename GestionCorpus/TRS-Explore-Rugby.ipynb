{
 "cells": [
  {
   "cell_type": "code",
   "execution_count": 1,
   "metadata": {
    "collapsed": true
   },
   "outputs": [],
   "source": [
    "from lxml import etree\n",
    "import bs4\n",
    "import pandas as pd\n",
    "import codecs\n",
    "import pickle"
   ]
  },
  {
   "cell_type": "code",
   "execution_count": 2,
   "metadata": {
    "collapsed": true
   },
   "outputs": [],
   "source": [
    "%matplotlib inline\n",
    "import matplotlib\n",
    "import numpy as np\n",
    "import matplotlib.pyplot as plt"
   ]
  },
  {
   "cell_type": "code",
   "execution_count": 3,
   "metadata": {
    "collapsed": true
   },
   "outputs": [],
   "source": [
    "finMT1=273300\n",
    "debutMT2=324500"
   ]
  },
  {
   "cell_type": "code",
   "execution_count": 4,
   "metadata": {
    "collapsed": true
   },
   "outputs": [],
   "source": [
    "fichierTRS=\"/Users/gilles/Copy/Recherche/Rugby/France_Argentine_ANNOT-REF_essai.trs\""
   ]
  },
  {
   "cell_type": "code",
   "execution_count": 5,
   "metadata": {
    "collapsed": false
   },
   "outputs": [],
   "source": [
    "xmlTRS=etree.parse(fichierTRS)\n",
    "if 0: print etree.tostring(xmlTRS)"
   ]
  },
  {
   "cell_type": "code",
   "execution_count": 6,
   "metadata": {
    "collapsed": false,
    "scrolled": true
   },
   "outputs": [],
   "source": [
    "rootTRS=xmlTRS.getroot()\n",
    "if 0: print etree.tostring(rootTRS)"
   ]
  },
  {
   "cell_type": "code",
   "execution_count": 7,
   "metadata": {
    "collapsed": false
   },
   "outputs": [],
   "source": [
    "#timeLine=pd.DataFrame(columns=[\"début\",\"fin\",\"speaker\",\"durée\",\"texte\",\"PxP\",\"colour\",\"support\"])\n",
    "timeLine=pd.DataFrame(columns=[\"début\",\"fin\",\"speaker\",\"durée\",\"texte\"])"
   ]
  },
  {
   "cell_type": "code",
   "execution_count": 8,
   "metadata": {
    "collapsed": false
   },
   "outputs": [
    {
     "name": "stdout",
     "output_type": "stream",
     "text": [
      "192333 hé oui avec Jauzion et => PB\n",
      "231934 tonique euh il peut regardez cinq mètres derrière il peut continuer => spk1\n"
     ]
    }
   ],
   "source": [
    "numSpk={1:1,2:1}\n",
    "for turn in rootTRS.xpath('//Section[@type=\"report\"]/Turn'):\n",
    "    listeTour=[m.strip() for m in turn.xpath(\"./text()\") if not m.strip() in [\"\",\"PAUSE\"]]\n",
    "    if listeTour:\n",
    "        debut=100*float(turn.attrib[\"startTime\"])\n",
    "        fin=100*float(turn.attrib[\"endTime\"])\n",
    "        duree=fin-debut\n",
    "        textTour= \"\\n\".join(listeTour)\n",
    "        timeCode=int(round(debut))\n",
    "        if \"speaker\" in turn.attrib:\n",
    "            speaker=turn.attrib['speaker']\n",
    "            if \" \" in speaker:\n",
    "                speaker=\"PB\"\n",
    "        elif timeCode in [231934]:\n",
    "            speaker=\"spk1\"\n",
    "            print timeCode,textTour, \"=>\", speaker    \n",
    "        elif timeCode in [157235,480978]:\n",
    "            speaker=\"spk2\"\n",
    "            print timeCode,textTour, \"=>\", speaker    \n",
    "        elif timeCode in [192333]:\n",
    "            speaker=\"PB\"\n",
    "            print timeCode,textTour, \"=>\", speaker    \n",
    "        else:\n",
    "            speaker=\"PB\"\n",
    "            print timeCode,textTour\n",
    "        timeLine.loc[timeCode]=(debut, fin, speaker, duree, textTour)"
   ]
  },
  {
   "cell_type": "code",
   "execution_count": 10,
   "metadata": {
    "collapsed": false
   },
   "outputs": [
    {
     "name": "stdout",
     "output_type": "stream",
     "text": [
      "\n"
     ]
    }
   ],
   "source": [
    "def trancheTemps(duree):\n",
    "    tranches=[i*100 for i in range(1,10)]\n",
    "    for tranche in tranches:\n",
    "        if duree<=tranche:\n",
    "            return (tranche)/100"
   ]
  },
  {
   "cell_type": "code",
   "execution_count": 11,
   "metadata": {
    "collapsed": false
   },
   "outputs": [
    {
     "data": {
      "text/plain": [
       "2"
      ]
     },
     "execution_count": 11,
     "metadata": {},
     "output_type": "execute_result"
    }
   ],
   "source": [
    "trancheTemps(168)"
   ]
  },
  {
   "cell_type": "code",
   "execution_count": 12,
   "metadata": {
    "collapsed": true
   },
   "outputs": [],
   "source": [
    "timeLine[\"dureeS1\"]=timeLine[(timeLine[\"speaker\"]==\"spk1\") & (timeLine[\"texte\"].dropna())].apply(lambda x: trancheTemps(x[\"fin\"]-x[\"début\"]),axis=1)\n",
    "timeLine[\"dureeS2\"]=timeLine[(timeLine[\"speaker\"]==\"spk2\") & (timeLine[\"texte\"].dropna())].apply(lambda x: trancheTemps(x[\"fin\"]-x[\"début\"]),axis=1)"
   ]
  },
  {
   "cell_type": "code",
   "execution_count": 13,
   "metadata": {
    "collapsed": false
   },
   "outputs": [
    {
     "name": "stdout",
     "output_type": "stream",
     "text": [
      "dureeS1 2 1\n",
      "dureeS2 2 1\n"
     ]
    }
   ],
   "source": [
    "#timeLine[timeLine[\"speaker\"]==\"spk1\"]\n",
    "for duree in [\"dureeS1\",\"dureeS2\"]:\n",
    "    print duree, int(timeLine[duree].mean()), int(timeLine[duree].std())"
   ]
  },
  {
   "cell_type": "markdown",
   "metadata": {},
   "source": [
    "## Moyennes et Ecart-types pour les durées de S1"
   ]
  },
  {
   "cell_type": "code",
   "execution_count": 15,
   "metadata": {
    "collapsed": false
   },
   "outputs": [
    {
     "name": "stdout",
     "output_type": "stream",
     "text": [
      "Général\t2.24388379205 1.04056995092\n",
      "MT1\t2.22765598651 1.05288089486\n",
      "MT2\t2.25734265734 1.03079267794\n"
     ]
    }
   ],
   "source": [
    "print \"Général\\t\",timeLine[\"dureeS1\"].mean(),timeLine[\"dureeS1\"].std()\n",
    "print \"MT1\\t\",timeLine[timeLine[\"début\"]<finMT1][\"dureeS1\"].mean(),timeLine[timeLine[\"début\"]<finMT1][\"dureeS1\"].std()\n",
    "print \"MT2\\t\",timeLine[timeLine[\"début\"]>debutMT2][\"dureeS1\"].mean(),timeLine[timeLine[\"début\"]>debutMT2][\"dureeS1\"].std()"
   ]
  },
  {
   "cell_type": "markdown",
   "metadata": {},
   "source": [
    "## Moyennes et Ecart-types pour les durées de S2"
   ]
  },
  {
   "cell_type": "code",
   "execution_count": 16,
   "metadata": {
    "collapsed": false
   },
   "outputs": [
    {
     "name": "stdout",
     "output_type": "stream",
     "text": [
      "Général\t2.55663430421 1.59644956529\n",
      "MT1\t2.56845238095 1.506627741\n",
      "MT2\t2.54255319149 1.69989466044\n"
     ]
    }
   ],
   "source": [
    "print \"Général\\t\",timeLine[\"dureeS2\"].mean(),timeLine[\"dureeS2\"].std()\n",
    "print \"MT1\\t\",timeLine[timeLine[\"début\"]<finMT1][\"dureeS2\"].mean(),timeLine[timeLine[\"début\"]<finMT1][\"dureeS2\"].std()\n",
    "print \"MT2\\t\",timeLine[timeLine[\"début\"]>debutMT2][\"dureeS2\"].mean(),timeLine[timeLine[\"début\"]>debutMT2][\"dureeS2\"].std()"
   ]
  },
  {
   "cell_type": "markdown",
   "metadata": {},
   "source": [
    "## Distribution des durées de S1 en général"
   ]
  },
  {
   "cell_type": "code",
   "execution_count": 21,
   "metadata": {
    "collapsed": false
   },
   "outputs": [
    {
     "data": {
      "image/png": "[encoded data removed]",
      "text/plain": [
       "<matplotlib.figure.Figure at 0x107e20bd0>"
      ]
     },
     "metadata": {},
     "output_type": "display_data"
    }
   ],
   "source": [
    "tableS1=pd.pivot_table(timeLine[[\"début\",\"dureeS1\"]],index=\"dureeS1\",values=\"début\",aggfunc=\"count\")\n",
    "ax=tableS1.plot(kind=\"bar\",figsize=(5,4),ylim=(0,600),xlim=(-1,9))"
   ]
  },
  {
   "cell_type": "markdown",
   "metadata": {},
   "source": [
    "## Distribution des durées de S1 en général dans MT1"
   ]
  },
  {
   "cell_type": "code",
   "execution_count": 18,
   "metadata": {
    "collapsed": false
   },
   "outputs": [
    {
     "data": {
      "text/plain": [
       "<matplotlib.axes._subplots.AxesSubplot at 0x107a26c90>"
      ]
     },
     "execution_count": 18,
     "metadata": {},
     "output_type": "execute_result"
    },
    {
     "data": {
      "image/png": "[encoded data removed]",
      "text/plain": [
       "<matplotlib.figure.Figure at 0x107b0dc90>"
      ]
     },
     "metadata": {},
     "output_type": "display_data"
    }
   ],
   "source": [
    "tableS1=pd.pivot_table(timeLine[timeLine[\"début\"]<finMT1][[\"début\",\"dureeS1\"]],index=\"dureeS1\",values=\"début\",aggfunc=\"count\")\n",
    "tableS1.plot(kind=\"bar\",figsize=(5,4))"
   ]
  },
  {
   "cell_type": "markdown",
   "metadata": {},
   "source": [
    "## Distribution des durées de S1 en général dans MT2"
   ]
  },
  {
   "cell_type": "code",
   "execution_count": 19,
   "metadata": {
    "collapsed": false
   },
   "outputs": [
    {
     "data": {
      "text/plain": [
       "<matplotlib.axes._subplots.AxesSubplot at 0x107bbdd10>"
      ]
     },
     "execution_count": 19,
     "metadata": {},
     "output_type": "execute_result"
    },
    {
     "data": {
      "image/png": "[encoded data removed]",
      "text/plain": [
       "<matplotlib.figure.Figure at 0x107c1da90>"
      ]
     },
     "metadata": {},
     "output_type": "display_data"
    }
   ],
   "source": [
    "tableS1=pd.pivot_table(timeLine[timeLine[\"début\"]>debutMT2][[\"début\",\"dureeS1\"]],index=\"dureeS1\",values=\"début\",aggfunc=\"count\")\n",
    "tableS1.plot(kind=\"bar\",figsize=(5,4))"
   ]
  },
  {
   "cell_type": "markdown",
   "metadata": {},
   "source": [
    "## Distribution des durées de S2 en général"
   ]
  },
  {
   "cell_type": "code",
   "execution_count": 22,
   "metadata": {
    "collapsed": false
   },
   "outputs": [
    {
     "data": {
      "text/plain": [
       "<matplotlib.axes._subplots.AxesSubplot at 0x107f68a10>"
      ]
     },
     "execution_count": 22,
     "metadata": {},
     "output_type": "execute_result"
    },
    {
     "data": {
      "image/png": "[encoded data removed]",
      "text/plain": [
       "<matplotlib.figure.Figure at 0x107dab090>"
      ]
     },
     "metadata": {},
     "output_type": "display_data"
    }
   ],
   "source": [
    "tableS2=pd.pivot_table(timeLine[[\"début\",\"dureeS2\"]],index=\"dureeS2\",values=\"début\",aggfunc=\"count\")\n",
    "tableS2.plot(kind=\"bar\",figsize=(5,4),ylim=(0,600),xlim=(-1,9))"
   ]
  },
  {
   "cell_type": "markdown",
   "metadata": {},
   "source": [
    "## Distribution des durées de S2 en général dans MT1"
   ]
  },
  {
   "cell_type": "code",
   "execution_count": 178,
   "metadata": {
    "collapsed": false
   },
   "outputs": [
    {
     "data": {
      "text/plain": [
       "<matplotlib.axes._subplots.AxesSubplot at 0x11eb6b550>"
      ]
     },
     "execution_count": 178,
     "metadata": {},
     "output_type": "execute_result"
    },
    {
     "data": {
      "image/png": "[encoded data removed]",
      "text/plain": [
       "<matplotlib.figure.Figure at 0x11eb5d090>"
      ]
     },
     "metadata": {},
     "output_type": "display_data"
    }
   ],
   "source": [
    "tableS2=pd.pivot_table(timeLine[timeLine[\"début\"]<finMT1][[\"début\",\"dureeS2\"]],index=\"dureeS2\",values=\"début\",aggfunc=\"count\")\n",
    "tableS2.plot(kind=\"bar\",figsize=(5,4))"
   ]
  },
  {
   "cell_type": "markdown",
   "metadata": {},
   "source": [
    "## Distribution des durées de S2 en général dans MT2"
   ]
  },
  {
   "cell_type": "code",
   "execution_count": 179,
   "metadata": {
    "collapsed": false
   },
   "outputs": [
    {
     "data": {
      "text/plain": [
       "<matplotlib.axes._subplots.AxesSubplot at 0x11eca9850>"
      ]
     },
     "execution_count": 179,
     "metadata": {},
     "output_type": "execute_result"
    },
    {
     "data": {
      "image/png": "[encoded data removed]",
      "text/plain": [
       "<matplotlib.figure.Figure at 0x11ed85050>"
      ]
     },
     "metadata": {},
     "output_type": "display_data"
    }
   ],
   "source": [
    "tableS2=pd.pivot_table(timeLine[timeLine[\"début\"]>debutMT2][[\"début\",\"dureeS2\"]],index=\"dureeS2\",values=\"début\",aggfunc=\"count\")\n",
    "tableS2.plot(kind=\"bar\",figsize=(5,4))"
   ]
  }
 ],
 "metadata": {
  "kernelspec": {
   "display_name": "Python 2",
   "language": "python",
   "name": "python2"
  },
  "language_info": {
   "codemirror_mode": {
    "name": "ipython",
    "version": 2
   },
   "file_extension": ".py",
   "mimetype": "text/x-python",
   "name": "python",
   "nbconvert_exporter": "python",
   "pygments_lexer": "ipython2",
   "version": "2.7.11"
  }
 },
 "nbformat": 4,
 "nbformat_minor": 0
}
