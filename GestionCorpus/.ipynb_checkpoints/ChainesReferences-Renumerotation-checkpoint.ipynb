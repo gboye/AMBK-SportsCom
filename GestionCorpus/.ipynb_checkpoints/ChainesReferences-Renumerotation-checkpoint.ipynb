{
 "cells": [
  {
   "cell_type": "code",
   "execution_count": 1,
   "id": "852dd59e",
   "metadata": {},
   "outputs": [],
   "source": [
    "import pandas as pd\n",
    "import numpy as np\n",
    "import re, pyperclip,codecs\n",
    "from IPython.core.display import display, HTML"
   ]
  },
  {
   "cell_type": "code",
   "execution_count": 2,
   "id": "2636a4dc",
   "metadata": {},
   "outputs": [
    {
     "name": "stdout",
     "output_type": "stream",
     "text": [
      "/Users/gilles/pCloud Drive/FOD/GB/Copy/Recherche/Rugby/ChainesReferences/FR-AR-fr-GB-corr.xlsx\n",
      "/Users/gilles/pCloud Drive/FOD/GB/Copy/Recherche/Rugby/ChainesReferences/FR-AR-fr-GB-diff.xlsx\n",
      "/Users/gilles/pCloud Drive/FOD/GB/Copy/Recherche/Rugby/ChainesReferences/FR-AR-fr-GB-export.xlsx\n",
      "/Users/gilles/pCloud Drive/FOD/GB/Copy/Recherche/Rugby/ChainesReferences/FR-AR-fr-GB-corr-Mentions.html\n",
      "/Users/gilles/pCloud Drive/FOD/GB/Copy/Recherche/Rugby/ChainesReferences/FR-AR-fr-GB-corr-NoMentions.html\n"
     ]
    }
   ],
   "source": [
    "repChaines=\"/Users/gilles/pCloud Drive/FOD/GB/Copy/Recherche/Rugby/ChainesReferences/\"\n",
    "fChaines=repChaines+\"FR-AR-fr-GB.xlsx\"\n",
    "# fChaines=repChaines+\"FR-NZ-en-GB.xlsx\"\n",
    "fChainesCorr=fChaines.replace(\"-GB.xlsx\",\"-GB-corr.xlsx\")\n",
    "print fChainesCorr\n",
    "fChainesDiff=fChaines.replace(\"-GB.xlsx\",\"-GB-diff.xlsx\")\n",
    "print fChainesDiff\n",
    "fChainesExport=fChaines.replace(\"-GB.xlsx\",\"-GB-export.xlsx\")\n",
    "print fChainesExport\n",
    "fChainesCorrMentions=fChaines.replace(\"-GB.xlsx\",\"-GB-corr-Mentions.html\")\n",
    "print fChainesCorrMentions\n",
    "fChainesCorrNoMentions=fChaines.replace(\"-GB.xlsx\",\"-GB-corr-NoMentions.html\")\n",
    "print fChainesCorrNoMentions\n",
    "\n",
    "\n"
   ]
  },
  {
   "cell_type": "code",
   "execution_count": 3,
   "id": "0241ab1b",
   "metadata": {},
   "outputs": [],
   "source": [
    "def lireChainesXL(fNom):\n",
    "    dfBrut=pd.read_excel(fNom, sheet_name=\"Sheet1\")\n",
    "    colSelection=dfBrut.columns[:6].tolist()+dfBrut.columns[11:].tolist()\n",
    "    dfResult=dfBrut[colSelection]\n",
    "    dfResult.columns=\"Modif, Referent, numChaine, chaineIndex, chaineDep, chaineApp, Transcription, Cat, Lemme\".split(\", \")\n",
    "    dfResult=dfResult[[ \\\n",
    "                         \"Transcription\", \"Cat\", \"Lemme\", \\\n",
    "                         \"Referent\", \\\n",
    "                         \"numChaine\", \"chaineIndex\", \"chaineDep\", \"chaineApp\", \\\n",
    "                         \"Modif\", \\\n",
    "                        ]]    \n",
    "    dfResult[\"Referent\"]=dfResult.Referent.str.strip()\n",
    "#     dfResult.numChaine=dfResult.numChaine.astype(\"Int64\")\n",
    "    dfResult[dfResult.numChaine.apply(isinstance, args=(float,))].numChaine=dfResult[dfResult.numChaine.apply(isinstance, args=(float,))].numChaine.astype(\"Int64\")\n",
    "\n",
    "    dfResult.chaineDep=dfResult.chaineDep.astype(\"Int64\")\n",
    "    dfResult.Transcription=dfResult.Transcription.astype(\"unicode\")\n",
    "#     display(dfResult)\n",
    "    return dfResult\n",
    "    "
   ]
  },
  {
   "cell_type": "code",
   "execution_count": 4,
   "id": "f6996f97",
   "metadata": {},
   "outputs": [],
   "source": [
    "dfChaines=lireChainesXL(fChaines)\n",
    "# dfChaines"
   ]
  },
  {
   "cell_type": "markdown",
   "id": "0a360d1f",
   "metadata": {},
   "source": [
    "# Réparations des chaînes incohérentes"
   ]
  },
  {
   "cell_type": "markdown",
   "id": "386dd2f1",
   "metadata": {},
   "source": [
    "### Reports et liste des chaines à référents multiples"
   ]
  },
  {
   "cell_type": "code",
   "execution_count": 5,
   "id": "47497a3a",
   "metadata": {},
   "outputs": [],
   "source": [
    "def listerReferentsMultiples(df):\n",
    "    \n",
    "    def reportReferent(row):\n",
    "        result=row\n",
    "        if row[\"numChaine\"] in dReportReferent:\n",
    "            row[\"Referent\"]=dReportReferent[row[\"numChaine\"]]\n",
    "        return row    \n",
    "    \n",
    "    dNumChaines=df.groupby(\"numChaine\")[\"Referent\"].agg(set).to_dict()\n",
    "    dNumChainesPb={k:list(v) for k,v in dNumChaines.iteritems() if len(v)>1}\n",
    "\n",
    "    dReportReferent={}\n",
    "    for k,v in dNumChainesPb.iteritems():\n",
    "        ref=[r for r in v if r!=\"REPORT\"]\n",
    "        if len(ref)==1:\n",
    "            dReportReferent[k]=ref[0]\n",
    "\n",
    "    df=df.apply(reportReferent,axis=1)\n",
    "\n",
    "    for k in dReportReferent:\n",
    "        dNumChainesPb.pop(k)\n",
    "    lReferentsMultiples=[]\n",
    "    for k,v in dNumChainesPb.iteritems():\n",
    "        lReferentsMultiples.append(\"%05d\\t\"%k+\", \".join(v))\n",
    "    print \"\\n\".join(sorted(lReferentsMultiples))\n",
    "    return df"
   ]
  },
  {
   "cell_type": "code",
   "execution_count": 6,
   "id": "5014229b",
   "metadata": {
    "scrolled": false
   },
   "outputs": [
    {
     "name": "stdout",
     "output_type": "stream",
     "text": [
      "00078\tJM, E\n",
      "00135\tJ-F9, MS\n",
      "00136\tJ-F9, MS\n",
      "00138\tJ-F5, J-A10\n",
      "00143\tJ-F8 + J-F6, J-F6\n",
      "00175\tE anglais, GTF\n",
      "00192\tJ-A9, J-A10\n",
      "00202\tJ-F9, J-A9\n",
      "00238\tIND, GTF\n",
      "00247\tJ-F9, GPF\n",
      "00264\tthierry, MS\n",
      "00269\tJ-F1 + J-A3, J-A3\n",
      "00279\tJ-F12, J-F10 ou J-F12\n",
      "00287\tGTA, J-A9\n",
      "00288\tIND, J-A12\n",
      "00291\tJ-A12 ou J-A13, J-F15\n",
      "00304\tIND, GTA\n",
      "00308\tIND, GTF\n",
      "00320\tIND, GTF\n",
      "00323\tIND, thierry\n",
      "00330\tJ-F10, J-F12 + J-F13\n",
      "00355\tIND, GTF\n",
      "00356\tIND, GTA\n",
      "00361\tthierry, GTF\n",
      "00366\tIND, GPF\n",
      "00385\tIND, GTA\n",
      "00402\tJ-A4 ou J-A8, J-A19\n",
      "00411\tIND, J-F13\n",
      "00412\tIND, GPA\n",
      "00426\tIND, J-A1\n",
      "00427\tIND, GTA\n",
      "00432\tJ-F11, J-F13\n",
      "00459\tJ-A12 ou J-A13, JML\n",
      "00461\t462, Buteur1\n",
      "00465\tJ-F11, J-F15\n",
      "00466\tJ-F11, J-A14\n",
      "00482\tIND, GTA\n",
      "00484\tIND, J-A9\n",
      "00491\tIND, J-F10\n",
      "00492\tIND, GTA\n",
      "00493\tGPA, GTF\n",
      "00494\tIND, J-F10\n",
      "00497\tIND, thierry\n",
      "00505\tIND, GTF\n",
      "00509\tIND, J-F2\n",
      "00528\tthierry, E\n",
      "00529\tIND, GTF\n",
      "00530\tIND, GTA, GTF\n",
      "00537\tIND, GTA\n",
      "00538\tGTA, GTF\n",
      "00540\tIND, GTF\n",
      "00544\tIND, GTF\n",
      "00566\tIND, thierry\n",
      "00585\tIND, GPF\n",
      "00592\tJ-F9, J-F7\n",
      "00598\tJ-F10, J-A14, MS\n",
      "00601\tGTA, J-F10\n",
      "00625\tJ-F11, J-A15\n",
      "00666\tIND, GTF\n",
      "00695\tIND, GTF\n",
      "00698\tGPF, J-F4, J-F7\n",
      "00713\tJ-F2, J-F7\n",
      "00734\tIND, J-A6\n",
      "00743\tGPF, E\n",
      "00776\tIND, GTF\n",
      "00787\tGPF, J-F5\n",
      "00788\tGPF, J-F2\n",
      "00799\tJ-F18, R, J-F8\n",
      "00803\tJ-F10, FL\n",
      "00809\tJ-F8, GTF\n",
      "00810\tJ-F8, GTG\n",
      "00831\tGPA, J-F14\n",
      "00833\tIND, MS\n",
      "00835\tAA, GPA\n",
      "00836\tAA, R\n",
      "00837\tR, MS\n",
      "00839\tGTA, J-A2\n",
      "00842\tAA, MS\n",
      "00846\tA, J-A22\n",
      "00867\tAA, J-F14\n",
      "00893\tJ-F9, J-F22\n",
      "00903\tGPF, GPA\n",
      "00919\tMS, GTF\n",
      "00921\tGTA, J-F22\n",
      "00924\tIND, GTF\n",
      "00942\tIND, FL\n",
      "00951\tIND, GTF\n",
      "00952\tAA, IND\n",
      "00969\tJ-F21, thierry\n",
      "00980\tJ-A5, J-A1, GPA\n",
      "00992\tIND, thierry\n",
      "01001\tGTA, J-A11\n",
      "01020\tIND, GTF\n",
      "01022\tGTA, FL\n",
      "01027\tJ-A12, GTF\n",
      "01058\tIND, J-F22\n",
      "01072\tGTA, GTF\n",
      "01075\tGTA, GTF\n",
      "10068\tIND, IND GTF, GTA\n",
      "20001\tthierry, J-A9\n",
      "20004\tA, J-A3\n"
     ]
    }
   ],
   "source": [
    "dfChaines=listerReferentsMultiples(dfChaines)"
   ]
  },
  {
   "cell_type": "markdown",
   "id": "1f519fcd",
   "metadata": {},
   "source": [
    "# Corrections manuelles et vérification"
   ]
  },
  {
   "cell_type": "code",
   "execution_count": null,
   "id": "4c442031",
   "metadata": {
    "scrolled": true
   },
   "outputs": [],
   "source": [
    "dfChainesCorr=lireChainesXL(fChainesCorr)"
   ]
  },
  {
   "cell_type": "code",
   "execution_count": null,
   "id": "971e775f",
   "metadata": {},
   "outputs": [],
   "source": [
    "dfChainesCorr=listerReferentsMultiples(dfChainesCorr)"
   ]
  },
  {
   "cell_type": "code",
   "execution_count": null,
   "id": "cfdef34a",
   "metadata": {
    "scrolled": true
   },
   "outputs": [],
   "source": [
    "dfChainesCorr[dfChainesCorr.chaineApp.notnull()]"
   ]
  },
  {
   "cell_type": "markdown",
   "id": "a3614169",
   "metadata": {},
   "source": [
    "### Liste des corrections pour l'annotateur original"
   ]
  },
  {
   "cell_type": "code",
   "execution_count": null,
   "id": "cbd110ca",
   "metadata": {},
   "outputs": [],
   "source": [
    "dfComparaison=dfChainesCorr.reset_index().merge(dfChaines.reset_index(),indicator=True,how=\"outer\")"
   ]
  },
  {
   "cell_type": "code",
   "execution_count": null,
   "id": "fa06a930",
   "metadata": {},
   "outputs": [],
   "source": [
    "dfDiff=dfComparaison[dfComparaison._merge==\"left_only\"][\"Transcription Cat Lemme Referent numChaine chaineIndex chaineDep chaineApp Modif\".split(\" \")]"
   ]
  },
  {
   "cell_type": "code",
   "execution_count": null,
   "id": "d9aa4484",
   "metadata": {},
   "outputs": [],
   "source": [
    "dfDiff.to_excel(fChainesDiff,encoding=\"utf8\")"
   ]
  },
  {
   "cell_type": "markdown",
   "id": "e8ff7dd2",
   "metadata": {},
   "source": [
    "# Renumérotation des chaines"
   ]
  },
  {
   "cell_type": "code",
   "execution_count": null,
   "id": "5536bc10",
   "metadata": {},
   "outputs": [],
   "source": [
    "newNumChaines={}\n",
    "iNewNumChaines=1\n",
    "oldNumChaines=set()\n",
    "for num in dfChainesCorr[dfChainesCorr.numChaine.notnull()].numChaine.tolist():\n",
    "    if num not in oldNumChaines: \n",
    "        if isinstance(num, int):\n",
    "            newNumChaines[num]=iNewNumChaines\n",
    "            iNewNumChaines+=1\n",
    "        else:\n",
    "            iOldRefs=num.split(\"+\")\n",
    "            iOldRefs=[int(i) for i in iOldRefs]\n",
    "            newStrChaine=[]\n",
    "            for iOldRef in iOldRefs:\n",
    "                newStrChaine.append(str(newNumChaines[iOldRef]))\n",
    "            newNumChaines[num]=\"+\".join(newStrChaine)\n",
    "    oldNumChaines.add(num)"
   ]
  },
  {
   "cell_type": "code",
   "execution_count": null,
   "id": "fa112f98",
   "metadata": {},
   "outputs": [],
   "source": [
    "newNumChaines"
   ]
  },
  {
   "cell_type": "code",
   "execution_count": null,
   "id": "14eb06bb",
   "metadata": {},
   "outputs": [],
   "source": [
    "dfChainesCorr[\"newNumChaine\"]=dfChainesCorr[\"numChaine\"].map(newNumChaines)\n",
    "dfChainesCorr[\"newChaineApp\"]=dfChainesCorr[\"chaineApp\"].map(newNumChaines)"
   ]
  },
  {
   "cell_type": "code",
   "execution_count": null,
   "id": "a8640b8c",
   "metadata": {},
   "outputs": [],
   "source": [
    "dfChainesCorr[\"Mention\"]=np.NaN"
   ]
  },
  {
   "cell_type": "code",
   "execution_count": null,
   "id": "043ea65c",
   "metadata": {},
   "outputs": [],
   "source": [
    "dfTemp=dfChainesCorr[\"numChaine chaineIndex chaineDep chaineApp\".split(\" \")]"
   ]
  },
  {
   "cell_type": "code",
   "execution_count": null,
   "id": "abd509b1",
   "metadata": {},
   "outputs": [],
   "source": [
    "# dfTemp.numChaine=dfTemp.numChaine.astype(\"Int64\")\n",
    "# dfTemp[dfTemp.numChaine.notnull() & dfTemp.chaineApp.isna()]\n",
    "dfTemp[dfTemp.numChaine.notnull()]"
   ]
  },
  {
   "cell_type": "markdown",
   "id": "4c3a90f1",
   "metadata": {},
   "source": [
    "# Extraction des chaines"
   ]
  },
  {
   "cell_type": "code",
   "execution_count": null,
   "id": "cee1e636",
   "metadata": {},
   "outputs": [],
   "source": [
    "lPonct=[\"SENT\"]\n",
    "dfPonct=dfChainesCorr[dfChainesCorr[\"Cat\"].isin(lPonct)]\n",
    "indPonct=dfPonct.index.tolist()\n",
    "# indPonct"
   ]
  },
  {
   "cell_type": "code",
   "execution_count": null,
   "id": "57fea782",
   "metadata": {},
   "outputs": [],
   "source": [
    "dNumChaines=sorted(dfChainesCorr[dfChainesCorr.newNumChaine.notnull()].newNumChaine.unique().tolist())\n",
    "dNumChaines"
   ]
  },
  {
   "cell_type": "code",
   "execution_count": null,
   "id": "f80ebd47",
   "metadata": {},
   "outputs": [],
   "source": [
    "def extraitChaine(numChaine):\n",
    "    bMention=False\n",
    "    def marqueChaine(row):\n",
    "        result=row[\"Transcription\"]\n",
    "        if row.name in indChaine:\n",
    "            try:\n",
    "                chaineIndex=str(int(row[\"chaineIndex\"]))\n",
    "            except:\n",
    "                chaineIndex=\"\"\n",
    "            try:\n",
    "                chaineDep=str(int(row[\"chaineDep\"]))\n",
    "            except:\n",
    "                chaineDep=\"\"\n",
    "            result=\"<b><sub>%s</sub>\"%chaineIndex+result+\"<sub>%s</sub></b>\"%chaineDep\n",
    "        return result\n",
    "    \n",
    "    indChaine=dfChainesCorr[dfChainesCorr[\"newNumChaine\"]==numChaine].index\n",
    "    valsChaineDep=dfChainesCorr[(dfChainesCorr[\"newNumChaine\"]==numChaine) & (dfChainesCorr[\"chaineDep\"].notnull())][\"chaineDep\"].unique().tolist()\n",
    "#     print valsChaineDep\n",
    "    if valsChaineDep:\n",
    "        valChaineDep=valsChaineDep[0]\n",
    "    else:\n",
    "        valChaineDep=np.NaN\n",
    "    valsChaineIndex=dfChainesCorr[(dfChainesCorr[\"newNumChaine\"]==numChaine) & (dfChainesCorr[\"chaineIndex\"].notnull())][\"chaineIndex\"].unique().tolist()\n",
    "    if valsChaineIndex:\n",
    "        valChaineIndex=valsChaineIndex[0]\n",
    "    else:\n",
    "        valChaineIndex=np.NaN\n",
    "    indMention=indChaine[0]\n",
    "#     print indChaine.tolist(),valsChaineDep, valsChaineIndex\n",
    "    if len(indChaine)==1:\n",
    "        bMention=True\n",
    "        dfChainesCorr.loc[indMention,\"Mention\"]=1\n",
    "        dfChainesCorr.loc[indMention,\"chaineIndex\"]=1\n",
    "        dfChainesCorr.loc[indMention,\"chaineDep\"]=0\n",
    "    elif len(valsChaineDep)==1 and len(valsChaineIndex)==1:\n",
    "        bMention=True\n",
    "        if valChaineDep!=0: \n",
    "            print \"Correction chaineDep\",valChaineDep\n",
    "            dfChainesCorr.loc[indMention,\"chaineDep\"]=0\n",
    "        if valChaineIndex!=1: \n",
    "            print \"chaineIndex\",valChaineIndex\n",
    "            dfChainesCorr.loc[indMention,\"chaineIndex\"]=1\n",
    "        dfChainesCorr.loc[indMention,\"Mention\"]=1\n",
    "        \n",
    "    refsChaine=dfChainesCorr[dfChainesCorr[\"newNumChaine\"]==numChaine].Referent.unique().tolist()\n",
    "    \n",
    "    try:\n",
    "        debChaine=max([i for i in indPonct if i<indChaine.min()])\n",
    "    except:\n",
    "        debChaine=-1\n",
    "\n",
    "    try:\n",
    "        finChaine=min([i for i in indPonct if i>indChaine.max()])\n",
    "    except:\n",
    "        finChaine=dfChainesCorr.index.max()\n",
    "    \n",
    "    dfContexte=dfChainesCorr[(debChaine<dfChainesCorr.index) & (dfChainesCorr.index<finChaine)]\n",
    "    motsContexte=dfContexte.apply(marqueChaine,axis=1).tolist()\n",
    "    return (\", \".join(refsChaine)+\"<br>\"+\" \".join(motsContexte),bMention)\n"
   ]
  },
  {
   "cell_type": "code",
   "execution_count": null,
   "id": "fb20a998",
   "metadata": {},
   "outputs": [],
   "source": [
    "HTML(extraitChaine(1)[0])"
   ]
  },
  {
   "cell_type": "code",
   "execution_count": null,
   "id": "d6eef0f7",
   "metadata": {
    "scrolled": false
   },
   "outputs": [],
   "source": [
    "htmlTexte=[]\n",
    "htmlNoMention=[]\n",
    "for k in sorted(dNumChaines[:]):\n",
    "    try: \n",
    "        if k%100==0: print k,\n",
    "    except:\n",
    "        continue\n",
    "    kLigne,bMention=extraitChaine(k)\n",
    "    htmlTexte.append(kLigne)\n",
    "    if not bMention:\n",
    "        htmlNoMention.append(kLigne)\n",
    "texteHTML=\"<br><br>\".join(htmlTexte)\n",
    "noMentionHTML=\"<br><br>\".join(htmlNoMention)\n",
    "# HTML(texteHTML)"
   ]
  },
  {
   "cell_type": "code",
   "execution_count": null,
   "id": "ee58655c",
   "metadata": {},
   "outputs": [],
   "source": [
    "dfChainesCorr[dfChainesCorr.Mention.notnull()]"
   ]
  },
  {
   "cell_type": "code",
   "execution_count": null,
   "id": "b474b6c7",
   "metadata": {},
   "outputs": [],
   "source": [
    "outNoMentions = codecs.open(fChainesCorrNoMentions, \"w\",encoding=\"utf8\")\n",
    "n = outNoMentions.write(noMentionHTML)\n",
    "outNoMentions.close()"
   ]
  },
  {
   "cell_type": "code",
   "execution_count": null,
   "id": "cb4fda2d",
   "metadata": {},
   "outputs": [],
   "source": [
    "outMentions = codecs.open(fChainesCorrMentions, \"w\",encoding=\"utf8\")\n",
    "n = outMentions.write(texteHTML)\n",
    "outMentions.close()"
   ]
  },
  {
   "cell_type": "code",
   "execution_count": null,
   "id": "d9f02527",
   "metadata": {},
   "outputs": [],
   "source": [
    "dfChainesCorr[\"chaineReferent\"]=np.NaN\n",
    "dfExport=dfChainesCorr.copy(deep=True)\n",
    "dfExport=dfExport[\"Transcription Cat Lemme Referent chaineReferent newNumChaine chaineIndex chaineDep newChaineApp Mention\".split(\" \")]\n",
    "dfExport.columns=\"Transcription Cat Lemme Referent chaineReferent numChaine chaineIndex chaineDep chaineApp Mention\".split(\" \")"
   ]
  },
  {
   "cell_type": "code",
   "execution_count": null,
   "id": "f57f0683",
   "metadata": {},
   "outputs": [],
   "source": [
    "dReferents={k:0 for k in dfExport.Referent.unique().tolist() if k==k}\n",
    "dReferentChaines={k:[] for k in dfExport.Referent.unique().tolist() if k==k}\n",
    "print dReferents, dReferentChaines"
   ]
  },
  {
   "cell_type": "code",
   "execution_count": null,
   "id": "53d64e2d",
   "metadata": {},
   "outputs": [],
   "source": [
    "def numeroterChainesReferent(row):\n",
    "    referent=row[\"Referent\"]\n",
    "    numChaine=row[\"numChaine\"]\n",
    "    if referent in dReferents:\n",
    "        if numChaine not in dReferentChaines[referent]:\n",
    "            dReferents[referent]+=1\n",
    "            row[\"chaineReferent\"]=dReferents[referent]\n",
    "            dReferentChaines[referent].append(numChaine)\n",
    "    return row\n",
    "            \n",
    "dfExport=dfExport.apply(numeroterChainesReferent,axis=1)"
   ]
  },
  {
   "cell_type": "code",
   "execution_count": null,
   "id": "6c1ed384",
   "metadata": {},
   "outputs": [],
   "source": [
    "dfExport"
   ]
  },
  {
   "cell_type": "code",
   "execution_count": null,
   "id": "4c449871",
   "metadata": {},
   "outputs": [],
   "source": [
    "dfExport.to_excel(fChainesExport,encoding=\"utf8\",index=None)"
   ]
  },
  {
   "cell_type": "code",
   "execution_count": null,
   "id": "baed4005",
   "metadata": {},
   "outputs": [],
   "source": []
  }
 ],
 "metadata": {
  "kernelspec": {
   "display_name": "Python [conda env:python2]",
   "language": "python",
   "name": "conda-env-python2-py"
  },
  "language_info": {
   "codemirror_mode": {
    "name": "ipython",
    "version": 2
   },
   "file_extension": ".py",
   "mimetype": "text/x-python",
   "name": "python",
   "nbconvert_exporter": "python",
   "pygments_lexer": "ipython2",
   "version": "2.7.16"
  }
 },
 "nbformat": 4,
 "nbformat_minor": 5
}
