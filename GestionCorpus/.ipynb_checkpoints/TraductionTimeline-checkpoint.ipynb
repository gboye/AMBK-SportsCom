{
 "cells": [
  {
   "cell_type": "markdown",
   "metadata": {},
   "source": [
    "# Conversion des index de la vidéo vers la Timeline générale"
   ]
  },
  {
   "cell_type": "code",
   "execution_count": 1,
   "metadata": {
    "collapsed": true
   },
   "outputs": [],
   "source": [
    "commentairesName=\"/Users/gilles/Copy/Recherche/Rugby/Videos/CorrespondancesEvActionsComm1-GB.csv\"\n",
    "#commentairesName=\"/Users/gilles/Copy/Recherche/Rugby/Videos/CorrespondancesEvActionsComm2-GB.csv\"\n",
    "commentairesFile=open(commentairesName,\"r\")\n",
    "commentaires=commentairesFile.readlines()"
   ]
  },
  {
   "cell_type": "markdown",
   "metadata": {},
   "source": [
    "## Réindexation\n",
    "- le décalage est de 11' 52.4\"\n",
    "- le timecode d'origine se trouve dans les deux premières colonnes\n",
    "- decodeTime pour passer de hh:mm:ss.sss à centièmes de secondes\n",
    "- préfixation des lignes d'origine pour ajouter les nouveaux index"
   ]
  },
  {
   "cell_type": "code",
   "execution_count": 2,
   "metadata": {
    "collapsed": false
   },
   "outputs": [],
   "source": [
    "initialTime=\"00:11:52.4\"\n",
    "decalage=0\n",
    "def decodeTime(temps):\n",
    "    (heure,minute,seconde)=temps.split(\":\")\n",
    "    result=int(100*(3600*int(heure)+60*int(minute)+float(seconde))-decalage)\n",
    "    return result\n",
    "\n",
    "decalage=decodeTime(initialTime)    \n",
    "\n",
    "prefCommentaires=[]\n",
    "for num,ligne in enumerate(commentaires):\n",
    "    elements=ligne.split(\";\")\n",
    "    if num==0 and \"Début\" in ligne:\n",
    "        prefCommentaires.append('\"DébutSec\";\"FinSec\";'+ligne)\n",
    "    elif \":\" in elements[0]:\n",
    "        prefCommentaires.append(\"%s;%s;\"%(decodeTime(elements[0]), decodeTime(elements[1]))+ligne)\n",
    "    else:\n",
    "        prefCommentaires.append(\";;\"+ligne)"
   ]
  },
  {
   "cell_type": "markdown",
   "metadata": {},
   "source": [
    "## Sortie vers le fichier -REINDEX"
   ]
  },
  {
   "cell_type": "code",
   "execution_count": 3,
   "metadata": {
    "collapsed": true
   },
   "outputs": [],
   "source": [
    "with open(commentairesName.replace(\".csv\",\"-REINDEX.csv\"),\"w\") as output:\n",
    "    for ligne in prefCommentaires:\n",
    "        output.write(ligne)"
   ]
  }
 ],
 "metadata": {
  "kernelspec": {
   "display_name": "Python 2",
   "language": "python",
   "name": "python2"
  },
  "language_info": {
   "codemirror_mode": {
    "name": "ipython",
    "version": 2
   },
   "file_extension": ".py",
   "mimetype": "text/x-python",
   "name": "python",
   "nbconvert_exporter": "python",
   "pygments_lexer": "ipython2",
   "version": "2.7.10"
  }
 },
 "nbformat": 4,
 "nbformat_minor": 0
}
