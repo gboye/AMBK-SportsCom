{
 "cells": [
  {
   "cell_type": "code",
   "execution_count": 19,
   "metadata": {
    "collapsed": true
   },
   "outputs": [],
   "source": [
    "import pandas as pd\n",
    "from numpy import arange\n",
    "import codecs"
   ]
  },
  {
   "cell_type": "code",
   "execution_count": 20,
   "metadata": {
    "collapsed": true
   },
   "outputs": [],
   "source": [
    "%matplotlib inline\n",
    "import matplotlib\n",
    "import numpy as np\n",
    "import matplotlib.pyplot as plt"
   ]
  },
  {
   "cell_type": "code",
   "execution_count": 21,
   "metadata": {
    "collapsed": true
   },
   "outputs": [],
   "source": [
    "import pickle"
   ]
  },
  {
   "cell_type": "code",
   "execution_count": 22,
   "metadata": {
    "collapsed": true
   },
   "outputs": [],
   "source": [
    "textgridName=\"/Users/gilles/Copy/Recherche/Rugby/Videos/CorrespondancesEvActionsComm1-GB.csv\"\n",
    "rythmeName=\"/Users/gilles/Copy/Recherche/Rugby/CorpusRugby2007/Timeline-Rythme-MT1.csv\"\n",
    "jeuFile=open(textgridName,\"r\")\n",
    "jeu=jeuFile.readlines()"
   ]
  },
  {
   "cell_type": "code",
   "execution_count": 23,
   "metadata": {
    "collapsed": false
   },
   "outputs": [],
   "source": [
    "timing=[]\n",
    "for ligne in jeu[1:]:\n",
    "    elements=ligne.strip().split(\";\")\n",
    "    timing.append([elements[0],elements[1],elements[4],elements[5]])"
   ]
  },
  {
   "cell_type": "code",
   "execution_count": 24,
   "metadata": {
    "collapsed": false
   },
   "outputs": [],
   "source": [
    "#timeLine=pd.DataFrame(index=[float(i)/100 for i in range(6500000)],columns=[\"début\",\"fin\",\"V1\",\"V2\",\"V3\"])\n",
    "timeLine=pd.DataFrame(columns=[\"début\",\"fin\",\"événement\",\"action\"])"
   ]
  },
  {
   "cell_type": "code",
   "execution_count": 25,
   "metadata": {
    "collapsed": false
   },
   "outputs": [
    {
     "name": "stdout",
     "output_type": "stream",
     "text": [
      "71240 0\n"
     ]
    }
   ],
   "source": [
    "initialTime=\"00:11:52.4\"\n",
    "decalage=0\n",
    "def decodeTime(temps):\n",
    "    (heure,minute,seconde)=temps.split(\":\")\n",
    "    result=int(100*(3600*int(heure)+60*int(minute)+float(seconde))-decalage)\n",
    "    return result\n",
    "\n",
    "decalage=decodeTime(initialTime)\n",
    "print decalage, decodeTime(initialTime)\n",
    "\n",
    "for ligne in timing:\n",
    "    if ligne[3] and ligne[2]:\n",
    "        debut=decodeTime(ligne[0])\n",
    "#        print debut, ligne\n",
    "        timeLine.loc[debut]=ligne"
   ]
  },
  {
   "cell_type": "code",
   "execution_count": 26,
   "metadata": {
    "collapsed": true
   },
   "outputs": [],
   "source": [
    "#timeLine"
   ]
  },
  {
   "cell_type": "code",
   "execution_count": 27,
   "metadata": {
    "collapsed": false
   },
   "outputs": [],
   "source": [
    "#len(timeLine[timeLine.index<3700][timeLine[timeLine.index<3700].index>3200])"
   ]
  },
  {
   "cell_type": "code",
   "execution_count": 28,
   "metadata": {
    "collapsed": true
   },
   "outputs": [],
   "source": [
    "def adapte(valeur):\n",
    "    return float(valeur*100)"
   ]
  },
  {
   "cell_type": "code",
   "execution_count": 29,
   "metadata": {
    "collapsed": false,
    "scrolled": true
   },
   "outputs": [
    {
     "name": "stdout",
     "output_type": "stream",
     "text": [
      "CPU times: user 28.8 s, sys: 32.9 ms, total: 28.8 s\n",
      "Wall time: 28.8 s\n"
     ]
    }
   ],
   "source": [
    "%%time\n",
    "rythmes={}\n",
    "#Tous les rythmes sont ramenés à 5 secondes comme pour Berlin\n",
    "echelle=5\n",
    "demiFenetres=[1,1.5,2,2.5,3,3.5,4,4.5,5]\n",
    "increment=min(min(demiFenetres)*2,1)\n",
    "for demiFenetre in demiFenetres:\n",
    "    rythmes[demiFenetre]={}\n",
    "    demiFen=adapte(demiFenetre)\n",
    "    debut=adapte(30)\n",
    "    fin=adapte(6000)\n",
    "    step=adapte(increment)\n",
    "    for i in arange(debut,fin,step):\n",
    "        nbActions=len(timeLine[timeLine.index<=i+demiFen][timeLine[timeLine.index<=i+demiFen].index>=i-demiFen])\n",
    "        rythmes[demiFenetre][float(i)/100]=float(nbActions)/(2*demiFen/100)*echelle"
   ]
  },
  {
   "cell_type": "code",
   "execution_count": 30,
   "metadata": {
    "collapsed": false
   },
   "outputs": [
    {
     "name": "stdout",
     "output_type": "stream",
     "text": [
      "CPU times: user 10.6 s, sys: 94 ms, total: 10.7 s\n",
      "Wall time: 10.7 s\n"
     ]
    }
   ],
   "source": [
    "%%time\n",
    "timeRythmes=pd.DataFrame(columns=[\"R%.2f\"%i for i in demiFenetres])\n",
    "resultats={}\n",
    "elementCle=rythmes.keys()[0]\n",
    "for elementTime in sorted(rythmes[elementCle]):\n",
    "    if elementTime < 6000:\n",
    "        ligneResultat=[]\n",
    "        for rythme in sorted(rythmes):\n",
    "            ligneResultat.append(rythmes[rythme][elementTime])\n",
    "        resultats[elementTime]=ligneResultat\n",
    "        timeRythmes.loc[adapte(elementTime)]=ligneResultat"
   ]
  },
  {
   "cell_type": "code",
   "execution_count": 31,
   "metadata": {
    "collapsed": false,
    "scrolled": true
   },
   "outputs": [],
   "source": [
    "#timeRythmes"
   ]
  },
  {
   "cell_type": "code",
   "execution_count": 32,
   "metadata": {
    "collapsed": false
   },
   "outputs": [],
   "source": [
    "#timeRythmes[[\"2.00\",\"3.50\",\"5.00\"]].plot(figsize=(400, 4))"
   ]
  },
  {
   "cell_type": "code",
   "execution_count": 33,
   "metadata": {
    "collapsed": true
   },
   "outputs": [],
   "source": [
    "with codecs.open(rythmeName.replace(\".csv\",\"-Total\"+\".csv\"),\"w\",encoding=\"utf8\") as output:\n",
    "    output.write(\"time;%s\"%\";\".join([\"%.2f\"%i for i in demiFenetres])+\"\\n\")\n",
    "    for element in sorted(resultats):       \n",
    "        output.write(\"%.3f;%s\"%(element,\";\".join([\"%.1f\"%i for i in resultats[element]]))+\"\\n\")\n"
   ]
  },
  {
   "cell_type": "code",
   "execution_count": 34,
   "metadata": {
    "collapsed": false
   },
   "outputs": [],
   "source": [
    "with codecs.open(rythmeName.replace(\".csv\",\"-Pandas\"+\".pkl\"),\"wb\") as output:\n",
    "    pickle.dump(timeRythmes, output, pickle.HIGHEST_PROTOCOL)\n"
   ]
  }
 ],
 "metadata": {
  "kernelspec": {
   "display_name": "Python 2",
   "language": "python",
   "name": "python2"
  },
  "language_info": {
   "codemirror_mode": {
    "name": "ipython",
    "version": 2
   },
   "file_extension": ".py",
   "mimetype": "text/x-python",
   "name": "python",
   "nbconvert_exporter": "python",
   "pygments_lexer": "ipython2",
   "version": "2.7.10"
  }
 },
 "nbformat": 4,
 "nbformat_minor": 0
}
