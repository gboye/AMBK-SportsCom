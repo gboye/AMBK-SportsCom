{
 "metadata": {
  "name": ""
 },
 "nbformat": 3,
 "nbformat_minor": 0,
 "worksheets": [
  {
   "cells": [
    {
     "cell_type": "markdown",
     "metadata": {},
     "source": [
      "# Extraction d'\u00e9l\u00e9ments de transcription V1.0"
     ]
    },
    {
     "cell_type": "code",
     "collapsed": false,
     "input": [
      "from lxml import etree"
     ],
     "language": "python",
     "metadata": {},
     "outputs": []
    },
    {
     "cell_type": "code",
     "collapsed": false,
     "input": [
      "fichierTranscription=open(\"../France_Argentine_ANNOT-REF_essai.trs\",\"r\")\n",
      "# fichierTranscription=open(\"./TEST-lxml.xml\",\"r\")\n",
      "xmlTranscription=fichierTranscription.read()\n",
      "# print xmlTranscription"
     ],
     "language": "python",
     "metadata": {},
     "outputs": []
    },
    {
     "cell_type": "code",
     "collapsed": false,
     "input": [
      "root=etree.XML(xmlTranscription)"
     ],
     "language": "python",
     "metadata": {},
     "outputs": []
    },
    {
     "cell_type": "code",
     "collapsed": false,
     "input": [
      "Topics=root[1]\n",
      "Episodes=root[2]\n",
      "sections=[]\n",
      "for section in Episodes.findall('Section'):\n",
      "    sectionType=section.get('type')\n",
      "    sectionTopic=section.get('topic')\n",
      "    sectionStart=section.get('startTime')\n",
      "    sectionEnd=section.get('endTime')\n",
      "    turns=[]\n",
      "    for turn in section.findall('Turn'):\n",
      "        speaker=turn.get('speaker')\n",
      "        if speaker:\n",
      "            speakers=speaker.split(\" \")\n",
      "        else:\n",
      "            speakers=[\"\"]\n",
      "        startTime=turn.get('startTime')\n",
      "        endTime=turn.get('endTime')\n",
      "        syncs=[]\n",
      "        whos=0\n",
      "        for element in turn.iter():\n",
      "            if element.tag==\"Sync\":\n",
      "                syncs.append((element.get('time'),speakers[0]))\n",
      "            elif element.tag==\"Who\":\n",
      "                whos+=1\n",
      "                if whos>1:\n",
      "                    syncs.append((syncs[-1][0],speakers[-1]))\n",
      "            elif element.tag!=\"Turn\":\n",
      "            \tcontents=[element.tag]\n",
      "            \tfor attrib in element.attrib:\n",
      "            \t\tcontents.append(attrib)\n",
      "            \t\tcontents.append(element.attrib[attrib])\n",
      "            \tcontent=\" \".join(contents)\n",
      "                syncs.append((syncs[-1][0],content))\n",
      "        texts=[]\n",
      "        for text in turn.itertext():\n",
      "            if text!=\"\\n\":\n",
      "                texts.append(text.strip(\"\\n\"))\n",
      "        elements=[]\n",
      "        for i in range(len(texts)):\n",
      "            elements.append((syncs[i][0],syncs[i][1],texts[i]))\n",
      "        turns.append((startTime,endTime,speaker,elements))\n",
      "    sections.append((sectionType,sectionTopic,sectionStart,sectionEnd,turns))"
     ],
     "language": "python",
     "metadata": {},
     "outputs": []
    },
    {
     "cell_type": "code",
     "collapsed": false,
     "input": [
      "printSelection=\"Sync\"\n",
      "\n",
      "numSection=0\n",
      "numTurn=0\n",
      "numSync=0\n",
      "for stype,stopic,sstart,send,turns in sections:\n",
      "    numSection+=1\n",
      "#    print \"Section\",numSection,stype,stopic,sstart,send\n",
      "    if printSelection==\"Section\":\n",
      "    \tprint sstart,\";\",send,\";\",stype,\";\",stopic\n",
      "    numTurnIn=0\n",
      "    for tstart,tend,speaker,text in turns:\n",
      "        numTurn+=1\n",
      "        numTurnIn+=1\n",
      "#        print \"\\tTurn\",numTurn,tstart, tend, speaker\n",
      "        if printSelection==\"Turn\":\n",
      "        \tprint tstart,\";\",tend,\";\",speaker\n",
      "        numSyncIn=0\n",
      "        for sync in text:\n",
      "            numSync+=1\n",
      "            numSyncIn+=1\n",
      "#            print \"\\t\\tSync\",numSync, sync[0], sync[1], sync[2]\n",
      "            if printSelection==\"Sync\":\n",
      "            \tprint sync[0],\";\", sync[1],\";\", sync[2].encode(\"utf8\")"
     ],
     "language": "python",
     "metadata": {},
     "outputs": []
    }
   ],
   "metadata": {}
  }
 ]
}